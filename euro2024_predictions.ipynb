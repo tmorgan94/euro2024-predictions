{
 "cells": [
  {
   "cell_type": "markdown",
   "id": "c5799131",
   "metadata": {},
   "source": [
    "## Import libraries"
   ]
  },
  {
   "cell_type": "code",
   "execution_count": 22,
   "id": "8c02e3a8-64d8-4841-b093-78c28acbfdc4",
   "metadata": {
    "tags": []
   },
   "outputs": [],
   "source": [
    "import pandas as pd\n",
    "import plotly.express as px\n",
    "import plotly.graph_objects as go\n",
    "import os\n"
   ]
  },
  {
   "cell_type": "markdown",
   "id": "b2c7b585",
   "metadata": {},
   "source": [
    "## Read Data"
   ]
  },
  {
   "cell_type": "code",
   "execution_count": 23,
   "id": "5729bfa7",
   "metadata": {},
   "outputs": [
    {
     "data": {
      "text/html": [
       "<div>\n",
       "<style scoped>\n",
       "    .dataframe tbody tr th:only-of-type {\n",
       "        vertical-align: middle;\n",
       "    }\n",
       "\n",
       "    .dataframe tbody tr th {\n",
       "        vertical-align: top;\n",
       "    }\n",
       "\n",
       "    .dataframe thead th {\n",
       "        text-align: right;\n",
       "    }\n",
       "</style>\n",
       "<table border=\"1\" class=\"dataframe\">\n",
       "  <thead>\n",
       "    <tr style=\"text-align: right;\">\n",
       "      <th></th>\n",
       "      <th>match_code</th>\n",
       "      <th>home</th>\n",
       "      <th>away</th>\n",
       "      <th>actual_score</th>\n",
       "      <th>matchday</th>\n",
       "      <th>stage</th>\n",
       "      <th>stage_detail</th>\n",
       "      <th>match_time</th>\n",
       "    </tr>\n",
       "  </thead>\n",
       "  <tbody>\n",
       "    <tr>\n",
       "      <th>0</th>\n",
       "      <td>M01</td>\n",
       "      <td>Germany</td>\n",
       "      <td>Scotland</td>\n",
       "      <td>5-1</td>\n",
       "      <td>1</td>\n",
       "      <td>Groups</td>\n",
       "      <td>01. Groups - Matchday 1</td>\n",
       "      <td>14/06/2024 20:00:00</td>\n",
       "    </tr>\n",
       "    <tr>\n",
       "      <th>1</th>\n",
       "      <td>M03</td>\n",
       "      <td>Spain</td>\n",
       "      <td>Croatia</td>\n",
       "      <td>3-0</td>\n",
       "      <td>1</td>\n",
       "      <td>Groups</td>\n",
       "      <td>01. Groups - Matchday 1</td>\n",
       "      <td>15/06/2024 17:00:00</td>\n",
       "    </tr>\n",
       "    <tr>\n",
       "      <th>2</th>\n",
       "      <td>M05</td>\n",
       "      <td>Serbia</td>\n",
       "      <td>England</td>\n",
       "      <td>0-1</td>\n",
       "      <td>1</td>\n",
       "      <td>Groups</td>\n",
       "      <td>01. Groups - Matchday 1</td>\n",
       "      <td>16/06/2024 20:00:00</td>\n",
       "    </tr>\n",
       "    <tr>\n",
       "      <th>3</th>\n",
       "      <td>M08</td>\n",
       "      <td>Austria</td>\n",
       "      <td>France</td>\n",
       "      <td>0-1</td>\n",
       "      <td>1</td>\n",
       "      <td>Groups</td>\n",
       "      <td>01. Groups - Matchday 1</td>\n",
       "      <td>17/06/2024 20:00:00</td>\n",
       "    </tr>\n",
       "    <tr>\n",
       "      <th>4</th>\n",
       "      <td>M12</td>\n",
       "      <td>Portugal</td>\n",
       "      <td>Czech Republic</td>\n",
       "      <td>2-1</td>\n",
       "      <td>1</td>\n",
       "      <td>Groups</td>\n",
       "      <td>01. Groups - Matchday 1</td>\n",
       "      <td>18/06/2024 20:00:00</td>\n",
       "    </tr>\n",
       "    <tr>\n",
       "      <th>5</th>\n",
       "      <td>M13</td>\n",
       "      <td>Scotland</td>\n",
       "      <td>Switzerland</td>\n",
       "      <td>1-1</td>\n",
       "      <td>2</td>\n",
       "      <td>Groups</td>\n",
       "      <td>02. Groups - Matchday 2</td>\n",
       "      <td>19/06/2024 20:00:00</td>\n",
       "    </tr>\n",
       "    <tr>\n",
       "      <th>6</th>\n",
       "      <td>M16</td>\n",
       "      <td>Spain</td>\n",
       "      <td>Italy</td>\n",
       "      <td>1-0</td>\n",
       "      <td>2</td>\n",
       "      <td>Groups</td>\n",
       "      <td>02. Groups - Matchday 2</td>\n",
       "      <td>20/06/2024 17:00:00</td>\n",
       "    </tr>\n",
       "    <tr>\n",
       "      <th>7</th>\n",
       "      <td>M17</td>\n",
       "      <td>Denmark</td>\n",
       "      <td>England</td>\n",
       "      <td>1-1</td>\n",
       "      <td>2</td>\n",
       "      <td>Groups</td>\n",
       "      <td>02. Groups - Matchday 2</td>\n",
       "      <td>20/06/2024 20:00:00</td>\n",
       "    </tr>\n",
       "    <tr>\n",
       "      <th>8</th>\n",
       "      <td>M20</td>\n",
       "      <td>Netherlands</td>\n",
       "      <td>France</td>\n",
       "      <td>0-0</td>\n",
       "      <td>2</td>\n",
       "      <td>Groups</td>\n",
       "      <td>02. Groups - Matchday 2</td>\n",
       "      <td>21/06/2024 20:00:00</td>\n",
       "    </tr>\n",
       "    <tr>\n",
       "      <th>9</th>\n",
       "      <td>M22</td>\n",
       "      <td>Belgium</td>\n",
       "      <td>Romania</td>\n",
       "      <td>2-0</td>\n",
       "      <td>2</td>\n",
       "      <td>Groups</td>\n",
       "      <td>02. Groups - Matchday 2</td>\n",
       "      <td>22/06/2024 20:00:00</td>\n",
       "    </tr>\n",
       "    <tr>\n",
       "      <th>10</th>\n",
       "      <td>M26</td>\n",
       "      <td>Scotland</td>\n",
       "      <td>Hungary</td>\n",
       "      <td>0-1</td>\n",
       "      <td>3</td>\n",
       "      <td>Groups</td>\n",
       "      <td>03. Groups - Matchday 3</td>\n",
       "      <td>23/06/2024 20:00:00</td>\n",
       "    </tr>\n",
       "    <tr>\n",
       "      <th>11</th>\n",
       "      <td>M28</td>\n",
       "      <td>Croatia</td>\n",
       "      <td>Italy</td>\n",
       "      <td>1-1</td>\n",
       "      <td>3</td>\n",
       "      <td>Groups</td>\n",
       "      <td>03. Groups - Matchday 3</td>\n",
       "      <td>24/06/2024 20:00:00</td>\n",
       "    </tr>\n",
       "    <tr>\n",
       "      <th>12</th>\n",
       "      <td>M30</td>\n",
       "      <td>Denmark</td>\n",
       "      <td>Serbia</td>\n",
       "      <td>0-0</td>\n",
       "      <td>3</td>\n",
       "      <td>Groups</td>\n",
       "      <td>03. Groups - Matchday 3</td>\n",
       "      <td>25/06/2024 20:00:00</td>\n",
       "    </tr>\n",
       "    <tr>\n",
       "      <th>13</th>\n",
       "      <td>M31</td>\n",
       "      <td>Netherlands</td>\n",
       "      <td>Austria</td>\n",
       "      <td>2-3</td>\n",
       "      <td>3</td>\n",
       "      <td>Groups</td>\n",
       "      <td>03. Groups - Matchday 3</td>\n",
       "      <td>25/06/2024 17:00:00</td>\n",
       "    </tr>\n",
       "    <tr>\n",
       "      <th>14</th>\n",
       "      <td>M36</td>\n",
       "      <td>Czech Republic</td>\n",
       "      <td>Turkey</td>\n",
       "      <td>1-2</td>\n",
       "      <td>3</td>\n",
       "      <td>Groups</td>\n",
       "      <td>03. Groups - Matchday 3</td>\n",
       "      <td>26/06/2024 20:00:00</td>\n",
       "    </tr>\n",
       "    <tr>\n",
       "      <th>15</th>\n",
       "      <td>M37</td>\n",
       "      <td>Germany</td>\n",
       "      <td>Denmark</td>\n",
       "      <td>2-0</td>\n",
       "      <td>4</td>\n",
       "      <td>KO</td>\n",
       "      <td>04. KO - Round of 16</td>\n",
       "      <td>29/06/2024 20:00:00</td>\n",
       "    </tr>\n",
       "    <tr>\n",
       "      <th>16</th>\n",
       "      <td>M38</td>\n",
       "      <td>Switzerland</td>\n",
       "      <td>Italy</td>\n",
       "      <td>2-0</td>\n",
       "      <td>4</td>\n",
       "      <td>KO</td>\n",
       "      <td>04. KO - Round of 16</td>\n",
       "      <td>29/06/2024 17:00:00</td>\n",
       "    </tr>\n",
       "    <tr>\n",
       "      <th>17</th>\n",
       "      <td>M39</td>\n",
       "      <td>Spain</td>\n",
       "      <td>Georgia</td>\n",
       "      <td>4-1</td>\n",
       "      <td>4</td>\n",
       "      <td>KO</td>\n",
       "      <td>04. KO - Round of 16</td>\n",
       "      <td>30/06/2024 20:00:00</td>\n",
       "    </tr>\n",
       "    <tr>\n",
       "      <th>18</th>\n",
       "      <td>M40</td>\n",
       "      <td>England</td>\n",
       "      <td>Slovakia</td>\n",
       "      <td>1-1</td>\n",
       "      <td>4</td>\n",
       "      <td>KO</td>\n",
       "      <td>04. KO - Round of 16</td>\n",
       "      <td>30/06/2024 17:00:00</td>\n",
       "    </tr>\n",
       "    <tr>\n",
       "      <th>19</th>\n",
       "      <td>M41</td>\n",
       "      <td>Portugal</td>\n",
       "      <td>Slovenia</td>\n",
       "      <td>0-0</td>\n",
       "      <td>4</td>\n",
       "      <td>KO</td>\n",
       "      <td>04. KO - Round of 16</td>\n",
       "      <td>01/07/2024 20:00:00</td>\n",
       "    </tr>\n",
       "    <tr>\n",
       "      <th>20</th>\n",
       "      <td>M42</td>\n",
       "      <td>France</td>\n",
       "      <td>Belgium</td>\n",
       "      <td>1-0</td>\n",
       "      <td>4</td>\n",
       "      <td>KO</td>\n",
       "      <td>04. KO - Round of 16</td>\n",
       "      <td>01/07/2024 17:00:00</td>\n",
       "    </tr>\n",
       "    <tr>\n",
       "      <th>21</th>\n",
       "      <td>M43</td>\n",
       "      <td>Romania</td>\n",
       "      <td>Netherlands</td>\n",
       "      <td>0-3</td>\n",
       "      <td>4</td>\n",
       "      <td>KO</td>\n",
       "      <td>04. KO - Round of 16</td>\n",
       "      <td>02/07/2024 17:00:00</td>\n",
       "    </tr>\n",
       "    <tr>\n",
       "      <th>22</th>\n",
       "      <td>M44</td>\n",
       "      <td>Austria</td>\n",
       "      <td>Turkey</td>\n",
       "      <td>1-2</td>\n",
       "      <td>4</td>\n",
       "      <td>KO</td>\n",
       "      <td>04. KO - Round of 16</td>\n",
       "      <td>02/07/2024 20:00:00</td>\n",
       "    </tr>\n",
       "    <tr>\n",
       "      <th>23</th>\n",
       "      <td>M45</td>\n",
       "      <td>Spain</td>\n",
       "      <td>Germany</td>\n",
       "      <td>1-1</td>\n",
       "      <td>5</td>\n",
       "      <td>KO</td>\n",
       "      <td>05. KO - Quarter Final</td>\n",
       "      <td>05/07/2024 17:00:00</td>\n",
       "    </tr>\n",
       "    <tr>\n",
       "      <th>24</th>\n",
       "      <td>M46</td>\n",
       "      <td>Portugal</td>\n",
       "      <td>France</td>\n",
       "      <td>0-0</td>\n",
       "      <td>5</td>\n",
       "      <td>KO</td>\n",
       "      <td>05. KO - Quarter Final</td>\n",
       "      <td>05/07/2024 20:00:00</td>\n",
       "    </tr>\n",
       "    <tr>\n",
       "      <th>25</th>\n",
       "      <td>M47</td>\n",
       "      <td>Netherlands</td>\n",
       "      <td>Turkey</td>\n",
       "      <td>2-1</td>\n",
       "      <td>5</td>\n",
       "      <td>KO</td>\n",
       "      <td>05. KO - Quarter Final</td>\n",
       "      <td>06/07/2024 20:00:00</td>\n",
       "    </tr>\n",
       "    <tr>\n",
       "      <th>26</th>\n",
       "      <td>M48</td>\n",
       "      <td>England</td>\n",
       "      <td>Switzerland</td>\n",
       "      <td>1-1</td>\n",
       "      <td>5</td>\n",
       "      <td>KO</td>\n",
       "      <td>05. KO - Quarter Final</td>\n",
       "      <td>06/07/2024 17:00:00</td>\n",
       "    </tr>\n",
       "    <tr>\n",
       "      <th>27</th>\n",
       "      <td>M49</td>\n",
       "      <td>Spain</td>\n",
       "      <td>France</td>\n",
       "      <td>2-1</td>\n",
       "      <td>6</td>\n",
       "      <td>KO</td>\n",
       "      <td>06. KO - Semi Final</td>\n",
       "      <td>09/07/2024 20:00:00</td>\n",
       "    </tr>\n",
       "    <tr>\n",
       "      <th>28</th>\n",
       "      <td>M50</td>\n",
       "      <td>Netherlands</td>\n",
       "      <td>England</td>\n",
       "      <td>1-2</td>\n",
       "      <td>6</td>\n",
       "      <td>KO</td>\n",
       "      <td>06. KO - Semi Final</td>\n",
       "      <td>10/07/2024 20:00:00</td>\n",
       "    </tr>\n",
       "  </tbody>\n",
       "</table>\n",
       "</div>"
      ],
      "text/plain": [
       "   match_code            home            away actual_score  matchday   stage  \\\n",
       "0         M01         Germany        Scotland          5-1         1  Groups   \n",
       "1         M03           Spain         Croatia          3-0         1  Groups   \n",
       "2         M05          Serbia         England          0-1         1  Groups   \n",
       "3         M08         Austria          France          0-1         1  Groups   \n",
       "4         M12        Portugal  Czech Republic          2-1         1  Groups   \n",
       "5         M13        Scotland     Switzerland          1-1         2  Groups   \n",
       "6         M16           Spain           Italy          1-0         2  Groups   \n",
       "7         M17         Denmark         England          1-1         2  Groups   \n",
       "8         M20     Netherlands          France          0-0         2  Groups   \n",
       "9         M22         Belgium         Romania          2-0         2  Groups   \n",
       "10        M26        Scotland         Hungary          0-1         3  Groups   \n",
       "11        M28         Croatia           Italy          1-1         3  Groups   \n",
       "12        M30         Denmark          Serbia          0-0         3  Groups   \n",
       "13        M31     Netherlands         Austria          2-3         3  Groups   \n",
       "14        M36  Czech Republic          Turkey          1-2         3  Groups   \n",
       "15        M37         Germany         Denmark          2-0         4      KO   \n",
       "16        M38     Switzerland           Italy          2-0         4      KO   \n",
       "17        M39           Spain         Georgia          4-1         4      KO   \n",
       "18        M40         England        Slovakia          1-1         4      KO   \n",
       "19        M41        Portugal        Slovenia          0-0         4      KO   \n",
       "20        M42          France         Belgium          1-0         4      KO   \n",
       "21        M43         Romania     Netherlands          0-3         4      KO   \n",
       "22        M44         Austria          Turkey          1-2         4      KO   \n",
       "23        M45           Spain         Germany          1-1         5      KO   \n",
       "24        M46        Portugal          France          0-0         5      KO   \n",
       "25        M47     Netherlands          Turkey          2-1         5      KO   \n",
       "26        M48         England     Switzerland          1-1         5      KO   \n",
       "27        M49           Spain          France          2-1         6      KO   \n",
       "28        M50     Netherlands         England          1-2         6      KO   \n",
       "\n",
       "               stage_detail           match_time  \n",
       "0   01. Groups - Matchday 1  14/06/2024 20:00:00  \n",
       "1   01. Groups - Matchday 1  15/06/2024 17:00:00  \n",
       "2   01. Groups - Matchday 1  16/06/2024 20:00:00  \n",
       "3   01. Groups - Matchday 1  17/06/2024 20:00:00  \n",
       "4   01. Groups - Matchday 1  18/06/2024 20:00:00  \n",
       "5   02. Groups - Matchday 2  19/06/2024 20:00:00  \n",
       "6   02. Groups - Matchday 2  20/06/2024 17:00:00  \n",
       "7   02. Groups - Matchday 2  20/06/2024 20:00:00  \n",
       "8   02. Groups - Matchday 2  21/06/2024 20:00:00  \n",
       "9   02. Groups - Matchday 2  22/06/2024 20:00:00  \n",
       "10  03. Groups - Matchday 3  23/06/2024 20:00:00  \n",
       "11  03. Groups - Matchday 3  24/06/2024 20:00:00  \n",
       "12  03. Groups - Matchday 3  25/06/2024 20:00:00  \n",
       "13  03. Groups - Matchday 3  25/06/2024 17:00:00  \n",
       "14  03. Groups - Matchday 3  26/06/2024 20:00:00  \n",
       "15     04. KO - Round of 16  29/06/2024 20:00:00  \n",
       "16     04. KO - Round of 16  29/06/2024 17:00:00  \n",
       "17     04. KO - Round of 16  30/06/2024 20:00:00  \n",
       "18     04. KO - Round of 16  30/06/2024 17:00:00  \n",
       "19     04. KO - Round of 16  01/07/2024 20:00:00  \n",
       "20     04. KO - Round of 16  01/07/2024 17:00:00  \n",
       "21     04. KO - Round of 16  02/07/2024 17:00:00  \n",
       "22     04. KO - Round of 16  02/07/2024 20:00:00  \n",
       "23   05. KO - Quarter Final  05/07/2024 17:00:00  \n",
       "24   05. KO - Quarter Final  05/07/2024 20:00:00  \n",
       "25   05. KO - Quarter Final  06/07/2024 20:00:00  \n",
       "26   05. KO - Quarter Final  06/07/2024 17:00:00  \n",
       "27      06. KO - Semi Final  09/07/2024 20:00:00  \n",
       "28      06. KO - Semi Final  10/07/2024 20:00:00  "
      ]
     },
     "execution_count": 23,
     "metadata": {},
     "output_type": "execute_result"
    }
   ],
   "source": [
    "df_results_raw = pd.read_csv('data/results.csv')\n",
    "# Drop rows where 'actual_score' is NaN, for cases when the game has not happened yet and no score is recorded\n",
    "df_results = df_results_raw.dropna(subset=['actual_score'])\n",
    "df_results"
   ]
  },
  {
   "cell_type": "code",
   "execution_count": 24,
   "id": "41a40969",
   "metadata": {},
   "outputs": [],
   "source": [
    "md1_responses = pd.read_csv('data/md1_responses.csv')\n",
    "md2_responses = pd.read_csv('data/md2_responses.csv')\n",
    "md3_responses = pd.read_csv('data/md3_responses.csv')\n",
    "md4_responses = pd.read_csv('data/md4_responses.csv')\n",
    "md5_responses = pd.read_csv('data/md5_responses.csv')\n",
    "md6_responses = pd.read_csv('data/md6_responses.csv')"
   ]
  },
  {
   "cell_type": "markdown",
   "id": "ef15d248",
   "metadata": {},
   "source": [
    "## Transform Data\n",
    "\n",
    "- wide to long format using melt\n",
    "- union the different matchday dataframes to form one\n",
    "- create new points multiplier column based on user selected bonus match\n",
    "- create new columns for home and away teams \n",
    "- inner join predictions and results dataframe together, on match_code "
   ]
  },
  {
   "cell_type": "code",
   "execution_count": 25,
   "id": "fe30375c-043f-4cfd-b0cb-5e1477b74ff7",
   "metadata": {
    "tags": []
   },
   "outputs": [
    {
     "data": {
      "text/html": [
       "<div>\n",
       "<style scoped>\n",
       "    .dataframe tbody tr th:only-of-type {\n",
       "        vertical-align: middle;\n",
       "    }\n",
       "\n",
       "    .dataframe tbody tr th {\n",
       "        vertical-align: top;\n",
       "    }\n",
       "\n",
       "    .dataframe thead th {\n",
       "        text-align: right;\n",
       "    }\n",
       "</style>\n",
       "<table border=\"1\" class=\"dataframe\">\n",
       "  <thead>\n",
       "    <tr style=\"text-align: right;\">\n",
       "      <th></th>\n",
       "      <th>timestamp</th>\n",
       "      <th>name</th>\n",
       "      <th>bonus_match_code</th>\n",
       "      <th>match_code</th>\n",
       "      <th>predicted_score</th>\n",
       "    </tr>\n",
       "  </thead>\n",
       "  <tbody>\n",
       "    <tr>\n",
       "      <th>0</th>\n",
       "      <td>07/06/2024 19:59:48</td>\n",
       "      <td>Larry</td>\n",
       "      <td>M01. Germany v Scotland</td>\n",
       "      <td>M01. Germany v Scotland</td>\n",
       "      <td>2-0</td>\n",
       "    </tr>\n",
       "    <tr>\n",
       "      <th>1</th>\n",
       "      <td>07/06/2024 20:04:57</td>\n",
       "      <td>Tom</td>\n",
       "      <td>M05. Serbia v England</td>\n",
       "      <td>M01. Germany v Scotland</td>\n",
       "      <td>2-0</td>\n",
       "    </tr>\n",
       "    <tr>\n",
       "      <th>2</th>\n",
       "      <td>08/06/2024 23:31:40</td>\n",
       "      <td>Ed</td>\n",
       "      <td>M05. Serbia v England</td>\n",
       "      <td>M01. Germany v Scotland</td>\n",
       "      <td>3-1</td>\n",
       "    </tr>\n",
       "    <tr>\n",
       "      <th>3</th>\n",
       "      <td>09/06/2024 10:35:29</td>\n",
       "      <td>Jonny</td>\n",
       "      <td>M01. Germany v Scotland</td>\n",
       "      <td>M01. Germany v Scotland</td>\n",
       "      <td>3-0</td>\n",
       "    </tr>\n",
       "    <tr>\n",
       "      <th>4</th>\n",
       "      <td>11/06/2024 11:43:49</td>\n",
       "      <td>Jay</td>\n",
       "      <td>M12. Portugal v Czech Republic</td>\n",
       "      <td>M01. Germany v Scotland</td>\n",
       "      <td>2-0</td>\n",
       "    </tr>\n",
       "  </tbody>\n",
       "</table>\n",
       "</div>"
      ],
      "text/plain": [
       "             timestamp   name                bonus_match_code  \\\n",
       "0  07/06/2024 19:59:48  Larry         M01. Germany v Scotland   \n",
       "1  07/06/2024 20:04:57    Tom           M05. Serbia v England   \n",
       "2  08/06/2024 23:31:40     Ed           M05. Serbia v England   \n",
       "3  09/06/2024 10:35:29  Jonny         M01. Germany v Scotland   \n",
       "4  11/06/2024 11:43:49    Jay  M12. Portugal v Czech Republic   \n",
       "\n",
       "                match_code predicted_score  \n",
       "0  M01. Germany v Scotland             2-0  \n",
       "1  M01. Germany v Scotland             2-0  \n",
       "2  M01. Germany v Scotland             3-1  \n",
       "3  M01. Germany v Scotland             3-0  \n",
       "4  M01. Germany v Scotland             2-0  "
      ]
     },
     "execution_count": 25,
     "metadata": {},
     "output_type": "execute_result"
    }
   ],
   "source": [
    "# rename columns\n",
    "md1_responses = md1_responses.rename(columns={'Timestamp': 'timestamp', 'Name': 'name', 'Which game would you like to give double points to?': 'bonus_match_code'})\n",
    "# transform dataframe from wide to long\n",
    "md1_responses = md1_responses.melt(id_vars=['timestamp', 'name', 'bonus_match_code'],\n",
    "                                     var_name='match_code', value_name='predicted_score')\n",
    "# preview\n",
    "md1_responses.head()"
   ]
  },
  {
   "cell_type": "code",
   "execution_count": 26,
   "id": "8d6f9746",
   "metadata": {},
   "outputs": [
    {
     "data": {
      "text/html": [
       "<div>\n",
       "<style scoped>\n",
       "    .dataframe tbody tr th:only-of-type {\n",
       "        vertical-align: middle;\n",
       "    }\n",
       "\n",
       "    .dataframe tbody tr th {\n",
       "        vertical-align: top;\n",
       "    }\n",
       "\n",
       "    .dataframe thead th {\n",
       "        text-align: right;\n",
       "    }\n",
       "</style>\n",
       "<table border=\"1\" class=\"dataframe\">\n",
       "  <thead>\n",
       "    <tr style=\"text-align: right;\">\n",
       "      <th></th>\n",
       "      <th>timestamp</th>\n",
       "      <th>name</th>\n",
       "      <th>bonus_match_code</th>\n",
       "      <th>match_code</th>\n",
       "      <th>predicted_score</th>\n",
       "    </tr>\n",
       "  </thead>\n",
       "  <tbody>\n",
       "    <tr>\n",
       "      <th>0</th>\n",
       "      <td>15/06/2024 19:43:14</td>\n",
       "      <td>Tom</td>\n",
       "      <td>M17. Denmark v England</td>\n",
       "      <td>M13. Scotland v Switzerland</td>\n",
       "      <td>1-3</td>\n",
       "    </tr>\n",
       "    <tr>\n",
       "      <th>1</th>\n",
       "      <td>15/06/2024 19:50:30</td>\n",
       "      <td>Jonny</td>\n",
       "      <td>M22. Belgium v Romania</td>\n",
       "      <td>M13. Scotland v Switzerland</td>\n",
       "      <td>1-3</td>\n",
       "    </tr>\n",
       "    <tr>\n",
       "      <th>2</th>\n",
       "      <td>17/06/2024 20:31:11</td>\n",
       "      <td>Larry</td>\n",
       "      <td>M20. Netherlands v France</td>\n",
       "      <td>M13. Scotland v Switzerland</td>\n",
       "      <td>0-3</td>\n",
       "    </tr>\n",
       "    <tr>\n",
       "      <th>3</th>\n",
       "      <td>18/06/2024 22:03:06</td>\n",
       "      <td>Jay</td>\n",
       "      <td>M13. Scotland v Switzerland</td>\n",
       "      <td>M13. Scotland v Switzerland</td>\n",
       "      <td>0-3</td>\n",
       "    </tr>\n",
       "    <tr>\n",
       "      <th>4</th>\n",
       "      <td>19/06/2024 05:08:55</td>\n",
       "      <td>Marc</td>\n",
       "      <td>M20. Netherlands v France</td>\n",
       "      <td>M13. Scotland v Switzerland</td>\n",
       "      <td>2-1</td>\n",
       "    </tr>\n",
       "  </tbody>\n",
       "</table>\n",
       "</div>"
      ],
      "text/plain": [
       "             timestamp   name             bonus_match_code  \\\n",
       "0  15/06/2024 19:43:14    Tom       M17. Denmark v England   \n",
       "1  15/06/2024 19:50:30  Jonny       M22. Belgium v Romania   \n",
       "2  17/06/2024 20:31:11  Larry    M20. Netherlands v France   \n",
       "3  18/06/2024 22:03:06    Jay  M13. Scotland v Switzerland   \n",
       "4  19/06/2024 05:08:55   Marc    M20. Netherlands v France   \n",
       "\n",
       "                    match_code predicted_score  \n",
       "0  M13. Scotland v Switzerland             1-3  \n",
       "1  M13. Scotland v Switzerland             1-3  \n",
       "2  M13. Scotland v Switzerland             0-3  \n",
       "3  M13. Scotland v Switzerland             0-3  \n",
       "4  M13. Scotland v Switzerland             2-1  "
      ]
     },
     "execution_count": 26,
     "metadata": {},
     "output_type": "execute_result"
    }
   ],
   "source": [
    "md2_responses = md2_responses.rename(columns={'Timestamp': 'timestamp', 'Name': 'name', 'Which game would you like to give double points to?': 'bonus_match_code'})\n",
    "# transform dataframe from wide to long\n",
    "md2_responses = md2_responses.melt(id_vars=['timestamp', 'name', 'bonus_match_code'],\n",
    "                                     var_name='match_code', value_name='predicted_score')\n",
    "# preview\n",
    "md2_responses.head()"
   ]
  },
  {
   "cell_type": "code",
   "execution_count": 27,
   "id": "d27ac039",
   "metadata": {},
   "outputs": [
    {
     "data": {
      "text/html": [
       "<div>\n",
       "<style scoped>\n",
       "    .dataframe tbody tr th:only-of-type {\n",
       "        vertical-align: middle;\n",
       "    }\n",
       "\n",
       "    .dataframe tbody tr th {\n",
       "        vertical-align: top;\n",
       "    }\n",
       "\n",
       "    .dataframe thead th {\n",
       "        text-align: right;\n",
       "    }\n",
       "</style>\n",
       "<table border=\"1\" class=\"dataframe\">\n",
       "  <thead>\n",
       "    <tr style=\"text-align: right;\">\n",
       "      <th></th>\n",
       "      <th>timestamp</th>\n",
       "      <th>name</th>\n",
       "      <th>bonus_match_code</th>\n",
       "      <th>match_code</th>\n",
       "      <th>predicted_score</th>\n",
       "    </tr>\n",
       "  </thead>\n",
       "  <tbody>\n",
       "    <tr>\n",
       "      <th>0</th>\n",
       "      <td>21/06/2024 22:20:57</td>\n",
       "      <td>Tom</td>\n",
       "      <td>M30. Denmark v Serbia</td>\n",
       "      <td>M26. Scotland v Hungary</td>\n",
       "      <td>1-1</td>\n",
       "    </tr>\n",
       "    <tr>\n",
       "      <th>1</th>\n",
       "      <td>22/06/2024 05:54:55</td>\n",
       "      <td>Marc</td>\n",
       "      <td>M31. Netherlands v Austria</td>\n",
       "      <td>M26. Scotland v Hungary</td>\n",
       "      <td>1-0</td>\n",
       "    </tr>\n",
       "    <tr>\n",
       "      <th>2</th>\n",
       "      <td>22/06/2024 22:06:56</td>\n",
       "      <td>Jonny</td>\n",
       "      <td>M31. Netherlands v Austria</td>\n",
       "      <td>M26. Scotland v Hungary</td>\n",
       "      <td>1-1</td>\n",
       "    </tr>\n",
       "    <tr>\n",
       "      <th>3</th>\n",
       "      <td>22/06/2024 22:26:43</td>\n",
       "      <td>Ed</td>\n",
       "      <td>M31. Netherlands v Austria</td>\n",
       "      <td>M26. Scotland v Hungary</td>\n",
       "      <td>2-2</td>\n",
       "    </tr>\n",
       "    <tr>\n",
       "      <th>4</th>\n",
       "      <td>23/06/2024 11:38:56</td>\n",
       "      <td>Jay</td>\n",
       "      <td>M36. Czech Republic v Turkey</td>\n",
       "      <td>M26. Scotland v Hungary</td>\n",
       "      <td>1-1</td>\n",
       "    </tr>\n",
       "  </tbody>\n",
       "</table>\n",
       "</div>"
      ],
      "text/plain": [
       "             timestamp   name              bonus_match_code  \\\n",
       "0  21/06/2024 22:20:57    Tom         M30. Denmark v Serbia   \n",
       "1  22/06/2024 05:54:55   Marc    M31. Netherlands v Austria   \n",
       "2  22/06/2024 22:06:56  Jonny    M31. Netherlands v Austria   \n",
       "3  22/06/2024 22:26:43     Ed    M31. Netherlands v Austria   \n",
       "4  23/06/2024 11:38:56    Jay  M36. Czech Republic v Turkey   \n",
       "\n",
       "                match_code predicted_score  \n",
       "0  M26. Scotland v Hungary             1-1  \n",
       "1  M26. Scotland v Hungary             1-0  \n",
       "2  M26. Scotland v Hungary             1-1  \n",
       "3  M26. Scotland v Hungary             2-2  \n",
       "4  M26. Scotland v Hungary             1-1  "
      ]
     },
     "execution_count": 27,
     "metadata": {},
     "output_type": "execute_result"
    }
   ],
   "source": [
    "md3_responses = md3_responses.rename(columns={'Timestamp': 'timestamp', 'Name': 'name', 'Which game would you like to give double points to?': 'bonus_match_code'})\n",
    "# transform dataframe from wide to long\n",
    "md3_responses = md3_responses.melt(id_vars=['timestamp', 'name', 'bonus_match_code'],\n",
    "                                     var_name='match_code', value_name='predicted_score')\n",
    "# preview\n",
    "md3_responses.head()"
   ]
  },
  {
   "cell_type": "code",
   "execution_count": 28,
   "id": "89c68122",
   "metadata": {},
   "outputs": [
    {
     "data": {
      "text/html": [
       "<div>\n",
       "<style scoped>\n",
       "    .dataframe tbody tr th:only-of-type {\n",
       "        vertical-align: middle;\n",
       "    }\n",
       "\n",
       "    .dataframe tbody tr th {\n",
       "        vertical-align: top;\n",
       "    }\n",
       "\n",
       "    .dataframe thead th {\n",
       "        text-align: right;\n",
       "    }\n",
       "</style>\n",
       "<table border=\"1\" class=\"dataframe\">\n",
       "  <thead>\n",
       "    <tr style=\"text-align: right;\">\n",
       "      <th></th>\n",
       "      <th>timestamp</th>\n",
       "      <th>name</th>\n",
       "      <th>bonus_match_code</th>\n",
       "      <th>match_code</th>\n",
       "      <th>predicted_score</th>\n",
       "    </tr>\n",
       "  </thead>\n",
       "  <tbody>\n",
       "    <tr>\n",
       "      <th>0</th>\n",
       "      <td>27/06/2024 08:47:23</td>\n",
       "      <td>Marc</td>\n",
       "      <td>M40. England v Slovakia</td>\n",
       "      <td>M37. Germany v Denmark</td>\n",
       "      <td>2-1</td>\n",
       "    </tr>\n",
       "    <tr>\n",
       "      <th>1</th>\n",
       "      <td>28/06/2024 09:15:29</td>\n",
       "      <td>Tom</td>\n",
       "      <td>M40. England v Slovakia</td>\n",
       "      <td>M37. Germany v Denmark</td>\n",
       "      <td>2-0</td>\n",
       "    </tr>\n",
       "    <tr>\n",
       "      <th>2</th>\n",
       "      <td>28/06/2024 09:27:41</td>\n",
       "      <td>Jonny</td>\n",
       "      <td>M39. Spain v Georgia</td>\n",
       "      <td>M37. Germany v Denmark</td>\n",
       "      <td>2-0</td>\n",
       "    </tr>\n",
       "    <tr>\n",
       "      <th>3</th>\n",
       "      <td>28/06/2024 11:25:22</td>\n",
       "      <td>Larry</td>\n",
       "      <td>M37. Germany v Denmark</td>\n",
       "      <td>M37. Germany v Denmark</td>\n",
       "      <td>2-1</td>\n",
       "    </tr>\n",
       "    <tr>\n",
       "      <th>4</th>\n",
       "      <td>28/06/2024 16:12:11</td>\n",
       "      <td>Ed</td>\n",
       "      <td>M39. Spain v Georgia</td>\n",
       "      <td>M37. Germany v Denmark</td>\n",
       "      <td>2-0</td>\n",
       "    </tr>\n",
       "  </tbody>\n",
       "</table>\n",
       "</div>"
      ],
      "text/plain": [
       "             timestamp   name         bonus_match_code  \\\n",
       "0  27/06/2024 08:47:23   Marc  M40. England v Slovakia   \n",
       "1  28/06/2024 09:15:29    Tom  M40. England v Slovakia   \n",
       "2  28/06/2024 09:27:41  Jonny     M39. Spain v Georgia   \n",
       "3  28/06/2024 11:25:22  Larry   M37. Germany v Denmark   \n",
       "4  28/06/2024 16:12:11     Ed     M39. Spain v Georgia   \n",
       "\n",
       "               match_code predicted_score  \n",
       "0  M37. Germany v Denmark             2-1  \n",
       "1  M37. Germany v Denmark             2-0  \n",
       "2  M37. Germany v Denmark             2-0  \n",
       "3  M37. Germany v Denmark             2-1  \n",
       "4  M37. Germany v Denmark             2-0  "
      ]
     },
     "execution_count": 28,
     "metadata": {},
     "output_type": "execute_result"
    }
   ],
   "source": [
    "md4_responses = md4_responses.rename(columns={'Timestamp': 'timestamp', 'Name': 'name', 'Which game would you like to give double points to?': 'bonus_match_code'})\n",
    "# transform dataframe from wide to long\n",
    "md4_responses = md4_responses.melt(id_vars=['timestamp', 'name', 'bonus_match_code'],\n",
    "                                     var_name='match_code', value_name='predicted_score')\n",
    "# preview\n",
    "md4_responses.head()"
   ]
  },
  {
   "cell_type": "code",
   "execution_count": 29,
   "id": "ea2ed749",
   "metadata": {},
   "outputs": [
    {
     "data": {
      "text/html": [
       "<div>\n",
       "<style scoped>\n",
       "    .dataframe tbody tr th:only-of-type {\n",
       "        vertical-align: middle;\n",
       "    }\n",
       "\n",
       "    .dataframe tbody tr th {\n",
       "        vertical-align: top;\n",
       "    }\n",
       "\n",
       "    .dataframe thead th {\n",
       "        text-align: right;\n",
       "    }\n",
       "</style>\n",
       "<table border=\"1\" class=\"dataframe\">\n",
       "  <thead>\n",
       "    <tr style=\"text-align: right;\">\n",
       "      <th></th>\n",
       "      <th>timestamp</th>\n",
       "      <th>name</th>\n",
       "      <th>bonus_match_code</th>\n",
       "      <th>match_code</th>\n",
       "      <th>predicted_score</th>\n",
       "    </tr>\n",
       "  </thead>\n",
       "  <tbody>\n",
       "    <tr>\n",
       "      <th>0</th>\n",
       "      <td>03/07/2024 20:42:11</td>\n",
       "      <td>Ed</td>\n",
       "      <td>M47. Netherlands v Turkey</td>\n",
       "      <td>M45. Spain v Germany</td>\n",
       "      <td>2-2</td>\n",
       "    </tr>\n",
       "    <tr>\n",
       "      <th>1</th>\n",
       "      <td>03/07/2024 22:54:13</td>\n",
       "      <td>Tom</td>\n",
       "      <td>M46. Portugal v France</td>\n",
       "      <td>M45. Spain v Germany</td>\n",
       "      <td>1-1</td>\n",
       "    </tr>\n",
       "    <tr>\n",
       "      <th>2</th>\n",
       "      <td>04/07/2024 05:45:02</td>\n",
       "      <td>Marc</td>\n",
       "      <td>M47. Netherlands v Turkey</td>\n",
       "      <td>M45. Spain v Germany</td>\n",
       "      <td>1-2</td>\n",
       "    </tr>\n",
       "    <tr>\n",
       "      <th>3</th>\n",
       "      <td>04/07/2024 13:08:07</td>\n",
       "      <td>Jonny</td>\n",
       "      <td>M47. Netherlands v Turkey</td>\n",
       "      <td>M45. Spain v Germany</td>\n",
       "      <td>1-1</td>\n",
       "    </tr>\n",
       "    <tr>\n",
       "      <th>4</th>\n",
       "      <td>04/07/2024 14:36:00</td>\n",
       "      <td>Larry</td>\n",
       "      <td>M48. England v Switzerland</td>\n",
       "      <td>M45. Spain v Germany</td>\n",
       "      <td>2-0</td>\n",
       "    </tr>\n",
       "  </tbody>\n",
       "</table>\n",
       "</div>"
      ],
      "text/plain": [
       "             timestamp   name            bonus_match_code  \\\n",
       "0  03/07/2024 20:42:11     Ed   M47. Netherlands v Turkey   \n",
       "1  03/07/2024 22:54:13    Tom      M46. Portugal v France   \n",
       "2  04/07/2024 05:45:02   Marc   M47. Netherlands v Turkey   \n",
       "3  04/07/2024 13:08:07  Jonny   M47. Netherlands v Turkey   \n",
       "4  04/07/2024 14:36:00  Larry  M48. England v Switzerland   \n",
       "\n",
       "             match_code predicted_score  \n",
       "0  M45. Spain v Germany             2-2  \n",
       "1  M45. Spain v Germany             1-1  \n",
       "2  M45. Spain v Germany             1-2  \n",
       "3  M45. Spain v Germany             1-1  \n",
       "4  M45. Spain v Germany             2-0  "
      ]
     },
     "execution_count": 29,
     "metadata": {},
     "output_type": "execute_result"
    }
   ],
   "source": [
    "md5_responses = md5_responses.rename(columns={'Timestamp': 'timestamp', 'Name': 'name', 'Which game would you like to give double points to?': 'bonus_match_code'})\n",
    "# transform dataframe from wide to long\n",
    "md5_responses = md5_responses.melt(id_vars=['timestamp', 'name', 'bonus_match_code'],\n",
    "                                     var_name='match_code', value_name='predicted_score')\n",
    "# preview\n",
    "md5_responses.head()"
   ]
  },
  {
   "cell_type": "code",
   "execution_count": 30,
   "id": "687ab977",
   "metadata": {},
   "outputs": [
    {
     "data": {
      "text/html": [
       "<div>\n",
       "<style scoped>\n",
       "    .dataframe tbody tr th:only-of-type {\n",
       "        vertical-align: middle;\n",
       "    }\n",
       "\n",
       "    .dataframe tbody tr th {\n",
       "        vertical-align: top;\n",
       "    }\n",
       "\n",
       "    .dataframe thead th {\n",
       "        text-align: right;\n",
       "    }\n",
       "</style>\n",
       "<table border=\"1\" class=\"dataframe\">\n",
       "  <thead>\n",
       "    <tr style=\"text-align: right;\">\n",
       "      <th></th>\n",
       "      <th>timestamp</th>\n",
       "      <th>name</th>\n",
       "      <th>bonus_match_code</th>\n",
       "      <th>match_code</th>\n",
       "      <th>predicted_score</th>\n",
       "    </tr>\n",
       "  </thead>\n",
       "  <tbody>\n",
       "    <tr>\n",
       "      <th>0</th>\n",
       "      <td>07/07/2024 09:48</td>\n",
       "      <td>Jay</td>\n",
       "      <td>M49. Spain v France</td>\n",
       "      <td>M49. Spain v France</td>\n",
       "      <td>2-0</td>\n",
       "    </tr>\n",
       "    <tr>\n",
       "      <th>1</th>\n",
       "      <td>07/07/2024 09:56</td>\n",
       "      <td>Larry</td>\n",
       "      <td>M50. Netherlands v England</td>\n",
       "      <td>M49. Spain v France</td>\n",
       "      <td>2-1</td>\n",
       "    </tr>\n",
       "    <tr>\n",
       "      <th>2</th>\n",
       "      <td>07/07/2024 10:03</td>\n",
       "      <td>Marc</td>\n",
       "      <td>M50. Netherlands v England</td>\n",
       "      <td>M49. Spain v France</td>\n",
       "      <td>2-0</td>\n",
       "    </tr>\n",
       "    <tr>\n",
       "      <th>3</th>\n",
       "      <td>07/07/2024 10:29</td>\n",
       "      <td>Ed</td>\n",
       "      <td>M49. Spain v France</td>\n",
       "      <td>M49. Spain v France</td>\n",
       "      <td>1-1</td>\n",
       "    </tr>\n",
       "    <tr>\n",
       "      <th>4</th>\n",
       "      <td>08/07/2024 14:46</td>\n",
       "      <td>Corfe</td>\n",
       "      <td>M49. Spain v France</td>\n",
       "      <td>M49. Spain v France</td>\n",
       "      <td>1-0</td>\n",
       "    </tr>\n",
       "  </tbody>\n",
       "</table>\n",
       "</div>"
      ],
      "text/plain": [
       "          timestamp   name            bonus_match_code           match_code  \\\n",
       "0  07/07/2024 09:48    Jay         M49. Spain v France  M49. Spain v France   \n",
       "1  07/07/2024 09:56  Larry  M50. Netherlands v England  M49. Spain v France   \n",
       "2  07/07/2024 10:03   Marc  M50. Netherlands v England  M49. Spain v France   \n",
       "3  07/07/2024 10:29     Ed         M49. Spain v France  M49. Spain v France   \n",
       "4  08/07/2024 14:46  Corfe         M49. Spain v France  M49. Spain v France   \n",
       "\n",
       "  predicted_score  \n",
       "0             2-0  \n",
       "1             2-1  \n",
       "2             2-0  \n",
       "3             1-1  \n",
       "4             1-0  "
      ]
     },
     "execution_count": 30,
     "metadata": {},
     "output_type": "execute_result"
    }
   ],
   "source": [
    "md6_responses = md6_responses.rename(columns={'Timestamp': 'timestamp', 'Name': 'name', 'Which game would you like to give double points to?': 'bonus_match_code'})\n",
    "# transform dataframe from wide to long\n",
    "md6_responses = md6_responses.melt(id_vars=['timestamp', 'name', 'bonus_match_code'],\n",
    "                                     var_name='match_code', value_name='predicted_score')\n",
    "# preview\n",
    "md6_responses.head()"
   ]
  },
  {
   "cell_type": "code",
   "execution_count": 31,
   "id": "38f90e0e",
   "metadata": {},
   "outputs": [
    {
     "data": {
      "text/html": [
       "<div>\n",
       "<style scoped>\n",
       "    .dataframe tbody tr th:only-of-type {\n",
       "        vertical-align: middle;\n",
       "    }\n",
       "\n",
       "    .dataframe tbody tr th {\n",
       "        vertical-align: top;\n",
       "    }\n",
       "\n",
       "    .dataframe thead th {\n",
       "        text-align: right;\n",
       "    }\n",
       "</style>\n",
       "<table border=\"1\" class=\"dataframe\">\n",
       "  <thead>\n",
       "    <tr style=\"text-align: right;\">\n",
       "      <th></th>\n",
       "      <th>timestamp</th>\n",
       "      <th>name</th>\n",
       "      <th>bonus_match_code</th>\n",
       "      <th>match_code</th>\n",
       "      <th>predicted_score</th>\n",
       "    </tr>\n",
       "  </thead>\n",
       "  <tbody>\n",
       "    <tr>\n",
       "      <th>0</th>\n",
       "      <td>07/06/2024 19:59:48</td>\n",
       "      <td>Larry</td>\n",
       "      <td>M01. Germany v Scotland</td>\n",
       "      <td>M01. Germany v Scotland</td>\n",
       "      <td>2-0</td>\n",
       "    </tr>\n",
       "    <tr>\n",
       "      <th>1</th>\n",
       "      <td>07/06/2024 20:04:57</td>\n",
       "      <td>Tom</td>\n",
       "      <td>M05. Serbia v England</td>\n",
       "      <td>M01. Germany v Scotland</td>\n",
       "      <td>2-0</td>\n",
       "    </tr>\n",
       "    <tr>\n",
       "      <th>2</th>\n",
       "      <td>08/06/2024 23:31:40</td>\n",
       "      <td>Ed</td>\n",
       "      <td>M05. Serbia v England</td>\n",
       "      <td>M01. Germany v Scotland</td>\n",
       "      <td>3-1</td>\n",
       "    </tr>\n",
       "    <tr>\n",
       "      <th>3</th>\n",
       "      <td>09/06/2024 10:35:29</td>\n",
       "      <td>Jonny</td>\n",
       "      <td>M01. Germany v Scotland</td>\n",
       "      <td>M01. Germany v Scotland</td>\n",
       "      <td>3-0</td>\n",
       "    </tr>\n",
       "    <tr>\n",
       "      <th>4</th>\n",
       "      <td>11/06/2024 11:43:49</td>\n",
       "      <td>Jay</td>\n",
       "      <td>M12. Portugal v Czech Republic</td>\n",
       "      <td>M01. Germany v Scotland</td>\n",
       "      <td>2-0</td>\n",
       "    </tr>\n",
       "    <tr>\n",
       "      <th>...</th>\n",
       "      <td>...</td>\n",
       "      <td>...</td>\n",
       "      <td>...</td>\n",
       "      <td>...</td>\n",
       "      <td>...</td>\n",
       "    </tr>\n",
       "    <tr>\n",
       "      <th>285</th>\n",
       "      <td>09/07/2024 15:36</td>\n",
       "      <td>Jonny</td>\n",
       "      <td>M49. Spain v France</td>\n",
       "      <td>M50. Netherlands v England</td>\n",
       "      <td>1-1</td>\n",
       "    </tr>\n",
       "    <tr>\n",
       "      <th>286</th>\n",
       "      <td>09/07/2024 16:41</td>\n",
       "      <td>Tom</td>\n",
       "      <td>M50. Netherlands v England</td>\n",
       "      <td>M50. Netherlands v England</td>\n",
       "      <td>1-1</td>\n",
       "    </tr>\n",
       "    <tr>\n",
       "      <th>287</th>\n",
       "      <td>09/07/2024 19:23</td>\n",
       "      <td>Luke</td>\n",
       "      <td>M49. Spain v France</td>\n",
       "      <td>M50. Netherlands v England</td>\n",
       "      <td>1-1</td>\n",
       "    </tr>\n",
       "    <tr>\n",
       "      <th>288</th>\n",
       "      <td>09/07/2024 16:41</td>\n",
       "      <td>Peter Popular</td>\n",
       "      <td>M49. Spain v France</td>\n",
       "      <td>M50. Netherlands v England</td>\n",
       "      <td>1-1</td>\n",
       "    </tr>\n",
       "    <tr>\n",
       "      <th>289</th>\n",
       "      <td>09/07/2024 16:41</td>\n",
       "      <td>Rando Randal</td>\n",
       "      <td>M49. Spain v France</td>\n",
       "      <td>M50. Netherlands v England</td>\n",
       "      <td>3-4</td>\n",
       "    </tr>\n",
       "  </tbody>\n",
       "</table>\n",
       "<p>290 rows × 5 columns</p>\n",
       "</div>"
      ],
      "text/plain": [
       "               timestamp           name                bonus_match_code  \\\n",
       "0    07/06/2024 19:59:48          Larry         M01. Germany v Scotland   \n",
       "1    07/06/2024 20:04:57            Tom           M05. Serbia v England   \n",
       "2    08/06/2024 23:31:40             Ed           M05. Serbia v England   \n",
       "3    09/06/2024 10:35:29          Jonny         M01. Germany v Scotland   \n",
       "4    11/06/2024 11:43:49            Jay  M12. Portugal v Czech Republic   \n",
       "..                   ...            ...                             ...   \n",
       "285     09/07/2024 15:36          Jonny             M49. Spain v France   \n",
       "286     09/07/2024 16:41            Tom      M50. Netherlands v England   \n",
       "287     09/07/2024 19:23           Luke             M49. Spain v France   \n",
       "288     09/07/2024 16:41  Peter Popular             M49. Spain v France   \n",
       "289     09/07/2024 16:41   Rando Randal             M49. Spain v France   \n",
       "\n",
       "                     match_code predicted_score  \n",
       "0       M01. Germany v Scotland             2-0  \n",
       "1       M01. Germany v Scotland             2-0  \n",
       "2       M01. Germany v Scotland             3-1  \n",
       "3       M01. Germany v Scotland             3-0  \n",
       "4       M01. Germany v Scotland             2-0  \n",
       "..                          ...             ...  \n",
       "285  M50. Netherlands v England             1-1  \n",
       "286  M50. Netherlands v England             1-1  \n",
       "287  M50. Netherlands v England             1-1  \n",
       "288  M50. Netherlands v England             1-1  \n",
       "289  M50. Netherlands v England             3-4  \n",
       "\n",
       "[290 rows x 5 columns]"
      ]
     },
     "execution_count": 31,
     "metadata": {},
     "output_type": "execute_result"
    }
   ],
   "source": [
    "# Concatenate the DataFrames (union)\n",
    "df_predictions = pd.concat([md1_responses, md2_responses, md3_responses, md4_responses, md5_responses, md6_responses], axis=0)\n",
    "# Reset the index for better readability\n",
    "df_predictions.reset_index(drop=True, inplace=True)\n",
    "# Display the concatenated DataFrame\n",
    "df_predictions"
   ]
  },
  {
   "cell_type": "code",
   "execution_count": 32,
   "id": "0af3fa94-3605-43f6-9ba3-c56815a5a27f",
   "metadata": {
    "tags": []
   },
   "outputs": [
    {
     "data": {
      "text/html": [
       "<div>\n",
       "<style scoped>\n",
       "    .dataframe tbody tr th:only-of-type {\n",
       "        vertical-align: middle;\n",
       "    }\n",
       "\n",
       "    .dataframe tbody tr th {\n",
       "        vertical-align: top;\n",
       "    }\n",
       "\n",
       "    .dataframe thead th {\n",
       "        text-align: right;\n",
       "    }\n",
       "</style>\n",
       "<table border=\"1\" class=\"dataframe\">\n",
       "  <thead>\n",
       "    <tr style=\"text-align: right;\">\n",
       "      <th></th>\n",
       "      <th>timestamp</th>\n",
       "      <th>name</th>\n",
       "      <th>bonus_match_code</th>\n",
       "      <th>match_code</th>\n",
       "      <th>predicted_score</th>\n",
       "      <th>points_multiplier</th>\n",
       "    </tr>\n",
       "  </thead>\n",
       "  <tbody>\n",
       "    <tr>\n",
       "      <th>0</th>\n",
       "      <td>07/06/2024 19:59:48</td>\n",
       "      <td>Larry</td>\n",
       "      <td>M01. Germany v Scotland</td>\n",
       "      <td>M01. Germany v Scotland</td>\n",
       "      <td>2-0</td>\n",
       "      <td>2</td>\n",
       "    </tr>\n",
       "    <tr>\n",
       "      <th>1</th>\n",
       "      <td>07/06/2024 20:04:57</td>\n",
       "      <td>Tom</td>\n",
       "      <td>M05. Serbia v England</td>\n",
       "      <td>M01. Germany v Scotland</td>\n",
       "      <td>2-0</td>\n",
       "      <td>1</td>\n",
       "    </tr>\n",
       "    <tr>\n",
       "      <th>2</th>\n",
       "      <td>08/06/2024 23:31:40</td>\n",
       "      <td>Ed</td>\n",
       "      <td>M05. Serbia v England</td>\n",
       "      <td>M01. Germany v Scotland</td>\n",
       "      <td>3-1</td>\n",
       "      <td>1</td>\n",
       "    </tr>\n",
       "    <tr>\n",
       "      <th>3</th>\n",
       "      <td>09/06/2024 10:35:29</td>\n",
       "      <td>Jonny</td>\n",
       "      <td>M01. Germany v Scotland</td>\n",
       "      <td>M01. Germany v Scotland</td>\n",
       "      <td>3-0</td>\n",
       "      <td>2</td>\n",
       "    </tr>\n",
       "    <tr>\n",
       "      <th>4</th>\n",
       "      <td>11/06/2024 11:43:49</td>\n",
       "      <td>Jay</td>\n",
       "      <td>M12. Portugal v Czech Republic</td>\n",
       "      <td>M01. Germany v Scotland</td>\n",
       "      <td>2-0</td>\n",
       "      <td>1</td>\n",
       "    </tr>\n",
       "    <tr>\n",
       "      <th>...</th>\n",
       "      <td>...</td>\n",
       "      <td>...</td>\n",
       "      <td>...</td>\n",
       "      <td>...</td>\n",
       "      <td>...</td>\n",
       "      <td>...</td>\n",
       "    </tr>\n",
       "    <tr>\n",
       "      <th>285</th>\n",
       "      <td>09/07/2024 15:36</td>\n",
       "      <td>Jonny</td>\n",
       "      <td>M49. Spain v France</td>\n",
       "      <td>M50. Netherlands v England</td>\n",
       "      <td>1-1</td>\n",
       "      <td>1</td>\n",
       "    </tr>\n",
       "    <tr>\n",
       "      <th>286</th>\n",
       "      <td>09/07/2024 16:41</td>\n",
       "      <td>Tom</td>\n",
       "      <td>M50. Netherlands v England</td>\n",
       "      <td>M50. Netherlands v England</td>\n",
       "      <td>1-1</td>\n",
       "      <td>2</td>\n",
       "    </tr>\n",
       "    <tr>\n",
       "      <th>287</th>\n",
       "      <td>09/07/2024 19:23</td>\n",
       "      <td>Luke</td>\n",
       "      <td>M49. Spain v France</td>\n",
       "      <td>M50. Netherlands v England</td>\n",
       "      <td>1-1</td>\n",
       "      <td>1</td>\n",
       "    </tr>\n",
       "    <tr>\n",
       "      <th>288</th>\n",
       "      <td>09/07/2024 16:41</td>\n",
       "      <td>Peter Popular</td>\n",
       "      <td>M49. Spain v France</td>\n",
       "      <td>M50. Netherlands v England</td>\n",
       "      <td>1-1</td>\n",
       "      <td>1</td>\n",
       "    </tr>\n",
       "    <tr>\n",
       "      <th>289</th>\n",
       "      <td>09/07/2024 16:41</td>\n",
       "      <td>Rando Randal</td>\n",
       "      <td>M49. Spain v France</td>\n",
       "      <td>M50. Netherlands v England</td>\n",
       "      <td>3-4</td>\n",
       "      <td>1</td>\n",
       "    </tr>\n",
       "  </tbody>\n",
       "</table>\n",
       "<p>290 rows × 6 columns</p>\n",
       "</div>"
      ],
      "text/plain": [
       "               timestamp           name                bonus_match_code  \\\n",
       "0    07/06/2024 19:59:48          Larry         M01. Germany v Scotland   \n",
       "1    07/06/2024 20:04:57            Tom           M05. Serbia v England   \n",
       "2    08/06/2024 23:31:40             Ed           M05. Serbia v England   \n",
       "3    09/06/2024 10:35:29          Jonny         M01. Germany v Scotland   \n",
       "4    11/06/2024 11:43:49            Jay  M12. Portugal v Czech Republic   \n",
       "..                   ...            ...                             ...   \n",
       "285     09/07/2024 15:36          Jonny             M49. Spain v France   \n",
       "286     09/07/2024 16:41            Tom      M50. Netherlands v England   \n",
       "287     09/07/2024 19:23           Luke             M49. Spain v France   \n",
       "288     09/07/2024 16:41  Peter Popular             M49. Spain v France   \n",
       "289     09/07/2024 16:41   Rando Randal             M49. Spain v France   \n",
       "\n",
       "                     match_code predicted_score  points_multiplier  \n",
       "0       M01. Germany v Scotland             2-0                  2  \n",
       "1       M01. Germany v Scotland             2-0                  1  \n",
       "2       M01. Germany v Scotland             3-1                  1  \n",
       "3       M01. Germany v Scotland             3-0                  2  \n",
       "4       M01. Germany v Scotland             2-0                  1  \n",
       "..                          ...             ...                ...  \n",
       "285  M50. Netherlands v England             1-1                  1  \n",
       "286  M50. Netherlands v England             1-1                  2  \n",
       "287  M50. Netherlands v England             1-1                  1  \n",
       "288  M50. Netherlands v England             1-1                  1  \n",
       "289  M50. Netherlands v England             3-4                  1  \n",
       "\n",
       "[290 rows x 6 columns]"
      ]
     },
     "execution_count": 32,
     "metadata": {},
     "output_type": "execute_result"
    }
   ],
   "source": [
    "# Create a new points_multiplier column\n",
    "df_predictions['points_multiplier'] = df_predictions.apply(lambda row: 2 if row['bonus_match_code'] == row['match_code'] else 1, axis=1)\n",
    "df_predictions"
   ]
  },
  {
   "cell_type": "code",
   "execution_count": 33,
   "id": "08a00f4d-9763-4eda-a4d1-690c91292181",
   "metadata": {
    "tags": []
   },
   "outputs": [
    {
     "data": {
      "text/html": [
       "<div>\n",
       "<style scoped>\n",
       "    .dataframe tbody tr th:only-of-type {\n",
       "        vertical-align: middle;\n",
       "    }\n",
       "\n",
       "    .dataframe tbody tr th {\n",
       "        vertical-align: top;\n",
       "    }\n",
       "\n",
       "    .dataframe thead th {\n",
       "        text-align: right;\n",
       "    }\n",
       "</style>\n",
       "<table border=\"1\" class=\"dataframe\">\n",
       "  <thead>\n",
       "    <tr style=\"text-align: right;\">\n",
       "      <th></th>\n",
       "      <th>timestamp</th>\n",
       "      <th>name</th>\n",
       "      <th>match_code</th>\n",
       "      <th>home</th>\n",
       "      <th>away</th>\n",
       "      <th>predicted_score</th>\n",
       "      <th>points_multiplier</th>\n",
       "    </tr>\n",
       "  </thead>\n",
       "  <tbody>\n",
       "    <tr>\n",
       "      <th>0</th>\n",
       "      <td>07/06/2024 19:59:48</td>\n",
       "      <td>Larry</td>\n",
       "      <td>M01</td>\n",
       "      <td>Germany</td>\n",
       "      <td>Scotland</td>\n",
       "      <td>2-0</td>\n",
       "      <td>2</td>\n",
       "    </tr>\n",
       "    <tr>\n",
       "      <th>1</th>\n",
       "      <td>07/06/2024 20:04:57</td>\n",
       "      <td>Tom</td>\n",
       "      <td>M01</td>\n",
       "      <td>Germany</td>\n",
       "      <td>Scotland</td>\n",
       "      <td>2-0</td>\n",
       "      <td>1</td>\n",
       "    </tr>\n",
       "    <tr>\n",
       "      <th>2</th>\n",
       "      <td>08/06/2024 23:31:40</td>\n",
       "      <td>Ed</td>\n",
       "      <td>M01</td>\n",
       "      <td>Germany</td>\n",
       "      <td>Scotland</td>\n",
       "      <td>3-1</td>\n",
       "      <td>1</td>\n",
       "    </tr>\n",
       "    <tr>\n",
       "      <th>3</th>\n",
       "      <td>09/06/2024 10:35:29</td>\n",
       "      <td>Jonny</td>\n",
       "      <td>M01</td>\n",
       "      <td>Germany</td>\n",
       "      <td>Scotland</td>\n",
       "      <td>3-0</td>\n",
       "      <td>2</td>\n",
       "    </tr>\n",
       "    <tr>\n",
       "      <th>4</th>\n",
       "      <td>11/06/2024 11:43:49</td>\n",
       "      <td>Jay</td>\n",
       "      <td>M01</td>\n",
       "      <td>Germany</td>\n",
       "      <td>Scotland</td>\n",
       "      <td>2-0</td>\n",
       "      <td>1</td>\n",
       "    </tr>\n",
       "    <tr>\n",
       "      <th>...</th>\n",
       "      <td>...</td>\n",
       "      <td>...</td>\n",
       "      <td>...</td>\n",
       "      <td>...</td>\n",
       "      <td>...</td>\n",
       "      <td>...</td>\n",
       "      <td>...</td>\n",
       "    </tr>\n",
       "    <tr>\n",
       "      <th>285</th>\n",
       "      <td>09/07/2024 15:36</td>\n",
       "      <td>Jonny</td>\n",
       "      <td>M50</td>\n",
       "      <td>Netherlands</td>\n",
       "      <td>England</td>\n",
       "      <td>1-1</td>\n",
       "      <td>1</td>\n",
       "    </tr>\n",
       "    <tr>\n",
       "      <th>286</th>\n",
       "      <td>09/07/2024 16:41</td>\n",
       "      <td>Tom</td>\n",
       "      <td>M50</td>\n",
       "      <td>Netherlands</td>\n",
       "      <td>England</td>\n",
       "      <td>1-1</td>\n",
       "      <td>2</td>\n",
       "    </tr>\n",
       "    <tr>\n",
       "      <th>287</th>\n",
       "      <td>09/07/2024 19:23</td>\n",
       "      <td>Luke</td>\n",
       "      <td>M50</td>\n",
       "      <td>Netherlands</td>\n",
       "      <td>England</td>\n",
       "      <td>1-1</td>\n",
       "      <td>1</td>\n",
       "    </tr>\n",
       "    <tr>\n",
       "      <th>288</th>\n",
       "      <td>09/07/2024 16:41</td>\n",
       "      <td>Peter Popular</td>\n",
       "      <td>M50</td>\n",
       "      <td>Netherlands</td>\n",
       "      <td>England</td>\n",
       "      <td>1-1</td>\n",
       "      <td>1</td>\n",
       "    </tr>\n",
       "    <tr>\n",
       "      <th>289</th>\n",
       "      <td>09/07/2024 16:41</td>\n",
       "      <td>Rando Randal</td>\n",
       "      <td>M50</td>\n",
       "      <td>Netherlands</td>\n",
       "      <td>England</td>\n",
       "      <td>3-4</td>\n",
       "      <td>1</td>\n",
       "    </tr>\n",
       "  </tbody>\n",
       "</table>\n",
       "<p>290 rows × 7 columns</p>\n",
       "</div>"
      ],
      "text/plain": [
       "               timestamp           name match_code         home      away  \\\n",
       "0    07/06/2024 19:59:48          Larry        M01      Germany  Scotland   \n",
       "1    07/06/2024 20:04:57            Tom        M01      Germany  Scotland   \n",
       "2    08/06/2024 23:31:40             Ed        M01      Germany  Scotland   \n",
       "3    09/06/2024 10:35:29          Jonny        M01      Germany  Scotland   \n",
       "4    11/06/2024 11:43:49            Jay        M01      Germany  Scotland   \n",
       "..                   ...            ...        ...          ...       ...   \n",
       "285     09/07/2024 15:36          Jonny        M50  Netherlands   England   \n",
       "286     09/07/2024 16:41            Tom        M50  Netherlands   England   \n",
       "287     09/07/2024 19:23           Luke        M50  Netherlands   England   \n",
       "288     09/07/2024 16:41  Peter Popular        M50  Netherlands   England   \n",
       "289     09/07/2024 16:41   Rando Randal        M50  Netherlands   England   \n",
       "\n",
       "    predicted_score  points_multiplier  \n",
       "0               2-0                  2  \n",
       "1               2-0                  1  \n",
       "2               3-1                  1  \n",
       "3               3-0                  2  \n",
       "4               2-0                  1  \n",
       "..              ...                ...  \n",
       "285             1-1                  1  \n",
       "286             1-1                  2  \n",
       "287             1-1                  1  \n",
       "288             1-1                  1  \n",
       "289             3-4                  1  \n",
       "\n",
       "[290 rows x 7 columns]"
      ]
     },
     "execution_count": 33,
     "metadata": {},
     "output_type": "execute_result"
    }
   ],
   "source": [
    "# Extract MatchCode, Home, and Away using regular expressions\n",
    "df_predictions[['match_code', 'home', 'away']] = df_predictions['match_code'].str.extract(r'(M\\d{2}). (.+) v (.+)')\n",
    "df_predictions = df_predictions[['timestamp', 'name', 'match_code', 'home', 'away', 'predicted_score', 'points_multiplier']]\n",
    "df_predictions"
   ]
  },
  {
   "cell_type": "code",
   "execution_count": 34,
   "id": "4cc39e34",
   "metadata": {},
   "outputs": [],
   "source": [
    "df_predictions_full = pd.merge(df_predictions, df_results_raw, on=['match_code', 'home', 'away'], how='left')\n",
    "df_predictions_full.to_csv('data/df_predictions_full.csv',index=False)"
   ]
  },
  {
   "cell_type": "code",
   "execution_count": null,
   "id": "9a505e4c",
   "metadata": {},
   "outputs": [],
   "source": []
  },
  {
   "cell_type": "code",
   "execution_count": 35,
   "id": "0de839d9-1060-4cc5-a3fc-1c2a77e8af76",
   "metadata": {
    "tags": []
   },
   "outputs": [
    {
     "data": {
      "text/html": [
       "<div>\n",
       "<style scoped>\n",
       "    .dataframe tbody tr th:only-of-type {\n",
       "        vertical-align: middle;\n",
       "    }\n",
       "\n",
       "    .dataframe tbody tr th {\n",
       "        vertical-align: top;\n",
       "    }\n",
       "\n",
       "    .dataframe thead th {\n",
       "        text-align: right;\n",
       "    }\n",
       "</style>\n",
       "<table border=\"1\" class=\"dataframe\">\n",
       "  <thead>\n",
       "    <tr style=\"text-align: right;\">\n",
       "      <th></th>\n",
       "      <th>timestamp</th>\n",
       "      <th>name</th>\n",
       "      <th>match_code</th>\n",
       "      <th>home</th>\n",
       "      <th>away</th>\n",
       "      <th>predicted_score</th>\n",
       "      <th>points_multiplier</th>\n",
       "      <th>actual_score</th>\n",
       "      <th>matchday</th>\n",
       "      <th>stage</th>\n",
       "      <th>stage_detail</th>\n",
       "      <th>match_time</th>\n",
       "    </tr>\n",
       "  </thead>\n",
       "  <tbody>\n",
       "    <tr>\n",
       "      <th>0</th>\n",
       "      <td>07/06/2024 19:59:48</td>\n",
       "      <td>Larry</td>\n",
       "      <td>M01</td>\n",
       "      <td>Germany</td>\n",
       "      <td>Scotland</td>\n",
       "      <td>2-0</td>\n",
       "      <td>2</td>\n",
       "      <td>5-1</td>\n",
       "      <td>1</td>\n",
       "      <td>Groups</td>\n",
       "      <td>01. Groups - Matchday 1</td>\n",
       "      <td>14/06/2024 20:00:00</td>\n",
       "    </tr>\n",
       "    <tr>\n",
       "      <th>1</th>\n",
       "      <td>07/06/2024 20:04:57</td>\n",
       "      <td>Tom</td>\n",
       "      <td>M01</td>\n",
       "      <td>Germany</td>\n",
       "      <td>Scotland</td>\n",
       "      <td>2-0</td>\n",
       "      <td>1</td>\n",
       "      <td>5-1</td>\n",
       "      <td>1</td>\n",
       "      <td>Groups</td>\n",
       "      <td>01. Groups - Matchday 1</td>\n",
       "      <td>14/06/2024 20:00:00</td>\n",
       "    </tr>\n",
       "    <tr>\n",
       "      <th>2</th>\n",
       "      <td>08/06/2024 23:31:40</td>\n",
       "      <td>Ed</td>\n",
       "      <td>M01</td>\n",
       "      <td>Germany</td>\n",
       "      <td>Scotland</td>\n",
       "      <td>3-1</td>\n",
       "      <td>1</td>\n",
       "      <td>5-1</td>\n",
       "      <td>1</td>\n",
       "      <td>Groups</td>\n",
       "      <td>01. Groups - Matchday 1</td>\n",
       "      <td>14/06/2024 20:00:00</td>\n",
       "    </tr>\n",
       "    <tr>\n",
       "      <th>3</th>\n",
       "      <td>09/06/2024 10:35:29</td>\n",
       "      <td>Jonny</td>\n",
       "      <td>M01</td>\n",
       "      <td>Germany</td>\n",
       "      <td>Scotland</td>\n",
       "      <td>3-0</td>\n",
       "      <td>2</td>\n",
       "      <td>5-1</td>\n",
       "      <td>1</td>\n",
       "      <td>Groups</td>\n",
       "      <td>01. Groups - Matchday 1</td>\n",
       "      <td>14/06/2024 20:00:00</td>\n",
       "    </tr>\n",
       "    <tr>\n",
       "      <th>4</th>\n",
       "      <td>11/06/2024 11:43:49</td>\n",
       "      <td>Jay</td>\n",
       "      <td>M01</td>\n",
       "      <td>Germany</td>\n",
       "      <td>Scotland</td>\n",
       "      <td>2-0</td>\n",
       "      <td>1</td>\n",
       "      <td>5-1</td>\n",
       "      <td>1</td>\n",
       "      <td>Groups</td>\n",
       "      <td>01. Groups - Matchday 1</td>\n",
       "      <td>14/06/2024 20:00:00</td>\n",
       "    </tr>\n",
       "    <tr>\n",
       "      <th>...</th>\n",
       "      <td>...</td>\n",
       "      <td>...</td>\n",
       "      <td>...</td>\n",
       "      <td>...</td>\n",
       "      <td>...</td>\n",
       "      <td>...</td>\n",
       "      <td>...</td>\n",
       "      <td>...</td>\n",
       "      <td>...</td>\n",
       "      <td>...</td>\n",
       "      <td>...</td>\n",
       "      <td>...</td>\n",
       "    </tr>\n",
       "    <tr>\n",
       "      <th>285</th>\n",
       "      <td>09/07/2024 15:36</td>\n",
       "      <td>Jonny</td>\n",
       "      <td>M50</td>\n",
       "      <td>Netherlands</td>\n",
       "      <td>England</td>\n",
       "      <td>1-1</td>\n",
       "      <td>1</td>\n",
       "      <td>1-2</td>\n",
       "      <td>6</td>\n",
       "      <td>KO</td>\n",
       "      <td>06. KO - Semi Final</td>\n",
       "      <td>10/07/2024 20:00:00</td>\n",
       "    </tr>\n",
       "    <tr>\n",
       "      <th>286</th>\n",
       "      <td>09/07/2024 16:41</td>\n",
       "      <td>Tom</td>\n",
       "      <td>M50</td>\n",
       "      <td>Netherlands</td>\n",
       "      <td>England</td>\n",
       "      <td>1-1</td>\n",
       "      <td>2</td>\n",
       "      <td>1-2</td>\n",
       "      <td>6</td>\n",
       "      <td>KO</td>\n",
       "      <td>06. KO - Semi Final</td>\n",
       "      <td>10/07/2024 20:00:00</td>\n",
       "    </tr>\n",
       "    <tr>\n",
       "      <th>287</th>\n",
       "      <td>09/07/2024 19:23</td>\n",
       "      <td>Luke</td>\n",
       "      <td>M50</td>\n",
       "      <td>Netherlands</td>\n",
       "      <td>England</td>\n",
       "      <td>1-1</td>\n",
       "      <td>1</td>\n",
       "      <td>1-2</td>\n",
       "      <td>6</td>\n",
       "      <td>KO</td>\n",
       "      <td>06. KO - Semi Final</td>\n",
       "      <td>10/07/2024 20:00:00</td>\n",
       "    </tr>\n",
       "    <tr>\n",
       "      <th>288</th>\n",
       "      <td>09/07/2024 16:41</td>\n",
       "      <td>Peter Popular</td>\n",
       "      <td>M50</td>\n",
       "      <td>Netherlands</td>\n",
       "      <td>England</td>\n",
       "      <td>1-1</td>\n",
       "      <td>1</td>\n",
       "      <td>1-2</td>\n",
       "      <td>6</td>\n",
       "      <td>KO</td>\n",
       "      <td>06. KO - Semi Final</td>\n",
       "      <td>10/07/2024 20:00:00</td>\n",
       "    </tr>\n",
       "    <tr>\n",
       "      <th>289</th>\n",
       "      <td>09/07/2024 16:41</td>\n",
       "      <td>Rando Randal</td>\n",
       "      <td>M50</td>\n",
       "      <td>Netherlands</td>\n",
       "      <td>England</td>\n",
       "      <td>3-4</td>\n",
       "      <td>1</td>\n",
       "      <td>1-2</td>\n",
       "      <td>6</td>\n",
       "      <td>KO</td>\n",
       "      <td>06. KO - Semi Final</td>\n",
       "      <td>10/07/2024 20:00:00</td>\n",
       "    </tr>\n",
       "  </tbody>\n",
       "</table>\n",
       "<p>290 rows × 12 columns</p>\n",
       "</div>"
      ],
      "text/plain": [
       "               timestamp           name match_code         home      away  \\\n",
       "0    07/06/2024 19:59:48          Larry        M01      Germany  Scotland   \n",
       "1    07/06/2024 20:04:57            Tom        M01      Germany  Scotland   \n",
       "2    08/06/2024 23:31:40             Ed        M01      Germany  Scotland   \n",
       "3    09/06/2024 10:35:29          Jonny        M01      Germany  Scotland   \n",
       "4    11/06/2024 11:43:49            Jay        M01      Germany  Scotland   \n",
       "..                   ...            ...        ...          ...       ...   \n",
       "285     09/07/2024 15:36          Jonny        M50  Netherlands   England   \n",
       "286     09/07/2024 16:41            Tom        M50  Netherlands   England   \n",
       "287     09/07/2024 19:23           Luke        M50  Netherlands   England   \n",
       "288     09/07/2024 16:41  Peter Popular        M50  Netherlands   England   \n",
       "289     09/07/2024 16:41   Rando Randal        M50  Netherlands   England   \n",
       "\n",
       "    predicted_score  points_multiplier actual_score  matchday   stage  \\\n",
       "0               2-0                  2          5-1         1  Groups   \n",
       "1               2-0                  1          5-1         1  Groups   \n",
       "2               3-1                  1          5-1         1  Groups   \n",
       "3               3-0                  2          5-1         1  Groups   \n",
       "4               2-0                  1          5-1         1  Groups   \n",
       "..              ...                ...          ...       ...     ...   \n",
       "285             1-1                  1          1-2         6      KO   \n",
       "286             1-1                  2          1-2         6      KO   \n",
       "287             1-1                  1          1-2         6      KO   \n",
       "288             1-1                  1          1-2         6      KO   \n",
       "289             3-4                  1          1-2         6      KO   \n",
       "\n",
       "                stage_detail           match_time  \n",
       "0    01. Groups - Matchday 1  14/06/2024 20:00:00  \n",
       "1    01. Groups - Matchday 1  14/06/2024 20:00:00  \n",
       "2    01. Groups - Matchday 1  14/06/2024 20:00:00  \n",
       "3    01. Groups - Matchday 1  14/06/2024 20:00:00  \n",
       "4    01. Groups - Matchday 1  14/06/2024 20:00:00  \n",
       "..                       ...                  ...  \n",
       "285      06. KO - Semi Final  10/07/2024 20:00:00  \n",
       "286      06. KO - Semi Final  10/07/2024 20:00:00  \n",
       "287      06. KO - Semi Final  10/07/2024 20:00:00  \n",
       "288      06. KO - Semi Final  10/07/2024 20:00:00  \n",
       "289      06. KO - Semi Final  10/07/2024 20:00:00  \n",
       "\n",
       "[290 rows x 12 columns]"
      ]
     },
     "execution_count": 35,
     "metadata": {},
     "output_type": "execute_result"
    }
   ],
   "source": [
    "# Merge DataFrames based on 'MatchCode', 'Home', and 'Away'\n",
    "df_merged = pd.merge(df_predictions, df_results, on=['match_code', 'home', 'away'], how='inner')\n",
    "df_merged"
   ]
  },
  {
   "cell_type": "markdown",
   "id": "c4005e42",
   "metadata": {},
   "source": [
    "## Functions to Calculate Points\n",
    "\n",
    "- `get_predicted_outcome` function: creates new column `predicted_outcome` which states if the user predicted a Home, Away or Draw result\n",
    "- `get_actual_outcome` function: creates new column `actual_outcome` which states if the actual result was Home, Away or Draw result\n",
    "- `calculate_points` function: creates new column `base_points` where:\n",
    "    + 1 point is awarded if `predicted_outcome` = `actual_outcome` \n",
    "    + 3 points is awarded if `predicted_score` = `actual_score`\n",
    "- `total_points` is then created which is `base_points` * `points_multiplier` to award double points for user selected bonus matches\n",
    "- `df_merged` contains one row per prediction with points"
   ]
  },
  {
   "cell_type": "code",
   "execution_count": 36,
   "id": "f8ef69a7-1de9-412a-8a89-e05ab34ebf93",
   "metadata": {
    "tags": []
   },
   "outputs": [],
   "source": [
    "# Create a function to determine predicted outcome\n",
    "def get_predicted_outcome(predicted_score):\n",
    "    home_score, away_score = map(int, predicted_score.split('-'))\n",
    "    if home_score > away_score:\n",
    "        return 'Home'\n",
    "    elif home_score < away_score:\n",
    "        return 'Away'\n",
    "    else:\n",
    "        return 'Draw'"
   ]
  },
  {
   "cell_type": "code",
   "execution_count": 37,
   "id": "13561b37-96b5-4927-9d49-ddf8e70802ef",
   "metadata": {
    "tags": []
   },
   "outputs": [],
   "source": [
    "# Apply the function to create the 'predicted_outcome' column\n",
    "df_merged['predicted_outcome'] = df_merged['predicted_score'].apply(get_predicted_outcome)"
   ]
  },
  {
   "cell_type": "code",
   "execution_count": 38,
   "id": "6ed57bc2-8b17-4679-ab17-983f9d95783a",
   "metadata": {
    "tags": []
   },
   "outputs": [],
   "source": [
    "# Create a function to determine actual outcome\n",
    "def get_actual_outcome(actual_score):\n",
    "    home_score, away_score = map(int, actual_score.split('-'))\n",
    "    if home_score > away_score:\n",
    "        return 'Home'\n",
    "    elif home_score < away_score:\n",
    "        return 'Away'\n",
    "    else:\n",
    "        return 'Draw'"
   ]
  },
  {
   "cell_type": "code",
   "execution_count": 39,
   "id": "2d8fddb4-9c61-429b-b4c3-f7c46bc6a872",
   "metadata": {
    "tags": []
   },
   "outputs": [],
   "source": [
    "# Apply the function to create the 'actual_outcome' column\n",
    "df_merged['actual_outcome'] = df_merged['actual_score'].apply(get_actual_outcome)"
   ]
  },
  {
   "cell_type": "code",
   "execution_count": 40,
   "id": "ff6c1c78-bbbc-4fe5-8e99-ded367f15e25",
   "metadata": {
    "tags": []
   },
   "outputs": [],
   "source": [
    "# Create a function to calculate points\n",
    "def calculate_points(predicted_score, actual_score, predicted_outcome, actual_outcome):\n",
    "    home_pred, away_pred = map(int, predicted_score.split('-'))\n",
    "    home_res, away_res = map(int, predicted_score.split('-'))\n",
    "\n",
    "    if predicted_score == actual_score:\n",
    "        return 3\n",
    "    elif predicted_outcome == actual_outcome:\n",
    "        return 1\n",
    "    else:\n",
    "        return 0"
   ]
  },
  {
   "cell_type": "code",
   "execution_count": 41,
   "id": "5448d8aa-b4ea-40b0-bb83-35670c595d88",
   "metadata": {
    "tags": []
   },
   "outputs": [],
   "source": [
    "# Apply the function to create the 'Points' column\n",
    "df_merged['base_points'] = df_merged.apply(lambda row: calculate_points(row['predicted_score'], row['actual_score'], row['predicted_outcome'], row['actual_outcome']), axis=1)\n",
    "df_merged['total_points'] = df_merged['base_points'] * df_merged['points_multiplier']\n",
    "\n",
    "df_merged.to_csv('data/df_merged.csv')"
   ]
  },
  {
   "cell_type": "code",
   "execution_count": 42,
   "id": "301597be",
   "metadata": {},
   "outputs": [
    {
     "data": {
      "text/html": [
       "<div>\n",
       "<style scoped>\n",
       "    .dataframe tbody tr th:only-of-type {\n",
       "        vertical-align: middle;\n",
       "    }\n",
       "\n",
       "    .dataframe tbody tr th {\n",
       "        vertical-align: top;\n",
       "    }\n",
       "\n",
       "    .dataframe thead th {\n",
       "        text-align: right;\n",
       "    }\n",
       "</style>\n",
       "<table border=\"1\" class=\"dataframe\">\n",
       "  <thead>\n",
       "    <tr style=\"text-align: right;\">\n",
       "      <th></th>\n",
       "      <th>timestamp</th>\n",
       "      <th>name</th>\n",
       "      <th>match_code</th>\n",
       "      <th>home</th>\n",
       "      <th>away</th>\n",
       "      <th>predicted_score</th>\n",
       "      <th>points_multiplier</th>\n",
       "      <th>actual_score</th>\n",
       "      <th>matchday</th>\n",
       "      <th>stage</th>\n",
       "      <th>stage_detail</th>\n",
       "      <th>match_time</th>\n",
       "      <th>predicted_outcome</th>\n",
       "      <th>actual_outcome</th>\n",
       "      <th>base_points</th>\n",
       "      <th>total_points</th>\n",
       "    </tr>\n",
       "  </thead>\n",
       "  <tbody>\n",
       "    <tr>\n",
       "      <th>0</th>\n",
       "      <td>07/06/2024 19:59:48</td>\n",
       "      <td>Larry</td>\n",
       "      <td>M01</td>\n",
       "      <td>Germany</td>\n",
       "      <td>Scotland</td>\n",
       "      <td>2-0</td>\n",
       "      <td>2</td>\n",
       "      <td>5-1</td>\n",
       "      <td>1</td>\n",
       "      <td>Groups</td>\n",
       "      <td>01. Groups - Matchday 1</td>\n",
       "      <td>14/06/2024 20:00:00</td>\n",
       "      <td>Home</td>\n",
       "      <td>Home</td>\n",
       "      <td>1</td>\n",
       "      <td>2</td>\n",
       "    </tr>\n",
       "    <tr>\n",
       "      <th>1</th>\n",
       "      <td>07/06/2024 20:04:57</td>\n",
       "      <td>Tom</td>\n",
       "      <td>M01</td>\n",
       "      <td>Germany</td>\n",
       "      <td>Scotland</td>\n",
       "      <td>2-0</td>\n",
       "      <td>1</td>\n",
       "      <td>5-1</td>\n",
       "      <td>1</td>\n",
       "      <td>Groups</td>\n",
       "      <td>01. Groups - Matchday 1</td>\n",
       "      <td>14/06/2024 20:00:00</td>\n",
       "      <td>Home</td>\n",
       "      <td>Home</td>\n",
       "      <td>1</td>\n",
       "      <td>1</td>\n",
       "    </tr>\n",
       "    <tr>\n",
       "      <th>2</th>\n",
       "      <td>08/06/2024 23:31:40</td>\n",
       "      <td>Ed</td>\n",
       "      <td>M01</td>\n",
       "      <td>Germany</td>\n",
       "      <td>Scotland</td>\n",
       "      <td>3-1</td>\n",
       "      <td>1</td>\n",
       "      <td>5-1</td>\n",
       "      <td>1</td>\n",
       "      <td>Groups</td>\n",
       "      <td>01. Groups - Matchday 1</td>\n",
       "      <td>14/06/2024 20:00:00</td>\n",
       "      <td>Home</td>\n",
       "      <td>Home</td>\n",
       "      <td>1</td>\n",
       "      <td>1</td>\n",
       "    </tr>\n",
       "    <tr>\n",
       "      <th>3</th>\n",
       "      <td>09/06/2024 10:35:29</td>\n",
       "      <td>Jonny</td>\n",
       "      <td>M01</td>\n",
       "      <td>Germany</td>\n",
       "      <td>Scotland</td>\n",
       "      <td>3-0</td>\n",
       "      <td>2</td>\n",
       "      <td>5-1</td>\n",
       "      <td>1</td>\n",
       "      <td>Groups</td>\n",
       "      <td>01. Groups - Matchday 1</td>\n",
       "      <td>14/06/2024 20:00:00</td>\n",
       "      <td>Home</td>\n",
       "      <td>Home</td>\n",
       "      <td>1</td>\n",
       "      <td>2</td>\n",
       "    </tr>\n",
       "    <tr>\n",
       "      <th>4</th>\n",
       "      <td>11/06/2024 11:43:49</td>\n",
       "      <td>Jay</td>\n",
       "      <td>M01</td>\n",
       "      <td>Germany</td>\n",
       "      <td>Scotland</td>\n",
       "      <td>2-0</td>\n",
       "      <td>1</td>\n",
       "      <td>5-1</td>\n",
       "      <td>1</td>\n",
       "      <td>Groups</td>\n",
       "      <td>01. Groups - Matchday 1</td>\n",
       "      <td>14/06/2024 20:00:00</td>\n",
       "      <td>Home</td>\n",
       "      <td>Home</td>\n",
       "      <td>1</td>\n",
       "      <td>1</td>\n",
       "    </tr>\n",
       "    <tr>\n",
       "      <th>...</th>\n",
       "      <td>...</td>\n",
       "      <td>...</td>\n",
       "      <td>...</td>\n",
       "      <td>...</td>\n",
       "      <td>...</td>\n",
       "      <td>...</td>\n",
       "      <td>...</td>\n",
       "      <td>...</td>\n",
       "      <td>...</td>\n",
       "      <td>...</td>\n",
       "      <td>...</td>\n",
       "      <td>...</td>\n",
       "      <td>...</td>\n",
       "      <td>...</td>\n",
       "      <td>...</td>\n",
       "      <td>...</td>\n",
       "    </tr>\n",
       "    <tr>\n",
       "      <th>285</th>\n",
       "      <td>09/07/2024 15:36</td>\n",
       "      <td>Jonny</td>\n",
       "      <td>M50</td>\n",
       "      <td>Netherlands</td>\n",
       "      <td>England</td>\n",
       "      <td>1-1</td>\n",
       "      <td>1</td>\n",
       "      <td>1-2</td>\n",
       "      <td>6</td>\n",
       "      <td>KO</td>\n",
       "      <td>06. KO - Semi Final</td>\n",
       "      <td>10/07/2024 20:00:00</td>\n",
       "      <td>Draw</td>\n",
       "      <td>Away</td>\n",
       "      <td>0</td>\n",
       "      <td>0</td>\n",
       "    </tr>\n",
       "    <tr>\n",
       "      <th>286</th>\n",
       "      <td>09/07/2024 16:41</td>\n",
       "      <td>Tom</td>\n",
       "      <td>M50</td>\n",
       "      <td>Netherlands</td>\n",
       "      <td>England</td>\n",
       "      <td>1-1</td>\n",
       "      <td>2</td>\n",
       "      <td>1-2</td>\n",
       "      <td>6</td>\n",
       "      <td>KO</td>\n",
       "      <td>06. KO - Semi Final</td>\n",
       "      <td>10/07/2024 20:00:00</td>\n",
       "      <td>Draw</td>\n",
       "      <td>Away</td>\n",
       "      <td>0</td>\n",
       "      <td>0</td>\n",
       "    </tr>\n",
       "    <tr>\n",
       "      <th>287</th>\n",
       "      <td>09/07/2024 19:23</td>\n",
       "      <td>Luke</td>\n",
       "      <td>M50</td>\n",
       "      <td>Netherlands</td>\n",
       "      <td>England</td>\n",
       "      <td>1-1</td>\n",
       "      <td>1</td>\n",
       "      <td>1-2</td>\n",
       "      <td>6</td>\n",
       "      <td>KO</td>\n",
       "      <td>06. KO - Semi Final</td>\n",
       "      <td>10/07/2024 20:00:00</td>\n",
       "      <td>Draw</td>\n",
       "      <td>Away</td>\n",
       "      <td>0</td>\n",
       "      <td>0</td>\n",
       "    </tr>\n",
       "    <tr>\n",
       "      <th>288</th>\n",
       "      <td>09/07/2024 16:41</td>\n",
       "      <td>Peter Popular</td>\n",
       "      <td>M50</td>\n",
       "      <td>Netherlands</td>\n",
       "      <td>England</td>\n",
       "      <td>1-1</td>\n",
       "      <td>1</td>\n",
       "      <td>1-2</td>\n",
       "      <td>6</td>\n",
       "      <td>KO</td>\n",
       "      <td>06. KO - Semi Final</td>\n",
       "      <td>10/07/2024 20:00:00</td>\n",
       "      <td>Draw</td>\n",
       "      <td>Away</td>\n",
       "      <td>0</td>\n",
       "      <td>0</td>\n",
       "    </tr>\n",
       "    <tr>\n",
       "      <th>289</th>\n",
       "      <td>09/07/2024 16:41</td>\n",
       "      <td>Rando Randal</td>\n",
       "      <td>M50</td>\n",
       "      <td>Netherlands</td>\n",
       "      <td>England</td>\n",
       "      <td>3-4</td>\n",
       "      <td>1</td>\n",
       "      <td>1-2</td>\n",
       "      <td>6</td>\n",
       "      <td>KO</td>\n",
       "      <td>06. KO - Semi Final</td>\n",
       "      <td>10/07/2024 20:00:00</td>\n",
       "      <td>Away</td>\n",
       "      <td>Away</td>\n",
       "      <td>1</td>\n",
       "      <td>1</td>\n",
       "    </tr>\n",
       "  </tbody>\n",
       "</table>\n",
       "<p>290 rows × 16 columns</p>\n",
       "</div>"
      ],
      "text/plain": [
       "               timestamp           name match_code         home      away  \\\n",
       "0    07/06/2024 19:59:48          Larry        M01      Germany  Scotland   \n",
       "1    07/06/2024 20:04:57            Tom        M01      Germany  Scotland   \n",
       "2    08/06/2024 23:31:40             Ed        M01      Germany  Scotland   \n",
       "3    09/06/2024 10:35:29          Jonny        M01      Germany  Scotland   \n",
       "4    11/06/2024 11:43:49            Jay        M01      Germany  Scotland   \n",
       "..                   ...            ...        ...          ...       ...   \n",
       "285     09/07/2024 15:36          Jonny        M50  Netherlands   England   \n",
       "286     09/07/2024 16:41            Tom        M50  Netherlands   England   \n",
       "287     09/07/2024 19:23           Luke        M50  Netherlands   England   \n",
       "288     09/07/2024 16:41  Peter Popular        M50  Netherlands   England   \n",
       "289     09/07/2024 16:41   Rando Randal        M50  Netherlands   England   \n",
       "\n",
       "    predicted_score  points_multiplier actual_score  matchday   stage  \\\n",
       "0               2-0                  2          5-1         1  Groups   \n",
       "1               2-0                  1          5-1         1  Groups   \n",
       "2               3-1                  1          5-1         1  Groups   \n",
       "3               3-0                  2          5-1         1  Groups   \n",
       "4               2-0                  1          5-1         1  Groups   \n",
       "..              ...                ...          ...       ...     ...   \n",
       "285             1-1                  1          1-2         6      KO   \n",
       "286             1-1                  2          1-2         6      KO   \n",
       "287             1-1                  1          1-2         6      KO   \n",
       "288             1-1                  1          1-2         6      KO   \n",
       "289             3-4                  1          1-2         6      KO   \n",
       "\n",
       "                stage_detail           match_time predicted_outcome  \\\n",
       "0    01. Groups - Matchday 1  14/06/2024 20:00:00              Home   \n",
       "1    01. Groups - Matchday 1  14/06/2024 20:00:00              Home   \n",
       "2    01. Groups - Matchday 1  14/06/2024 20:00:00              Home   \n",
       "3    01. Groups - Matchday 1  14/06/2024 20:00:00              Home   \n",
       "4    01. Groups - Matchday 1  14/06/2024 20:00:00              Home   \n",
       "..                       ...                  ...               ...   \n",
       "285      06. KO - Semi Final  10/07/2024 20:00:00              Draw   \n",
       "286      06. KO - Semi Final  10/07/2024 20:00:00              Draw   \n",
       "287      06. KO - Semi Final  10/07/2024 20:00:00              Draw   \n",
       "288      06. KO - Semi Final  10/07/2024 20:00:00              Draw   \n",
       "289      06. KO - Semi Final  10/07/2024 20:00:00              Away   \n",
       "\n",
       "    actual_outcome  base_points  total_points  \n",
       "0             Home            1             2  \n",
       "1             Home            1             1  \n",
       "2             Home            1             1  \n",
       "3             Home            1             2  \n",
       "4             Home            1             1  \n",
       "..             ...          ...           ...  \n",
       "285           Away            0             0  \n",
       "286           Away            0             0  \n",
       "287           Away            0             0  \n",
       "288           Away            0             0  \n",
       "289           Away            1             1  \n",
       "\n",
       "[290 rows x 16 columns]"
      ]
     },
     "execution_count": 42,
     "metadata": {},
     "output_type": "execute_result"
    }
   ],
   "source": [
    "df_merged"
   ]
  },
  {
   "cell_type": "markdown",
   "id": "99f9d49a",
   "metadata": {},
   "source": [
    "## Final Dataframes for Streamlit\n",
    "\n",
    "** written to_csv and used in current Streamlit app\n",
    "\n",
    "- ** `points_by_name`: base and total points per name - used in the bar chart\n",
    "- `points_by_name_stage`: base and total points per name by each stage - not yet used, but could be used for the bar chart where the user can filter on certain matchdays or stages\n",
    "- `mode_predicted_scores`: most popular score prediction by each user - not used\n",
    "- `mode_correct_predicted_scores`: most popular score predictions that are correct by each user - not used\n",
    "- ** `vs_mean_df`: by each matchday, takes the total points for a user each matchday and compares it vs the mean total points and takes the delta - used in a trended line chart\n",
    "- ** `vs_mean_match_code_df`: by each match_code (more granular), takes the total points for a user each match_code and compares it vs the mean total points and takes the delta - used in a trended line chart within the summary table near the top\n",
    "- ** `overall_standings_df`: overall points for each user, change in rank, trended line chart data - used as the summary table near the top"
   ]
  },
  {
   "cell_type": "code",
   "execution_count": 43,
   "id": "5c19d8cc-8c05-45ed-9c93-aef5194825a8",
   "metadata": {
    "tags": []
   },
   "outputs": [],
   "source": [
    "# Group the DataFrame by 'name' and sum the 'Points' for each group\n",
    "points_by_name = df_merged.groupby('name').agg({'base_points': 'sum', 'total_points': 'sum'}).reset_index()\n",
    "points_by_name = points_by_name.sort_values(by='total_points', ascending=False)"
   ]
  },
  {
   "cell_type": "code",
   "execution_count": 44,
   "id": "8553edad-0505-4a10-a320-22e7efd96542",
   "metadata": {
    "tags": []
   },
   "outputs": [
    {
     "name": "stdout",
     "output_type": "stream",
     "text": [
      "            name  base_points  total_points\n",
      "3          Jonny           27            34\n",
      "7  Peter Popular           24            31\n",
      "2            Jay           20            27\n",
      "0          Corfe           20            26\n",
      "4          Larry           21            26\n",
      "5           Luke           22            25\n",
      "1             Ed           16            21\n",
      "6           Marc           16            20\n",
      "9            Tom           18            19\n",
      "8   Rando Randal            8            10\n"
     ]
    }
   ],
   "source": [
    "print(points_by_name)"
   ]
  },
  {
   "cell_type": "code",
   "execution_count": 45,
   "id": "775fa9fe",
   "metadata": {},
   "outputs": [
    {
     "data": {
      "text/html": [
       "<div>\n",
       "<style scoped>\n",
       "    .dataframe tbody tr th:only-of-type {\n",
       "        vertical-align: middle;\n",
       "    }\n",
       "\n",
       "    .dataframe tbody tr th {\n",
       "        vertical-align: top;\n",
       "    }\n",
       "\n",
       "    .dataframe thead th {\n",
       "        text-align: right;\n",
       "    }\n",
       "</style>\n",
       "<table border=\"1\" class=\"dataframe\">\n",
       "  <thead>\n",
       "    <tr style=\"text-align: right;\">\n",
       "      <th></th>\n",
       "      <th>name</th>\n",
       "      <th>matchday</th>\n",
       "      <th>stage_detail</th>\n",
       "      <th>base_points</th>\n",
       "      <th>total_points</th>\n",
       "    </tr>\n",
       "  </thead>\n",
       "  <tbody>\n",
       "    <tr>\n",
       "      <th>0</th>\n",
       "      <td>Corfe</td>\n",
       "      <td>1</td>\n",
       "      <td>01. Groups - Matchday 1</td>\n",
       "      <td>5</td>\n",
       "      <td>6</td>\n",
       "    </tr>\n",
       "    <tr>\n",
       "      <th>1</th>\n",
       "      <td>Corfe</td>\n",
       "      <td>2</td>\n",
       "      <td>02. Groups - Matchday 2</td>\n",
       "      <td>1</td>\n",
       "      <td>1</td>\n",
       "    </tr>\n",
       "    <tr>\n",
       "      <th>2</th>\n",
       "      <td>Corfe</td>\n",
       "      <td>3</td>\n",
       "      <td>03. Groups - Matchday 3</td>\n",
       "      <td>3</td>\n",
       "      <td>3</td>\n",
       "    </tr>\n",
       "    <tr>\n",
       "      <th>3</th>\n",
       "      <td>Corfe</td>\n",
       "      <td>4</td>\n",
       "      <td>04. KO - Round of 16</td>\n",
       "      <td>8</td>\n",
       "      <td>11</td>\n",
       "    </tr>\n",
       "    <tr>\n",
       "      <th>4</th>\n",
       "      <td>Corfe</td>\n",
       "      <td>5</td>\n",
       "      <td>05. KO - Quarter Final</td>\n",
       "      <td>1</td>\n",
       "      <td>2</td>\n",
       "    </tr>\n",
       "    <tr>\n",
       "      <th>5</th>\n",
       "      <td>Corfe</td>\n",
       "      <td>6</td>\n",
       "      <td>06. KO - Semi Final</td>\n",
       "      <td>2</td>\n",
       "      <td>3</td>\n",
       "    </tr>\n",
       "    <tr>\n",
       "      <th>6</th>\n",
       "      <td>Ed</td>\n",
       "      <td>1</td>\n",
       "      <td>01. Groups - Matchday 1</td>\n",
       "      <td>4</td>\n",
       "      <td>5</td>\n",
       "    </tr>\n",
       "    <tr>\n",
       "      <th>7</th>\n",
       "      <td>Ed</td>\n",
       "      <td>2</td>\n",
       "      <td>02. Groups - Matchday 2</td>\n",
       "      <td>1</td>\n",
       "      <td>1</td>\n",
       "    </tr>\n",
       "    <tr>\n",
       "      <th>8</th>\n",
       "      <td>Ed</td>\n",
       "      <td>3</td>\n",
       "      <td>03. Groups - Matchday 3</td>\n",
       "      <td>3</td>\n",
       "      <td>3</td>\n",
       "    </tr>\n",
       "    <tr>\n",
       "      <th>9</th>\n",
       "      <td>Ed</td>\n",
       "      <td>4</td>\n",
       "      <td>04. KO - Round of 16</td>\n",
       "      <td>4</td>\n",
       "      <td>5</td>\n",
       "    </tr>\n",
       "    <tr>\n",
       "      <th>10</th>\n",
       "      <td>Ed</td>\n",
       "      <td>5</td>\n",
       "      <td>05. KO - Quarter Final</td>\n",
       "      <td>4</td>\n",
       "      <td>7</td>\n",
       "    </tr>\n",
       "    <tr>\n",
       "      <th>11</th>\n",
       "      <td>Ed</td>\n",
       "      <td>6</td>\n",
       "      <td>06. KO - Semi Final</td>\n",
       "      <td>0</td>\n",
       "      <td>0</td>\n",
       "    </tr>\n",
       "    <tr>\n",
       "      <th>12</th>\n",
       "      <td>Jay</td>\n",
       "      <td>1</td>\n",
       "      <td>01. Groups - Matchday 1</td>\n",
       "      <td>6</td>\n",
       "      <td>7</td>\n",
       "    </tr>\n",
       "    <tr>\n",
       "      <th>13</th>\n",
       "      <td>Jay</td>\n",
       "      <td>2</td>\n",
       "      <td>02. Groups - Matchday 2</td>\n",
       "      <td>4</td>\n",
       "      <td>4</td>\n",
       "    </tr>\n",
       "    <tr>\n",
       "      <th>14</th>\n",
       "      <td>Jay</td>\n",
       "      <td>3</td>\n",
       "      <td>03. Groups - Matchday 3</td>\n",
       "      <td>3</td>\n",
       "      <td>6</td>\n",
       "    </tr>\n",
       "    <tr>\n",
       "      <th>15</th>\n",
       "      <td>Jay</td>\n",
       "      <td>4</td>\n",
       "      <td>04. KO - Round of 16</td>\n",
       "      <td>4</td>\n",
       "      <td>5</td>\n",
       "    </tr>\n",
       "    <tr>\n",
       "      <th>16</th>\n",
       "      <td>Jay</td>\n",
       "      <td>5</td>\n",
       "      <td>05. KO - Quarter Final</td>\n",
       "      <td>2</td>\n",
       "      <td>3</td>\n",
       "    </tr>\n",
       "    <tr>\n",
       "      <th>17</th>\n",
       "      <td>Jay</td>\n",
       "      <td>6</td>\n",
       "      <td>06. KO - Semi Final</td>\n",
       "      <td>1</td>\n",
       "      <td>2</td>\n",
       "    </tr>\n",
       "    <tr>\n",
       "      <th>18</th>\n",
       "      <td>Jonny</td>\n",
       "      <td>1</td>\n",
       "      <td>01. Groups - Matchday 1</td>\n",
       "      <td>7</td>\n",
       "      <td>8</td>\n",
       "    </tr>\n",
       "    <tr>\n",
       "      <th>19</th>\n",
       "      <td>Jonny</td>\n",
       "      <td>2</td>\n",
       "      <td>02. Groups - Matchday 2</td>\n",
       "      <td>4</td>\n",
       "      <td>7</td>\n",
       "    </tr>\n",
       "    <tr>\n",
       "      <th>20</th>\n",
       "      <td>Jonny</td>\n",
       "      <td>3</td>\n",
       "      <td>03. Groups - Matchday 3</td>\n",
       "      <td>3</td>\n",
       "      <td>3</td>\n",
       "    </tr>\n",
       "    <tr>\n",
       "      <th>21</th>\n",
       "      <td>Jonny</td>\n",
       "      <td>4</td>\n",
       "      <td>04. KO - Round of 16</td>\n",
       "      <td>5</td>\n",
       "      <td>6</td>\n",
       "    </tr>\n",
       "    <tr>\n",
       "      <th>22</th>\n",
       "      <td>Jonny</td>\n",
       "      <td>5</td>\n",
       "      <td>05. KO - Quarter Final</td>\n",
       "      <td>7</td>\n",
       "      <td>8</td>\n",
       "    </tr>\n",
       "    <tr>\n",
       "      <th>23</th>\n",
       "      <td>Jonny</td>\n",
       "      <td>6</td>\n",
       "      <td>06. KO - Semi Final</td>\n",
       "      <td>1</td>\n",
       "      <td>2</td>\n",
       "    </tr>\n",
       "    <tr>\n",
       "      <th>24</th>\n",
       "      <td>Larry</td>\n",
       "      <td>1</td>\n",
       "      <td>01. Groups - Matchday 1</td>\n",
       "      <td>7</td>\n",
       "      <td>8</td>\n",
       "    </tr>\n",
       "    <tr>\n",
       "      <th>25</th>\n",
       "      <td>Larry</td>\n",
       "      <td>2</td>\n",
       "      <td>02. Groups - Matchday 2</td>\n",
       "      <td>2</td>\n",
       "      <td>2</td>\n",
       "    </tr>\n",
       "    <tr>\n",
       "      <th>26</th>\n",
       "      <td>Larry</td>\n",
       "      <td>3</td>\n",
       "      <td>03. Groups - Matchday 3</td>\n",
       "      <td>1</td>\n",
       "      <td>1</td>\n",
       "    </tr>\n",
       "    <tr>\n",
       "      <th>27</th>\n",
       "      <td>Larry</td>\n",
       "      <td>4</td>\n",
       "      <td>04. KO - Round of 16</td>\n",
       "      <td>4</td>\n",
       "      <td>5</td>\n",
       "    </tr>\n",
       "    <tr>\n",
       "      <th>28</th>\n",
       "      <td>Larry</td>\n",
       "      <td>5</td>\n",
       "      <td>05. KO - Quarter Final</td>\n",
       "      <td>1</td>\n",
       "      <td>1</td>\n",
       "    </tr>\n",
       "    <tr>\n",
       "      <th>29</th>\n",
       "      <td>Larry</td>\n",
       "      <td>6</td>\n",
       "      <td>06. KO - Semi Final</td>\n",
       "      <td>6</td>\n",
       "      <td>9</td>\n",
       "    </tr>\n",
       "    <tr>\n",
       "      <th>30</th>\n",
       "      <td>Luke</td>\n",
       "      <td>1</td>\n",
       "      <td>01. Groups - Matchday 1</td>\n",
       "      <td>7</td>\n",
       "      <td>8</td>\n",
       "    </tr>\n",
       "    <tr>\n",
       "      <th>31</th>\n",
       "      <td>Luke</td>\n",
       "      <td>2</td>\n",
       "      <td>02. Groups - Matchday 2</td>\n",
       "      <td>4</td>\n",
       "      <td>4</td>\n",
       "    </tr>\n",
       "    <tr>\n",
       "      <th>32</th>\n",
       "      <td>Luke</td>\n",
       "      <td>3</td>\n",
       "      <td>03. Groups - Matchday 3</td>\n",
       "      <td>1</td>\n",
       "      <td>1</td>\n",
       "    </tr>\n",
       "    <tr>\n",
       "      <th>33</th>\n",
       "      <td>Luke</td>\n",
       "      <td>4</td>\n",
       "      <td>04. KO - Round of 16</td>\n",
       "      <td>6</td>\n",
       "      <td>7</td>\n",
       "    </tr>\n",
       "    <tr>\n",
       "      <th>34</th>\n",
       "      <td>Luke</td>\n",
       "      <td>5</td>\n",
       "      <td>05. KO - Quarter Final</td>\n",
       "      <td>4</td>\n",
       "      <td>5</td>\n",
       "    </tr>\n",
       "    <tr>\n",
       "      <th>35</th>\n",
       "      <td>Luke</td>\n",
       "      <td>6</td>\n",
       "      <td>06. KO - Semi Final</td>\n",
       "      <td>0</td>\n",
       "      <td>0</td>\n",
       "    </tr>\n",
       "    <tr>\n",
       "      <th>36</th>\n",
       "      <td>Marc</td>\n",
       "      <td>1</td>\n",
       "      <td>01. Groups - Matchday 1</td>\n",
       "      <td>4</td>\n",
       "      <td>5</td>\n",
       "    </tr>\n",
       "    <tr>\n",
       "      <th>37</th>\n",
       "      <td>Marc</td>\n",
       "      <td>2</td>\n",
       "      <td>02. Groups - Matchday 2</td>\n",
       "      <td>1</td>\n",
       "      <td>1</td>\n",
       "    </tr>\n",
       "    <tr>\n",
       "      <th>38</th>\n",
       "      <td>Marc</td>\n",
       "      <td>3</td>\n",
       "      <td>03. Groups - Matchday 3</td>\n",
       "      <td>1</td>\n",
       "      <td>1</td>\n",
       "    </tr>\n",
       "    <tr>\n",
       "      <th>39</th>\n",
       "      <td>Marc</td>\n",
       "      <td>4</td>\n",
       "      <td>04. KO - Round of 16</td>\n",
       "      <td>3</td>\n",
       "      <td>3</td>\n",
       "    </tr>\n",
       "    <tr>\n",
       "      <th>40</th>\n",
       "      <td>Marc</td>\n",
       "      <td>5</td>\n",
       "      <td>05. KO - Quarter Final</td>\n",
       "      <td>6</td>\n",
       "      <td>9</td>\n",
       "    </tr>\n",
       "    <tr>\n",
       "      <th>41</th>\n",
       "      <td>Marc</td>\n",
       "      <td>6</td>\n",
       "      <td>06. KO - Semi Final</td>\n",
       "      <td>1</td>\n",
       "      <td>1</td>\n",
       "    </tr>\n",
       "    <tr>\n",
       "      <th>42</th>\n",
       "      <td>Peter Popular</td>\n",
       "      <td>1</td>\n",
       "      <td>01. Groups - Matchday 1</td>\n",
       "      <td>5</td>\n",
       "      <td>6</td>\n",
       "    </tr>\n",
       "    <tr>\n",
       "      <th>43</th>\n",
       "      <td>Peter Popular</td>\n",
       "      <td>2</td>\n",
       "      <td>02. Groups - Matchday 2</td>\n",
       "      <td>4</td>\n",
       "      <td>4</td>\n",
       "    </tr>\n",
       "    <tr>\n",
       "      <th>44</th>\n",
       "      <td>Peter Popular</td>\n",
       "      <td>3</td>\n",
       "      <td>03. Groups - Matchday 3</td>\n",
       "      <td>3</td>\n",
       "      <td>6</td>\n",
       "    </tr>\n",
       "    <tr>\n",
       "      <th>45</th>\n",
       "      <td>Peter Popular</td>\n",
       "      <td>4</td>\n",
       "      <td>04. KO - Round of 16</td>\n",
       "      <td>6</td>\n",
       "      <td>6</td>\n",
       "    </tr>\n",
       "    <tr>\n",
       "      <th>46</th>\n",
       "      <td>Peter Popular</td>\n",
       "      <td>5</td>\n",
       "      <td>05. KO - Quarter Final</td>\n",
       "      <td>3</td>\n",
       "      <td>3</td>\n",
       "    </tr>\n",
       "    <tr>\n",
       "      <th>47</th>\n",
       "      <td>Peter Popular</td>\n",
       "      <td>6</td>\n",
       "      <td>06. KO - Semi Final</td>\n",
       "      <td>3</td>\n",
       "      <td>6</td>\n",
       "    </tr>\n",
       "    <tr>\n",
       "      <th>48</th>\n",
       "      <td>Rando Randal</td>\n",
       "      <td>1</td>\n",
       "      <td>01. Groups - Matchday 1</td>\n",
       "      <td>3</td>\n",
       "      <td>4</td>\n",
       "    </tr>\n",
       "    <tr>\n",
       "      <th>49</th>\n",
       "      <td>Rando Randal</td>\n",
       "      <td>2</td>\n",
       "      <td>02. Groups - Matchday 2</td>\n",
       "      <td>0</td>\n",
       "      <td>0</td>\n",
       "    </tr>\n",
       "    <tr>\n",
       "      <th>50</th>\n",
       "      <td>Rando Randal</td>\n",
       "      <td>3</td>\n",
       "      <td>03. Groups - Matchday 3</td>\n",
       "      <td>1</td>\n",
       "      <td>1</td>\n",
       "    </tr>\n",
       "    <tr>\n",
       "      <th>51</th>\n",
       "      <td>Rando Randal</td>\n",
       "      <td>4</td>\n",
       "      <td>04. KO - Round of 16</td>\n",
       "      <td>2</td>\n",
       "      <td>2</td>\n",
       "    </tr>\n",
       "    <tr>\n",
       "      <th>52</th>\n",
       "      <td>Rando Randal</td>\n",
       "      <td>5</td>\n",
       "      <td>05. KO - Quarter Final</td>\n",
       "      <td>0</td>\n",
       "      <td>0</td>\n",
       "    </tr>\n",
       "    <tr>\n",
       "      <th>53</th>\n",
       "      <td>Rando Randal</td>\n",
       "      <td>6</td>\n",
       "      <td>06. KO - Semi Final</td>\n",
       "      <td>2</td>\n",
       "      <td>3</td>\n",
       "    </tr>\n",
       "    <tr>\n",
       "      <th>54</th>\n",
       "      <td>Tom</td>\n",
       "      <td>1</td>\n",
       "      <td>01. Groups - Matchday 1</td>\n",
       "      <td>4</td>\n",
       "      <td>5</td>\n",
       "    </tr>\n",
       "    <tr>\n",
       "      <th>55</th>\n",
       "      <td>Tom</td>\n",
       "      <td>2</td>\n",
       "      <td>02. Groups - Matchday 2</td>\n",
       "      <td>2</td>\n",
       "      <td>2</td>\n",
       "    </tr>\n",
       "    <tr>\n",
       "      <th>56</th>\n",
       "      <td>Tom</td>\n",
       "      <td>3</td>\n",
       "      <td>03. Groups - Matchday 3</td>\n",
       "      <td>5</td>\n",
       "      <td>5</td>\n",
       "    </tr>\n",
       "    <tr>\n",
       "      <th>57</th>\n",
       "      <td>Tom</td>\n",
       "      <td>4</td>\n",
       "      <td>04. KO - Round of 16</td>\n",
       "      <td>4</td>\n",
       "      <td>4</td>\n",
       "    </tr>\n",
       "    <tr>\n",
       "      <th>58</th>\n",
       "      <td>Tom</td>\n",
       "      <td>5</td>\n",
       "      <td>05. KO - Quarter Final</td>\n",
       "      <td>3</td>\n",
       "      <td>3</td>\n",
       "    </tr>\n",
       "    <tr>\n",
       "      <th>59</th>\n",
       "      <td>Tom</td>\n",
       "      <td>6</td>\n",
       "      <td>06. KO - Semi Final</td>\n",
       "      <td>0</td>\n",
       "      <td>0</td>\n",
       "    </tr>\n",
       "  </tbody>\n",
       "</table>\n",
       "</div>"
      ],
      "text/plain": [
       "             name  matchday             stage_detail  base_points  \\\n",
       "0           Corfe         1  01. Groups - Matchday 1            5   \n",
       "1           Corfe         2  02. Groups - Matchday 2            1   \n",
       "2           Corfe         3  03. Groups - Matchday 3            3   \n",
       "3           Corfe         4     04. KO - Round of 16            8   \n",
       "4           Corfe         5   05. KO - Quarter Final            1   \n",
       "5           Corfe         6      06. KO - Semi Final            2   \n",
       "6              Ed         1  01. Groups - Matchday 1            4   \n",
       "7              Ed         2  02. Groups - Matchday 2            1   \n",
       "8              Ed         3  03. Groups - Matchday 3            3   \n",
       "9              Ed         4     04. KO - Round of 16            4   \n",
       "10             Ed         5   05. KO - Quarter Final            4   \n",
       "11             Ed         6      06. KO - Semi Final            0   \n",
       "12            Jay         1  01. Groups - Matchday 1            6   \n",
       "13            Jay         2  02. Groups - Matchday 2            4   \n",
       "14            Jay         3  03. Groups - Matchday 3            3   \n",
       "15            Jay         4     04. KO - Round of 16            4   \n",
       "16            Jay         5   05. KO - Quarter Final            2   \n",
       "17            Jay         6      06. KO - Semi Final            1   \n",
       "18          Jonny         1  01. Groups - Matchday 1            7   \n",
       "19          Jonny         2  02. Groups - Matchday 2            4   \n",
       "20          Jonny         3  03. Groups - Matchday 3            3   \n",
       "21          Jonny         4     04. KO - Round of 16            5   \n",
       "22          Jonny         5   05. KO - Quarter Final            7   \n",
       "23          Jonny         6      06. KO - Semi Final            1   \n",
       "24          Larry         1  01. Groups - Matchday 1            7   \n",
       "25          Larry         2  02. Groups - Matchday 2            2   \n",
       "26          Larry         3  03. Groups - Matchday 3            1   \n",
       "27          Larry         4     04. KO - Round of 16            4   \n",
       "28          Larry         5   05. KO - Quarter Final            1   \n",
       "29          Larry         6      06. KO - Semi Final            6   \n",
       "30           Luke         1  01. Groups - Matchday 1            7   \n",
       "31           Luke         2  02. Groups - Matchday 2            4   \n",
       "32           Luke         3  03. Groups - Matchday 3            1   \n",
       "33           Luke         4     04. KO - Round of 16            6   \n",
       "34           Luke         5   05. KO - Quarter Final            4   \n",
       "35           Luke         6      06. KO - Semi Final            0   \n",
       "36           Marc         1  01. Groups - Matchday 1            4   \n",
       "37           Marc         2  02. Groups - Matchday 2            1   \n",
       "38           Marc         3  03. Groups - Matchday 3            1   \n",
       "39           Marc         4     04. KO - Round of 16            3   \n",
       "40           Marc         5   05. KO - Quarter Final            6   \n",
       "41           Marc         6      06. KO - Semi Final            1   \n",
       "42  Peter Popular         1  01. Groups - Matchday 1            5   \n",
       "43  Peter Popular         2  02. Groups - Matchday 2            4   \n",
       "44  Peter Popular         3  03. Groups - Matchday 3            3   \n",
       "45  Peter Popular         4     04. KO - Round of 16            6   \n",
       "46  Peter Popular         5   05. KO - Quarter Final            3   \n",
       "47  Peter Popular         6      06. KO - Semi Final            3   \n",
       "48   Rando Randal         1  01. Groups - Matchday 1            3   \n",
       "49   Rando Randal         2  02. Groups - Matchday 2            0   \n",
       "50   Rando Randal         3  03. Groups - Matchday 3            1   \n",
       "51   Rando Randal         4     04. KO - Round of 16            2   \n",
       "52   Rando Randal         5   05. KO - Quarter Final            0   \n",
       "53   Rando Randal         6      06. KO - Semi Final            2   \n",
       "54            Tom         1  01. Groups - Matchday 1            4   \n",
       "55            Tom         2  02. Groups - Matchday 2            2   \n",
       "56            Tom         3  03. Groups - Matchday 3            5   \n",
       "57            Tom         4     04. KO - Round of 16            4   \n",
       "58            Tom         5   05. KO - Quarter Final            3   \n",
       "59            Tom         6      06. KO - Semi Final            0   \n",
       "\n",
       "    total_points  \n",
       "0              6  \n",
       "1              1  \n",
       "2              3  \n",
       "3             11  \n",
       "4              2  \n",
       "5              3  \n",
       "6              5  \n",
       "7              1  \n",
       "8              3  \n",
       "9              5  \n",
       "10             7  \n",
       "11             0  \n",
       "12             7  \n",
       "13             4  \n",
       "14             6  \n",
       "15             5  \n",
       "16             3  \n",
       "17             2  \n",
       "18             8  \n",
       "19             7  \n",
       "20             3  \n",
       "21             6  \n",
       "22             8  \n",
       "23             2  \n",
       "24             8  \n",
       "25             2  \n",
       "26             1  \n",
       "27             5  \n",
       "28             1  \n",
       "29             9  \n",
       "30             8  \n",
       "31             4  \n",
       "32             1  \n",
       "33             7  \n",
       "34             5  \n",
       "35             0  \n",
       "36             5  \n",
       "37             1  \n",
       "38             1  \n",
       "39             3  \n",
       "40             9  \n",
       "41             1  \n",
       "42             6  \n",
       "43             4  \n",
       "44             6  \n",
       "45             6  \n",
       "46             3  \n",
       "47             6  \n",
       "48             4  \n",
       "49             0  \n",
       "50             1  \n",
       "51             2  \n",
       "52             0  \n",
       "53             3  \n",
       "54             5  \n",
       "55             2  \n",
       "56             5  \n",
       "57             4  \n",
       "58             3  \n",
       "59             0  "
      ]
     },
     "execution_count": 45,
     "metadata": {},
     "output_type": "execute_result"
    }
   ],
   "source": [
    "points_by_name_stage = df_merged.groupby(['name', 'matchday', 'stage_detail']).agg({'base_points': 'sum', 'total_points': 'sum'}).reset_index()\n",
    "points_by_name_stage"
   ]
  },
  {
   "cell_type": "code",
   "execution_count": 46,
   "id": "18d44396",
   "metadata": {},
   "outputs": [],
   "source": [
    "points_by_name_stage.to_csv('data/points_by_name_stage.csv')\n",
    "points_by_name.to_csv('data/points_by_name.csv')"
   ]
  },
  {
   "cell_type": "code",
   "execution_count": 47,
   "id": "7cb7bf82-f86e-49eb-882f-0131cc6431ac",
   "metadata": {
    "tags": []
   },
   "outputs": [
    {
     "data": {
      "application/vnd.plotly.v1+json": {
       "config": {
        "plotlyServerURL": "https://plot.ly"
       },
       "data": [
        {
         "alignmentgroup": "True",
         "hovertemplate": "Name=%{x}<br>total_points=%{y}<extra></extra>",
         "legendgroup": "Jonny",
         "marker": {
          "color": "#ffd700",
          "pattern": {
           "shape": ""
          }
         },
         "name": "Jonny",
         "offsetgroup": "Jonny",
         "orientation": "v",
         "showlegend": true,
         "textposition": "auto",
         "type": "bar",
         "x": [
          "Jonny"
         ],
         "xaxis": "x",
         "y": [
          34
         ],
         "yaxis": "y"
        },
        {
         "alignmentgroup": "True",
         "hovertemplate": "Name=%{x}<br>total_points=%{y}<extra></extra>",
         "legendgroup": "Peter Popular",
         "marker": {
          "color": "#C0C0C0",
          "pattern": {
           "shape": ""
          }
         },
         "name": "Peter Popular",
         "offsetgroup": "Peter Popular",
         "orientation": "v",
         "showlegend": true,
         "textposition": "auto",
         "type": "bar",
         "x": [
          "Peter Popular"
         ],
         "xaxis": "x",
         "y": [
          31
         ],
         "yaxis": "y"
        },
        {
         "alignmentgroup": "True",
         "hovertemplate": "Name=%{x}<br>total_points=%{y}<extra></extra>",
         "legendgroup": "Jay",
         "marker": {
          "color": "#B87333",
          "pattern": {
           "shape": ""
          }
         },
         "name": "Jay",
         "offsetgroup": "Jay",
         "orientation": "v",
         "showlegend": true,
         "textposition": "auto",
         "type": "bar",
         "x": [
          "Jay"
         ],
         "xaxis": "x",
         "y": [
          27
         ],
         "yaxis": "y"
        },
        {
         "alignmentgroup": "True",
         "hovertemplate": "Name=%{x}<br>total_points=%{y}<extra></extra>",
         "legendgroup": "Corfe",
         "marker": {
          "color": "#8850be",
          "pattern": {
           "shape": ""
          }
         },
         "name": "Corfe",
         "offsetgroup": "Corfe",
         "orientation": "v",
         "showlegend": true,
         "textposition": "auto",
         "type": "bar",
         "x": [
          "Corfe"
         ],
         "xaxis": "x",
         "y": [
          26
         ],
         "yaxis": "y"
        },
        {
         "alignmentgroup": "True",
         "hovertemplate": "Name=%{x}<br>total_points=%{y}<extra></extra>",
         "legendgroup": "Larry",
         "marker": {
          "color": "#8850be",
          "pattern": {
           "shape": ""
          }
         },
         "name": "Larry",
         "offsetgroup": "Larry",
         "orientation": "v",
         "showlegend": true,
         "textposition": "auto",
         "type": "bar",
         "x": [
          "Larry"
         ],
         "xaxis": "x",
         "y": [
          26
         ],
         "yaxis": "y"
        },
        {
         "alignmentgroup": "True",
         "hovertemplate": "Name=%{x}<br>total_points=%{y}<extra></extra>",
         "legendgroup": "Luke",
         "marker": {
          "color": "#8850be",
          "pattern": {
           "shape": ""
          }
         },
         "name": "Luke",
         "offsetgroup": "Luke",
         "orientation": "v",
         "showlegend": true,
         "textposition": "auto",
         "type": "bar",
         "x": [
          "Luke"
         ],
         "xaxis": "x",
         "y": [
          25
         ],
         "yaxis": "y"
        },
        {
         "alignmentgroup": "True",
         "hovertemplate": "Name=%{x}<br>total_points=%{y}<extra></extra>",
         "legendgroup": "Ed",
         "marker": {
          "color": "#8850be",
          "pattern": {
           "shape": ""
          }
         },
         "name": "Ed",
         "offsetgroup": "Ed",
         "orientation": "v",
         "showlegend": true,
         "textposition": "auto",
         "type": "bar",
         "x": [
          "Ed"
         ],
         "xaxis": "x",
         "y": [
          21
         ],
         "yaxis": "y"
        },
        {
         "alignmentgroup": "True",
         "hovertemplate": "Name=%{x}<br>total_points=%{y}<extra></extra>",
         "legendgroup": "Marc",
         "marker": {
          "color": "#8850be",
          "pattern": {
           "shape": ""
          }
         },
         "name": "Marc",
         "offsetgroup": "Marc",
         "orientation": "v",
         "showlegend": true,
         "textposition": "auto",
         "type": "bar",
         "x": [
          "Marc"
         ],
         "xaxis": "x",
         "y": [
          20
         ],
         "yaxis": "y"
        },
        {
         "alignmentgroup": "True",
         "hovertemplate": "Name=%{x}<br>total_points=%{y}<extra></extra>",
         "legendgroup": "Tom",
         "marker": {
          "color": "#8850be",
          "pattern": {
           "shape": ""
          }
         },
         "name": "Tom",
         "offsetgroup": "Tom",
         "orientation": "v",
         "showlegend": true,
         "textposition": "auto",
         "type": "bar",
         "x": [
          "Tom"
         ],
         "xaxis": "x",
         "y": [
          19
         ],
         "yaxis": "y"
        },
        {
         "alignmentgroup": "True",
         "hovertemplate": "Name=%{x}<br>total_points=%{y}<extra></extra>",
         "legendgroup": "Rando Randal",
         "marker": {
          "color": "#8850be",
          "pattern": {
           "shape": ""
          }
         },
         "name": "Rando Randal",
         "offsetgroup": "Rando Randal",
         "orientation": "v",
         "showlegend": true,
         "textposition": "auto",
         "type": "bar",
         "x": [
          "Rando Randal"
         ],
         "xaxis": "x",
         "y": [
          10
         ],
         "yaxis": "y"
        }
       ],
       "layout": {
        "barmode": "relative",
        "font": {
         "family": "Arial",
         "size": 12
        },
        "legend": {
         "font": {
          "family": "Arial",
          "size": 10
         },
         "title": {
          "text": "Legend"
         },
         "tracegroupgap": 0,
         "traceorder": "reversed"
        },
        "paper_bgcolor": "rgba(0,0,0,0)",
        "plot_bgcolor": "rgba(0,0,0,0)",
        "showlegend": false,
        "template": {
         "data": {
          "bar": [
           {
            "error_x": {
             "color": "#2a3f5f"
            },
            "error_y": {
             "color": "#2a3f5f"
            },
            "marker": {
             "line": {
              "color": "#E5ECF6",
              "width": 0.5
             },
             "pattern": {
              "fillmode": "overlay",
              "size": 10,
              "solidity": 0.2
             }
            },
            "type": "bar"
           }
          ],
          "barpolar": [
           {
            "marker": {
             "line": {
              "color": "#E5ECF6",
              "width": 0.5
             },
             "pattern": {
              "fillmode": "overlay",
              "size": 10,
              "solidity": 0.2
             }
            },
            "type": "barpolar"
           }
          ],
          "carpet": [
           {
            "aaxis": {
             "endlinecolor": "#2a3f5f",
             "gridcolor": "white",
             "linecolor": "white",
             "minorgridcolor": "white",
             "startlinecolor": "#2a3f5f"
            },
            "baxis": {
             "endlinecolor": "#2a3f5f",
             "gridcolor": "white",
             "linecolor": "white",
             "minorgridcolor": "white",
             "startlinecolor": "#2a3f5f"
            },
            "type": "carpet"
           }
          ],
          "choropleth": [
           {
            "colorbar": {
             "outlinewidth": 0,
             "ticks": ""
            },
            "type": "choropleth"
           }
          ],
          "contour": [
           {
            "colorbar": {
             "outlinewidth": 0,
             "ticks": ""
            },
            "colorscale": [
             [
              0,
              "#0d0887"
             ],
             [
              0.1111111111111111,
              "#46039f"
             ],
             [
              0.2222222222222222,
              "#7201a8"
             ],
             [
              0.3333333333333333,
              "#9c179e"
             ],
             [
              0.4444444444444444,
              "#bd3786"
             ],
             [
              0.5555555555555556,
              "#d8576b"
             ],
             [
              0.6666666666666666,
              "#ed7953"
             ],
             [
              0.7777777777777778,
              "#fb9f3a"
             ],
             [
              0.8888888888888888,
              "#fdca26"
             ],
             [
              1,
              "#f0f921"
             ]
            ],
            "type": "contour"
           }
          ],
          "contourcarpet": [
           {
            "colorbar": {
             "outlinewidth": 0,
             "ticks": ""
            },
            "type": "contourcarpet"
           }
          ],
          "heatmap": [
           {
            "colorbar": {
             "outlinewidth": 0,
             "ticks": ""
            },
            "colorscale": [
             [
              0,
              "#0d0887"
             ],
             [
              0.1111111111111111,
              "#46039f"
             ],
             [
              0.2222222222222222,
              "#7201a8"
             ],
             [
              0.3333333333333333,
              "#9c179e"
             ],
             [
              0.4444444444444444,
              "#bd3786"
             ],
             [
              0.5555555555555556,
              "#d8576b"
             ],
             [
              0.6666666666666666,
              "#ed7953"
             ],
             [
              0.7777777777777778,
              "#fb9f3a"
             ],
             [
              0.8888888888888888,
              "#fdca26"
             ],
             [
              1,
              "#f0f921"
             ]
            ],
            "type": "heatmap"
           }
          ],
          "heatmapgl": [
           {
            "colorbar": {
             "outlinewidth": 0,
             "ticks": ""
            },
            "colorscale": [
             [
              0,
              "#0d0887"
             ],
             [
              0.1111111111111111,
              "#46039f"
             ],
             [
              0.2222222222222222,
              "#7201a8"
             ],
             [
              0.3333333333333333,
              "#9c179e"
             ],
             [
              0.4444444444444444,
              "#bd3786"
             ],
             [
              0.5555555555555556,
              "#d8576b"
             ],
             [
              0.6666666666666666,
              "#ed7953"
             ],
             [
              0.7777777777777778,
              "#fb9f3a"
             ],
             [
              0.8888888888888888,
              "#fdca26"
             ],
             [
              1,
              "#f0f921"
             ]
            ],
            "type": "heatmapgl"
           }
          ],
          "histogram": [
           {
            "marker": {
             "pattern": {
              "fillmode": "overlay",
              "size": 10,
              "solidity": 0.2
             }
            },
            "type": "histogram"
           }
          ],
          "histogram2d": [
           {
            "colorbar": {
             "outlinewidth": 0,
             "ticks": ""
            },
            "colorscale": [
             [
              0,
              "#0d0887"
             ],
             [
              0.1111111111111111,
              "#46039f"
             ],
             [
              0.2222222222222222,
              "#7201a8"
             ],
             [
              0.3333333333333333,
              "#9c179e"
             ],
             [
              0.4444444444444444,
              "#bd3786"
             ],
             [
              0.5555555555555556,
              "#d8576b"
             ],
             [
              0.6666666666666666,
              "#ed7953"
             ],
             [
              0.7777777777777778,
              "#fb9f3a"
             ],
             [
              0.8888888888888888,
              "#fdca26"
             ],
             [
              1,
              "#f0f921"
             ]
            ],
            "type": "histogram2d"
           }
          ],
          "histogram2dcontour": [
           {
            "colorbar": {
             "outlinewidth": 0,
             "ticks": ""
            },
            "colorscale": [
             [
              0,
              "#0d0887"
             ],
             [
              0.1111111111111111,
              "#46039f"
             ],
             [
              0.2222222222222222,
              "#7201a8"
             ],
             [
              0.3333333333333333,
              "#9c179e"
             ],
             [
              0.4444444444444444,
              "#bd3786"
             ],
             [
              0.5555555555555556,
              "#d8576b"
             ],
             [
              0.6666666666666666,
              "#ed7953"
             ],
             [
              0.7777777777777778,
              "#fb9f3a"
             ],
             [
              0.8888888888888888,
              "#fdca26"
             ],
             [
              1,
              "#f0f921"
             ]
            ],
            "type": "histogram2dcontour"
           }
          ],
          "mesh3d": [
           {
            "colorbar": {
             "outlinewidth": 0,
             "ticks": ""
            },
            "type": "mesh3d"
           }
          ],
          "parcoords": [
           {
            "line": {
             "colorbar": {
              "outlinewidth": 0,
              "ticks": ""
             }
            },
            "type": "parcoords"
           }
          ],
          "pie": [
           {
            "automargin": true,
            "type": "pie"
           }
          ],
          "scatter": [
           {
            "fillpattern": {
             "fillmode": "overlay",
             "size": 10,
             "solidity": 0.2
            },
            "type": "scatter"
           }
          ],
          "scatter3d": [
           {
            "line": {
             "colorbar": {
              "outlinewidth": 0,
              "ticks": ""
             }
            },
            "marker": {
             "colorbar": {
              "outlinewidth": 0,
              "ticks": ""
             }
            },
            "type": "scatter3d"
           }
          ],
          "scattercarpet": [
           {
            "marker": {
             "colorbar": {
              "outlinewidth": 0,
              "ticks": ""
             }
            },
            "type": "scattercarpet"
           }
          ],
          "scattergeo": [
           {
            "marker": {
             "colorbar": {
              "outlinewidth": 0,
              "ticks": ""
             }
            },
            "type": "scattergeo"
           }
          ],
          "scattergl": [
           {
            "marker": {
             "colorbar": {
              "outlinewidth": 0,
              "ticks": ""
             }
            },
            "type": "scattergl"
           }
          ],
          "scattermapbox": [
           {
            "marker": {
             "colorbar": {
              "outlinewidth": 0,
              "ticks": ""
             }
            },
            "type": "scattermapbox"
           }
          ],
          "scatterpolar": [
           {
            "marker": {
             "colorbar": {
              "outlinewidth": 0,
              "ticks": ""
             }
            },
            "type": "scatterpolar"
           }
          ],
          "scatterpolargl": [
           {
            "marker": {
             "colorbar": {
              "outlinewidth": 0,
              "ticks": ""
             }
            },
            "type": "scatterpolargl"
           }
          ],
          "scatterternary": [
           {
            "marker": {
             "colorbar": {
              "outlinewidth": 0,
              "ticks": ""
             }
            },
            "type": "scatterternary"
           }
          ],
          "surface": [
           {
            "colorbar": {
             "outlinewidth": 0,
             "ticks": ""
            },
            "colorscale": [
             [
              0,
              "#0d0887"
             ],
             [
              0.1111111111111111,
              "#46039f"
             ],
             [
              0.2222222222222222,
              "#7201a8"
             ],
             [
              0.3333333333333333,
              "#9c179e"
             ],
             [
              0.4444444444444444,
              "#bd3786"
             ],
             [
              0.5555555555555556,
              "#d8576b"
             ],
             [
              0.6666666666666666,
              "#ed7953"
             ],
             [
              0.7777777777777778,
              "#fb9f3a"
             ],
             [
              0.8888888888888888,
              "#fdca26"
             ],
             [
              1,
              "#f0f921"
             ]
            ],
            "type": "surface"
           }
          ],
          "table": [
           {
            "cells": {
             "fill": {
              "color": "#EBF0F8"
             },
             "line": {
              "color": "white"
             }
            },
            "header": {
             "fill": {
              "color": "#C8D4E3"
             },
             "line": {
              "color": "white"
             }
            },
            "type": "table"
           }
          ]
         },
         "layout": {
          "annotationdefaults": {
           "arrowcolor": "#2a3f5f",
           "arrowhead": 0,
           "arrowwidth": 1
          },
          "autotypenumbers": "strict",
          "coloraxis": {
           "colorbar": {
            "outlinewidth": 0,
            "ticks": ""
           }
          },
          "colorscale": {
           "diverging": [
            [
             0,
             "#8e0152"
            ],
            [
             0.1,
             "#c51b7d"
            ],
            [
             0.2,
             "#de77ae"
            ],
            [
             0.3,
             "#f1b6da"
            ],
            [
             0.4,
             "#fde0ef"
            ],
            [
             0.5,
             "#f7f7f7"
            ],
            [
             0.6,
             "#e6f5d0"
            ],
            [
             0.7,
             "#b8e186"
            ],
            [
             0.8,
             "#7fbc41"
            ],
            [
             0.9,
             "#4d9221"
            ],
            [
             1,
             "#276419"
            ]
           ],
           "sequential": [
            [
             0,
             "#0d0887"
            ],
            [
             0.1111111111111111,
             "#46039f"
            ],
            [
             0.2222222222222222,
             "#7201a8"
            ],
            [
             0.3333333333333333,
             "#9c179e"
            ],
            [
             0.4444444444444444,
             "#bd3786"
            ],
            [
             0.5555555555555556,
             "#d8576b"
            ],
            [
             0.6666666666666666,
             "#ed7953"
            ],
            [
             0.7777777777777778,
             "#fb9f3a"
            ],
            [
             0.8888888888888888,
             "#fdca26"
            ],
            [
             1,
             "#f0f921"
            ]
           ],
           "sequentialminus": [
            [
             0,
             "#0d0887"
            ],
            [
             0.1111111111111111,
             "#46039f"
            ],
            [
             0.2222222222222222,
             "#7201a8"
            ],
            [
             0.3333333333333333,
             "#9c179e"
            ],
            [
             0.4444444444444444,
             "#bd3786"
            ],
            [
             0.5555555555555556,
             "#d8576b"
            ],
            [
             0.6666666666666666,
             "#ed7953"
            ],
            [
             0.7777777777777778,
             "#fb9f3a"
            ],
            [
             0.8888888888888888,
             "#fdca26"
            ],
            [
             1,
             "#f0f921"
            ]
           ]
          },
          "colorway": [
           "#636efa",
           "#EF553B",
           "#00cc96",
           "#ab63fa",
           "#FFA15A",
           "#19d3f3",
           "#FF6692",
           "#B6E880",
           "#FF97FF",
           "#FECB52"
          ],
          "font": {
           "color": "#2a3f5f"
          },
          "geo": {
           "bgcolor": "white",
           "lakecolor": "white",
           "landcolor": "#E5ECF6",
           "showlakes": true,
           "showland": true,
           "subunitcolor": "white"
          },
          "hoverlabel": {
           "align": "left"
          },
          "hovermode": "closest",
          "mapbox": {
           "style": "light"
          },
          "paper_bgcolor": "white",
          "plot_bgcolor": "#E5ECF6",
          "polar": {
           "angularaxis": {
            "gridcolor": "white",
            "linecolor": "white",
            "ticks": ""
           },
           "bgcolor": "#E5ECF6",
           "radialaxis": {
            "gridcolor": "white",
            "linecolor": "white",
            "ticks": ""
           }
          },
          "scene": {
           "xaxis": {
            "backgroundcolor": "#E5ECF6",
            "gridcolor": "white",
            "gridwidth": 2,
            "linecolor": "white",
            "showbackground": true,
            "ticks": "",
            "zerolinecolor": "white"
           },
           "yaxis": {
            "backgroundcolor": "#E5ECF6",
            "gridcolor": "white",
            "gridwidth": 2,
            "linecolor": "white",
            "showbackground": true,
            "ticks": "",
            "zerolinecolor": "white"
           },
           "zaxis": {
            "backgroundcolor": "#E5ECF6",
            "gridcolor": "white",
            "gridwidth": 2,
            "linecolor": "white",
            "showbackground": true,
            "ticks": "",
            "zerolinecolor": "white"
           }
          },
          "shapedefaults": {
           "line": {
            "color": "#2a3f5f"
           }
          },
          "ternary": {
           "aaxis": {
            "gridcolor": "white",
            "linecolor": "white",
            "ticks": ""
           },
           "baxis": {
            "gridcolor": "white",
            "linecolor": "white",
            "ticks": ""
           },
           "bgcolor": "#E5ECF6",
           "caxis": {
            "gridcolor": "white",
            "linecolor": "white",
            "ticks": ""
           }
          },
          "title": {
           "x": 0.05
          },
          "xaxis": {
           "automargin": true,
           "gridcolor": "white",
           "linecolor": "white",
           "ticks": "",
           "title": {
            "standoff": 15
           },
           "zerolinecolor": "white",
           "zerolinewidth": 2
          },
          "yaxis": {
           "automargin": true,
           "gridcolor": "white",
           "linecolor": "white",
           "ticks": "",
           "title": {
            "standoff": 15
           },
           "zerolinecolor": "white",
           "zerolinewidth": 2
          }
         }
        },
        "title": {
         "font": {
          "family": "Arial",
          "size": 16
         },
         "text": "Euro 2024 Total Points by Name"
        },
        "xaxis": {
         "anchor": "y",
         "categoryarray": [
          "Jonny",
          "Peter Popular",
          "Jay",
          "Corfe",
          "Larry",
          "Luke",
          "Ed",
          "Marc",
          "Tom",
          "Rando Randal"
         ],
         "categoryorder": "array",
         "domain": [
          0,
          1
         ],
         "title": {
          "text": "Player Names"
         }
        },
        "yaxis": {
         "anchor": "x",
         "domain": [
          0,
          1
         ],
         "title": {
          "text": "Total Points"
         }
        }
       }
      }
     },
     "metadata": {},
     "output_type": "display_data"
    }
   ],
   "source": [
    "# Create the bar chart\n",
    "fig = px.bar(points_by_name, x='name', y='total_points', color='name',\n",
    "             labels={'name': 'Name', 'Points': 'Total Points'},\n",
    "             title='Euro 2024 Total Points by Name',  # Updated title\n",
    "             color_discrete_sequence=['#ffd700', '#C0C0C0', '#B87333', # gold, silver, bronze for 1st, 2nd, 3rd\n",
    "                                      '#8850be', '#8850be', '#8850be', '#8850be', '#8850be', '#8850be', '#8850be', '#8850be', '#8850be', '#8850be'])  # purple for all others\n",
    "\n",
    "# Customize the layout\n",
    "fig.update_layout(\n",
    "    xaxis_title='Player Names',\n",
    "    yaxis_title='Total Points',\n",
    "    font=dict(family='Arial', size=12),\n",
    "    title_font=dict(family='Arial', size=16),\n",
    "    paper_bgcolor='rgba(0,0,0,0)',\n",
    "    plot_bgcolor='rgba(0,0,0,0)',\n",
    "    showlegend=False,  # Hide the legend\n",
    "    legend_title_text='Legend',\n",
    "    legend_font=dict(family='Arial', size=10),\n",
    "    legend_traceorder='reversed'\n",
    ")\n",
    "\n",
    "# Show the plot\n",
    "fig.show()"
   ]
  },
  {
   "cell_type": "code",
   "execution_count": 48,
   "id": "258e1de5-2217-4d69-bf97-8a2c1c0ac01c",
   "metadata": {},
   "outputs": [
    {
     "data": {
      "text/html": [
       "<div>\n",
       "<style scoped>\n",
       "    .dataframe tbody tr th:only-of-type {\n",
       "        vertical-align: middle;\n",
       "    }\n",
       "\n",
       "    .dataframe tbody tr th {\n",
       "        vertical-align: top;\n",
       "    }\n",
       "\n",
       "    .dataframe thead th {\n",
       "        text-align: right;\n",
       "    }\n",
       "</style>\n",
       "<table border=\"1\" class=\"dataframe\">\n",
       "  <thead>\n",
       "    <tr style=\"text-align: right;\">\n",
       "      <th></th>\n",
       "      <th>name</th>\n",
       "      <th>predicted_score</th>\n",
       "    </tr>\n",
       "  </thead>\n",
       "  <tbody>\n",
       "    <tr>\n",
       "      <th>0</th>\n",
       "      <td>Corfe</td>\n",
       "      <td>2-0</td>\n",
       "    </tr>\n",
       "    <tr>\n",
       "      <th>1</th>\n",
       "      <td>Ed</td>\n",
       "      <td>1-2</td>\n",
       "    </tr>\n",
       "    <tr>\n",
       "      <th>2</th>\n",
       "      <td>Jay</td>\n",
       "      <td>2-1</td>\n",
       "    </tr>\n",
       "    <tr>\n",
       "      <th>3</th>\n",
       "      <td>Jonny</td>\n",
       "      <td>1-1</td>\n",
       "    </tr>\n",
       "    <tr>\n",
       "      <th>4</th>\n",
       "      <td>Larry</td>\n",
       "      <td>2-0</td>\n",
       "    </tr>\n",
       "    <tr>\n",
       "      <th>5</th>\n",
       "      <td>Luke</td>\n",
       "      <td>1-0</td>\n",
       "    </tr>\n",
       "    <tr>\n",
       "      <th>6</th>\n",
       "      <td>Marc</td>\n",
       "      <td>1-1</td>\n",
       "    </tr>\n",
       "    <tr>\n",
       "      <th>7</th>\n",
       "      <td>Peter Popular</td>\n",
       "      <td>2-1</td>\n",
       "    </tr>\n",
       "    <tr>\n",
       "      <th>8</th>\n",
       "      <td>Rando Randal</td>\n",
       "      <td>3-2</td>\n",
       "    </tr>\n",
       "    <tr>\n",
       "      <th>9</th>\n",
       "      <td>Tom</td>\n",
       "      <td>1-1</td>\n",
       "    </tr>\n",
       "  </tbody>\n",
       "</table>\n",
       "</div>"
      ],
      "text/plain": [
       "            name predicted_score\n",
       "0          Corfe             2-0\n",
       "1             Ed             1-2\n",
       "2            Jay             2-1\n",
       "3          Jonny             1-1\n",
       "4          Larry             2-0\n",
       "5           Luke             1-0\n",
       "6           Marc             1-1\n",
       "7  Peter Popular             2-1\n",
       "8   Rando Randal             3-2\n",
       "9            Tom             1-1"
      ]
     },
     "execution_count": 48,
     "metadata": {},
     "output_type": "execute_result"
    }
   ],
   "source": [
    "# most predicted score\n",
    "mode_predicted_scores = df_merged.groupby('name')['predicted_score'].agg(lambda x: x.mode().iloc[0]).reset_index()\n",
    "mode_predicted_scores"
   ]
  },
  {
   "cell_type": "code",
   "execution_count": 49,
   "id": "b4ecaa59-ef4d-4430-a06e-39c0b5893c08",
   "metadata": {
    "tags": []
   },
   "outputs": [
    {
     "data": {
      "text/html": [
       "<div>\n",
       "<style scoped>\n",
       "    .dataframe tbody tr th:only-of-type {\n",
       "        vertical-align: middle;\n",
       "    }\n",
       "\n",
       "    .dataframe tbody tr th {\n",
       "        vertical-align: top;\n",
       "    }\n",
       "\n",
       "    .dataframe thead th {\n",
       "        text-align: right;\n",
       "    }\n",
       "</style>\n",
       "<table border=\"1\" class=\"dataframe\">\n",
       "  <thead>\n",
       "    <tr style=\"text-align: right;\">\n",
       "      <th></th>\n",
       "      <th>name</th>\n",
       "      <th>predicted_score</th>\n",
       "    </tr>\n",
       "  </thead>\n",
       "  <tbody>\n",
       "    <tr>\n",
       "      <th>0</th>\n",
       "      <td>Corfe</td>\n",
       "      <td>2-0</td>\n",
       "    </tr>\n",
       "    <tr>\n",
       "      <th>1</th>\n",
       "      <td>Ed</td>\n",
       "      <td>1-2</td>\n",
       "    </tr>\n",
       "    <tr>\n",
       "      <th>2</th>\n",
       "      <td>Jay</td>\n",
       "      <td>2-1</td>\n",
       "    </tr>\n",
       "    <tr>\n",
       "      <th>3</th>\n",
       "      <td>Jonny</td>\n",
       "      <td>1-1</td>\n",
       "    </tr>\n",
       "    <tr>\n",
       "      <th>4</th>\n",
       "      <td>Larry</td>\n",
       "      <td>2-0</td>\n",
       "    </tr>\n",
       "    <tr>\n",
       "      <th>5</th>\n",
       "      <td>Luke</td>\n",
       "      <td>1-0</td>\n",
       "    </tr>\n",
       "    <tr>\n",
       "      <th>6</th>\n",
       "      <td>Marc</td>\n",
       "      <td>2-0</td>\n",
       "    </tr>\n",
       "    <tr>\n",
       "      <th>7</th>\n",
       "      <td>Peter Popular</td>\n",
       "      <td>2-1</td>\n",
       "    </tr>\n",
       "    <tr>\n",
       "      <th>8</th>\n",
       "      <td>Rando Randal</td>\n",
       "      <td>1-0</td>\n",
       "    </tr>\n",
       "    <tr>\n",
       "      <th>9</th>\n",
       "      <td>Tom</td>\n",
       "      <td>2-0</td>\n",
       "    </tr>\n",
       "  </tbody>\n",
       "</table>\n",
       "</div>"
      ],
      "text/plain": [
       "            name predicted_score\n",
       "0          Corfe             2-0\n",
       "1             Ed             1-2\n",
       "2            Jay             2-1\n",
       "3          Jonny             1-1\n",
       "4          Larry             2-0\n",
       "5           Luke             1-0\n",
       "6           Marc             2-0\n",
       "7  Peter Popular             2-1\n",
       "8   Rando Randal             1-0\n",
       "9            Tom             2-0"
      ]
     },
     "execution_count": 49,
     "metadata": {},
     "output_type": "execute_result"
    }
   ],
   "source": [
    "# most predicted, successful score\n",
    "correct_predictions_df = df_merged[df_merged['predicted_outcome'] == df_merged['actual_outcome']]\n",
    "mode_correct_predicted_scores = correct_predictions_df.groupby('name')['predicted_score'].agg(lambda x: x.mode().iloc[0]).reset_index()\n",
    "mode_correct_predicted_scores"
   ]
  },
  {
   "cell_type": "code",
   "execution_count": 50,
   "id": "85a6550e-dfe3-42f8-8cad-f8c4385cbb91",
   "metadata": {
    "tags": []
   },
   "outputs": [
    {
     "data": {
      "application/vnd.plotly.v1+json": {
       "config": {
        "plotlyServerURL": "https://plot.ly"
       },
       "data": [
        {
         "hovertemplate": "<b>%{text}</b><br>Match: %{x}<br>Cumulative Points: %{y}<extra></extra>",
         "mode": "lines+markers",
         "name": "Corfe",
         "text": [
          "Player: Corfe<br> vs <br>Matchday Points: 0<br>Predicted Score: <br>Actual Score: ",
          "Player: Corfe<br>Germany vs Scotland<br>Matchday Points: 2<br>Predicted Score: 2-0<br>Actual Score: 5-1",
          "Player: Corfe<br>Spain vs Croatia<br>Matchday Points: 1<br>Predicted Score: 2-1<br>Actual Score: 3-0",
          "Player: Corfe<br>Serbia vs England<br>Matchday Points: 1<br>Predicted Score: 0-2<br>Actual Score: 0-1",
          "Player: Corfe<br>Austria vs France<br>Matchday Points: 1<br>Predicted Score: 1-3<br>Actual Score: 0-1",
          "Player: Corfe<br>Portugal vs Czech Republic<br>Matchday Points: 1<br>Predicted Score: 3-0<br>Actual Score: 2-1",
          "Player: Corfe<br>Scotland vs Switzerland<br>Matchday Points: 0<br>Predicted Score: 0-1<br>Actual Score: 1-1",
          "Player: Corfe<br>Spain vs Italy<br>Matchday Points: 0<br>Predicted Score: 1-1<br>Actual Score: 1-0",
          "Player: Corfe<br>Denmark vs England<br>Matchday Points: 0<br>Predicted Score: 0-2<br>Actual Score: 1-1",
          "Player: Corfe<br>Netherlands vs France<br>Matchday Points: 0<br>Predicted Score: 0-1<br>Actual Score: 0-0",
          "Player: Corfe<br>Belgium vs Romania<br>Matchday Points: 1<br>Predicted Score: 2-1<br>Actual Score: 2-0",
          "Player: Corfe<br>Scotland vs Hungary<br>Matchday Points: 3<br>Predicted Score: 0-1<br>Actual Score: 0-1",
          "Player: Corfe<br>Croatia vs Italy<br>Matchday Points: 0<br>Predicted Score: 0-2<br>Actual Score: 1-1",
          "Player: Corfe<br>Denmark vs Serbia<br>Matchday Points: 0<br>Predicted Score: 2-0<br>Actual Score: 0-0",
          "Player: Corfe<br>Netherlands vs Austria<br>Matchday Points: 0<br>Predicted Score: 2-1<br>Actual Score: 2-3",
          "Player: Corfe<br>Czech Republic vs Turkey<br>Matchday Points: 0<br>Predicted Score: 1-1<br>Actual Score: 1-2",
          "Player: Corfe<br>Germany vs Denmark<br>Matchday Points: 6<br>Predicted Score: 2-0<br>Actual Score: 2-0",
          "Player: Corfe<br>Switzerland vs Italy<br>Matchday Points: 0<br>Predicted Score: 0-1<br>Actual Score: 2-0",
          "Player: Corfe<br>Spain vs Georgia<br>Matchday Points: 1<br>Predicted Score: 2-0<br>Actual Score: 4-1",
          "Player: Corfe<br>England vs Slovakia<br>Matchday Points: 0<br>Predicted Score: 2-0<br>Actual Score: 1-1",
          "Player: Corfe<br>Portugal vs Slovenia<br>Matchday Points: 0<br>Predicted Score: 2-0<br>Actual Score: 0-0",
          "Player: Corfe<br>France vs Belgium<br>Matchday Points: 3<br>Predicted Score: 1-0<br>Actual Score: 1-0",
          "Player: Corfe<br>Romania vs Netherlands<br>Matchday Points: 1<br>Predicted Score: 1-2<br>Actual Score: 0-3",
          "Player: Corfe<br>Austria vs Turkey<br>Matchday Points: 0<br>Predicted Score: 1-1<br>Actual Score: 1-2",
          "Player: Corfe<br>Spain vs Germany<br>Matchday Points: 0<br>Predicted Score: 2-1<br>Actual Score: 1-1",
          "Player: Corfe<br>Portugal vs France<br>Matchday Points: 0<br>Predicted Score: 0-1<br>Actual Score: 0-0",
          "Player: Corfe<br>Netherlands vs Turkey<br>Matchday Points: 2<br>Predicted Score: 2-0<br>Actual Score: 2-1",
          "Player: Corfe<br>England vs Switzerland<br>Matchday Points: 0<br>Predicted Score: 1-0<br>Actual Score: 1-1",
          "Player: Corfe<br>Spain vs France<br>Matchday Points: 2<br>Predicted Score: 1-0<br>Actual Score: 2-1",
          "Player: Corfe<br>Netherlands vs England<br>Matchday Points: 1<br>Predicted Score: 0-1<br>Actual Score: 1-2"
         ],
         "type": "scatter",
         "x": [
          "M00",
          "M01",
          "M03",
          "M05",
          "M08",
          "M12",
          "M13",
          "M16",
          "M17",
          "M20",
          "M22",
          "M26",
          "M28",
          "M30",
          "M31",
          "M36",
          "M37",
          "M38",
          "M39",
          "M40",
          "M41",
          "M42",
          "M43",
          "M44",
          "M45",
          "M46",
          "M47",
          "M48",
          "M49",
          "M50"
         ],
         "y": [
          0,
          2,
          3,
          4,
          5,
          6,
          6,
          6,
          6,
          6,
          7,
          10,
          10,
          10,
          10,
          10,
          16,
          16,
          17,
          17,
          17,
          20,
          21,
          21,
          21,
          21,
          23,
          23,
          25,
          26
         ]
        },
        {
         "hovertemplate": "<b>%{text}</b><br>Match: %{x}<br>Cumulative Points: %{y}<extra></extra>",
         "mode": "lines+markers",
         "name": "Ed",
         "text": [
          "Player: Ed<br> vs <br>Matchday Points: 0<br>Predicted Score: <br>Actual Score: ",
          "Player: Ed<br>Germany vs Scotland<br>Matchday Points: 1<br>Predicted Score: 3-1<br>Actual Score: 5-1",
          "Player: Ed<br>Spain vs Croatia<br>Matchday Points: 0<br>Predicted Score: 1-1<br>Actual Score: 3-0",
          "Player: Ed<br>Serbia vs England<br>Matchday Points: 2<br>Predicted Score: 1-2<br>Actual Score: 0-1",
          "Player: Ed<br>Austria vs France<br>Matchday Points: 1<br>Predicted Score: 1-4<br>Actual Score: 0-1",
          "Player: Ed<br>Portugal vs Czech Republic<br>Matchday Points: 1<br>Predicted Score: 2-0<br>Actual Score: 2-1",
          "Player: Ed<br>Scotland vs Switzerland<br>Matchday Points: 0<br>Predicted Score: 1-2<br>Actual Score: 1-1",
          "Player: Ed<br>Spain vs Italy<br>Matchday Points: 0<br>Predicted Score: 1-1<br>Actual Score: 1-0",
          "Player: Ed<br>Denmark vs England<br>Matchday Points: 0<br>Predicted Score: 1-2<br>Actual Score: 1-1",
          "Player: Ed<br>Netherlands vs France<br>Matchday Points: 0<br>Predicted Score: 1-2<br>Actual Score: 0-0",
          "Player: Ed<br>Belgium vs Romania<br>Matchday Points: 1<br>Predicted Score: 2-1<br>Actual Score: 2-0",
          "Player: Ed<br>Scotland vs Hungary<br>Matchday Points: 0<br>Predicted Score: 2-2<br>Actual Score: 0-1",
          "Player: Ed<br>Croatia vs Italy<br>Matchday Points: 0<br>Predicted Score: 1-2<br>Actual Score: 1-1",
          "Player: Ed<br>Denmark vs Serbia<br>Matchday Points: 0<br>Predicted Score: 3-1<br>Actual Score: 0-0",
          "Player: Ed<br>Netherlands vs Austria<br>Matchday Points: 0<br>Predicted Score: 2-0<br>Actual Score: 2-3",
          "Player: Ed<br>Czech Republic vs Turkey<br>Matchday Points: 3<br>Predicted Score: 1-2<br>Actual Score: 1-2",
          "Player: Ed<br>Germany vs Denmark<br>Matchday Points: 3<br>Predicted Score: 2-0<br>Actual Score: 2-0",
          "Player: Ed<br>Switzerland vs Italy<br>Matchday Points: 0<br>Predicted Score: 0-1<br>Actual Score: 2-0",
          "Player: Ed<br>Spain vs Georgia<br>Matchday Points: 2<br>Predicted Score: 3-1<br>Actual Score: 4-1",
          "Player: Ed<br>England vs Slovakia<br>Matchday Points: 0<br>Predicted Score: 1-0<br>Actual Score: 1-1",
          "Player: Ed<br>Portugal vs Slovenia<br>Matchday Points: 0<br>Predicted Score: 2-1<br>Actual Score: 0-0",
          "Player: Ed<br>France vs Belgium<br>Matchday Points: 0<br>Predicted Score: 1-1<br>Actual Score: 1-0",
          "Player: Ed<br>Romania vs Netherlands<br>Matchday Points: 0<br>Predicted Score: 2-2<br>Actual Score: 0-3",
          "Player: Ed<br>Austria vs Turkey<br>Matchday Points: 0<br>Predicted Score: 2-0<br>Actual Score: 1-2",
          "Player: Ed<br>Spain vs Germany<br>Matchday Points: 1<br>Predicted Score: 2-2<br>Actual Score: 1-1",
          "Player: Ed<br>Portugal vs France<br>Matchday Points: 0<br>Predicted Score: 0-1<br>Actual Score: 0-0",
          "Player: Ed<br>Netherlands vs Turkey<br>Matchday Points: 6<br>Predicted Score: 2-1<br>Actual Score: 2-1",
          "Player: Ed<br>England vs Switzerland<br>Matchday Points: 0<br>Predicted Score: 1-0<br>Actual Score: 1-1",
          "Player: Ed<br>Spain vs France<br>Matchday Points: 0<br>Predicted Score: 1-1<br>Actual Score: 2-1",
          "Player: Ed<br>Netherlands vs England<br>Matchday Points: 0<br>Predicted Score: 2-1<br>Actual Score: 1-2"
         ],
         "type": "scatter",
         "x": [
          "M00",
          "M01",
          "M03",
          "M05",
          "M08",
          "M12",
          "M13",
          "M16",
          "M17",
          "M20",
          "M22",
          "M26",
          "M28",
          "M30",
          "M31",
          "M36",
          "M37",
          "M38",
          "M39",
          "M40",
          "M41",
          "M42",
          "M43",
          "M44",
          "M45",
          "M46",
          "M47",
          "M48",
          "M49",
          "M50"
         ],
         "y": [
          0,
          1,
          1,
          3,
          4,
          5,
          5,
          5,
          5,
          5,
          6,
          6,
          6,
          6,
          6,
          9,
          12,
          12,
          14,
          14,
          14,
          14,
          14,
          14,
          15,
          15,
          21,
          21,
          21,
          21
         ]
        },
        {
         "hovertemplate": "<b>%{text}</b><br>Match: %{x}<br>Cumulative Points: %{y}<extra></extra>",
         "mode": "lines+markers",
         "name": "Jay",
         "text": [
          "Player: Jay<br> vs <br>Matchday Points: 0<br>Predicted Score: <br>Actual Score: ",
          "Player: Jay<br>Germany vs Scotland<br>Matchday Points: 1<br>Predicted Score: 2-0<br>Actual Score: 5-1",
          "Player: Jay<br>Spain vs Croatia<br>Matchday Points: 0<br>Predicted Score: 1-1<br>Actual Score: 3-0",
          "Player: Jay<br>Serbia vs England<br>Matchday Points: 3<br>Predicted Score: 0-1<br>Actual Score: 0-1",
          "Player: Jay<br>Austria vs France<br>Matchday Points: 1<br>Predicted Score: 1-3<br>Actual Score: 0-1",
          "Player: Jay<br>Portugal vs Czech Republic<br>Matchday Points: 2<br>Predicted Score: 2-0<br>Actual Score: 2-1",
          "Player: Jay<br>Scotland vs Switzerland<br>Matchday Points: 0<br>Predicted Score: 0-3<br>Actual Score: 1-1",
          "Player: Jay<br>Spain vs Italy<br>Matchday Points: 1<br>Predicted Score: 2-1<br>Actual Score: 1-0",
          "Player: Jay<br>Denmark vs England<br>Matchday Points: 1<br>Predicted Score: 0-0<br>Actual Score: 1-1",
          "Player: Jay<br>Netherlands vs France<br>Matchday Points: 1<br>Predicted Score: 2-2<br>Actual Score: 0-0",
          "Player: Jay<br>Belgium vs Romania<br>Matchday Points: 1<br>Predicted Score: 2-1<br>Actual Score: 2-0",
          "Player: Jay<br>Scotland vs Hungary<br>Matchday Points: 0<br>Predicted Score: 1-1<br>Actual Score: 0-1",
          "Player: Jay<br>Croatia vs Italy<br>Matchday Points: 0<br>Predicted Score: 1-2<br>Actual Score: 1-1",
          "Player: Jay<br>Denmark vs Serbia<br>Matchday Points: 0<br>Predicted Score: 2-1<br>Actual Score: 0-0",
          "Player: Jay<br>Netherlands vs Austria<br>Matchday Points: 0<br>Predicted Score: 2-2<br>Actual Score: 2-3",
          "Player: Jay<br>Czech Republic vs Turkey<br>Matchday Points: 6<br>Predicted Score: 1-2<br>Actual Score: 1-2",
          "Player: Jay<br>Germany vs Denmark<br>Matchday Points: 1<br>Predicted Score: 2-1<br>Actual Score: 2-0",
          "Player: Jay<br>Switzerland vs Italy<br>Matchday Points: 1<br>Predicted Score: 2-1<br>Actual Score: 2-0",
          "Player: Jay<br>Spain vs Georgia<br>Matchday Points: 2<br>Predicted Score: 3-1<br>Actual Score: 4-1",
          "Player: Jay<br>England vs Slovakia<br>Matchday Points: 0<br>Predicted Score: 1-0<br>Actual Score: 1-1",
          "Player: Jay<br>Portugal vs Slovenia<br>Matchday Points: 0<br>Predicted Score: 3-0<br>Actual Score: 0-0",
          "Player: Jay<br>France vs Belgium<br>Matchday Points: 1<br>Predicted Score: 2-1<br>Actual Score: 1-0",
          "Player: Jay<br>Romania vs Netherlands<br>Matchday Points: 0<br>Predicted Score: 1-1<br>Actual Score: 0-3",
          "Player: Jay<br>Austria vs Turkey<br>Matchday Points: 0<br>Predicted Score: 2-0<br>Actual Score: 1-2",
          "Player: Jay<br>Spain vs Germany<br>Matchday Points: 0<br>Predicted Score: 3-1<br>Actual Score: 1-1",
          "Player: Jay<br>Portugal vs France<br>Matchday Points: 2<br>Predicted Score: 1-1<br>Actual Score: 0-0",
          "Player: Jay<br>Netherlands vs Turkey<br>Matchday Points: 1<br>Predicted Score: 2-0<br>Actual Score: 2-1",
          "Player: Jay<br>England vs Switzerland<br>Matchday Points: 0<br>Predicted Score: 1-0<br>Actual Score: 1-1",
          "Player: Jay<br>Spain vs France<br>Matchday Points: 2<br>Predicted Score: 2-0<br>Actual Score: 2-1",
          "Player: Jay<br>Netherlands vs England<br>Matchday Points: 0<br>Predicted Score: 1-1<br>Actual Score: 1-2"
         ],
         "type": "scatter",
         "x": [
          "M00",
          "M01",
          "M03",
          "M05",
          "M08",
          "M12",
          "M13",
          "M16",
          "M17",
          "M20",
          "M22",
          "M26",
          "M28",
          "M30",
          "M31",
          "M36",
          "M37",
          "M38",
          "M39",
          "M40",
          "M41",
          "M42",
          "M43",
          "M44",
          "M45",
          "M46",
          "M47",
          "M48",
          "M49",
          "M50"
         ],
         "y": [
          0,
          1,
          1,
          4,
          5,
          7,
          7,
          8,
          9,
          10,
          11,
          11,
          11,
          11,
          11,
          17,
          18,
          19,
          21,
          21,
          21,
          22,
          22,
          22,
          22,
          24,
          25,
          25,
          27,
          27
         ]
        },
        {
         "hovertemplate": "<b>%{text}</b><br>Match: %{x}<br>Cumulative Points: %{y}<extra></extra>",
         "mode": "lines+markers",
         "name": "Jonny",
         "text": [
          "Player: Jonny<br> vs <br>Matchday Points: 0<br>Predicted Score: <br>Actual Score: ",
          "Player: Jonny<br>Germany vs Scotland<br>Matchday Points: 2<br>Predicted Score: 3-0<br>Actual Score: 5-1",
          "Player: Jonny<br>Spain vs Croatia<br>Matchday Points: 1<br>Predicted Score: 2-1<br>Actual Score: 3-0",
          "Player: Jonny<br>Serbia vs England<br>Matchday Points: 1<br>Predicted Score: 0-2<br>Actual Score: 0-1",
          "Player: Jonny<br>Austria vs France<br>Matchday Points: 1<br>Predicted Score: 0-3<br>Actual Score: 0-1",
          "Player: Jonny<br>Portugal vs Czech Republic<br>Matchday Points: 3<br>Predicted Score: 2-1<br>Actual Score: 2-1",
          "Player: Jonny<br>Scotland vs Switzerland<br>Matchday Points: 0<br>Predicted Score: 1-3<br>Actual Score: 1-1",
          "Player: Jonny<br>Spain vs Italy<br>Matchday Points: 1<br>Predicted Score: 2-1<br>Actual Score: 1-0",
          "Player: Jonny<br>Denmark vs England<br>Matchday Points: 0<br>Predicted Score: 1-3<br>Actual Score: 1-1",
          "Player: Jonny<br>Netherlands vs France<br>Matchday Points: 0<br>Predicted Score: 1-2<br>Actual Score: 0-0",
          "Player: Jonny<br>Belgium vs Romania<br>Matchday Points: 6<br>Predicted Score: 2-0<br>Actual Score: 2-0",
          "Player: Jonny<br>Scotland vs Hungary<br>Matchday Points: 0<br>Predicted Score: 1-1<br>Actual Score: 0-1",
          "Player: Jonny<br>Croatia vs Italy<br>Matchday Points: 3<br>Predicted Score: 1-1<br>Actual Score: 1-1",
          "Player: Jonny<br>Denmark vs Serbia<br>Matchday Points: 0<br>Predicted Score: 2-1<br>Actual Score: 0-0",
          "Player: Jonny<br>Netherlands vs Austria<br>Matchday Points: 0<br>Predicted Score: 2-0<br>Actual Score: 2-3",
          "Player: Jonny<br>Czech Republic vs Turkey<br>Matchday Points: 0<br>Predicted Score: 1-0<br>Actual Score: 1-2",
          "Player: Jonny<br>Germany vs Denmark<br>Matchday Points: 3<br>Predicted Score: 2-0<br>Actual Score: 2-0",
          "Player: Jonny<br>Switzerland vs Italy<br>Matchday Points: 0<br>Predicted Score: 1-1<br>Actual Score: 2-0",
          "Player: Jonny<br>Spain vs Georgia<br>Matchday Points: 2<br>Predicted Score: 3-0<br>Actual Score: 4-1",
          "Player: Jonny<br>England vs Slovakia<br>Matchday Points: 0<br>Predicted Score: 2-0<br>Actual Score: 1-1",
          "Player: Jonny<br>Portugal vs Slovenia<br>Matchday Points: 0<br>Predicted Score: 2-0<br>Actual Score: 0-0",
          "Player: Jonny<br>France vs Belgium<br>Matchday Points: 0<br>Predicted Score: 1-1<br>Actual Score: 1-0",
          "Player: Jonny<br>Romania vs Netherlands<br>Matchday Points: 1<br>Predicted Score: 0-2<br>Actual Score: 0-3",
          "Player: Jonny<br>Austria vs Turkey<br>Matchday Points: 0<br>Predicted Score: 2-2<br>Actual Score: 1-2",
          "Player: Jonny<br>Spain vs Germany<br>Matchday Points: 3<br>Predicted Score: 1-1<br>Actual Score: 1-1",
          "Player: Jonny<br>Portugal vs France<br>Matchday Points: 0<br>Predicted Score: 0-2<br>Actual Score: 0-0",
          "Player: Jonny<br>Netherlands vs Turkey<br>Matchday Points: 2<br>Predicted Score: 2-0<br>Actual Score: 2-1",
          "Player: Jonny<br>England vs Switzerland<br>Matchday Points: 3<br>Predicted Score: 1-1<br>Actual Score: 1-1",
          "Player: Jonny<br>Spain vs France<br>Matchday Points: 2<br>Predicted Score: 1-0<br>Actual Score: 2-1",
          "Player: Jonny<br>Netherlands vs England<br>Matchday Points: 0<br>Predicted Score: 1-1<br>Actual Score: 1-2"
         ],
         "type": "scatter",
         "x": [
          "M00",
          "M01",
          "M03",
          "M05",
          "M08",
          "M12",
          "M13",
          "M16",
          "M17",
          "M20",
          "M22",
          "M26",
          "M28",
          "M30",
          "M31",
          "M36",
          "M37",
          "M38",
          "M39",
          "M40",
          "M41",
          "M42",
          "M43",
          "M44",
          "M45",
          "M46",
          "M47",
          "M48",
          "M49",
          "M50"
         ],
         "y": [
          0,
          2,
          3,
          4,
          5,
          8,
          8,
          9,
          9,
          9,
          15,
          15,
          18,
          18,
          18,
          18,
          21,
          21,
          23,
          23,
          23,
          23,
          24,
          24,
          27,
          27,
          29,
          32,
          34,
          34
         ]
        },
        {
         "hovertemplate": "<b>%{text}</b><br>Match: %{x}<br>Cumulative Points: %{y}<extra></extra>",
         "mode": "lines+markers",
         "name": "Larry",
         "text": [
          "Player: Larry<br> vs <br>Matchday Points: 0<br>Predicted Score: <br>Actual Score: ",
          "Player: Larry<br>Germany vs Scotland<br>Matchday Points: 2<br>Predicted Score: 2-0<br>Actual Score: 5-1",
          "Player: Larry<br>Spain vs Croatia<br>Matchday Points: 1<br>Predicted Score: 2-0<br>Actual Score: 3-0",
          "Player: Larry<br>Serbia vs England<br>Matchday Points: 1<br>Predicted Score: 0-2<br>Actual Score: 0-1",
          "Player: Larry<br>Austria vs France<br>Matchday Points: 1<br>Predicted Score: 0-2<br>Actual Score: 0-1",
          "Player: Larry<br>Portugal vs Czech Republic<br>Matchday Points: 3<br>Predicted Score: 2-1<br>Actual Score: 2-1",
          "Player: Larry<br>Scotland vs Switzerland<br>Matchday Points: 0<br>Predicted Score: 0-3<br>Actual Score: 1-1",
          "Player: Larry<br>Spain vs Italy<br>Matchday Points: 1<br>Predicted Score: 2-0<br>Actual Score: 1-0",
          "Player: Larry<br>Denmark vs England<br>Matchday Points: 0<br>Predicted Score: 0-2<br>Actual Score: 1-1",
          "Player: Larry<br>Netherlands vs France<br>Matchday Points: 0<br>Predicted Score: 2-3<br>Actual Score: 0-0",
          "Player: Larry<br>Belgium vs Romania<br>Matchday Points: 1<br>Predicted Score: 3-0<br>Actual Score: 2-0",
          "Player: Larry<br>Scotland vs Hungary<br>Matchday Points: 0<br>Predicted Score: 1-1<br>Actual Score: 0-1",
          "Player: Larry<br>Croatia vs Italy<br>Matchday Points: 0<br>Predicted Score: 2-1<br>Actual Score: 1-1",
          "Player: Larry<br>Denmark vs Serbia<br>Matchday Points: 1<br>Predicted Score: 1-1<br>Actual Score: 0-0",
          "Player: Larry<br>Netherlands vs Austria<br>Matchday Points: 0<br>Predicted Score: 2-1<br>Actual Score: 2-3",
          "Player: Larry<br>Czech Republic vs Turkey<br>Matchday Points: 0<br>Predicted Score: 2-1<br>Actual Score: 1-2",
          "Player: Larry<br>Germany vs Denmark<br>Matchday Points: 2<br>Predicted Score: 2-1<br>Actual Score: 2-0",
          "Player: Larry<br>Switzerland vs Italy<br>Matchday Points: 1<br>Predicted Score: 2-1<br>Actual Score: 2-0",
          "Player: Larry<br>Spain vs Georgia<br>Matchday Points: 1<br>Predicted Score: 3-0<br>Actual Score: 4-1",
          "Player: Larry<br>England vs Slovakia<br>Matchday Points: 0<br>Predicted Score: 2-0<br>Actual Score: 1-1",
          "Player: Larry<br>Portugal vs Slovenia<br>Matchday Points: 0<br>Predicted Score: 2-0<br>Actual Score: 0-0",
          "Player: Larry<br>France vs Belgium<br>Matchday Points: 1<br>Predicted Score: 3-0<br>Actual Score: 1-0",
          "Player: Larry<br>Romania vs Netherlands<br>Matchday Points: 0<br>Predicted Score: 2-0<br>Actual Score: 0-3",
          "Player: Larry<br>Austria vs Turkey<br>Matchday Points: 0<br>Predicted Score: 3-1<br>Actual Score: 1-2",
          "Player: Larry<br>Spain vs Germany<br>Matchday Points: 0<br>Predicted Score: 2-0<br>Actual Score: 1-1",
          "Player: Larry<br>Portugal vs France<br>Matchday Points: 0<br>Predicted Score: 1-2<br>Actual Score: 0-0",
          "Player: Larry<br>Netherlands vs Turkey<br>Matchday Points: 1<br>Predicted Score: 2-0<br>Actual Score: 2-1",
          "Player: Larry<br>England vs Switzerland<br>Matchday Points: 0<br>Predicted Score: 2-0<br>Actual Score: 1-1",
          "Player: Larry<br>Spain vs France<br>Matchday Points: 3<br>Predicted Score: 2-1<br>Actual Score: 2-1",
          "Player: Larry<br>Netherlands vs England<br>Matchday Points: 6<br>Predicted Score: 1-2<br>Actual Score: 1-2"
         ],
         "type": "scatter",
         "x": [
          "M00",
          "M01",
          "M03",
          "M05",
          "M08",
          "M12",
          "M13",
          "M16",
          "M17",
          "M20",
          "M22",
          "M26",
          "M28",
          "M30",
          "M31",
          "M36",
          "M37",
          "M38",
          "M39",
          "M40",
          "M41",
          "M42",
          "M43",
          "M44",
          "M45",
          "M46",
          "M47",
          "M48",
          "M49",
          "M50"
         ],
         "y": [
          0,
          2,
          3,
          4,
          5,
          8,
          8,
          9,
          9,
          9,
          10,
          10,
          10,
          11,
          11,
          11,
          13,
          14,
          15,
          15,
          15,
          16,
          16,
          16,
          16,
          16,
          17,
          17,
          20,
          26
         ]
        },
        {
         "hovertemplate": "<b>%{text}</b><br>Match: %{x}<br>Cumulative Points: %{y}<extra></extra>",
         "mode": "lines+markers",
         "name": "Luke",
         "text": [
          "Player: Luke<br> vs <br>Matchday Points: 0<br>Predicted Score: <br>Actual Score: ",
          "Player: Luke<br>Germany vs Scotland<br>Matchday Points: 2<br>Predicted Score: 2-0<br>Actual Score: 5-1",
          "Player: Luke<br>Spain vs Croatia<br>Matchday Points: 1<br>Predicted Score: 1-0<br>Actual Score: 3-0",
          "Player: Luke<br>Serbia vs England<br>Matchday Points: 3<br>Predicted Score: 0-1<br>Actual Score: 0-1",
          "Player: Luke<br>Austria vs France<br>Matchday Points: 1<br>Predicted Score: 0-2<br>Actual Score: 0-1",
          "Player: Luke<br>Portugal vs Czech Republic<br>Matchday Points: 1<br>Predicted Score: 1-0<br>Actual Score: 2-1",
          "Player: Luke<br>Scotland vs Switzerland<br>Matchday Points: 0<br>Predicted Score: 0-1<br>Actual Score: 1-1",
          "Player: Luke<br>Spain vs Italy<br>Matchday Points: 0<br>Predicted Score: 1-1<br>Actual Score: 1-0",
          "Player: Luke<br>Denmark vs England<br>Matchday Points: 0<br>Predicted Score: 0-1<br>Actual Score: 1-1",
          "Player: Luke<br>Netherlands vs France<br>Matchday Points: 1<br>Predicted Score: 1-1<br>Actual Score: 0-0",
          "Player: Luke<br>Belgium vs Romania<br>Matchday Points: 3<br>Predicted Score: 2-0<br>Actual Score: 2-0",
          "Player: Luke<br>Scotland vs Hungary<br>Matchday Points: 1<br>Predicted Score: 1-2<br>Actual Score: 0-1",
          "Player: Luke<br>Croatia vs Italy<br>Matchday Points: 0<br>Predicted Score: 0-1<br>Actual Score: 1-1",
          "Player: Luke<br>Denmark vs Serbia<br>Matchday Points: 0<br>Predicted Score: 2-1<br>Actual Score: 0-0",
          "Player: Luke<br>Netherlands vs Austria<br>Matchday Points: 0<br>Predicted Score: 1-0<br>Actual Score: 2-3",
          "Player: Luke<br>Czech Republic vs Turkey<br>Matchday Points: 0<br>Predicted Score: 2-1<br>Actual Score: 1-2",
          "Player: Luke<br>Germany vs Denmark<br>Matchday Points: 1<br>Predicted Score: 1-0<br>Actual Score: 2-0",
          "Player: Luke<br>Switzerland vs Italy<br>Matchday Points: 0<br>Predicted Score: 0-1<br>Actual Score: 2-0",
          "Player: Luke<br>Spain vs Georgia<br>Matchday Points: 2<br>Predicted Score: 2-0<br>Actual Score: 4-1",
          "Player: Luke<br>England vs Slovakia<br>Matchday Points: 0<br>Predicted Score: 1-0<br>Actual Score: 1-1",
          "Player: Luke<br>Portugal vs Slovenia<br>Matchday Points: 0<br>Predicted Score: 2-0<br>Actual Score: 0-0",
          "Player: Luke<br>France vs Belgium<br>Matchday Points: 3<br>Predicted Score: 1-0<br>Actual Score: 1-0",
          "Player: Luke<br>Romania vs Netherlands<br>Matchday Points: 1<br>Predicted Score: 0-1<br>Actual Score: 0-3",
          "Player: Luke<br>Austria vs Turkey<br>Matchday Points: 0<br>Predicted Score: 1-0<br>Actual Score: 1-2",
          "Player: Luke<br>Spain vs Germany<br>Matchday Points: 3<br>Predicted Score: 1-1<br>Actual Score: 1-1",
          "Player: Luke<br>Portugal vs France<br>Matchday Points: 0<br>Predicted Score: 0-1<br>Actual Score: 0-0",
          "Player: Luke<br>Netherlands vs Turkey<br>Matchday Points: 2<br>Predicted Score: 2-0<br>Actual Score: 2-1",
          "Player: Luke<br>England vs Switzerland<br>Matchday Points: 0<br>Predicted Score: 1-0<br>Actual Score: 1-1",
          "Player: Luke<br>Spain vs France<br>Matchday Points: 0<br>Predicted Score: 1-1<br>Actual Score: 2-1",
          "Player: Luke<br>Netherlands vs England<br>Matchday Points: 0<br>Predicted Score: 1-1<br>Actual Score: 1-2"
         ],
         "type": "scatter",
         "x": [
          "M00",
          "M01",
          "M03",
          "M05",
          "M08",
          "M12",
          "M13",
          "M16",
          "M17",
          "M20",
          "M22",
          "M26",
          "M28",
          "M30",
          "M31",
          "M36",
          "M37",
          "M38",
          "M39",
          "M40",
          "M41",
          "M42",
          "M43",
          "M44",
          "M45",
          "M46",
          "M47",
          "M48",
          "M49",
          "M50"
         ],
         "y": [
          0,
          2,
          3,
          6,
          7,
          8,
          8,
          8,
          8,
          9,
          12,
          13,
          13,
          13,
          13,
          13,
          14,
          14,
          16,
          16,
          16,
          19,
          20,
          20,
          23,
          23,
          25,
          25,
          25,
          25
         ]
        },
        {
         "hovertemplate": "<b>%{text}</b><br>Match: %{x}<br>Cumulative Points: %{y}<extra></extra>",
         "mode": "lines+markers",
         "name": "Marc",
         "text": [
          "Player: Marc<br> vs <br>Matchday Points: 0<br>Predicted Score: <br>Actual Score: ",
          "Player: Marc<br>Germany vs Scotland<br>Matchday Points: 2<br>Predicted Score: 3-1<br>Actual Score: 5-1",
          "Player: Marc<br>Spain vs Croatia<br>Matchday Points: 1<br>Predicted Score: 2-0<br>Actual Score: 3-0",
          "Player: Marc<br>Serbia vs England<br>Matchday Points: 1<br>Predicted Score: 1-4<br>Actual Score: 0-1",
          "Player: Marc<br>Austria vs France<br>Matchday Points: 1<br>Predicted Score: 0-3<br>Actual Score: 0-1",
          "Player: Marc<br>Portugal vs Czech Republic<br>Matchday Points: 0<br>Predicted Score: 1-1<br>Actual Score: 2-1",
          "Player: Marc<br>Scotland vs Switzerland<br>Matchday Points: 0<br>Predicted Score: 2-1<br>Actual Score: 1-1",
          "Player: Marc<br>Spain vs Italy<br>Matchday Points: 1<br>Predicted Score: 2-0<br>Actual Score: 1-0",
          "Player: Marc<br>Denmark vs England<br>Matchday Points: 0<br>Predicted Score: 1-3<br>Actual Score: 1-1",
          "Player: Marc<br>Netherlands vs France<br>Matchday Points: 0<br>Predicted Score: 0-2<br>Actual Score: 0-0",
          "Player: Marc<br>Belgium vs Romania<br>Matchday Points: 0<br>Predicted Score: 2-2<br>Actual Score: 2-0",
          "Player: Marc<br>Scotland vs Hungary<br>Matchday Points: 0<br>Predicted Score: 1-0<br>Actual Score: 0-1",
          "Player: Marc<br>Croatia vs Italy<br>Matchday Points: 1<br>Predicted Score: 2-2<br>Actual Score: 1-1",
          "Player: Marc<br>Denmark vs Serbia<br>Matchday Points: 0<br>Predicted Score: 3-0<br>Actual Score: 0-0",
          "Player: Marc<br>Netherlands vs Austria<br>Matchday Points: 0<br>Predicted Score: 2-0<br>Actual Score: 2-3",
          "Player: Marc<br>Czech Republic vs Turkey<br>Matchday Points: 0<br>Predicted Score: 1-1<br>Actual Score: 1-2",
          "Player: Marc<br>Germany vs Denmark<br>Matchday Points: 1<br>Predicted Score: 2-1<br>Actual Score: 2-0",
          "Player: Marc<br>Switzerland vs Italy<br>Matchday Points: 0<br>Predicted Score: 1-1<br>Actual Score: 2-0",
          "Player: Marc<br>Spain vs Georgia<br>Matchday Points: 1<br>Predicted Score: 3-0<br>Actual Score: 4-1",
          "Player: Marc<br>England vs Slovakia<br>Matchday Points: 0<br>Predicted Score: 1-0<br>Actual Score: 1-1",
          "Player: Marc<br>Portugal vs Slovenia<br>Matchday Points: 0<br>Predicted Score: 2-1<br>Actual Score: 0-0",
          "Player: Marc<br>France vs Belgium<br>Matchday Points: 1<br>Predicted Score: 2-1<br>Actual Score: 1-0",
          "Player: Marc<br>Romania vs Netherlands<br>Matchday Points: 0<br>Predicted Score: 1-1<br>Actual Score: 0-3",
          "Player: Marc<br>Austria vs Turkey<br>Matchday Points: 0<br>Predicted Score: 3-0<br>Actual Score: 1-2",
          "Player: Marc<br>Spain vs Germany<br>Matchday Points: 0<br>Predicted Score: 1-2<br>Actual Score: 1-1",
          "Player: Marc<br>Portugal vs France<br>Matchday Points: 0<br>Predicted Score: 1-0<br>Actual Score: 0-0",
          "Player: Marc<br>Netherlands vs Turkey<br>Matchday Points: 6<br>Predicted Score: 2-1<br>Actual Score: 2-1",
          "Player: Marc<br>England vs Switzerland<br>Matchday Points: 3<br>Predicted Score: 1-1<br>Actual Score: 1-1",
          "Player: Marc<br>Spain vs France<br>Matchday Points: 1<br>Predicted Score: 2-0<br>Actual Score: 2-1",
          "Player: Marc<br>Netherlands vs England<br>Matchday Points: 0<br>Predicted Score: 2-2<br>Actual Score: 1-2"
         ],
         "type": "scatter",
         "x": [
          "M00",
          "M01",
          "M03",
          "M05",
          "M08",
          "M12",
          "M13",
          "M16",
          "M17",
          "M20",
          "M22",
          "M26",
          "M28",
          "M30",
          "M31",
          "M36",
          "M37",
          "M38",
          "M39",
          "M40",
          "M41",
          "M42",
          "M43",
          "M44",
          "M45",
          "M46",
          "M47",
          "M48",
          "M49",
          "M50"
         ],
         "y": [
          0,
          2,
          3,
          4,
          5,
          5,
          5,
          6,
          6,
          6,
          6,
          6,
          7,
          7,
          7,
          7,
          8,
          8,
          9,
          9,
          9,
          10,
          10,
          10,
          10,
          10,
          16,
          19,
          20,
          20
         ]
        },
        {
         "hovertemplate": "<b>%{text}</b><br>Match: %{x}<br>Cumulative Points: %{y}<extra></extra>",
         "mode": "lines+markers",
         "name": "Peter Popular",
         "text": [
          "Player: Peter Popular<br> vs <br>Matchday Points: 0<br>Predicted Score: <br>Actual Score: ",
          "Player: Peter Popular<br>Germany vs Scotland<br>Matchday Points: 2<br>Predicted Score: 2-0<br>Actual Score: 5-1",
          "Player: Peter Popular<br>Spain vs Croatia<br>Matchday Points: 1<br>Predicted Score: 2-1<br>Actual Score: 3-0",
          "Player: Peter Popular<br>Serbia vs England<br>Matchday Points: 1<br>Predicted Score: 0-3<br>Actual Score: 0-1",
          "Player: Peter Popular<br>Austria vs France<br>Matchday Points: 1<br>Predicted Score: 0-3<br>Actual Score: 0-1",
          "Player: Peter Popular<br>Portugal vs Czech Republic<br>Matchday Points: 1<br>Predicted Score: 2-0<br>Actual Score: 2-1",
          "Player: Peter Popular<br>Scotland vs Switzerland<br>Matchday Points: 0<br>Predicted Score: 1-2<br>Actual Score: 1-1",
          "Player: Peter Popular<br>Spain vs Italy<br>Matchday Points: 1<br>Predicted Score: 2-1<br>Actual Score: 1-0",
          "Player: Peter Popular<br>Denmark vs England<br>Matchday Points: 0<br>Predicted Score: 1-2<br>Actual Score: 1-1",
          "Player: Peter Popular<br>Netherlands vs France<br>Matchday Points: 0<br>Predicted Score: 1-2<br>Actual Score: 0-0",
          "Player: Peter Popular<br>Belgium vs Romania<br>Matchday Points: 3<br>Predicted Score: 2-0<br>Actual Score: 2-0",
          "Player: Peter Popular<br>Scotland vs Hungary<br>Matchday Points: 0<br>Predicted Score: 1-1<br>Actual Score: 0-1",
          "Player: Peter Popular<br>Croatia vs Italy<br>Matchday Points: 0<br>Predicted Score: 1-2<br>Actual Score: 1-1",
          "Player: Peter Popular<br>Denmark vs Serbia<br>Matchday Points: 0<br>Predicted Score: 2-1<br>Actual Score: 0-0",
          "Player: Peter Popular<br>Netherlands vs Austria<br>Matchday Points: 0<br>Predicted Score: 2-0<br>Actual Score: 2-3",
          "Player: Peter Popular<br>Czech Republic vs Turkey<br>Matchday Points: 6<br>Predicted Score: 1-2<br>Actual Score: 1-2",
          "Player: Peter Popular<br>Germany vs Denmark<br>Matchday Points: 3<br>Predicted Score: 2-0<br>Actual Score: 2-0",
          "Player: Peter Popular<br>Switzerland vs Italy<br>Matchday Points: 0<br>Predicted Score: 1-2<br>Actual Score: 2-0",
          "Player: Peter Popular<br>Spain vs Georgia<br>Matchday Points: 1<br>Predicted Score: 3-0<br>Actual Score: 4-1",
          "Player: Peter Popular<br>England vs Slovakia<br>Matchday Points: 0<br>Predicted Score: 1-0<br>Actual Score: 1-1",
          "Player: Peter Popular<br>Portugal vs Slovenia<br>Matchday Points: 0<br>Predicted Score: 2-0<br>Actual Score: 0-0",
          "Player: Peter Popular<br>France vs Belgium<br>Matchday Points: 1<br>Predicted Score: 2-1<br>Actual Score: 1-0",
          "Player: Peter Popular<br>Romania vs Netherlands<br>Matchday Points: 1<br>Predicted Score: 1-2<br>Actual Score: 0-3",
          "Player: Peter Popular<br>Austria vs Turkey<br>Matchday Points: 0<br>Predicted Score: 2-1<br>Actual Score: 1-2",
          "Player: Peter Popular<br>Spain vs Germany<br>Matchday Points: 0<br>Predicted Score: 2-1<br>Actual Score: 1-1",
          "Player: Peter Popular<br>Portugal vs France<br>Matchday Points: 0<br>Predicted Score: 1-2<br>Actual Score: 0-0",
          "Player: Peter Popular<br>Netherlands vs Turkey<br>Matchday Points: 3<br>Predicted Score: 2-1<br>Actual Score: 2-1",
          "Player: Peter Popular<br>England vs Switzerland<br>Matchday Points: 0<br>Predicted Score: 2-1<br>Actual Score: 1-1",
          "Player: Peter Popular<br>Spain vs France<br>Matchday Points: 6<br>Predicted Score: 2-1<br>Actual Score: 2-1",
          "Player: Peter Popular<br>Netherlands vs England<br>Matchday Points: 0<br>Predicted Score: 1-1<br>Actual Score: 1-2"
         ],
         "type": "scatter",
         "x": [
          "M00",
          "M01",
          "M03",
          "M05",
          "M08",
          "M12",
          "M13",
          "M16",
          "M17",
          "M20",
          "M22",
          "M26",
          "M28",
          "M30",
          "M31",
          "M36",
          "M37",
          "M38",
          "M39",
          "M40",
          "M41",
          "M42",
          "M43",
          "M44",
          "M45",
          "M46",
          "M47",
          "M48",
          "M49",
          "M50"
         ],
         "y": [
          0,
          2,
          3,
          4,
          5,
          6,
          6,
          7,
          7,
          7,
          10,
          10,
          10,
          10,
          10,
          16,
          19,
          19,
          20,
          20,
          20,
          21,
          22,
          22,
          22,
          22,
          25,
          25,
          31,
          31
         ]
        },
        {
         "hovertemplate": "<b>%{text}</b><br>Match: %{x}<br>Cumulative Points: %{y}<extra></extra>",
         "mode": "lines+markers",
         "name": "Rando Randal",
         "text": [
          "Player: Rando Randal<br> vs <br>Matchday Points: 0<br>Predicted Score: <br>Actual Score: ",
          "Player: Rando Randal<br>Germany vs Scotland<br>Matchday Points: 1<br>Predicted Score: 1-0<br>Actual Score: 5-1",
          "Player: Rando Randal<br>Spain vs Croatia<br>Matchday Points: 0<br>Predicted Score: 1-1<br>Actual Score: 3-0",
          "Player: Rando Randal<br>Serbia vs England<br>Matchday Points: 2<br>Predicted Score: 2-4<br>Actual Score: 0-1",
          "Player: Rando Randal<br>Austria vs France<br>Matchday Points: 0<br>Predicted Score: 3-2<br>Actual Score: 0-1",
          "Player: Rando Randal<br>Portugal vs Czech Republic<br>Matchday Points: 1<br>Predicted Score: 5-3<br>Actual Score: 2-1",
          "Player: Rando Randal<br>Scotland vs Switzerland<br>Matchday Points: 0<br>Predicted Score: 4-1<br>Actual Score: 1-1",
          "Player: Rando Randal<br>Spain vs Italy<br>Matchday Points: 0<br>Predicted Score: 3-5<br>Actual Score: 1-0",
          "Player: Rando Randal<br>Denmark vs England<br>Matchday Points: 0<br>Predicted Score: 2-5<br>Actual Score: 1-1",
          "Player: Rando Randal<br>Netherlands vs France<br>Matchday Points: 0<br>Predicted Score: 3-2<br>Actual Score: 0-0",
          "Player: Rando Randal<br>Belgium vs Romania<br>Matchday Points: 0<br>Predicted Score: 0-2<br>Actual Score: 2-0",
          "Player: Rando Randal<br>Scotland vs Hungary<br>Matchday Points: 1<br>Predicted Score: 4-5<br>Actual Score: 0-1",
          "Player: Rando Randal<br>Croatia vs Italy<br>Matchday Points: 0<br>Predicted Score: 0-4<br>Actual Score: 1-1",
          "Player: Rando Randal<br>Denmark vs Serbia<br>Matchday Points: 0<br>Predicted Score: 4-5<br>Actual Score: 0-0",
          "Player: Rando Randal<br>Netherlands vs Austria<br>Matchday Points: 0<br>Predicted Score: 3-0<br>Actual Score: 2-3",
          "Player: Rando Randal<br>Czech Republic vs Turkey<br>Matchday Points: 0<br>Predicted Score: 5-3<br>Actual Score: 1-2",
          "Player: Rando Randal<br>Germany vs Denmark<br>Matchday Points: 0<br>Predicted Score: 3-4<br>Actual Score: 2-0",
          "Player: Rando Randal<br>Switzerland vs Italy<br>Matchday Points: 0<br>Predicted Score: 0-4<br>Actual Score: 2-0",
          "Player: Rando Randal<br>Spain vs Georgia<br>Matchday Points: 1<br>Predicted Score: 5-2<br>Actual Score: 4-1",
          "Player: Rando Randal<br>England vs Slovakia<br>Matchday Points: 0<br>Predicted Score: 3-2<br>Actual Score: 1-1",
          "Player: Rando Randal<br>Portugal vs Slovenia<br>Matchday Points: 0<br>Predicted Score: 3-5<br>Actual Score: 0-0",
          "Player: Rando Randal<br>France vs Belgium<br>Matchday Points: 1<br>Predicted Score: 2-1<br>Actual Score: 1-0",
          "Player: Rando Randal<br>Romania vs Netherlands<br>Matchday Points: 0<br>Predicted Score: 3-3<br>Actual Score: 0-3",
          "Player: Rando Randal<br>Austria vs Turkey<br>Matchday Points: 0<br>Predicted Score: 4-2<br>Actual Score: 1-2",
          "Player: Rando Randal<br>Spain vs Germany<br>Matchday Points: 0<br>Predicted Score: 2-1<br>Actual Score: 1-1",
          "Player: Rando Randal<br>Portugal vs France<br>Matchday Points: 0<br>Predicted Score: 0-1<br>Actual Score: 0-0",
          "Player: Rando Randal<br>Netherlands vs Turkey<br>Matchday Points: 0<br>Predicted Score: 0-5<br>Actual Score: 2-1",
          "Player: Rando Randal<br>England vs Switzerland<br>Matchday Points: 0<br>Predicted Score: 3-2<br>Actual Score: 1-1",
          "Player: Rando Randal<br>Spain vs France<br>Matchday Points: 2<br>Predicted Score: 5-0<br>Actual Score: 2-1",
          "Player: Rando Randal<br>Netherlands vs England<br>Matchday Points: 1<br>Predicted Score: 3-4<br>Actual Score: 1-2"
         ],
         "type": "scatter",
         "x": [
          "M00",
          "M01",
          "M03",
          "M05",
          "M08",
          "M12",
          "M13",
          "M16",
          "M17",
          "M20",
          "M22",
          "M26",
          "M28",
          "M30",
          "M31",
          "M36",
          "M37",
          "M38",
          "M39",
          "M40",
          "M41",
          "M42",
          "M43",
          "M44",
          "M45",
          "M46",
          "M47",
          "M48",
          "M49",
          "M50"
         ],
         "y": [
          0,
          1,
          1,
          3,
          3,
          4,
          4,
          4,
          4,
          4,
          4,
          5,
          5,
          5,
          5,
          5,
          5,
          5,
          6,
          6,
          6,
          7,
          7,
          7,
          7,
          7,
          7,
          7,
          9,
          10
         ]
        },
        {
         "hovertemplate": "<b>%{text}</b><br>Match: %{x}<br>Cumulative Points: %{y}<extra></extra>",
         "mode": "lines+markers",
         "name": "Tom",
         "text": [
          "Player: Tom<br> vs <br>Matchday Points: 0<br>Predicted Score: <br>Actual Score: ",
          "Player: Tom<br>Germany vs Scotland<br>Matchday Points: 1<br>Predicted Score: 2-0<br>Actual Score: 5-1",
          "Player: Tom<br>Spain vs Croatia<br>Matchday Points: 0<br>Predicted Score: 0-0<br>Actual Score: 3-0",
          "Player: Tom<br>Serbia vs England<br>Matchday Points: 2<br>Predicted Score: 0-2<br>Actual Score: 0-1",
          "Player: Tom<br>Austria vs France<br>Matchday Points: 1<br>Predicted Score: 1-2<br>Actual Score: 0-1",
          "Player: Tom<br>Portugal vs Czech Republic<br>Matchday Points: 1<br>Predicted Score: 3-1<br>Actual Score: 2-1",
          "Player: Tom<br>Scotland vs Switzerland<br>Matchday Points: 0<br>Predicted Score: 1-3<br>Actual Score: 1-1",
          "Player: Tom<br>Spain vs Italy<br>Matchday Points: 1<br>Predicted Score: 2-1<br>Actual Score: 1-0",
          "Player: Tom<br>Denmark vs England<br>Matchday Points: 0<br>Predicted Score: 0-1<br>Actual Score: 1-1",
          "Player: Tom<br>Netherlands vs France<br>Matchday Points: 0<br>Predicted Score: 1-2<br>Actual Score: 0-0",
          "Player: Tom<br>Belgium vs Romania<br>Matchday Points: 1<br>Predicted Score: 3-0<br>Actual Score: 2-0",
          "Player: Tom<br>Scotland vs Hungary<br>Matchday Points: 0<br>Predicted Score: 1-1<br>Actual Score: 0-1",
          "Player: Tom<br>Croatia vs Italy<br>Matchday Points: 3<br>Predicted Score: 1-1<br>Actual Score: 1-1",
          "Player: Tom<br>Denmark vs Serbia<br>Matchday Points: 0<br>Predicted Score: 1-0<br>Actual Score: 0-0",
          "Player: Tom<br>Netherlands vs Austria<br>Matchday Points: 1<br>Predicted Score: 1-2<br>Actual Score: 2-3",
          "Player: Tom<br>Czech Republic vs Turkey<br>Matchday Points: 1<br>Predicted Score: 0-1<br>Actual Score: 1-2",
          "Player: Tom<br>Germany vs Denmark<br>Matchday Points: 3<br>Predicted Score: 2-0<br>Actual Score: 2-0",
          "Player: Tom<br>Switzerland vs Italy<br>Matchday Points: 0<br>Predicted Score: 1-1<br>Actual Score: 2-0",
          "Player: Tom<br>Spain vs Georgia<br>Matchday Points: 1<br>Predicted Score: 2-0<br>Actual Score: 4-1",
          "Player: Tom<br>England vs Slovakia<br>Matchday Points: 0<br>Predicted Score: 1-0<br>Actual Score: 1-1",
          "Player: Tom<br>Portugal vs Slovenia<br>Matchday Points: 0<br>Predicted Score: 2-1<br>Actual Score: 0-0",
          "Player: Tom<br>France vs Belgium<br>Matchday Points: 0<br>Predicted Score: 1-1<br>Actual Score: 1-0",
          "Player: Tom<br>Romania vs Netherlands<br>Matchday Points: 0<br>Predicted Score: 2-1<br>Actual Score: 0-3",
          "Player: Tom<br>Austria vs Turkey<br>Matchday Points: 0<br>Predicted Score: 3-2<br>Actual Score: 1-2",
          "Player: Tom<br>Spain vs Germany<br>Matchday Points: 3<br>Predicted Score: 1-1<br>Actual Score: 1-1",
          "Player: Tom<br>Portugal vs France<br>Matchday Points: 0<br>Predicted Score: 0-1<br>Actual Score: 0-0",
          "Player: Tom<br>Netherlands vs Turkey<br>Matchday Points: 0<br>Predicted Score: 1-1<br>Actual Score: 2-1",
          "Player: Tom<br>England vs Switzerland<br>Matchday Points: 0<br>Predicted Score: 1-2<br>Actual Score: 1-1",
          "Player: Tom<br>Spain vs France<br>Matchday Points: 0<br>Predicted Score: 1-2<br>Actual Score: 2-1",
          "Player: Tom<br>Netherlands vs England<br>Matchday Points: 0<br>Predicted Score: 1-1<br>Actual Score: 1-2"
         ],
         "type": "scatter",
         "x": [
          "M00",
          "M01",
          "M03",
          "M05",
          "M08",
          "M12",
          "M13",
          "M16",
          "M17",
          "M20",
          "M22",
          "M26",
          "M28",
          "M30",
          "M31",
          "M36",
          "M37",
          "M38",
          "M39",
          "M40",
          "M41",
          "M42",
          "M43",
          "M44",
          "M45",
          "M46",
          "M47",
          "M48",
          "M49",
          "M50"
         ],
         "y": [
          0,
          1,
          1,
          3,
          4,
          5,
          5,
          6,
          6,
          6,
          7,
          7,
          10,
          10,
          11,
          12,
          15,
          15,
          16,
          16,
          16,
          16,
          16,
          16,
          19,
          19,
          19,
          19,
          19,
          19
         ]
        }
       ],
       "layout": {
        "legend": {
         "orientation": "h"
        },
        "template": {
         "data": {
          "bar": [
           {
            "error_x": {
             "color": "#2a3f5f"
            },
            "error_y": {
             "color": "#2a3f5f"
            },
            "marker": {
             "line": {
              "color": "#E5ECF6",
              "width": 0.5
             },
             "pattern": {
              "fillmode": "overlay",
              "size": 10,
              "solidity": 0.2
             }
            },
            "type": "bar"
           }
          ],
          "barpolar": [
           {
            "marker": {
             "line": {
              "color": "#E5ECF6",
              "width": 0.5
             },
             "pattern": {
              "fillmode": "overlay",
              "size": 10,
              "solidity": 0.2
             }
            },
            "type": "barpolar"
           }
          ],
          "carpet": [
           {
            "aaxis": {
             "endlinecolor": "#2a3f5f",
             "gridcolor": "white",
             "linecolor": "white",
             "minorgridcolor": "white",
             "startlinecolor": "#2a3f5f"
            },
            "baxis": {
             "endlinecolor": "#2a3f5f",
             "gridcolor": "white",
             "linecolor": "white",
             "minorgridcolor": "white",
             "startlinecolor": "#2a3f5f"
            },
            "type": "carpet"
           }
          ],
          "choropleth": [
           {
            "colorbar": {
             "outlinewidth": 0,
             "ticks": ""
            },
            "type": "choropleth"
           }
          ],
          "contour": [
           {
            "colorbar": {
             "outlinewidth": 0,
             "ticks": ""
            },
            "colorscale": [
             [
              0,
              "#0d0887"
             ],
             [
              0.1111111111111111,
              "#46039f"
             ],
             [
              0.2222222222222222,
              "#7201a8"
             ],
             [
              0.3333333333333333,
              "#9c179e"
             ],
             [
              0.4444444444444444,
              "#bd3786"
             ],
             [
              0.5555555555555556,
              "#d8576b"
             ],
             [
              0.6666666666666666,
              "#ed7953"
             ],
             [
              0.7777777777777778,
              "#fb9f3a"
             ],
             [
              0.8888888888888888,
              "#fdca26"
             ],
             [
              1,
              "#f0f921"
             ]
            ],
            "type": "contour"
           }
          ],
          "contourcarpet": [
           {
            "colorbar": {
             "outlinewidth": 0,
             "ticks": ""
            },
            "type": "contourcarpet"
           }
          ],
          "heatmap": [
           {
            "colorbar": {
             "outlinewidth": 0,
             "ticks": ""
            },
            "colorscale": [
             [
              0,
              "#0d0887"
             ],
             [
              0.1111111111111111,
              "#46039f"
             ],
             [
              0.2222222222222222,
              "#7201a8"
             ],
             [
              0.3333333333333333,
              "#9c179e"
             ],
             [
              0.4444444444444444,
              "#bd3786"
             ],
             [
              0.5555555555555556,
              "#d8576b"
             ],
             [
              0.6666666666666666,
              "#ed7953"
             ],
             [
              0.7777777777777778,
              "#fb9f3a"
             ],
             [
              0.8888888888888888,
              "#fdca26"
             ],
             [
              1,
              "#f0f921"
             ]
            ],
            "type": "heatmap"
           }
          ],
          "heatmapgl": [
           {
            "colorbar": {
             "outlinewidth": 0,
             "ticks": ""
            },
            "colorscale": [
             [
              0,
              "#0d0887"
             ],
             [
              0.1111111111111111,
              "#46039f"
             ],
             [
              0.2222222222222222,
              "#7201a8"
             ],
             [
              0.3333333333333333,
              "#9c179e"
             ],
             [
              0.4444444444444444,
              "#bd3786"
             ],
             [
              0.5555555555555556,
              "#d8576b"
             ],
             [
              0.6666666666666666,
              "#ed7953"
             ],
             [
              0.7777777777777778,
              "#fb9f3a"
             ],
             [
              0.8888888888888888,
              "#fdca26"
             ],
             [
              1,
              "#f0f921"
             ]
            ],
            "type": "heatmapgl"
           }
          ],
          "histogram": [
           {
            "marker": {
             "pattern": {
              "fillmode": "overlay",
              "size": 10,
              "solidity": 0.2
             }
            },
            "type": "histogram"
           }
          ],
          "histogram2d": [
           {
            "colorbar": {
             "outlinewidth": 0,
             "ticks": ""
            },
            "colorscale": [
             [
              0,
              "#0d0887"
             ],
             [
              0.1111111111111111,
              "#46039f"
             ],
             [
              0.2222222222222222,
              "#7201a8"
             ],
             [
              0.3333333333333333,
              "#9c179e"
             ],
             [
              0.4444444444444444,
              "#bd3786"
             ],
             [
              0.5555555555555556,
              "#d8576b"
             ],
             [
              0.6666666666666666,
              "#ed7953"
             ],
             [
              0.7777777777777778,
              "#fb9f3a"
             ],
             [
              0.8888888888888888,
              "#fdca26"
             ],
             [
              1,
              "#f0f921"
             ]
            ],
            "type": "histogram2d"
           }
          ],
          "histogram2dcontour": [
           {
            "colorbar": {
             "outlinewidth": 0,
             "ticks": ""
            },
            "colorscale": [
             [
              0,
              "#0d0887"
             ],
             [
              0.1111111111111111,
              "#46039f"
             ],
             [
              0.2222222222222222,
              "#7201a8"
             ],
             [
              0.3333333333333333,
              "#9c179e"
             ],
             [
              0.4444444444444444,
              "#bd3786"
             ],
             [
              0.5555555555555556,
              "#d8576b"
             ],
             [
              0.6666666666666666,
              "#ed7953"
             ],
             [
              0.7777777777777778,
              "#fb9f3a"
             ],
             [
              0.8888888888888888,
              "#fdca26"
             ],
             [
              1,
              "#f0f921"
             ]
            ],
            "type": "histogram2dcontour"
           }
          ],
          "mesh3d": [
           {
            "colorbar": {
             "outlinewidth": 0,
             "ticks": ""
            },
            "type": "mesh3d"
           }
          ],
          "parcoords": [
           {
            "line": {
             "colorbar": {
              "outlinewidth": 0,
              "ticks": ""
             }
            },
            "type": "parcoords"
           }
          ],
          "pie": [
           {
            "automargin": true,
            "type": "pie"
           }
          ],
          "scatter": [
           {
            "fillpattern": {
             "fillmode": "overlay",
             "size": 10,
             "solidity": 0.2
            },
            "type": "scatter"
           }
          ],
          "scatter3d": [
           {
            "line": {
             "colorbar": {
              "outlinewidth": 0,
              "ticks": ""
             }
            },
            "marker": {
             "colorbar": {
              "outlinewidth": 0,
              "ticks": ""
             }
            },
            "type": "scatter3d"
           }
          ],
          "scattercarpet": [
           {
            "marker": {
             "colorbar": {
              "outlinewidth": 0,
              "ticks": ""
             }
            },
            "type": "scattercarpet"
           }
          ],
          "scattergeo": [
           {
            "marker": {
             "colorbar": {
              "outlinewidth": 0,
              "ticks": ""
             }
            },
            "type": "scattergeo"
           }
          ],
          "scattergl": [
           {
            "marker": {
             "colorbar": {
              "outlinewidth": 0,
              "ticks": ""
             }
            },
            "type": "scattergl"
           }
          ],
          "scattermapbox": [
           {
            "marker": {
             "colorbar": {
              "outlinewidth": 0,
              "ticks": ""
             }
            },
            "type": "scattermapbox"
           }
          ],
          "scatterpolar": [
           {
            "marker": {
             "colorbar": {
              "outlinewidth": 0,
              "ticks": ""
             }
            },
            "type": "scatterpolar"
           }
          ],
          "scatterpolargl": [
           {
            "marker": {
             "colorbar": {
              "outlinewidth": 0,
              "ticks": ""
             }
            },
            "type": "scatterpolargl"
           }
          ],
          "scatterternary": [
           {
            "marker": {
             "colorbar": {
              "outlinewidth": 0,
              "ticks": ""
             }
            },
            "type": "scatterternary"
           }
          ],
          "surface": [
           {
            "colorbar": {
             "outlinewidth": 0,
             "ticks": ""
            },
            "colorscale": [
             [
              0,
              "#0d0887"
             ],
             [
              0.1111111111111111,
              "#46039f"
             ],
             [
              0.2222222222222222,
              "#7201a8"
             ],
             [
              0.3333333333333333,
              "#9c179e"
             ],
             [
              0.4444444444444444,
              "#bd3786"
             ],
             [
              0.5555555555555556,
              "#d8576b"
             ],
             [
              0.6666666666666666,
              "#ed7953"
             ],
             [
              0.7777777777777778,
              "#fb9f3a"
             ],
             [
              0.8888888888888888,
              "#fdca26"
             ],
             [
              1,
              "#f0f921"
             ]
            ],
            "type": "surface"
           }
          ],
          "table": [
           {
            "cells": {
             "fill": {
              "color": "#EBF0F8"
             },
             "line": {
              "color": "white"
             }
            },
            "header": {
             "fill": {
              "color": "#C8D4E3"
             },
             "line": {
              "color": "white"
             }
            },
            "type": "table"
           }
          ]
         },
         "layout": {
          "annotationdefaults": {
           "arrowcolor": "#2a3f5f",
           "arrowhead": 0,
           "arrowwidth": 1
          },
          "autotypenumbers": "strict",
          "coloraxis": {
           "colorbar": {
            "outlinewidth": 0,
            "ticks": ""
           }
          },
          "colorscale": {
           "diverging": [
            [
             0,
             "#8e0152"
            ],
            [
             0.1,
             "#c51b7d"
            ],
            [
             0.2,
             "#de77ae"
            ],
            [
             0.3,
             "#f1b6da"
            ],
            [
             0.4,
             "#fde0ef"
            ],
            [
             0.5,
             "#f7f7f7"
            ],
            [
             0.6,
             "#e6f5d0"
            ],
            [
             0.7,
             "#b8e186"
            ],
            [
             0.8,
             "#7fbc41"
            ],
            [
             0.9,
             "#4d9221"
            ],
            [
             1,
             "#276419"
            ]
           ],
           "sequential": [
            [
             0,
             "#0d0887"
            ],
            [
             0.1111111111111111,
             "#46039f"
            ],
            [
             0.2222222222222222,
             "#7201a8"
            ],
            [
             0.3333333333333333,
             "#9c179e"
            ],
            [
             0.4444444444444444,
             "#bd3786"
            ],
            [
             0.5555555555555556,
             "#d8576b"
            ],
            [
             0.6666666666666666,
             "#ed7953"
            ],
            [
             0.7777777777777778,
             "#fb9f3a"
            ],
            [
             0.8888888888888888,
             "#fdca26"
            ],
            [
             1,
             "#f0f921"
            ]
           ],
           "sequentialminus": [
            [
             0,
             "#0d0887"
            ],
            [
             0.1111111111111111,
             "#46039f"
            ],
            [
             0.2222222222222222,
             "#7201a8"
            ],
            [
             0.3333333333333333,
             "#9c179e"
            ],
            [
             0.4444444444444444,
             "#bd3786"
            ],
            [
             0.5555555555555556,
             "#d8576b"
            ],
            [
             0.6666666666666666,
             "#ed7953"
            ],
            [
             0.7777777777777778,
             "#fb9f3a"
            ],
            [
             0.8888888888888888,
             "#fdca26"
            ],
            [
             1,
             "#f0f921"
            ]
           ]
          },
          "colorway": [
           "#636efa",
           "#EF553B",
           "#00cc96",
           "#ab63fa",
           "#FFA15A",
           "#19d3f3",
           "#FF6692",
           "#B6E880",
           "#FF97FF",
           "#FECB52"
          ],
          "font": {
           "color": "#2a3f5f"
          },
          "geo": {
           "bgcolor": "white",
           "lakecolor": "white",
           "landcolor": "#E5ECF6",
           "showlakes": true,
           "showland": true,
           "subunitcolor": "white"
          },
          "hoverlabel": {
           "align": "left"
          },
          "hovermode": "closest",
          "mapbox": {
           "style": "light"
          },
          "paper_bgcolor": "white",
          "plot_bgcolor": "#E5ECF6",
          "polar": {
           "angularaxis": {
            "gridcolor": "white",
            "linecolor": "white",
            "ticks": ""
           },
           "bgcolor": "#E5ECF6",
           "radialaxis": {
            "gridcolor": "white",
            "linecolor": "white",
            "ticks": ""
           }
          },
          "scene": {
           "xaxis": {
            "backgroundcolor": "#E5ECF6",
            "gridcolor": "white",
            "gridwidth": 2,
            "linecolor": "white",
            "showbackground": true,
            "ticks": "",
            "zerolinecolor": "white"
           },
           "yaxis": {
            "backgroundcolor": "#E5ECF6",
            "gridcolor": "white",
            "gridwidth": 2,
            "linecolor": "white",
            "showbackground": true,
            "ticks": "",
            "zerolinecolor": "white"
           },
           "zaxis": {
            "backgroundcolor": "#E5ECF6",
            "gridcolor": "white",
            "gridwidth": 2,
            "linecolor": "white",
            "showbackground": true,
            "ticks": "",
            "zerolinecolor": "white"
           }
          },
          "shapedefaults": {
           "line": {
            "color": "#2a3f5f"
           }
          },
          "ternary": {
           "aaxis": {
            "gridcolor": "white",
            "linecolor": "white",
            "ticks": ""
           },
           "baxis": {
            "gridcolor": "white",
            "linecolor": "white",
            "ticks": ""
           },
           "bgcolor": "#E5ECF6",
           "caxis": {
            "gridcolor": "white",
            "linecolor": "white",
            "ticks": ""
           }
          },
          "title": {
           "x": 0.05
          },
          "xaxis": {
           "automargin": true,
           "gridcolor": "white",
           "linecolor": "white",
           "ticks": "",
           "title": {
            "standoff": 15
           },
           "zerolinecolor": "white",
           "zerolinewidth": 2
          },
          "yaxis": {
           "automargin": true,
           "gridcolor": "white",
           "linecolor": "white",
           "ticks": "",
           "title": {
            "standoff": 15
           },
           "zerolinecolor": "white",
           "zerolinewidth": 2
          }
         }
        },
        "title": {
         "text": "Cumulative Total Points Over Time"
        },
        "xaxis": {
         "title": {
          "text": " "
         }
        },
        "yaxis": {
         "title": {
          "text": "Cumulative Total Points"
         }
        }
       }
      }
     },
     "metadata": {},
     "output_type": "display_data"
    }
   ],
   "source": [
    "# Create a new dataframe containing necessary columns\n",
    "plot_df = df_merged[['timestamp', 'name', 'match_code', 'home', 'away', 'predicted_score', 'actual_score', 'total_points']].copy()\n",
    "\n",
    "# Get unique match codes from the DataFrame\n",
    "match_codes_unique = df_merged['match_code'].unique()\n",
    "\n",
    "# Sort the match codes\n",
    "match_code_order = sorted(match_codes_unique, key=lambda x: int(x[1:]))\n",
    "\n",
    "# Convert match_code to categorical and set the order\n",
    "plot_df['match_code'] = pd.Categorical(plot_df['match_code'], categories=match_code_order, ordered=True)\n",
    "\n",
    "# Sort the dataframe based on match_code order\n",
    "plot_df = plot_df.sort_values(by='match_code')\n",
    "\n",
    "# Calculate the cumulative sum of total_points\n",
    "plot_df['cumulative_total_points'] = plot_df.groupby('name')['total_points'].cumsum()\n",
    "\n",
    "# Assuming plot_df is your dataframe\n",
    "\n",
    "# Add initial data points for each player\n",
    "initial_points = plot_df[['name']].drop_duplicates()\n",
    "initial_points['match_code'] = 'M00'\n",
    "initial_points['cumulative_total_points'] = 0\n",
    "initial_points['home'] = ''\n",
    "initial_points['away'] = ''\n",
    "initial_points['total_points'] = 0\n",
    "initial_points['predicted_score'] = ''\n",
    "initial_points['actual_score'] = ''\n",
    "\n",
    "# Concatenate the initial points with the original dataframe\n",
    "plot_df = pd.concat([initial_points, plot_df], ignore_index=True).sort_values(by=['name', 'match_code'])\n",
    "\n",
    "# Create traces for each name\n",
    "traces = []\n",
    "for name, group in plot_df.groupby('name'):\n",
    "    trace = go.Scatter(\n",
    "        x=group['match_code'], \n",
    "        y=group['cumulative_total_points'], \n",
    "        mode='lines+markers', \n",
    "        name=name,\n",
    "        text=group.apply(lambda row: f\"Player: {row['name']}<br>{row['home']} vs {row['away']}<br>Matchday Points: {row['total_points']}<br>Predicted Score: {row['predicted_score']}<br>Actual Score: {row['actual_score']}\", axis=1),\n",
    "        hovertemplate='<b>%{text}</b><br>Match: %{x}<br>Cumulative Points: %{y}<extra></extra>'\n",
    "    )\n",
    "    traces.append(trace)\n",
    "\n",
    "# Create the layout\n",
    "layout = go.Layout(\n",
    "    title='Cumulative Total Points Over Time',\n",
    "    xaxis=dict(title=' '),\n",
    "    yaxis=dict(title='Cumulative Total Points'),\n",
    "    legend=dict(orientation='h')\n",
    ")\n",
    "\n",
    "# Create the figure\n",
    "fig = go.Figure(data=traces, layout=layout)\n",
    "\n",
    "# Show the plot\n",
    "fig.show()"
   ]
  },
  {
   "cell_type": "code",
   "execution_count": 51,
   "id": "a81284eb",
   "metadata": {},
   "outputs": [],
   "source": [
    "# Calculate the cumulative total points for each player\n",
    "points_by_name_stage['cumulative_total_points'] = points_by_name_stage.groupby('name')['total_points'].cumsum()\n",
    "\n",
    "# Calculate the cumulative average total points for each matchday\n",
    "cumulative_avg_total_points = points_by_name_stage.groupby('matchday')['cumulative_total_points'].mean().reset_index()\n",
    "cumulative_avg_total_points.rename(columns={'cumulative_total_points': 'cumulative_avg_total_points'}, inplace=True)\n",
    "\n",
    "# Merge the cumulative average total points back to the original DataFrame\n",
    "vs_mean_df = points_by_name_stage.merge(cumulative_avg_total_points, on='matchday')\n",
    "\n",
    "# Calculate the difference between each player's cumulative total points and the cumulative average\n",
    "vs_mean_df['difference'] = vs_mean_df['cumulative_total_points'] - vs_mean_df['cumulative_avg_total_points']\n",
    "\n",
    "# Display the resulting DataFrame\n",
    "vs_mean_df[['name', 'matchday', 'cumulative_total_points', 'cumulative_avg_total_points', 'difference']]\n",
    "\n",
    "# write to csv\n",
    "vs_mean_df.to_csv('data/vs_mean_df.csv')\n",
    "\n"
   ]
  },
  {
   "cell_type": "code",
   "execution_count": 52,
   "id": "3f853a37",
   "metadata": {},
   "outputs": [
    {
     "data": {
      "text/html": [
       "<div>\n",
       "<style scoped>\n",
       "    .dataframe tbody tr th:only-of-type {\n",
       "        vertical-align: middle;\n",
       "    }\n",
       "\n",
       "    .dataframe tbody tr th {\n",
       "        vertical-align: top;\n",
       "    }\n",
       "\n",
       "    .dataframe thead th {\n",
       "        text-align: right;\n",
       "    }\n",
       "</style>\n",
       "<table border=\"1\" class=\"dataframe\">\n",
       "  <thead>\n",
       "    <tr style=\"text-align: right;\">\n",
       "      <th></th>\n",
       "      <th>name</th>\n",
       "      <th>matchday</th>\n",
       "      <th>stage_detail</th>\n",
       "      <th>base_points</th>\n",
       "      <th>total_points</th>\n",
       "      <th>cumulative_total_points</th>\n",
       "      <th>cumulative_avg_total_points</th>\n",
       "      <th>difference</th>\n",
       "    </tr>\n",
       "  </thead>\n",
       "  <tbody>\n",
       "    <tr>\n",
       "      <th>0</th>\n",
       "      <td>Corfe</td>\n",
       "      <td>1</td>\n",
       "      <td>01. Groups - Matchday 1</td>\n",
       "      <td>5</td>\n",
       "      <td>6</td>\n",
       "      <td>6</td>\n",
       "      <td>6.2</td>\n",
       "      <td>-0.2</td>\n",
       "    </tr>\n",
       "    <tr>\n",
       "      <th>1</th>\n",
       "      <td>Corfe</td>\n",
       "      <td>2</td>\n",
       "      <td>02. Groups - Matchday 2</td>\n",
       "      <td>1</td>\n",
       "      <td>1</td>\n",
       "      <td>7</td>\n",
       "      <td>8.8</td>\n",
       "      <td>-1.8</td>\n",
       "    </tr>\n",
       "    <tr>\n",
       "      <th>2</th>\n",
       "      <td>Corfe</td>\n",
       "      <td>3</td>\n",
       "      <td>03. Groups - Matchday 3</td>\n",
       "      <td>3</td>\n",
       "      <td>3</td>\n",
       "      <td>10</td>\n",
       "      <td>11.8</td>\n",
       "      <td>-1.8</td>\n",
       "    </tr>\n",
       "    <tr>\n",
       "      <th>3</th>\n",
       "      <td>Corfe</td>\n",
       "      <td>4</td>\n",
       "      <td>04. KO - Round of 16</td>\n",
       "      <td>8</td>\n",
       "      <td>11</td>\n",
       "      <td>21</td>\n",
       "      <td>17.2</td>\n",
       "      <td>3.8</td>\n",
       "    </tr>\n",
       "    <tr>\n",
       "      <th>4</th>\n",
       "      <td>Corfe</td>\n",
       "      <td>5</td>\n",
       "      <td>05. KO - Quarter Final</td>\n",
       "      <td>1</td>\n",
       "      <td>2</td>\n",
       "      <td>23</td>\n",
       "      <td>21.3</td>\n",
       "      <td>1.7</td>\n",
       "    </tr>\n",
       "    <tr>\n",
       "      <th>5</th>\n",
       "      <td>Corfe</td>\n",
       "      <td>6</td>\n",
       "      <td>06. KO - Semi Final</td>\n",
       "      <td>2</td>\n",
       "      <td>3</td>\n",
       "      <td>26</td>\n",
       "      <td>23.9</td>\n",
       "      <td>2.1</td>\n",
       "    </tr>\n",
       "    <tr>\n",
       "      <th>6</th>\n",
       "      <td>Ed</td>\n",
       "      <td>1</td>\n",
       "      <td>01. Groups - Matchday 1</td>\n",
       "      <td>4</td>\n",
       "      <td>5</td>\n",
       "      <td>5</td>\n",
       "      <td>6.2</td>\n",
       "      <td>-1.2</td>\n",
       "    </tr>\n",
       "    <tr>\n",
       "      <th>7</th>\n",
       "      <td>Ed</td>\n",
       "      <td>2</td>\n",
       "      <td>02. Groups - Matchday 2</td>\n",
       "      <td>1</td>\n",
       "      <td>1</td>\n",
       "      <td>6</td>\n",
       "      <td>8.8</td>\n",
       "      <td>-2.8</td>\n",
       "    </tr>\n",
       "    <tr>\n",
       "      <th>8</th>\n",
       "      <td>Ed</td>\n",
       "      <td>3</td>\n",
       "      <td>03. Groups - Matchday 3</td>\n",
       "      <td>3</td>\n",
       "      <td>3</td>\n",
       "      <td>9</td>\n",
       "      <td>11.8</td>\n",
       "      <td>-2.8</td>\n",
       "    </tr>\n",
       "    <tr>\n",
       "      <th>9</th>\n",
       "      <td>Ed</td>\n",
       "      <td>4</td>\n",
       "      <td>04. KO - Round of 16</td>\n",
       "      <td>4</td>\n",
       "      <td>5</td>\n",
       "      <td>14</td>\n",
       "      <td>17.2</td>\n",
       "      <td>-3.2</td>\n",
       "    </tr>\n",
       "    <tr>\n",
       "      <th>10</th>\n",
       "      <td>Ed</td>\n",
       "      <td>5</td>\n",
       "      <td>05. KO - Quarter Final</td>\n",
       "      <td>4</td>\n",
       "      <td>7</td>\n",
       "      <td>21</td>\n",
       "      <td>21.3</td>\n",
       "      <td>-0.3</td>\n",
       "    </tr>\n",
       "    <tr>\n",
       "      <th>11</th>\n",
       "      <td>Ed</td>\n",
       "      <td>6</td>\n",
       "      <td>06. KO - Semi Final</td>\n",
       "      <td>0</td>\n",
       "      <td>0</td>\n",
       "      <td>21</td>\n",
       "      <td>23.9</td>\n",
       "      <td>-2.9</td>\n",
       "    </tr>\n",
       "    <tr>\n",
       "      <th>12</th>\n",
       "      <td>Jay</td>\n",
       "      <td>1</td>\n",
       "      <td>01. Groups - Matchday 1</td>\n",
       "      <td>6</td>\n",
       "      <td>7</td>\n",
       "      <td>7</td>\n",
       "      <td>6.2</td>\n",
       "      <td>0.8</td>\n",
       "    </tr>\n",
       "    <tr>\n",
       "      <th>13</th>\n",
       "      <td>Jay</td>\n",
       "      <td>2</td>\n",
       "      <td>02. Groups - Matchday 2</td>\n",
       "      <td>4</td>\n",
       "      <td>4</td>\n",
       "      <td>11</td>\n",
       "      <td>8.8</td>\n",
       "      <td>2.2</td>\n",
       "    </tr>\n",
       "    <tr>\n",
       "      <th>14</th>\n",
       "      <td>Jay</td>\n",
       "      <td>3</td>\n",
       "      <td>03. Groups - Matchday 3</td>\n",
       "      <td>3</td>\n",
       "      <td>6</td>\n",
       "      <td>17</td>\n",
       "      <td>11.8</td>\n",
       "      <td>5.2</td>\n",
       "    </tr>\n",
       "    <tr>\n",
       "      <th>15</th>\n",
       "      <td>Jay</td>\n",
       "      <td>4</td>\n",
       "      <td>04. KO - Round of 16</td>\n",
       "      <td>4</td>\n",
       "      <td>5</td>\n",
       "      <td>22</td>\n",
       "      <td>17.2</td>\n",
       "      <td>4.8</td>\n",
       "    </tr>\n",
       "    <tr>\n",
       "      <th>16</th>\n",
       "      <td>Jay</td>\n",
       "      <td>5</td>\n",
       "      <td>05. KO - Quarter Final</td>\n",
       "      <td>2</td>\n",
       "      <td>3</td>\n",
       "      <td>25</td>\n",
       "      <td>21.3</td>\n",
       "      <td>3.7</td>\n",
       "    </tr>\n",
       "    <tr>\n",
       "      <th>17</th>\n",
       "      <td>Jay</td>\n",
       "      <td>6</td>\n",
       "      <td>06. KO - Semi Final</td>\n",
       "      <td>1</td>\n",
       "      <td>2</td>\n",
       "      <td>27</td>\n",
       "      <td>23.9</td>\n",
       "      <td>3.1</td>\n",
       "    </tr>\n",
       "    <tr>\n",
       "      <th>18</th>\n",
       "      <td>Jonny</td>\n",
       "      <td>1</td>\n",
       "      <td>01. Groups - Matchday 1</td>\n",
       "      <td>7</td>\n",
       "      <td>8</td>\n",
       "      <td>8</td>\n",
       "      <td>6.2</td>\n",
       "      <td>1.8</td>\n",
       "    </tr>\n",
       "    <tr>\n",
       "      <th>19</th>\n",
       "      <td>Jonny</td>\n",
       "      <td>2</td>\n",
       "      <td>02. Groups - Matchday 2</td>\n",
       "      <td>4</td>\n",
       "      <td>7</td>\n",
       "      <td>15</td>\n",
       "      <td>8.8</td>\n",
       "      <td>6.2</td>\n",
       "    </tr>\n",
       "    <tr>\n",
       "      <th>20</th>\n",
       "      <td>Jonny</td>\n",
       "      <td>3</td>\n",
       "      <td>03. Groups - Matchday 3</td>\n",
       "      <td>3</td>\n",
       "      <td>3</td>\n",
       "      <td>18</td>\n",
       "      <td>11.8</td>\n",
       "      <td>6.2</td>\n",
       "    </tr>\n",
       "    <tr>\n",
       "      <th>21</th>\n",
       "      <td>Jonny</td>\n",
       "      <td>4</td>\n",
       "      <td>04. KO - Round of 16</td>\n",
       "      <td>5</td>\n",
       "      <td>6</td>\n",
       "      <td>24</td>\n",
       "      <td>17.2</td>\n",
       "      <td>6.8</td>\n",
       "    </tr>\n",
       "    <tr>\n",
       "      <th>22</th>\n",
       "      <td>Jonny</td>\n",
       "      <td>5</td>\n",
       "      <td>05. KO - Quarter Final</td>\n",
       "      <td>7</td>\n",
       "      <td>8</td>\n",
       "      <td>32</td>\n",
       "      <td>21.3</td>\n",
       "      <td>10.7</td>\n",
       "    </tr>\n",
       "    <tr>\n",
       "      <th>23</th>\n",
       "      <td>Jonny</td>\n",
       "      <td>6</td>\n",
       "      <td>06. KO - Semi Final</td>\n",
       "      <td>1</td>\n",
       "      <td>2</td>\n",
       "      <td>34</td>\n",
       "      <td>23.9</td>\n",
       "      <td>10.1</td>\n",
       "    </tr>\n",
       "    <tr>\n",
       "      <th>24</th>\n",
       "      <td>Larry</td>\n",
       "      <td>1</td>\n",
       "      <td>01. Groups - Matchday 1</td>\n",
       "      <td>7</td>\n",
       "      <td>8</td>\n",
       "      <td>8</td>\n",
       "      <td>6.2</td>\n",
       "      <td>1.8</td>\n",
       "    </tr>\n",
       "    <tr>\n",
       "      <th>25</th>\n",
       "      <td>Larry</td>\n",
       "      <td>2</td>\n",
       "      <td>02. Groups - Matchday 2</td>\n",
       "      <td>2</td>\n",
       "      <td>2</td>\n",
       "      <td>10</td>\n",
       "      <td>8.8</td>\n",
       "      <td>1.2</td>\n",
       "    </tr>\n",
       "    <tr>\n",
       "      <th>26</th>\n",
       "      <td>Larry</td>\n",
       "      <td>3</td>\n",
       "      <td>03. Groups - Matchday 3</td>\n",
       "      <td>1</td>\n",
       "      <td>1</td>\n",
       "      <td>11</td>\n",
       "      <td>11.8</td>\n",
       "      <td>-0.8</td>\n",
       "    </tr>\n",
       "    <tr>\n",
       "      <th>27</th>\n",
       "      <td>Larry</td>\n",
       "      <td>4</td>\n",
       "      <td>04. KO - Round of 16</td>\n",
       "      <td>4</td>\n",
       "      <td>5</td>\n",
       "      <td>16</td>\n",
       "      <td>17.2</td>\n",
       "      <td>-1.2</td>\n",
       "    </tr>\n",
       "    <tr>\n",
       "      <th>28</th>\n",
       "      <td>Larry</td>\n",
       "      <td>5</td>\n",
       "      <td>05. KO - Quarter Final</td>\n",
       "      <td>1</td>\n",
       "      <td>1</td>\n",
       "      <td>17</td>\n",
       "      <td>21.3</td>\n",
       "      <td>-4.3</td>\n",
       "    </tr>\n",
       "    <tr>\n",
       "      <th>29</th>\n",
       "      <td>Larry</td>\n",
       "      <td>6</td>\n",
       "      <td>06. KO - Semi Final</td>\n",
       "      <td>6</td>\n",
       "      <td>9</td>\n",
       "      <td>26</td>\n",
       "      <td>23.9</td>\n",
       "      <td>2.1</td>\n",
       "    </tr>\n",
       "    <tr>\n",
       "      <th>30</th>\n",
       "      <td>Luke</td>\n",
       "      <td>1</td>\n",
       "      <td>01. Groups - Matchday 1</td>\n",
       "      <td>7</td>\n",
       "      <td>8</td>\n",
       "      <td>8</td>\n",
       "      <td>6.2</td>\n",
       "      <td>1.8</td>\n",
       "    </tr>\n",
       "    <tr>\n",
       "      <th>31</th>\n",
       "      <td>Luke</td>\n",
       "      <td>2</td>\n",
       "      <td>02. Groups - Matchday 2</td>\n",
       "      <td>4</td>\n",
       "      <td>4</td>\n",
       "      <td>12</td>\n",
       "      <td>8.8</td>\n",
       "      <td>3.2</td>\n",
       "    </tr>\n",
       "    <tr>\n",
       "      <th>32</th>\n",
       "      <td>Luke</td>\n",
       "      <td>3</td>\n",
       "      <td>03. Groups - Matchday 3</td>\n",
       "      <td>1</td>\n",
       "      <td>1</td>\n",
       "      <td>13</td>\n",
       "      <td>11.8</td>\n",
       "      <td>1.2</td>\n",
       "    </tr>\n",
       "    <tr>\n",
       "      <th>33</th>\n",
       "      <td>Luke</td>\n",
       "      <td>4</td>\n",
       "      <td>04. KO - Round of 16</td>\n",
       "      <td>6</td>\n",
       "      <td>7</td>\n",
       "      <td>20</td>\n",
       "      <td>17.2</td>\n",
       "      <td>2.8</td>\n",
       "    </tr>\n",
       "    <tr>\n",
       "      <th>34</th>\n",
       "      <td>Luke</td>\n",
       "      <td>5</td>\n",
       "      <td>05. KO - Quarter Final</td>\n",
       "      <td>4</td>\n",
       "      <td>5</td>\n",
       "      <td>25</td>\n",
       "      <td>21.3</td>\n",
       "      <td>3.7</td>\n",
       "    </tr>\n",
       "    <tr>\n",
       "      <th>35</th>\n",
       "      <td>Luke</td>\n",
       "      <td>6</td>\n",
       "      <td>06. KO - Semi Final</td>\n",
       "      <td>0</td>\n",
       "      <td>0</td>\n",
       "      <td>25</td>\n",
       "      <td>23.9</td>\n",
       "      <td>1.1</td>\n",
       "    </tr>\n",
       "    <tr>\n",
       "      <th>36</th>\n",
       "      <td>Marc</td>\n",
       "      <td>1</td>\n",
       "      <td>01. Groups - Matchday 1</td>\n",
       "      <td>4</td>\n",
       "      <td>5</td>\n",
       "      <td>5</td>\n",
       "      <td>6.2</td>\n",
       "      <td>-1.2</td>\n",
       "    </tr>\n",
       "    <tr>\n",
       "      <th>37</th>\n",
       "      <td>Marc</td>\n",
       "      <td>2</td>\n",
       "      <td>02. Groups - Matchday 2</td>\n",
       "      <td>1</td>\n",
       "      <td>1</td>\n",
       "      <td>6</td>\n",
       "      <td>8.8</td>\n",
       "      <td>-2.8</td>\n",
       "    </tr>\n",
       "    <tr>\n",
       "      <th>38</th>\n",
       "      <td>Marc</td>\n",
       "      <td>3</td>\n",
       "      <td>03. Groups - Matchday 3</td>\n",
       "      <td>1</td>\n",
       "      <td>1</td>\n",
       "      <td>7</td>\n",
       "      <td>11.8</td>\n",
       "      <td>-4.8</td>\n",
       "    </tr>\n",
       "    <tr>\n",
       "      <th>39</th>\n",
       "      <td>Marc</td>\n",
       "      <td>4</td>\n",
       "      <td>04. KO - Round of 16</td>\n",
       "      <td>3</td>\n",
       "      <td>3</td>\n",
       "      <td>10</td>\n",
       "      <td>17.2</td>\n",
       "      <td>-7.2</td>\n",
       "    </tr>\n",
       "    <tr>\n",
       "      <th>40</th>\n",
       "      <td>Marc</td>\n",
       "      <td>5</td>\n",
       "      <td>05. KO - Quarter Final</td>\n",
       "      <td>6</td>\n",
       "      <td>9</td>\n",
       "      <td>19</td>\n",
       "      <td>21.3</td>\n",
       "      <td>-2.3</td>\n",
       "    </tr>\n",
       "    <tr>\n",
       "      <th>41</th>\n",
       "      <td>Marc</td>\n",
       "      <td>6</td>\n",
       "      <td>06. KO - Semi Final</td>\n",
       "      <td>1</td>\n",
       "      <td>1</td>\n",
       "      <td>20</td>\n",
       "      <td>23.9</td>\n",
       "      <td>-3.9</td>\n",
       "    </tr>\n",
       "    <tr>\n",
       "      <th>42</th>\n",
       "      <td>Peter Popular</td>\n",
       "      <td>1</td>\n",
       "      <td>01. Groups - Matchday 1</td>\n",
       "      <td>5</td>\n",
       "      <td>6</td>\n",
       "      <td>6</td>\n",
       "      <td>6.2</td>\n",
       "      <td>-0.2</td>\n",
       "    </tr>\n",
       "    <tr>\n",
       "      <th>43</th>\n",
       "      <td>Peter Popular</td>\n",
       "      <td>2</td>\n",
       "      <td>02. Groups - Matchday 2</td>\n",
       "      <td>4</td>\n",
       "      <td>4</td>\n",
       "      <td>10</td>\n",
       "      <td>8.8</td>\n",
       "      <td>1.2</td>\n",
       "    </tr>\n",
       "    <tr>\n",
       "      <th>44</th>\n",
       "      <td>Peter Popular</td>\n",
       "      <td>3</td>\n",
       "      <td>03. Groups - Matchday 3</td>\n",
       "      <td>3</td>\n",
       "      <td>6</td>\n",
       "      <td>16</td>\n",
       "      <td>11.8</td>\n",
       "      <td>4.2</td>\n",
       "    </tr>\n",
       "    <tr>\n",
       "      <th>45</th>\n",
       "      <td>Peter Popular</td>\n",
       "      <td>4</td>\n",
       "      <td>04. KO - Round of 16</td>\n",
       "      <td>6</td>\n",
       "      <td>6</td>\n",
       "      <td>22</td>\n",
       "      <td>17.2</td>\n",
       "      <td>4.8</td>\n",
       "    </tr>\n",
       "    <tr>\n",
       "      <th>46</th>\n",
       "      <td>Peter Popular</td>\n",
       "      <td>5</td>\n",
       "      <td>05. KO - Quarter Final</td>\n",
       "      <td>3</td>\n",
       "      <td>3</td>\n",
       "      <td>25</td>\n",
       "      <td>21.3</td>\n",
       "      <td>3.7</td>\n",
       "    </tr>\n",
       "    <tr>\n",
       "      <th>47</th>\n",
       "      <td>Peter Popular</td>\n",
       "      <td>6</td>\n",
       "      <td>06. KO - Semi Final</td>\n",
       "      <td>3</td>\n",
       "      <td>6</td>\n",
       "      <td>31</td>\n",
       "      <td>23.9</td>\n",
       "      <td>7.1</td>\n",
       "    </tr>\n",
       "    <tr>\n",
       "      <th>48</th>\n",
       "      <td>Rando Randal</td>\n",
       "      <td>1</td>\n",
       "      <td>01. Groups - Matchday 1</td>\n",
       "      <td>3</td>\n",
       "      <td>4</td>\n",
       "      <td>4</td>\n",
       "      <td>6.2</td>\n",
       "      <td>-2.2</td>\n",
       "    </tr>\n",
       "    <tr>\n",
       "      <th>49</th>\n",
       "      <td>Rando Randal</td>\n",
       "      <td>2</td>\n",
       "      <td>02. Groups - Matchday 2</td>\n",
       "      <td>0</td>\n",
       "      <td>0</td>\n",
       "      <td>4</td>\n",
       "      <td>8.8</td>\n",
       "      <td>-4.8</td>\n",
       "    </tr>\n",
       "    <tr>\n",
       "      <th>50</th>\n",
       "      <td>Rando Randal</td>\n",
       "      <td>3</td>\n",
       "      <td>03. Groups - Matchday 3</td>\n",
       "      <td>1</td>\n",
       "      <td>1</td>\n",
       "      <td>5</td>\n",
       "      <td>11.8</td>\n",
       "      <td>-6.8</td>\n",
       "    </tr>\n",
       "    <tr>\n",
       "      <th>51</th>\n",
       "      <td>Rando Randal</td>\n",
       "      <td>4</td>\n",
       "      <td>04. KO - Round of 16</td>\n",
       "      <td>2</td>\n",
       "      <td>2</td>\n",
       "      <td>7</td>\n",
       "      <td>17.2</td>\n",
       "      <td>-10.2</td>\n",
       "    </tr>\n",
       "    <tr>\n",
       "      <th>52</th>\n",
       "      <td>Rando Randal</td>\n",
       "      <td>5</td>\n",
       "      <td>05. KO - Quarter Final</td>\n",
       "      <td>0</td>\n",
       "      <td>0</td>\n",
       "      <td>7</td>\n",
       "      <td>21.3</td>\n",
       "      <td>-14.3</td>\n",
       "    </tr>\n",
       "    <tr>\n",
       "      <th>53</th>\n",
       "      <td>Rando Randal</td>\n",
       "      <td>6</td>\n",
       "      <td>06. KO - Semi Final</td>\n",
       "      <td>2</td>\n",
       "      <td>3</td>\n",
       "      <td>10</td>\n",
       "      <td>23.9</td>\n",
       "      <td>-13.9</td>\n",
       "    </tr>\n",
       "    <tr>\n",
       "      <th>54</th>\n",
       "      <td>Tom</td>\n",
       "      <td>1</td>\n",
       "      <td>01. Groups - Matchday 1</td>\n",
       "      <td>4</td>\n",
       "      <td>5</td>\n",
       "      <td>5</td>\n",
       "      <td>6.2</td>\n",
       "      <td>-1.2</td>\n",
       "    </tr>\n",
       "    <tr>\n",
       "      <th>55</th>\n",
       "      <td>Tom</td>\n",
       "      <td>2</td>\n",
       "      <td>02. Groups - Matchday 2</td>\n",
       "      <td>2</td>\n",
       "      <td>2</td>\n",
       "      <td>7</td>\n",
       "      <td>8.8</td>\n",
       "      <td>-1.8</td>\n",
       "    </tr>\n",
       "    <tr>\n",
       "      <th>56</th>\n",
       "      <td>Tom</td>\n",
       "      <td>3</td>\n",
       "      <td>03. Groups - Matchday 3</td>\n",
       "      <td>5</td>\n",
       "      <td>5</td>\n",
       "      <td>12</td>\n",
       "      <td>11.8</td>\n",
       "      <td>0.2</td>\n",
       "    </tr>\n",
       "    <tr>\n",
       "      <th>57</th>\n",
       "      <td>Tom</td>\n",
       "      <td>4</td>\n",
       "      <td>04. KO - Round of 16</td>\n",
       "      <td>4</td>\n",
       "      <td>4</td>\n",
       "      <td>16</td>\n",
       "      <td>17.2</td>\n",
       "      <td>-1.2</td>\n",
       "    </tr>\n",
       "    <tr>\n",
       "      <th>58</th>\n",
       "      <td>Tom</td>\n",
       "      <td>5</td>\n",
       "      <td>05. KO - Quarter Final</td>\n",
       "      <td>3</td>\n",
       "      <td>3</td>\n",
       "      <td>19</td>\n",
       "      <td>21.3</td>\n",
       "      <td>-2.3</td>\n",
       "    </tr>\n",
       "    <tr>\n",
       "      <th>59</th>\n",
       "      <td>Tom</td>\n",
       "      <td>6</td>\n",
       "      <td>06. KO - Semi Final</td>\n",
       "      <td>0</td>\n",
       "      <td>0</td>\n",
       "      <td>19</td>\n",
       "      <td>23.9</td>\n",
       "      <td>-4.9</td>\n",
       "    </tr>\n",
       "  </tbody>\n",
       "</table>\n",
       "</div>"
      ],
      "text/plain": [
       "             name  matchday             stage_detail  base_points  \\\n",
       "0           Corfe         1  01. Groups - Matchday 1            5   \n",
       "1           Corfe         2  02. Groups - Matchday 2            1   \n",
       "2           Corfe         3  03. Groups - Matchday 3            3   \n",
       "3           Corfe         4     04. KO - Round of 16            8   \n",
       "4           Corfe         5   05. KO - Quarter Final            1   \n",
       "5           Corfe         6      06. KO - Semi Final            2   \n",
       "6              Ed         1  01. Groups - Matchday 1            4   \n",
       "7              Ed         2  02. Groups - Matchday 2            1   \n",
       "8              Ed         3  03. Groups - Matchday 3            3   \n",
       "9              Ed         4     04. KO - Round of 16            4   \n",
       "10             Ed         5   05. KO - Quarter Final            4   \n",
       "11             Ed         6      06. KO - Semi Final            0   \n",
       "12            Jay         1  01. Groups - Matchday 1            6   \n",
       "13            Jay         2  02. Groups - Matchday 2            4   \n",
       "14            Jay         3  03. Groups - Matchday 3            3   \n",
       "15            Jay         4     04. KO - Round of 16            4   \n",
       "16            Jay         5   05. KO - Quarter Final            2   \n",
       "17            Jay         6      06. KO - Semi Final            1   \n",
       "18          Jonny         1  01. Groups - Matchday 1            7   \n",
       "19          Jonny         2  02. Groups - Matchday 2            4   \n",
       "20          Jonny         3  03. Groups - Matchday 3            3   \n",
       "21          Jonny         4     04. KO - Round of 16            5   \n",
       "22          Jonny         5   05. KO - Quarter Final            7   \n",
       "23          Jonny         6      06. KO - Semi Final            1   \n",
       "24          Larry         1  01. Groups - Matchday 1            7   \n",
       "25          Larry         2  02. Groups - Matchday 2            2   \n",
       "26          Larry         3  03. Groups - Matchday 3            1   \n",
       "27          Larry         4     04. KO - Round of 16            4   \n",
       "28          Larry         5   05. KO - Quarter Final            1   \n",
       "29          Larry         6      06. KO - Semi Final            6   \n",
       "30           Luke         1  01. Groups - Matchday 1            7   \n",
       "31           Luke         2  02. Groups - Matchday 2            4   \n",
       "32           Luke         3  03. Groups - Matchday 3            1   \n",
       "33           Luke         4     04. KO - Round of 16            6   \n",
       "34           Luke         5   05. KO - Quarter Final            4   \n",
       "35           Luke         6      06. KO - Semi Final            0   \n",
       "36           Marc         1  01. Groups - Matchday 1            4   \n",
       "37           Marc         2  02. Groups - Matchday 2            1   \n",
       "38           Marc         3  03. Groups - Matchday 3            1   \n",
       "39           Marc         4     04. KO - Round of 16            3   \n",
       "40           Marc         5   05. KO - Quarter Final            6   \n",
       "41           Marc         6      06. KO - Semi Final            1   \n",
       "42  Peter Popular         1  01. Groups - Matchday 1            5   \n",
       "43  Peter Popular         2  02. Groups - Matchday 2            4   \n",
       "44  Peter Popular         3  03. Groups - Matchday 3            3   \n",
       "45  Peter Popular         4     04. KO - Round of 16            6   \n",
       "46  Peter Popular         5   05. KO - Quarter Final            3   \n",
       "47  Peter Popular         6      06. KO - Semi Final            3   \n",
       "48   Rando Randal         1  01. Groups - Matchday 1            3   \n",
       "49   Rando Randal         2  02. Groups - Matchday 2            0   \n",
       "50   Rando Randal         3  03. Groups - Matchday 3            1   \n",
       "51   Rando Randal         4     04. KO - Round of 16            2   \n",
       "52   Rando Randal         5   05. KO - Quarter Final            0   \n",
       "53   Rando Randal         6      06. KO - Semi Final            2   \n",
       "54            Tom         1  01. Groups - Matchday 1            4   \n",
       "55            Tom         2  02. Groups - Matchday 2            2   \n",
       "56            Tom         3  03. Groups - Matchday 3            5   \n",
       "57            Tom         4     04. KO - Round of 16            4   \n",
       "58            Tom         5   05. KO - Quarter Final            3   \n",
       "59            Tom         6      06. KO - Semi Final            0   \n",
       "\n",
       "    total_points  cumulative_total_points  cumulative_avg_total_points  \\\n",
       "0              6                        6                          6.2   \n",
       "1              1                        7                          8.8   \n",
       "2              3                       10                         11.8   \n",
       "3             11                       21                         17.2   \n",
       "4              2                       23                         21.3   \n",
       "5              3                       26                         23.9   \n",
       "6              5                        5                          6.2   \n",
       "7              1                        6                          8.8   \n",
       "8              3                        9                         11.8   \n",
       "9              5                       14                         17.2   \n",
       "10             7                       21                         21.3   \n",
       "11             0                       21                         23.9   \n",
       "12             7                        7                          6.2   \n",
       "13             4                       11                          8.8   \n",
       "14             6                       17                         11.8   \n",
       "15             5                       22                         17.2   \n",
       "16             3                       25                         21.3   \n",
       "17             2                       27                         23.9   \n",
       "18             8                        8                          6.2   \n",
       "19             7                       15                          8.8   \n",
       "20             3                       18                         11.8   \n",
       "21             6                       24                         17.2   \n",
       "22             8                       32                         21.3   \n",
       "23             2                       34                         23.9   \n",
       "24             8                        8                          6.2   \n",
       "25             2                       10                          8.8   \n",
       "26             1                       11                         11.8   \n",
       "27             5                       16                         17.2   \n",
       "28             1                       17                         21.3   \n",
       "29             9                       26                         23.9   \n",
       "30             8                        8                          6.2   \n",
       "31             4                       12                          8.8   \n",
       "32             1                       13                         11.8   \n",
       "33             7                       20                         17.2   \n",
       "34             5                       25                         21.3   \n",
       "35             0                       25                         23.9   \n",
       "36             5                        5                          6.2   \n",
       "37             1                        6                          8.8   \n",
       "38             1                        7                         11.8   \n",
       "39             3                       10                         17.2   \n",
       "40             9                       19                         21.3   \n",
       "41             1                       20                         23.9   \n",
       "42             6                        6                          6.2   \n",
       "43             4                       10                          8.8   \n",
       "44             6                       16                         11.8   \n",
       "45             6                       22                         17.2   \n",
       "46             3                       25                         21.3   \n",
       "47             6                       31                         23.9   \n",
       "48             4                        4                          6.2   \n",
       "49             0                        4                          8.8   \n",
       "50             1                        5                         11.8   \n",
       "51             2                        7                         17.2   \n",
       "52             0                        7                         21.3   \n",
       "53             3                       10                         23.9   \n",
       "54             5                        5                          6.2   \n",
       "55             2                        7                          8.8   \n",
       "56             5                       12                         11.8   \n",
       "57             4                       16                         17.2   \n",
       "58             3                       19                         21.3   \n",
       "59             0                       19                         23.9   \n",
       "\n",
       "    difference  \n",
       "0         -0.2  \n",
       "1         -1.8  \n",
       "2         -1.8  \n",
       "3          3.8  \n",
       "4          1.7  \n",
       "5          2.1  \n",
       "6         -1.2  \n",
       "7         -2.8  \n",
       "8         -2.8  \n",
       "9         -3.2  \n",
       "10        -0.3  \n",
       "11        -2.9  \n",
       "12         0.8  \n",
       "13         2.2  \n",
       "14         5.2  \n",
       "15         4.8  \n",
       "16         3.7  \n",
       "17         3.1  \n",
       "18         1.8  \n",
       "19         6.2  \n",
       "20         6.2  \n",
       "21         6.8  \n",
       "22        10.7  \n",
       "23        10.1  \n",
       "24         1.8  \n",
       "25         1.2  \n",
       "26        -0.8  \n",
       "27        -1.2  \n",
       "28        -4.3  \n",
       "29         2.1  \n",
       "30         1.8  \n",
       "31         3.2  \n",
       "32         1.2  \n",
       "33         2.8  \n",
       "34         3.7  \n",
       "35         1.1  \n",
       "36        -1.2  \n",
       "37        -2.8  \n",
       "38        -4.8  \n",
       "39        -7.2  \n",
       "40        -2.3  \n",
       "41        -3.9  \n",
       "42        -0.2  \n",
       "43         1.2  \n",
       "44         4.2  \n",
       "45         4.8  \n",
       "46         3.7  \n",
       "47         7.1  \n",
       "48        -2.2  \n",
       "49        -4.8  \n",
       "50        -6.8  \n",
       "51       -10.2  \n",
       "52       -14.3  \n",
       "53       -13.9  \n",
       "54        -1.2  \n",
       "55        -1.8  \n",
       "56         0.2  \n",
       "57        -1.2  \n",
       "58        -2.3  \n",
       "59        -4.9  "
      ]
     },
     "execution_count": 52,
     "metadata": {},
     "output_type": "execute_result"
    }
   ],
   "source": [
    "vs_mean_df"
   ]
  },
  {
   "cell_type": "code",
   "execution_count": 53,
   "id": "c010ce21",
   "metadata": {},
   "outputs": [
    {
     "data": {
      "application/vnd.plotly.v1+json": {
       "config": {
        "plotlyServerURL": "https://plot.ly"
       },
       "data": [
        {
         "hovertemplate": "name=Corfe<br>Matchday=%{x}<br>Difference vs Mean=%{y}<extra></extra>",
         "legendgroup": "Corfe",
         "line": {
          "color": "#636efa",
          "dash": "solid"
         },
         "marker": {
          "symbol": "circle"
         },
         "mode": "lines",
         "name": "Corfe",
         "orientation": "v",
         "showlegend": true,
         "type": "scatter",
         "x": [
          1,
          2,
          3,
          4,
          5,
          6
         ],
         "xaxis": "x",
         "y": [
          -0.20000000000000018,
          -1.8000000000000007,
          -1.8000000000000007,
          3.8000000000000007,
          1.6999999999999993,
          2.1000000000000014
         ],
         "yaxis": "y"
        },
        {
         "hovertemplate": "name=Ed<br>Matchday=%{x}<br>Difference vs Mean=%{y}<extra></extra>",
         "legendgroup": "Ed",
         "line": {
          "color": "#EF553B",
          "dash": "solid"
         },
         "marker": {
          "symbol": "circle"
         },
         "mode": "lines",
         "name": "Ed",
         "orientation": "v",
         "showlegend": true,
         "type": "scatter",
         "x": [
          1,
          2,
          3,
          4,
          5,
          6
         ],
         "xaxis": "x",
         "y": [
          -1.2000000000000002,
          -2.8000000000000007,
          -2.8000000000000007,
          -3.1999999999999993,
          -0.3000000000000007,
          -2.8999999999999986
         ],
         "yaxis": "y"
        },
        {
         "hovertemplate": "name=Jay<br>Matchday=%{x}<br>Difference vs Mean=%{y}<extra></extra>",
         "legendgroup": "Jay",
         "line": {
          "color": "#00cc96",
          "dash": "solid"
         },
         "marker": {
          "symbol": "circle"
         },
         "mode": "lines",
         "name": "Jay",
         "orientation": "v",
         "showlegend": true,
         "type": "scatter",
         "x": [
          1,
          2,
          3,
          4,
          5,
          6
         ],
         "xaxis": "x",
         "y": [
          0.7999999999999998,
          2.1999999999999993,
          5.199999999999999,
          4.800000000000001,
          3.6999999999999993,
          3.1000000000000014
         ],
         "yaxis": "y"
        },
        {
         "hovertemplate": "name=Jonny<br>Matchday=%{x}<br>Difference vs Mean=%{y}<extra></extra>",
         "legendgroup": "Jonny",
         "line": {
          "color": "#ab63fa",
          "dash": "solid"
         },
         "marker": {
          "symbol": "circle"
         },
         "mode": "lines",
         "name": "Jonny",
         "orientation": "v",
         "showlegend": true,
         "type": "scatter",
         "x": [
          1,
          2,
          3,
          4,
          5,
          6
         ],
         "xaxis": "x",
         "y": [
          1.7999999999999998,
          6.199999999999999,
          6.199999999999999,
          6.800000000000001,
          10.7,
          10.100000000000001
         ],
         "yaxis": "y"
        },
        {
         "hovertemplate": "name=Larry<br>Matchday=%{x}<br>Difference vs Mean=%{y}<extra></extra>",
         "legendgroup": "Larry",
         "line": {
          "color": "#FFA15A",
          "dash": "solid"
         },
         "marker": {
          "symbol": "circle"
         },
         "mode": "lines",
         "name": "Larry",
         "orientation": "v",
         "showlegend": true,
         "type": "scatter",
         "x": [
          1,
          2,
          3,
          4,
          5,
          6
         ],
         "xaxis": "x",
         "y": [
          1.7999999999999998,
          1.1999999999999993,
          -0.8000000000000007,
          -1.1999999999999993,
          -4.300000000000001,
          2.1000000000000014
         ],
         "yaxis": "y"
        },
        {
         "hovertemplate": "name=Luke<br>Matchday=%{x}<br>Difference vs Mean=%{y}<extra></extra>",
         "legendgroup": "Luke",
         "line": {
          "color": "#19d3f3",
          "dash": "solid"
         },
         "marker": {
          "symbol": "circle"
         },
         "mode": "lines",
         "name": "Luke",
         "orientation": "v",
         "showlegend": true,
         "type": "scatter",
         "x": [
          1,
          2,
          3,
          4,
          5,
          6
         ],
         "xaxis": "x",
         "y": [
          1.7999999999999998,
          3.1999999999999993,
          1.1999999999999993,
          2.8000000000000007,
          3.6999999999999993,
          1.1000000000000014
         ],
         "yaxis": "y"
        },
        {
         "hovertemplate": "name=Marc<br>Matchday=%{x}<br>Difference vs Mean=%{y}<extra></extra>",
         "legendgroup": "Marc",
         "line": {
          "color": "#FF6692",
          "dash": "solid"
         },
         "marker": {
          "symbol": "circle"
         },
         "mode": "lines",
         "name": "Marc",
         "orientation": "v",
         "showlegend": true,
         "type": "scatter",
         "x": [
          1,
          2,
          3,
          4,
          5,
          6
         ],
         "xaxis": "x",
         "y": [
          -1.2000000000000002,
          -2.8000000000000007,
          -4.800000000000001,
          -7.199999999999999,
          -2.3000000000000007,
          -3.8999999999999986
         ],
         "yaxis": "y"
        },
        {
         "hovertemplate": "name=Peter Popular<br>Matchday=%{x}<br>Difference vs Mean=%{y}<extra></extra>",
         "legendgroup": "Peter Popular",
         "line": {
          "color": "#B6E880",
          "dash": "solid"
         },
         "marker": {
          "symbol": "circle"
         },
         "mode": "lines",
         "name": "Peter Popular",
         "orientation": "v",
         "showlegend": true,
         "type": "scatter",
         "x": [
          1,
          2,
          3,
          4,
          5,
          6
         ],
         "xaxis": "x",
         "y": [
          -0.20000000000000018,
          1.1999999999999993,
          4.199999999999999,
          4.800000000000001,
          3.6999999999999993,
          7.100000000000001
         ],
         "yaxis": "y"
        },
        {
         "hovertemplate": "name=Rando Randal<br>Matchday=%{x}<br>Difference vs Mean=%{y}<extra></extra>",
         "legendgroup": "Rando Randal",
         "line": {
          "color": "#FF97FF",
          "dash": "solid"
         },
         "marker": {
          "symbol": "circle"
         },
         "mode": "lines",
         "name": "Rando Randal",
         "orientation": "v",
         "showlegend": true,
         "type": "scatter",
         "x": [
          1,
          2,
          3,
          4,
          5,
          6
         ],
         "xaxis": "x",
         "y": [
          -2.2,
          -4.800000000000001,
          -6.800000000000001,
          -10.2,
          -14.3,
          -13.899999999999999
         ],
         "yaxis": "y"
        },
        {
         "hovertemplate": "name=Tom<br>Matchday=%{x}<br>Difference vs Mean=%{y}<extra></extra>",
         "legendgroup": "Tom",
         "line": {
          "color": "#FECB52",
          "dash": "solid"
         },
         "marker": {
          "symbol": "circle"
         },
         "mode": "lines",
         "name": "Tom",
         "orientation": "v",
         "showlegend": true,
         "type": "scatter",
         "x": [
          1,
          2,
          3,
          4,
          5,
          6
         ],
         "xaxis": "x",
         "y": [
          -1.2000000000000002,
          -1.8000000000000007,
          0.1999999999999993,
          -1.1999999999999993,
          -2.3000000000000007,
          -4.899999999999999
         ],
         "yaxis": "y"
        }
       ],
       "layout": {
        "font": {
         "family": "Arial",
         "size": 12
        },
        "legend": {
         "title": {
          "text": "name"
         },
         "tracegroupgap": 0
        },
        "paper_bgcolor": "rgba(0,0,0,0)",
        "plot_bgcolor": "rgba(0,0,0,0)",
        "template": {
         "data": {
          "bar": [
           {
            "error_x": {
             "color": "#2a3f5f"
            },
            "error_y": {
             "color": "#2a3f5f"
            },
            "marker": {
             "line": {
              "color": "#E5ECF6",
              "width": 0.5
             },
             "pattern": {
              "fillmode": "overlay",
              "size": 10,
              "solidity": 0.2
             }
            },
            "type": "bar"
           }
          ],
          "barpolar": [
           {
            "marker": {
             "line": {
              "color": "#E5ECF6",
              "width": 0.5
             },
             "pattern": {
              "fillmode": "overlay",
              "size": 10,
              "solidity": 0.2
             }
            },
            "type": "barpolar"
           }
          ],
          "carpet": [
           {
            "aaxis": {
             "endlinecolor": "#2a3f5f",
             "gridcolor": "white",
             "linecolor": "white",
             "minorgridcolor": "white",
             "startlinecolor": "#2a3f5f"
            },
            "baxis": {
             "endlinecolor": "#2a3f5f",
             "gridcolor": "white",
             "linecolor": "white",
             "minorgridcolor": "white",
             "startlinecolor": "#2a3f5f"
            },
            "type": "carpet"
           }
          ],
          "choropleth": [
           {
            "colorbar": {
             "outlinewidth": 0,
             "ticks": ""
            },
            "type": "choropleth"
           }
          ],
          "contour": [
           {
            "colorbar": {
             "outlinewidth": 0,
             "ticks": ""
            },
            "colorscale": [
             [
              0,
              "#0d0887"
             ],
             [
              0.1111111111111111,
              "#46039f"
             ],
             [
              0.2222222222222222,
              "#7201a8"
             ],
             [
              0.3333333333333333,
              "#9c179e"
             ],
             [
              0.4444444444444444,
              "#bd3786"
             ],
             [
              0.5555555555555556,
              "#d8576b"
             ],
             [
              0.6666666666666666,
              "#ed7953"
             ],
             [
              0.7777777777777778,
              "#fb9f3a"
             ],
             [
              0.8888888888888888,
              "#fdca26"
             ],
             [
              1,
              "#f0f921"
             ]
            ],
            "type": "contour"
           }
          ],
          "contourcarpet": [
           {
            "colorbar": {
             "outlinewidth": 0,
             "ticks": ""
            },
            "type": "contourcarpet"
           }
          ],
          "heatmap": [
           {
            "colorbar": {
             "outlinewidth": 0,
             "ticks": ""
            },
            "colorscale": [
             [
              0,
              "#0d0887"
             ],
             [
              0.1111111111111111,
              "#46039f"
             ],
             [
              0.2222222222222222,
              "#7201a8"
             ],
             [
              0.3333333333333333,
              "#9c179e"
             ],
             [
              0.4444444444444444,
              "#bd3786"
             ],
             [
              0.5555555555555556,
              "#d8576b"
             ],
             [
              0.6666666666666666,
              "#ed7953"
             ],
             [
              0.7777777777777778,
              "#fb9f3a"
             ],
             [
              0.8888888888888888,
              "#fdca26"
             ],
             [
              1,
              "#f0f921"
             ]
            ],
            "type": "heatmap"
           }
          ],
          "heatmapgl": [
           {
            "colorbar": {
             "outlinewidth": 0,
             "ticks": ""
            },
            "colorscale": [
             [
              0,
              "#0d0887"
             ],
             [
              0.1111111111111111,
              "#46039f"
             ],
             [
              0.2222222222222222,
              "#7201a8"
             ],
             [
              0.3333333333333333,
              "#9c179e"
             ],
             [
              0.4444444444444444,
              "#bd3786"
             ],
             [
              0.5555555555555556,
              "#d8576b"
             ],
             [
              0.6666666666666666,
              "#ed7953"
             ],
             [
              0.7777777777777778,
              "#fb9f3a"
             ],
             [
              0.8888888888888888,
              "#fdca26"
             ],
             [
              1,
              "#f0f921"
             ]
            ],
            "type": "heatmapgl"
           }
          ],
          "histogram": [
           {
            "marker": {
             "pattern": {
              "fillmode": "overlay",
              "size": 10,
              "solidity": 0.2
             }
            },
            "type": "histogram"
           }
          ],
          "histogram2d": [
           {
            "colorbar": {
             "outlinewidth": 0,
             "ticks": ""
            },
            "colorscale": [
             [
              0,
              "#0d0887"
             ],
             [
              0.1111111111111111,
              "#46039f"
             ],
             [
              0.2222222222222222,
              "#7201a8"
             ],
             [
              0.3333333333333333,
              "#9c179e"
             ],
             [
              0.4444444444444444,
              "#bd3786"
             ],
             [
              0.5555555555555556,
              "#d8576b"
             ],
             [
              0.6666666666666666,
              "#ed7953"
             ],
             [
              0.7777777777777778,
              "#fb9f3a"
             ],
             [
              0.8888888888888888,
              "#fdca26"
             ],
             [
              1,
              "#f0f921"
             ]
            ],
            "type": "histogram2d"
           }
          ],
          "histogram2dcontour": [
           {
            "colorbar": {
             "outlinewidth": 0,
             "ticks": ""
            },
            "colorscale": [
             [
              0,
              "#0d0887"
             ],
             [
              0.1111111111111111,
              "#46039f"
             ],
             [
              0.2222222222222222,
              "#7201a8"
             ],
             [
              0.3333333333333333,
              "#9c179e"
             ],
             [
              0.4444444444444444,
              "#bd3786"
             ],
             [
              0.5555555555555556,
              "#d8576b"
             ],
             [
              0.6666666666666666,
              "#ed7953"
             ],
             [
              0.7777777777777778,
              "#fb9f3a"
             ],
             [
              0.8888888888888888,
              "#fdca26"
             ],
             [
              1,
              "#f0f921"
             ]
            ],
            "type": "histogram2dcontour"
           }
          ],
          "mesh3d": [
           {
            "colorbar": {
             "outlinewidth": 0,
             "ticks": ""
            },
            "type": "mesh3d"
           }
          ],
          "parcoords": [
           {
            "line": {
             "colorbar": {
              "outlinewidth": 0,
              "ticks": ""
             }
            },
            "type": "parcoords"
           }
          ],
          "pie": [
           {
            "automargin": true,
            "type": "pie"
           }
          ],
          "scatter": [
           {
            "fillpattern": {
             "fillmode": "overlay",
             "size": 10,
             "solidity": 0.2
            },
            "type": "scatter"
           }
          ],
          "scatter3d": [
           {
            "line": {
             "colorbar": {
              "outlinewidth": 0,
              "ticks": ""
             }
            },
            "marker": {
             "colorbar": {
              "outlinewidth": 0,
              "ticks": ""
             }
            },
            "type": "scatter3d"
           }
          ],
          "scattercarpet": [
           {
            "marker": {
             "colorbar": {
              "outlinewidth": 0,
              "ticks": ""
             }
            },
            "type": "scattercarpet"
           }
          ],
          "scattergeo": [
           {
            "marker": {
             "colorbar": {
              "outlinewidth": 0,
              "ticks": ""
             }
            },
            "type": "scattergeo"
           }
          ],
          "scattergl": [
           {
            "marker": {
             "colorbar": {
              "outlinewidth": 0,
              "ticks": ""
             }
            },
            "type": "scattergl"
           }
          ],
          "scattermapbox": [
           {
            "marker": {
             "colorbar": {
              "outlinewidth": 0,
              "ticks": ""
             }
            },
            "type": "scattermapbox"
           }
          ],
          "scatterpolar": [
           {
            "marker": {
             "colorbar": {
              "outlinewidth": 0,
              "ticks": ""
             }
            },
            "type": "scatterpolar"
           }
          ],
          "scatterpolargl": [
           {
            "marker": {
             "colorbar": {
              "outlinewidth": 0,
              "ticks": ""
             }
            },
            "type": "scatterpolargl"
           }
          ],
          "scatterternary": [
           {
            "marker": {
             "colorbar": {
              "outlinewidth": 0,
              "ticks": ""
             }
            },
            "type": "scatterternary"
           }
          ],
          "surface": [
           {
            "colorbar": {
             "outlinewidth": 0,
             "ticks": ""
            },
            "colorscale": [
             [
              0,
              "#0d0887"
             ],
             [
              0.1111111111111111,
              "#46039f"
             ],
             [
              0.2222222222222222,
              "#7201a8"
             ],
             [
              0.3333333333333333,
              "#9c179e"
             ],
             [
              0.4444444444444444,
              "#bd3786"
             ],
             [
              0.5555555555555556,
              "#d8576b"
             ],
             [
              0.6666666666666666,
              "#ed7953"
             ],
             [
              0.7777777777777778,
              "#fb9f3a"
             ],
             [
              0.8888888888888888,
              "#fdca26"
             ],
             [
              1,
              "#f0f921"
             ]
            ],
            "type": "surface"
           }
          ],
          "table": [
           {
            "cells": {
             "fill": {
              "color": "#EBF0F8"
             },
             "line": {
              "color": "white"
             }
            },
            "header": {
             "fill": {
              "color": "#C8D4E3"
             },
             "line": {
              "color": "white"
             }
            },
            "type": "table"
           }
          ]
         },
         "layout": {
          "annotationdefaults": {
           "arrowcolor": "#2a3f5f",
           "arrowhead": 0,
           "arrowwidth": 1
          },
          "autotypenumbers": "strict",
          "coloraxis": {
           "colorbar": {
            "outlinewidth": 0,
            "ticks": ""
           }
          },
          "colorscale": {
           "diverging": [
            [
             0,
             "#8e0152"
            ],
            [
             0.1,
             "#c51b7d"
            ],
            [
             0.2,
             "#de77ae"
            ],
            [
             0.3,
             "#f1b6da"
            ],
            [
             0.4,
             "#fde0ef"
            ],
            [
             0.5,
             "#f7f7f7"
            ],
            [
             0.6,
             "#e6f5d0"
            ],
            [
             0.7,
             "#b8e186"
            ],
            [
             0.8,
             "#7fbc41"
            ],
            [
             0.9,
             "#4d9221"
            ],
            [
             1,
             "#276419"
            ]
           ],
           "sequential": [
            [
             0,
             "#0d0887"
            ],
            [
             0.1111111111111111,
             "#46039f"
            ],
            [
             0.2222222222222222,
             "#7201a8"
            ],
            [
             0.3333333333333333,
             "#9c179e"
            ],
            [
             0.4444444444444444,
             "#bd3786"
            ],
            [
             0.5555555555555556,
             "#d8576b"
            ],
            [
             0.6666666666666666,
             "#ed7953"
            ],
            [
             0.7777777777777778,
             "#fb9f3a"
            ],
            [
             0.8888888888888888,
             "#fdca26"
            ],
            [
             1,
             "#f0f921"
            ]
           ],
           "sequentialminus": [
            [
             0,
             "#0d0887"
            ],
            [
             0.1111111111111111,
             "#46039f"
            ],
            [
             0.2222222222222222,
             "#7201a8"
            ],
            [
             0.3333333333333333,
             "#9c179e"
            ],
            [
             0.4444444444444444,
             "#bd3786"
            ],
            [
             0.5555555555555556,
             "#d8576b"
            ],
            [
             0.6666666666666666,
             "#ed7953"
            ],
            [
             0.7777777777777778,
             "#fb9f3a"
            ],
            [
             0.8888888888888888,
             "#fdca26"
            ],
            [
             1,
             "#f0f921"
            ]
           ]
          },
          "colorway": [
           "#636efa",
           "#EF553B",
           "#00cc96",
           "#ab63fa",
           "#FFA15A",
           "#19d3f3",
           "#FF6692",
           "#B6E880",
           "#FF97FF",
           "#FECB52"
          ],
          "font": {
           "color": "#2a3f5f"
          },
          "geo": {
           "bgcolor": "white",
           "lakecolor": "white",
           "landcolor": "#E5ECF6",
           "showlakes": true,
           "showland": true,
           "subunitcolor": "white"
          },
          "hoverlabel": {
           "align": "left"
          },
          "hovermode": "closest",
          "mapbox": {
           "style": "light"
          },
          "paper_bgcolor": "white",
          "plot_bgcolor": "#E5ECF6",
          "polar": {
           "angularaxis": {
            "gridcolor": "white",
            "linecolor": "white",
            "ticks": ""
           },
           "bgcolor": "#E5ECF6",
           "radialaxis": {
            "gridcolor": "white",
            "linecolor": "white",
            "ticks": ""
           }
          },
          "scene": {
           "xaxis": {
            "backgroundcolor": "#E5ECF6",
            "gridcolor": "white",
            "gridwidth": 2,
            "linecolor": "white",
            "showbackground": true,
            "ticks": "",
            "zerolinecolor": "white"
           },
           "yaxis": {
            "backgroundcolor": "#E5ECF6",
            "gridcolor": "white",
            "gridwidth": 2,
            "linecolor": "white",
            "showbackground": true,
            "ticks": "",
            "zerolinecolor": "white"
           },
           "zaxis": {
            "backgroundcolor": "#E5ECF6",
            "gridcolor": "white",
            "gridwidth": 2,
            "linecolor": "white",
            "showbackground": true,
            "ticks": "",
            "zerolinecolor": "white"
           }
          },
          "shapedefaults": {
           "line": {
            "color": "#2a3f5f"
           }
          },
          "ternary": {
           "aaxis": {
            "gridcolor": "white",
            "linecolor": "white",
            "ticks": ""
           },
           "baxis": {
            "gridcolor": "white",
            "linecolor": "white",
            "ticks": ""
           },
           "bgcolor": "#E5ECF6",
           "caxis": {
            "gridcolor": "white",
            "linecolor": "white",
            "ticks": ""
           }
          },
          "title": {
           "x": 0.05
          },
          "xaxis": {
           "automargin": true,
           "gridcolor": "white",
           "linecolor": "white",
           "ticks": "",
           "title": {
            "standoff": 15
           },
           "zerolinecolor": "white",
           "zerolinewidth": 2
          },
          "yaxis": {
           "automargin": true,
           "gridcolor": "white",
           "linecolor": "white",
           "ticks": "",
           "title": {
            "standoff": 15
           },
           "zerolinecolor": "white",
           "zerolinewidth": 2
          }
         }
        },
        "title": {
         "font": {
          "family": "Arial",
          "size": 16
         },
         "text": "Difference vs Mean Over Time"
        },
        "xaxis": {
         "anchor": "y",
         "domain": [
          0,
          1
         ],
         "title": {
          "text": "Matchday"
         }
        },
        "yaxis": {
         "anchor": "x",
         "domain": [
          0,
          1
         ],
         "title": {
          "text": "Difference vs Mean"
         }
        }
       }
      }
     },
     "metadata": {},
     "output_type": "display_data"
    }
   ],
   "source": [
    "# Plot the difference vs mean over time using Plotly\n",
    "fig = px.line(vs_mean_df, x='matchday', y='difference', color='name', \n",
    "              labels={'matchday': 'Matchday', 'difference': 'Difference vs Mean'},\n",
    "              title='Difference vs Mean Over Time')  # purple for all others)\n",
    "\n",
    "# Customize the layout to match the theme of the earlier bar plot\n",
    "fig.update_layout(\n",
    "    font=dict(family='Arial', size=12),\n",
    "    title_font=dict(family='Arial', size=16),\n",
    "    paper_bgcolor='rgba(0,0,0,0)',\n",
    "    plot_bgcolor='rgba(0,0,0,0)',\n",
    "    xaxis_title='Matchday',\n",
    "    yaxis_title='Difference vs Mean'\n",
    ")\n",
    "\n",
    "fig.show()"
   ]
  },
  {
   "cell_type": "code",
   "execution_count": 54,
   "id": "3db15226",
   "metadata": {},
   "outputs": [],
   "source": [
    "points_by_match_code = df_merged.groupby(['name', 'match_code', 'stage_detail']).agg({'base_points': 'sum', 'total_points': 'sum'}).reset_index()\n",
    "\n",
    "# Calculate the cumulative total points for each player\n",
    "points_by_match_code['cumulative_total_points'] = points_by_match_code.groupby('name')['total_points'].cumsum()\n",
    "\n",
    "# Calculate the cumulative average total points for each matchday\n",
    "cumulative_avg_total_points = points_by_match_code.groupby('match_code')['cumulative_total_points'].mean().reset_index()\n",
    "cumulative_avg_total_points.rename(columns={'cumulative_total_points': 'cumulative_avg_total_points'}, inplace=True)\n",
    "\n",
    "# Merge the cumulative average total points back to the original DataFrame\n",
    "vs_mean_match_code_df = points_by_match_code.merge(cumulative_avg_total_points, on='match_code')\n",
    "\n",
    "# Calculate the difference between each player's cumulative total points and the cumulative average\n",
    "vs_mean_match_code_df['difference'] = vs_mean_match_code_df['cumulative_total_points'] - vs_mean_match_code_df['cumulative_avg_total_points']\n",
    "\n",
    "# Display the resulting DataFrame\n",
    "vs_mean_match_code_df[['name', 'match_code', 'cumulative_total_points', 'cumulative_avg_total_points', 'difference']]\n",
    "\n",
    "# write to csv\n",
    "vs_mean_match_code_df.to_csv('data/vs_mean_match_code_df.csv')"
   ]
  },
  {
   "cell_type": "code",
   "execution_count": 55,
   "id": "5c14838b",
   "metadata": {},
   "outputs": [
    {
     "data": {
      "text/html": [
       "<div>\n",
       "<style scoped>\n",
       "    .dataframe tbody tr th:only-of-type {\n",
       "        vertical-align: middle;\n",
       "    }\n",
       "\n",
       "    .dataframe tbody tr th {\n",
       "        vertical-align: top;\n",
       "    }\n",
       "\n",
       "    .dataframe thead th {\n",
       "        text-align: right;\n",
       "    }\n",
       "</style>\n",
       "<table border=\"1\" class=\"dataframe\">\n",
       "  <thead>\n",
       "    <tr style=\"text-align: right;\">\n",
       "      <th></th>\n",
       "      <th>Unnamed: 0</th>\n",
       "      <th>name</th>\n",
       "      <th>match_code</th>\n",
       "      <th>stage_detail</th>\n",
       "      <th>base_points</th>\n",
       "      <th>total_points</th>\n",
       "      <th>cumulative_total_points</th>\n",
       "      <th>cumulative_avg_total_points</th>\n",
       "      <th>difference</th>\n",
       "    </tr>\n",
       "  </thead>\n",
       "  <tbody>\n",
       "    <tr>\n",
       "      <th>0</th>\n",
       "      <td>0</td>\n",
       "      <td>Corfe</td>\n",
       "      <td>M01</td>\n",
       "      <td>01. Groups - Matchday 1</td>\n",
       "      <td>1</td>\n",
       "      <td>2</td>\n",
       "      <td>2</td>\n",
       "      <td>1.6</td>\n",
       "      <td>0.4</td>\n",
       "    </tr>\n",
       "    <tr>\n",
       "      <th>1</th>\n",
       "      <td>1</td>\n",
       "      <td>Corfe</td>\n",
       "      <td>M03</td>\n",
       "      <td>01. Groups - Matchday 1</td>\n",
       "      <td>1</td>\n",
       "      <td>1</td>\n",
       "      <td>3</td>\n",
       "      <td>2.2</td>\n",
       "      <td>0.8</td>\n",
       "    </tr>\n",
       "    <tr>\n",
       "      <th>2</th>\n",
       "      <td>2</td>\n",
       "      <td>Corfe</td>\n",
       "      <td>M05</td>\n",
       "      <td>01. Groups - Matchday 1</td>\n",
       "      <td>1</td>\n",
       "      <td>1</td>\n",
       "      <td>4</td>\n",
       "      <td>3.9</td>\n",
       "      <td>0.1</td>\n",
       "    </tr>\n",
       "    <tr>\n",
       "      <th>3</th>\n",
       "      <td>3</td>\n",
       "      <td>Corfe</td>\n",
       "      <td>M08</td>\n",
       "      <td>01. Groups - Matchday 1</td>\n",
       "      <td>1</td>\n",
       "      <td>1</td>\n",
       "      <td>5</td>\n",
       "      <td>4.8</td>\n",
       "      <td>0.2</td>\n",
       "    </tr>\n",
       "    <tr>\n",
       "      <th>4</th>\n",
       "      <td>4</td>\n",
       "      <td>Corfe</td>\n",
       "      <td>M12</td>\n",
       "      <td>01. Groups - Matchday 1</td>\n",
       "      <td>1</td>\n",
       "      <td>1</td>\n",
       "      <td>6</td>\n",
       "      <td>6.2</td>\n",
       "      <td>-0.2</td>\n",
       "    </tr>\n",
       "    <tr>\n",
       "      <th>...</th>\n",
       "      <td>...</td>\n",
       "      <td>...</td>\n",
       "      <td>...</td>\n",
       "      <td>...</td>\n",
       "      <td>...</td>\n",
       "      <td>...</td>\n",
       "      <td>...</td>\n",
       "      <td>...</td>\n",
       "      <td>...</td>\n",
       "    </tr>\n",
       "    <tr>\n",
       "      <th>285</th>\n",
       "      <td>285</td>\n",
       "      <td>Tom</td>\n",
       "      <td>M46</td>\n",
       "      <td>05. KO - Quarter Final</td>\n",
       "      <td>0</td>\n",
       "      <td>0</td>\n",
       "      <td>19</td>\n",
       "      <td>18.4</td>\n",
       "      <td>0.6</td>\n",
       "    </tr>\n",
       "    <tr>\n",
       "      <th>286</th>\n",
       "      <td>286</td>\n",
       "      <td>Tom</td>\n",
       "      <td>M47</td>\n",
       "      <td>05. KO - Quarter Final</td>\n",
       "      <td>0</td>\n",
       "      <td>0</td>\n",
       "      <td>19</td>\n",
       "      <td>20.7</td>\n",
       "      <td>-1.7</td>\n",
       "    </tr>\n",
       "    <tr>\n",
       "      <th>287</th>\n",
       "      <td>287</td>\n",
       "      <td>Tom</td>\n",
       "      <td>M48</td>\n",
       "      <td>05. KO - Quarter Final</td>\n",
       "      <td>0</td>\n",
       "      <td>0</td>\n",
       "      <td>19</td>\n",
       "      <td>21.3</td>\n",
       "      <td>-2.3</td>\n",
       "    </tr>\n",
       "    <tr>\n",
       "      <th>288</th>\n",
       "      <td>288</td>\n",
       "      <td>Tom</td>\n",
       "      <td>M49</td>\n",
       "      <td>06. KO - Semi Final</td>\n",
       "      <td>0</td>\n",
       "      <td>0</td>\n",
       "      <td>19</td>\n",
       "      <td>23.1</td>\n",
       "      <td>-4.1</td>\n",
       "    </tr>\n",
       "    <tr>\n",
       "      <th>289</th>\n",
       "      <td>289</td>\n",
       "      <td>Tom</td>\n",
       "      <td>M50</td>\n",
       "      <td>06. KO - Semi Final</td>\n",
       "      <td>0</td>\n",
       "      <td>0</td>\n",
       "      <td>19</td>\n",
       "      <td>23.9</td>\n",
       "      <td>-4.9</td>\n",
       "    </tr>\n",
       "  </tbody>\n",
       "</table>\n",
       "<p>290 rows × 9 columns</p>\n",
       "</div>"
      ],
      "text/plain": [
       "     Unnamed: 0   name match_code             stage_detail  base_points  \\\n",
       "0             0  Corfe        M01  01. Groups - Matchday 1            1   \n",
       "1             1  Corfe        M03  01. Groups - Matchday 1            1   \n",
       "2             2  Corfe        M05  01. Groups - Matchday 1            1   \n",
       "3             3  Corfe        M08  01. Groups - Matchday 1            1   \n",
       "4             4  Corfe        M12  01. Groups - Matchday 1            1   \n",
       "..          ...    ...        ...                      ...          ...   \n",
       "285         285    Tom        M46   05. KO - Quarter Final            0   \n",
       "286         286    Tom        M47   05. KO - Quarter Final            0   \n",
       "287         287    Tom        M48   05. KO - Quarter Final            0   \n",
       "288         288    Tom        M49      06. KO - Semi Final            0   \n",
       "289         289    Tom        M50      06. KO - Semi Final            0   \n",
       "\n",
       "     total_points  cumulative_total_points  cumulative_avg_total_points  \\\n",
       "0               2                        2                          1.6   \n",
       "1               1                        3                          2.2   \n",
       "2               1                        4                          3.9   \n",
       "3               1                        5                          4.8   \n",
       "4               1                        6                          6.2   \n",
       "..            ...                      ...                          ...   \n",
       "285             0                       19                         18.4   \n",
       "286             0                       19                         20.7   \n",
       "287             0                       19                         21.3   \n",
       "288             0                       19                         23.1   \n",
       "289             0                       19                         23.9   \n",
       "\n",
       "     difference  \n",
       "0           0.4  \n",
       "1           0.8  \n",
       "2           0.1  \n",
       "3           0.2  \n",
       "4          -0.2  \n",
       "..          ...  \n",
       "285         0.6  \n",
       "286        -1.7  \n",
       "287        -2.3  \n",
       "288        -4.1  \n",
       "289        -4.9  \n",
       "\n",
       "[290 rows x 9 columns]"
      ]
     },
     "execution_count": 55,
     "metadata": {},
     "output_type": "execute_result"
    }
   ],
   "source": [
    "vs_mean_match_code_df = pd.read_csv('data/vs_mean_match_code_df.csv')\n",
    "vs_mean_match_code_df"
   ]
  },
  {
   "cell_type": "code",
   "execution_count": 56,
   "id": "a4768d98",
   "metadata": {},
   "outputs": [
    {
     "data": {
      "application/vnd.plotly.v1+json": {
       "config": {
        "plotlyServerURL": "https://plot.ly"
       },
       "data": [
        {
         "hovertemplate": "name=Corfe<br>Matchday=%{x}<br>Difference vs Mean=%{y}<extra></extra>",
         "legendgroup": "Corfe",
         "line": {
          "color": "#636efa",
          "dash": "solid"
         },
         "marker": {
          "symbol": "circle"
         },
         "mode": "lines",
         "name": "Corfe",
         "orientation": "v",
         "showlegend": true,
         "type": "scatter",
         "x": [
          "M01",
          "M03",
          "M05",
          "M08",
          "M12",
          "M13",
          "M16",
          "M17",
          "M20",
          "M22",
          "M26",
          "M28",
          "M30",
          "M31",
          "M36",
          "M37",
          "M38",
          "M39",
          "M40",
          "M41",
          "M42",
          "M43",
          "M44",
          "M45",
          "M46",
          "M47",
          "M48",
          "M49",
          "M50"
         ],
         "xaxis": "x",
         "y": [
          0.3999999999999999,
          0.7999999999999998,
          0.1,
          0.2000000000000001,
          -0.2000000000000001,
          -0.2000000000000001,
          -0.7999999999999998,
          -0.9000000000000004,
          -1.0999999999999996,
          -1.8000000000000007,
          0.6999999999999993,
          0,
          -0.0999999999999996,
          -0.1999999999999993,
          -1.8000000000000007,
          1.9000000000000004,
          1.6999999999999993,
          1.3000000000000007,
          1.3000000000000007,
          1.3000000000000007,
          3.1999999999999997,
          3.8000000000000007,
          3.8000000000000007,
          2.8000000000000007,
          2.6000000000000014,
          2.3000000000000007,
          1.6999999999999993,
          1.8999999999999984,
          2.1000000000000014
         ],
         "yaxis": "y"
        },
        {
         "hovertemplate": "name=Ed<br>Matchday=%{x}<br>Difference vs Mean=%{y}<extra></extra>",
         "legendgroup": "Ed",
         "line": {
          "color": "#EF553B",
          "dash": "solid"
         },
         "marker": {
          "symbol": "circle"
         },
         "mode": "lines",
         "name": "Ed",
         "orientation": "v",
         "showlegend": true,
         "type": "scatter",
         "x": [
          "M01",
          "M03",
          "M05",
          "M08",
          "M12",
          "M13",
          "M16",
          "M17",
          "M20",
          "M22",
          "M26",
          "M28",
          "M30",
          "M31",
          "M36",
          "M37",
          "M38",
          "M39",
          "M40",
          "M41",
          "M42",
          "M43",
          "M44",
          "M45",
          "M46",
          "M47",
          "M48",
          "M49",
          "M50"
         ],
         "xaxis": "x",
         "y": [
          -0.6000000000000001,
          -1.2000000000000002,
          -0.8999999999999999,
          -0.7999999999999998,
          -1.2000000000000002,
          -1.2000000000000002,
          -1.7999999999999998,
          -1.9000000000000004,
          -2.1,
          -2.8000000000000007,
          -3.3000000000000007,
          -4,
          -4.1,
          -4.199999999999999,
          -2.8000000000000007,
          -2.1,
          -2.3000000000000007,
          -1.6999999999999993,
          -1.6999999999999993,
          -1.6999999999999993,
          -2.8000000000000007,
          -3.1999999999999997,
          -3.1999999999999997,
          -3.1999999999999997,
          -3.3999999999999986,
          0.3000000000000007,
          -0.3000000000000007,
          -2.1000000000000014,
          -2.8999999999999986
         ],
         "yaxis": "y"
        },
        {
         "hovertemplate": "name=Jay<br>Matchday=%{x}<br>Difference vs Mean=%{y}<extra></extra>",
         "legendgroup": "Jay",
         "line": {
          "color": "#00cc96",
          "dash": "solid"
         },
         "marker": {
          "symbol": "circle"
         },
         "mode": "lines",
         "name": "Jay",
         "orientation": "v",
         "showlegend": true,
         "type": "scatter",
         "x": [
          "M01",
          "M03",
          "M05",
          "M08",
          "M12",
          "M13",
          "M16",
          "M17",
          "M20",
          "M22",
          "M26",
          "M28",
          "M30",
          "M31",
          "M36",
          "M37",
          "M38",
          "M39",
          "M40",
          "M41",
          "M42",
          "M43",
          "M44",
          "M45",
          "M46",
          "M47",
          "M48",
          "M49",
          "M50"
         ],
         "xaxis": "x",
         "y": [
          -0.6000000000000001,
          -1.2000000000000002,
          0.1,
          0.2000000000000001,
          0.7999999999999998,
          0.7999999999999998,
          1.2000000000000002,
          2.1,
          2.9000000000000004,
          2.1999999999999997,
          1.6999999999999993,
          1,
          0.9000000000000004,
          0.8000000000000007,
          5.199999999999999,
          3.9,
          4.699999999999999,
          5.300000000000001,
          5.300000000000001,
          5.300000000000001,
          5.199999999999999,
          4.800000000000001,
          4.800000000000001,
          3.8000000000000007,
          5.600000000000001,
          4.300000000000001,
          3.6999999999999993,
          3.899999999999999,
          3.1000000000000014
         ],
         "yaxis": "y"
        },
        {
         "hovertemplate": "name=Jonny<br>Matchday=%{x}<br>Difference vs Mean=%{y}<extra></extra>",
         "legendgroup": "Jonny",
         "line": {
          "color": "#ab63fa",
          "dash": "solid"
         },
         "marker": {
          "symbol": "circle"
         },
         "mode": "lines",
         "name": "Jonny",
         "orientation": "v",
         "showlegend": true,
         "type": "scatter",
         "x": [
          "M01",
          "M03",
          "M05",
          "M08",
          "M12",
          "M13",
          "M16",
          "M17",
          "M20",
          "M22",
          "M26",
          "M28",
          "M30",
          "M31",
          "M36",
          "M37",
          "M38",
          "M39",
          "M40",
          "M41",
          "M42",
          "M43",
          "M44",
          "M45",
          "M46",
          "M47",
          "M48",
          "M49",
          "M50"
         ],
         "xaxis": "x",
         "y": [
          0.3999999999999999,
          0.7999999999999998,
          0.1,
          0.2000000000000001,
          1.7999999999999998,
          1.7999999999999998,
          2.2,
          2.1,
          1.9000000000000004,
          6.199999999999999,
          5.699999999999999,
          8,
          7.9,
          7.800000000000001,
          6.199999999999999,
          6.9,
          6.699999999999999,
          7.300000000000001,
          7.300000000000001,
          7.300000000000001,
          6.199999999999999,
          6.800000000000001,
          6.800000000000001,
          8.8,
          8.600000000000001,
          8.3,
          10.7,
          10.9,
          10.1
         ],
         "yaxis": "y"
        },
        {
         "hovertemplate": "name=Larry<br>Matchday=%{x}<br>Difference vs Mean=%{y}<extra></extra>",
         "legendgroup": "Larry",
         "line": {
          "color": "#FFA15A",
          "dash": "solid"
         },
         "marker": {
          "symbol": "circle"
         },
         "mode": "lines",
         "name": "Larry",
         "orientation": "v",
         "showlegend": true,
         "type": "scatter",
         "x": [
          "M01",
          "M03",
          "M05",
          "M08",
          "M12",
          "M13",
          "M16",
          "M17",
          "M20",
          "M22",
          "M26",
          "M28",
          "M30",
          "M31",
          "M36",
          "M37",
          "M38",
          "M39",
          "M40",
          "M41",
          "M42",
          "M43",
          "M44",
          "M45",
          "M46",
          "M47",
          "M48",
          "M49",
          "M50"
         ],
         "xaxis": "x",
         "y": [
          0.3999999999999999,
          0.7999999999999998,
          0.1,
          0.2000000000000001,
          1.7999999999999998,
          1.7999999999999998,
          2.2,
          2.1,
          1.9000000000000004,
          1.1999999999999993,
          0.6999999999999993,
          0,
          0.9000000000000004,
          0.8000000000000007,
          -0.8000000000000007,
          -1.0999999999999996,
          -0.3000000000000007,
          -0.6999999999999993,
          -0.6999999999999993,
          -0.6999999999999993,
          -0.8000000000000007,
          -1.1999999999999993,
          -1.1999999999999993,
          -2.1999999999999997,
          -2.3999999999999986,
          -3.6999999999999993,
          -4.300000000000001,
          -3.1000000000000014,
          2.1000000000000014
         ],
         "yaxis": "y"
        },
        {
         "hovertemplate": "name=Luke<br>Matchday=%{x}<br>Difference vs Mean=%{y}<extra></extra>",
         "legendgroup": "Luke",
         "line": {
          "color": "#19d3f3",
          "dash": "solid"
         },
         "marker": {
          "symbol": "circle"
         },
         "mode": "lines",
         "name": "Luke",
         "orientation": "v",
         "showlegend": true,
         "type": "scatter",
         "x": [
          "M01",
          "M03",
          "M05",
          "M08",
          "M12",
          "M13",
          "M16",
          "M17",
          "M20",
          "M22",
          "M26",
          "M28",
          "M30",
          "M31",
          "M36",
          "M37",
          "M38",
          "M39",
          "M40",
          "M41",
          "M42",
          "M43",
          "M44",
          "M45",
          "M46",
          "M47",
          "M48",
          "M49",
          "M50"
         ],
         "xaxis": "x",
         "y": [
          0.3999999999999999,
          0.7999999999999998,
          2.1,
          2.2,
          1.7999999999999998,
          1.7999999999999998,
          1.2000000000000002,
          1.0999999999999996,
          1.9000000000000004,
          3.1999999999999997,
          3.6999999999999993,
          3,
          2.9000000000000004,
          2.8000000000000007,
          1.1999999999999993,
          -0.0999999999999996,
          -0.3000000000000007,
          0.3000000000000007,
          0.3000000000000007,
          0.3000000000000007,
          2.1999999999999997,
          2.8000000000000007,
          2.8000000000000007,
          4.800000000000001,
          4.600000000000001,
          4.300000000000001,
          3.6999999999999993,
          1.8999999999999984,
          1.1000000000000014
         ],
         "yaxis": "y"
        },
        {
         "hovertemplate": "name=Marc<br>Matchday=%{x}<br>Difference vs Mean=%{y}<extra></extra>",
         "legendgroup": "Marc",
         "line": {
          "color": "#FF6692",
          "dash": "solid"
         },
         "marker": {
          "symbol": "circle"
         },
         "mode": "lines",
         "name": "Marc",
         "orientation": "v",
         "showlegend": true,
         "type": "scatter",
         "x": [
          "M01",
          "M03",
          "M05",
          "M08",
          "M12",
          "M13",
          "M16",
          "M17",
          "M20",
          "M22",
          "M26",
          "M28",
          "M30",
          "M31",
          "M36",
          "M37",
          "M38",
          "M39",
          "M40",
          "M41",
          "M42",
          "M43",
          "M44",
          "M45",
          "M46",
          "M47",
          "M48",
          "M49",
          "M50"
         ],
         "xaxis": "x",
         "y": [
          0.3999999999999999,
          0.7999999999999998,
          0.1,
          0.2000000000000001,
          -1.2000000000000002,
          -1.2000000000000002,
          -0.7999999999999998,
          -0.9000000000000004,
          -1.0999999999999996,
          -2.8000000000000007,
          -3.3000000000000007,
          -3,
          -3.1,
          -3.1999999999999997,
          -4.800000000000001,
          -6.1,
          -6.300000000000001,
          -6.699999999999999,
          -6.699999999999999,
          -6.699999999999999,
          -6.800000000000001,
          -7.199999999999999,
          -7.199999999999999,
          -8.2,
          -8.399999999999999,
          -4.699999999999999,
          -2.3000000000000007,
          -3.1000000000000014,
          -3.899999999999999
         ],
         "yaxis": "y"
        },
        {
         "hovertemplate": "name=Peter Popular<br>Matchday=%{x}<br>Difference vs Mean=%{y}<extra></extra>",
         "legendgroup": "Peter Popular",
         "line": {
          "color": "#B6E880",
          "dash": "solid"
         },
         "marker": {
          "symbol": "circle"
         },
         "mode": "lines",
         "name": "Peter Popular",
         "orientation": "v",
         "showlegend": true,
         "type": "scatter",
         "x": [
          "M01",
          "M03",
          "M05",
          "M08",
          "M12",
          "M13",
          "M16",
          "M17",
          "M20",
          "M22",
          "M26",
          "M28",
          "M30",
          "M31",
          "M36",
          "M37",
          "M38",
          "M39",
          "M40",
          "M41",
          "M42",
          "M43",
          "M44",
          "M45",
          "M46",
          "M47",
          "M48",
          "M49",
          "M50"
         ],
         "xaxis": "x",
         "y": [
          0.3999999999999999,
          0.7999999999999998,
          0.1,
          0.2000000000000001,
          -0.2000000000000001,
          -0.2000000000000001,
          0.2000000000000001,
          0.0999999999999996,
          -0.0999999999999996,
          1.1999999999999993,
          0.6999999999999993,
          0,
          -0.0999999999999996,
          -0.1999999999999993,
          4.199999999999999,
          4.9,
          4.699999999999999,
          4.300000000000001,
          4.300000000000001,
          4.300000000000001,
          4.199999999999999,
          4.800000000000001,
          4.800000000000001,
          3.8000000000000007,
          3.6000000000000014,
          4.300000000000001,
          3.6999999999999993,
          7.899999999999999,
          7.100000000000001
         ],
         "yaxis": "y"
        },
        {
         "hovertemplate": "name=Rando Randal<br>Matchday=%{x}<br>Difference vs Mean=%{y}<extra></extra>",
         "legendgroup": "Rando Randal",
         "line": {
          "color": "#FF97FF",
          "dash": "solid"
         },
         "marker": {
          "symbol": "circle"
         },
         "mode": "lines",
         "name": "Rando Randal",
         "orientation": "v",
         "showlegend": true,
         "type": "scatter",
         "x": [
          "M01",
          "M03",
          "M05",
          "M08",
          "M12",
          "M13",
          "M16",
          "M17",
          "M20",
          "M22",
          "M26",
          "M28",
          "M30",
          "M31",
          "M36",
          "M37",
          "M38",
          "M39",
          "M40",
          "M41",
          "M42",
          "M43",
          "M44",
          "M45",
          "M46",
          "M47",
          "M48",
          "M49",
          "M50"
         ],
         "xaxis": "x",
         "y": [
          -0.6000000000000001,
          -1.2000000000000002,
          -0.8999999999999999,
          -1.7999999999999998,
          -2.2,
          -2.2,
          -2.8,
          -2.9000000000000004,
          -3.1,
          -4.800000000000001,
          -4.300000000000001,
          -5,
          -5.1,
          -5.199999999999999,
          -6.800000000000001,
          -9.1,
          -9.3,
          -9.7,
          -9.7,
          -9.7,
          -9.8,
          -10.2,
          -10.2,
          -11.2,
          -11.4,
          -13.7,
          -14.3,
          -14.1,
          -13.9
         ],
         "yaxis": "y"
        },
        {
         "hovertemplate": "name=Tom<br>Matchday=%{x}<br>Difference vs Mean=%{y}<extra></extra>",
         "legendgroup": "Tom",
         "line": {
          "color": "#FECB52",
          "dash": "solid"
         },
         "marker": {
          "symbol": "circle"
         },
         "mode": "lines",
         "name": "Tom",
         "orientation": "v",
         "showlegend": true,
         "type": "scatter",
         "x": [
          "M01",
          "M03",
          "M05",
          "M08",
          "M12",
          "M13",
          "M16",
          "M17",
          "M20",
          "M22",
          "M26",
          "M28",
          "M30",
          "M31",
          "M36",
          "M37",
          "M38",
          "M39",
          "M40",
          "M41",
          "M42",
          "M43",
          "M44",
          "M45",
          "M46",
          "M47",
          "M48",
          "M49",
          "M50"
         ],
         "xaxis": "x",
         "y": [
          -0.6000000000000001,
          -1.2000000000000002,
          -0.8999999999999999,
          -0.7999999999999998,
          -1.2000000000000002,
          -1.2000000000000002,
          -0.7999999999999998,
          -0.9000000000000004,
          -1.0999999999999996,
          -1.8000000000000007,
          -2.3000000000000007,
          0,
          -0.0999999999999996,
          0.8000000000000007,
          0.1999999999999993,
          0.9000000000000004,
          0.6999999999999993,
          0.3000000000000007,
          0.3000000000000007,
          0.3000000000000007,
          -0.8000000000000007,
          -1.1999999999999993,
          -1.1999999999999993,
          0.8000000000000007,
          0.6000000000000014,
          -1.6999999999999993,
          -2.3000000000000007,
          -4.100000000000001,
          -4.899999999999999
         ],
         "yaxis": "y"
        }
       ],
       "layout": {
        "font": {
         "family": "Arial",
         "size": 12
        },
        "legend": {
         "title": {
          "text": "name"
         },
         "tracegroupgap": 0
        },
        "paper_bgcolor": "rgba(0,0,0,0)",
        "plot_bgcolor": "rgba(0,0,0,0)",
        "template": {
         "data": {
          "bar": [
           {
            "error_x": {
             "color": "#2a3f5f"
            },
            "error_y": {
             "color": "#2a3f5f"
            },
            "marker": {
             "line": {
              "color": "#E5ECF6",
              "width": 0.5
             },
             "pattern": {
              "fillmode": "overlay",
              "size": 10,
              "solidity": 0.2
             }
            },
            "type": "bar"
           }
          ],
          "barpolar": [
           {
            "marker": {
             "line": {
              "color": "#E5ECF6",
              "width": 0.5
             },
             "pattern": {
              "fillmode": "overlay",
              "size": 10,
              "solidity": 0.2
             }
            },
            "type": "barpolar"
           }
          ],
          "carpet": [
           {
            "aaxis": {
             "endlinecolor": "#2a3f5f",
             "gridcolor": "white",
             "linecolor": "white",
             "minorgridcolor": "white",
             "startlinecolor": "#2a3f5f"
            },
            "baxis": {
             "endlinecolor": "#2a3f5f",
             "gridcolor": "white",
             "linecolor": "white",
             "minorgridcolor": "white",
             "startlinecolor": "#2a3f5f"
            },
            "type": "carpet"
           }
          ],
          "choropleth": [
           {
            "colorbar": {
             "outlinewidth": 0,
             "ticks": ""
            },
            "type": "choropleth"
           }
          ],
          "contour": [
           {
            "colorbar": {
             "outlinewidth": 0,
             "ticks": ""
            },
            "colorscale": [
             [
              0,
              "#0d0887"
             ],
             [
              0.1111111111111111,
              "#46039f"
             ],
             [
              0.2222222222222222,
              "#7201a8"
             ],
             [
              0.3333333333333333,
              "#9c179e"
             ],
             [
              0.4444444444444444,
              "#bd3786"
             ],
             [
              0.5555555555555556,
              "#d8576b"
             ],
             [
              0.6666666666666666,
              "#ed7953"
             ],
             [
              0.7777777777777778,
              "#fb9f3a"
             ],
             [
              0.8888888888888888,
              "#fdca26"
             ],
             [
              1,
              "#f0f921"
             ]
            ],
            "type": "contour"
           }
          ],
          "contourcarpet": [
           {
            "colorbar": {
             "outlinewidth": 0,
             "ticks": ""
            },
            "type": "contourcarpet"
           }
          ],
          "heatmap": [
           {
            "colorbar": {
             "outlinewidth": 0,
             "ticks": ""
            },
            "colorscale": [
             [
              0,
              "#0d0887"
             ],
             [
              0.1111111111111111,
              "#46039f"
             ],
             [
              0.2222222222222222,
              "#7201a8"
             ],
             [
              0.3333333333333333,
              "#9c179e"
             ],
             [
              0.4444444444444444,
              "#bd3786"
             ],
             [
              0.5555555555555556,
              "#d8576b"
             ],
             [
              0.6666666666666666,
              "#ed7953"
             ],
             [
              0.7777777777777778,
              "#fb9f3a"
             ],
             [
              0.8888888888888888,
              "#fdca26"
             ],
             [
              1,
              "#f0f921"
             ]
            ],
            "type": "heatmap"
           }
          ],
          "heatmapgl": [
           {
            "colorbar": {
             "outlinewidth": 0,
             "ticks": ""
            },
            "colorscale": [
             [
              0,
              "#0d0887"
             ],
             [
              0.1111111111111111,
              "#46039f"
             ],
             [
              0.2222222222222222,
              "#7201a8"
             ],
             [
              0.3333333333333333,
              "#9c179e"
             ],
             [
              0.4444444444444444,
              "#bd3786"
             ],
             [
              0.5555555555555556,
              "#d8576b"
             ],
             [
              0.6666666666666666,
              "#ed7953"
             ],
             [
              0.7777777777777778,
              "#fb9f3a"
             ],
             [
              0.8888888888888888,
              "#fdca26"
             ],
             [
              1,
              "#f0f921"
             ]
            ],
            "type": "heatmapgl"
           }
          ],
          "histogram": [
           {
            "marker": {
             "pattern": {
              "fillmode": "overlay",
              "size": 10,
              "solidity": 0.2
             }
            },
            "type": "histogram"
           }
          ],
          "histogram2d": [
           {
            "colorbar": {
             "outlinewidth": 0,
             "ticks": ""
            },
            "colorscale": [
             [
              0,
              "#0d0887"
             ],
             [
              0.1111111111111111,
              "#46039f"
             ],
             [
              0.2222222222222222,
              "#7201a8"
             ],
             [
              0.3333333333333333,
              "#9c179e"
             ],
             [
              0.4444444444444444,
              "#bd3786"
             ],
             [
              0.5555555555555556,
              "#d8576b"
             ],
             [
              0.6666666666666666,
              "#ed7953"
             ],
             [
              0.7777777777777778,
              "#fb9f3a"
             ],
             [
              0.8888888888888888,
              "#fdca26"
             ],
             [
              1,
              "#f0f921"
             ]
            ],
            "type": "histogram2d"
           }
          ],
          "histogram2dcontour": [
           {
            "colorbar": {
             "outlinewidth": 0,
             "ticks": ""
            },
            "colorscale": [
             [
              0,
              "#0d0887"
             ],
             [
              0.1111111111111111,
              "#46039f"
             ],
             [
              0.2222222222222222,
              "#7201a8"
             ],
             [
              0.3333333333333333,
              "#9c179e"
             ],
             [
              0.4444444444444444,
              "#bd3786"
             ],
             [
              0.5555555555555556,
              "#d8576b"
             ],
             [
              0.6666666666666666,
              "#ed7953"
             ],
             [
              0.7777777777777778,
              "#fb9f3a"
             ],
             [
              0.8888888888888888,
              "#fdca26"
             ],
             [
              1,
              "#f0f921"
             ]
            ],
            "type": "histogram2dcontour"
           }
          ],
          "mesh3d": [
           {
            "colorbar": {
             "outlinewidth": 0,
             "ticks": ""
            },
            "type": "mesh3d"
           }
          ],
          "parcoords": [
           {
            "line": {
             "colorbar": {
              "outlinewidth": 0,
              "ticks": ""
             }
            },
            "type": "parcoords"
           }
          ],
          "pie": [
           {
            "automargin": true,
            "type": "pie"
           }
          ],
          "scatter": [
           {
            "fillpattern": {
             "fillmode": "overlay",
             "size": 10,
             "solidity": 0.2
            },
            "type": "scatter"
           }
          ],
          "scatter3d": [
           {
            "line": {
             "colorbar": {
              "outlinewidth": 0,
              "ticks": ""
             }
            },
            "marker": {
             "colorbar": {
              "outlinewidth": 0,
              "ticks": ""
             }
            },
            "type": "scatter3d"
           }
          ],
          "scattercarpet": [
           {
            "marker": {
             "colorbar": {
              "outlinewidth": 0,
              "ticks": ""
             }
            },
            "type": "scattercarpet"
           }
          ],
          "scattergeo": [
           {
            "marker": {
             "colorbar": {
              "outlinewidth": 0,
              "ticks": ""
             }
            },
            "type": "scattergeo"
           }
          ],
          "scattergl": [
           {
            "marker": {
             "colorbar": {
              "outlinewidth": 0,
              "ticks": ""
             }
            },
            "type": "scattergl"
           }
          ],
          "scattermapbox": [
           {
            "marker": {
             "colorbar": {
              "outlinewidth": 0,
              "ticks": ""
             }
            },
            "type": "scattermapbox"
           }
          ],
          "scatterpolar": [
           {
            "marker": {
             "colorbar": {
              "outlinewidth": 0,
              "ticks": ""
             }
            },
            "type": "scatterpolar"
           }
          ],
          "scatterpolargl": [
           {
            "marker": {
             "colorbar": {
              "outlinewidth": 0,
              "ticks": ""
             }
            },
            "type": "scatterpolargl"
           }
          ],
          "scatterternary": [
           {
            "marker": {
             "colorbar": {
              "outlinewidth": 0,
              "ticks": ""
             }
            },
            "type": "scatterternary"
           }
          ],
          "surface": [
           {
            "colorbar": {
             "outlinewidth": 0,
             "ticks": ""
            },
            "colorscale": [
             [
              0,
              "#0d0887"
             ],
             [
              0.1111111111111111,
              "#46039f"
             ],
             [
              0.2222222222222222,
              "#7201a8"
             ],
             [
              0.3333333333333333,
              "#9c179e"
             ],
             [
              0.4444444444444444,
              "#bd3786"
             ],
             [
              0.5555555555555556,
              "#d8576b"
             ],
             [
              0.6666666666666666,
              "#ed7953"
             ],
             [
              0.7777777777777778,
              "#fb9f3a"
             ],
             [
              0.8888888888888888,
              "#fdca26"
             ],
             [
              1,
              "#f0f921"
             ]
            ],
            "type": "surface"
           }
          ],
          "table": [
           {
            "cells": {
             "fill": {
              "color": "#EBF0F8"
             },
             "line": {
              "color": "white"
             }
            },
            "header": {
             "fill": {
              "color": "#C8D4E3"
             },
             "line": {
              "color": "white"
             }
            },
            "type": "table"
           }
          ]
         },
         "layout": {
          "annotationdefaults": {
           "arrowcolor": "#2a3f5f",
           "arrowhead": 0,
           "arrowwidth": 1
          },
          "autotypenumbers": "strict",
          "coloraxis": {
           "colorbar": {
            "outlinewidth": 0,
            "ticks": ""
           }
          },
          "colorscale": {
           "diverging": [
            [
             0,
             "#8e0152"
            ],
            [
             0.1,
             "#c51b7d"
            ],
            [
             0.2,
             "#de77ae"
            ],
            [
             0.3,
             "#f1b6da"
            ],
            [
             0.4,
             "#fde0ef"
            ],
            [
             0.5,
             "#f7f7f7"
            ],
            [
             0.6,
             "#e6f5d0"
            ],
            [
             0.7,
             "#b8e186"
            ],
            [
             0.8,
             "#7fbc41"
            ],
            [
             0.9,
             "#4d9221"
            ],
            [
             1,
             "#276419"
            ]
           ],
           "sequential": [
            [
             0,
             "#0d0887"
            ],
            [
             0.1111111111111111,
             "#46039f"
            ],
            [
             0.2222222222222222,
             "#7201a8"
            ],
            [
             0.3333333333333333,
             "#9c179e"
            ],
            [
             0.4444444444444444,
             "#bd3786"
            ],
            [
             0.5555555555555556,
             "#d8576b"
            ],
            [
             0.6666666666666666,
             "#ed7953"
            ],
            [
             0.7777777777777778,
             "#fb9f3a"
            ],
            [
             0.8888888888888888,
             "#fdca26"
            ],
            [
             1,
             "#f0f921"
            ]
           ],
           "sequentialminus": [
            [
             0,
             "#0d0887"
            ],
            [
             0.1111111111111111,
             "#46039f"
            ],
            [
             0.2222222222222222,
             "#7201a8"
            ],
            [
             0.3333333333333333,
             "#9c179e"
            ],
            [
             0.4444444444444444,
             "#bd3786"
            ],
            [
             0.5555555555555556,
             "#d8576b"
            ],
            [
             0.6666666666666666,
             "#ed7953"
            ],
            [
             0.7777777777777778,
             "#fb9f3a"
            ],
            [
             0.8888888888888888,
             "#fdca26"
            ],
            [
             1,
             "#f0f921"
            ]
           ]
          },
          "colorway": [
           "#636efa",
           "#EF553B",
           "#00cc96",
           "#ab63fa",
           "#FFA15A",
           "#19d3f3",
           "#FF6692",
           "#B6E880",
           "#FF97FF",
           "#FECB52"
          ],
          "font": {
           "color": "#2a3f5f"
          },
          "geo": {
           "bgcolor": "white",
           "lakecolor": "white",
           "landcolor": "#E5ECF6",
           "showlakes": true,
           "showland": true,
           "subunitcolor": "white"
          },
          "hoverlabel": {
           "align": "left"
          },
          "hovermode": "closest",
          "mapbox": {
           "style": "light"
          },
          "paper_bgcolor": "white",
          "plot_bgcolor": "#E5ECF6",
          "polar": {
           "angularaxis": {
            "gridcolor": "white",
            "linecolor": "white",
            "ticks": ""
           },
           "bgcolor": "#E5ECF6",
           "radialaxis": {
            "gridcolor": "white",
            "linecolor": "white",
            "ticks": ""
           }
          },
          "scene": {
           "xaxis": {
            "backgroundcolor": "#E5ECF6",
            "gridcolor": "white",
            "gridwidth": 2,
            "linecolor": "white",
            "showbackground": true,
            "ticks": "",
            "zerolinecolor": "white"
           },
           "yaxis": {
            "backgroundcolor": "#E5ECF6",
            "gridcolor": "white",
            "gridwidth": 2,
            "linecolor": "white",
            "showbackground": true,
            "ticks": "",
            "zerolinecolor": "white"
           },
           "zaxis": {
            "backgroundcolor": "#E5ECF6",
            "gridcolor": "white",
            "gridwidth": 2,
            "linecolor": "white",
            "showbackground": true,
            "ticks": "",
            "zerolinecolor": "white"
           }
          },
          "shapedefaults": {
           "line": {
            "color": "#2a3f5f"
           }
          },
          "ternary": {
           "aaxis": {
            "gridcolor": "white",
            "linecolor": "white",
            "ticks": ""
           },
           "baxis": {
            "gridcolor": "white",
            "linecolor": "white",
            "ticks": ""
           },
           "bgcolor": "#E5ECF6",
           "caxis": {
            "gridcolor": "white",
            "linecolor": "white",
            "ticks": ""
           }
          },
          "title": {
           "x": 0.05
          },
          "xaxis": {
           "automargin": true,
           "gridcolor": "white",
           "linecolor": "white",
           "ticks": "",
           "title": {
            "standoff": 15
           },
           "zerolinecolor": "white",
           "zerolinewidth": 2
          },
          "yaxis": {
           "automargin": true,
           "gridcolor": "white",
           "linecolor": "white",
           "ticks": "",
           "title": {
            "standoff": 15
           },
           "zerolinecolor": "white",
           "zerolinewidth": 2
          }
         }
        },
        "title": {
         "font": {
          "family": "Arial",
          "size": 16
         },
         "text": "Difference vs Mean Over Time"
        },
        "xaxis": {
         "anchor": "y",
         "domain": [
          0,
          1
         ],
         "title": {
          "text": "Match"
         }
        },
        "yaxis": {
         "anchor": "x",
         "domain": [
          0,
          1
         ],
         "title": {
          "text": "Difference vs Mean"
         }
        }
       }
      }
     },
     "metadata": {},
     "output_type": "display_data"
    }
   ],
   "source": [
    "# Plot the difference vs mean over time using Plotly\n",
    "fig = px.line(vs_mean_match_code_df, x='match_code', y='difference', color='name', \n",
    "              labels={'match_code': 'Matchday', 'difference': 'Difference vs Mean'},\n",
    "              title='Difference vs Mean Over Time')  \n",
    "\n",
    "# Customize the layout to match the theme of the earlier bar plot\n",
    "fig.update_layout(\n",
    "    font=dict(family='Arial', size=12),\n",
    "    title_font=dict(family='Arial', size=16),\n",
    "    paper_bgcolor='rgba(0,0,0,0)',\n",
    "    plot_bgcolor='rgba(0,0,0,0)',\n",
    "    xaxis_title='Match',\n",
    "    yaxis_title='Difference vs Mean'\n",
    ")\n",
    "\n",
    "fig.show()"
   ]
  },
  {
   "cell_type": "code",
   "execution_count": 57,
   "id": "b8efb766",
   "metadata": {},
   "outputs": [],
   "source": [
    "# Group by name to get overall standings\n",
    "overall_standings = vs_mean_match_code_df.groupby('name').agg({\n",
    "    'cumulative_total_points': 'last',\n",
    "    'difference': lambda x: x.tolist(),  # Convert difference values to list\n",
    "}).reset_index()\n",
    "\n",
    "# Sort the overall standings by 'cumulative_total_points' in descending order to determine position\n",
    "overall_standings = overall_standings.sort_values(by='cumulative_total_points', ascending=False).reset_index(drop=True)\n",
    "\n",
    "# Calculate standard competition rank (1, 2, 2, 4, etc.)\n",
    "overall_standings['position'] = overall_standings['cumulative_total_points'].rank(method='min', ascending=False).astype(int)\n",
    "\n",
    "# Group by name to get cumulative total points and previous total points\n",
    "points_by_name_stage['prev_total_points'] = points_by_name_stage.groupby('name')['total_points'].shift(1).fillna(0)\n",
    "points_by_name_stage['cumulative_total_points'] = points_by_name_stage.groupby('name')['total_points'].cumsum()\n",
    "\n",
    "# Calculate ranks for each matchday\n",
    "points_by_name_stage['rank'] = points_by_name_stage.groupby('matchday')['cumulative_total_points'].rank(ascending=False, method='min')\n",
    "\n",
    "# Shift rank to get previous matchday rank\n",
    "points_by_name_stage['prev_rank'] = points_by_name_stage.groupby('name')['rank'].shift(1).fillna(0)\n",
    "\n",
    "# Calculate rank change\n",
    "points_by_name_stage['rank_change'] = points_by_name_stage['prev_rank'] - points_by_name_stage['rank']\n",
    "\n",
    "# Get the latest matchday rank change for each player\n",
    "latest_matchday = points_by_name_stage['matchday'].max()\n",
    "latest_rank_change = points_by_name_stage[points_by_name_stage['matchday'] == latest_matchday][['name', 'rank_change']]\n",
    "\n",
    "# Merge the rank change with overall standings\n",
    "overall_standings = overall_standings.merge(latest_rank_change, on='name', how='left')\n",
    "\n",
    "# Calculate the points change from the previous matchday for each player\n",
    "latest_matchday_points = points_by_name_stage[points_by_name_stage['matchday'] == latest_matchday][['name', 'cumulative_total_points']]\n",
    "previous_matchday = latest_matchday - 1\n",
    "previous_matchday_points = points_by_name_stage[points_by_name_stage['matchday'] == previous_matchday][['name', 'cumulative_total_points']]\n",
    "previous_matchday_points.columns = ['name', 'prev_cumulative_total_points']\n",
    "\n",
    "points_change_df = latest_matchday_points.merge(previous_matchday_points, on='name', how='left')\n",
    "points_change_df['points_change'] = points_change_df['cumulative_total_points'] - points_change_df['prev_cumulative_total_points'].fillna(0)\n",
    "\n",
    "# Merge the points change with overall standings\n",
    "overall_standings = overall_standings.merge(points_change_df[['name', 'points_change']], on='name', how='left')\n",
    "\n",
    "# Define the symbols for rank change\n",
    "def rank_change_symbol(change):\n",
    "    if change >= 2:\n",
    "        return '🔥'  # Player moved up in rank by 2 or more\n",
    "    elif change == 1:\n",
    "        return '👍'  # Player moved up in rank by 1\n",
    "    elif change == -1:\n",
    "        return '😵'  # Player moved down in rank by 1\n",
    "    elif change <= -2:\n",
    "        return '💀'  # Player moved down in rank by 2 or more\n",
    "    else:\n",
    "        return '🥱'  # No change in rank\n",
    "\n",
    "# Apply rank change symbols and convert to string\n",
    "overall_standings['rank_change_symbol'] = overall_standings['rank_change'].apply(rank_change_symbol)\n",
    "\n",
    "# Reorder the columns\n",
    "overall_standings = overall_standings[['name', 'position', 'rank_change', 'rank_change_symbol', 'cumulative_total_points', 'points_change', 'difference']]\n",
    "\n",
    "overall_standings.to_csv('data/overall_standings.csv', index=False)"
   ]
  },
  {
   "cell_type": "code",
   "execution_count": 58,
   "id": "954c4ee5",
   "metadata": {},
   "outputs": [
    {
     "data": {
      "text/html": [
       "<div>\n",
       "<style scoped>\n",
       "    .dataframe tbody tr th:only-of-type {\n",
       "        vertical-align: middle;\n",
       "    }\n",
       "\n",
       "    .dataframe tbody tr th {\n",
       "        vertical-align: top;\n",
       "    }\n",
       "\n",
       "    .dataframe thead th {\n",
       "        text-align: right;\n",
       "    }\n",
       "</style>\n",
       "<table border=\"1\" class=\"dataframe\">\n",
       "  <thead>\n",
       "    <tr style=\"text-align: right;\">\n",
       "      <th></th>\n",
       "      <th>name</th>\n",
       "      <th>position</th>\n",
       "      <th>rank_change</th>\n",
       "      <th>rank_change_symbol</th>\n",
       "      <th>cumulative_total_points</th>\n",
       "      <th>points_change</th>\n",
       "      <th>difference</th>\n",
       "    </tr>\n",
       "  </thead>\n",
       "  <tbody>\n",
       "    <tr>\n",
       "      <th>0</th>\n",
       "      <td>Jonny</td>\n",
       "      <td>1</td>\n",
       "      <td>0.0</td>\n",
       "      <td>🥱</td>\n",
       "      <td>34</td>\n",
       "      <td>2</td>\n",
       "      <td>[0.3999999999999999, 0.7999999999999998, 0.1, ...</td>\n",
       "    </tr>\n",
       "    <tr>\n",
       "      <th>1</th>\n",
       "      <td>Peter Popular</td>\n",
       "      <td>2</td>\n",
       "      <td>0.0</td>\n",
       "      <td>🥱</td>\n",
       "      <td>31</td>\n",
       "      <td>6</td>\n",
       "      <td>[0.3999999999999999, 0.7999999999999998, 0.1, ...</td>\n",
       "    </tr>\n",
       "    <tr>\n",
       "      <th>2</th>\n",
       "      <td>Jay</td>\n",
       "      <td>3</td>\n",
       "      <td>-1.0</td>\n",
       "      <td>😵</td>\n",
       "      <td>27</td>\n",
       "      <td>2</td>\n",
       "      <td>[-0.6000000000000001, -1.2000000000000002, 0.1...</td>\n",
       "    </tr>\n",
       "    <tr>\n",
       "      <th>3</th>\n",
       "      <td>Corfe</td>\n",
       "      <td>4</td>\n",
       "      <td>1.0</td>\n",
       "      <td>👍</td>\n",
       "      <td>26</td>\n",
       "      <td>3</td>\n",
       "      <td>[0.3999999999999999, 0.7999999999999998, 0.1, ...</td>\n",
       "    </tr>\n",
       "    <tr>\n",
       "      <th>4</th>\n",
       "      <td>Larry</td>\n",
       "      <td>4</td>\n",
       "      <td>5.0</td>\n",
       "      <td>🔥</td>\n",
       "      <td>26</td>\n",
       "      <td>9</td>\n",
       "      <td>[0.3999999999999999, 0.7999999999999998, 0.1, ...</td>\n",
       "    </tr>\n",
       "    <tr>\n",
       "      <th>5</th>\n",
       "      <td>Luke</td>\n",
       "      <td>6</td>\n",
       "      <td>-4.0</td>\n",
       "      <td>💀</td>\n",
       "      <td>25</td>\n",
       "      <td>0</td>\n",
       "      <td>[0.3999999999999999, 0.7999999999999998, 2.1, ...</td>\n",
       "    </tr>\n",
       "    <tr>\n",
       "      <th>6</th>\n",
       "      <td>Ed</td>\n",
       "      <td>7</td>\n",
       "      <td>-1.0</td>\n",
       "      <td>😵</td>\n",
       "      <td>21</td>\n",
       "      <td>0</td>\n",
       "      <td>[-0.6000000000000001, -1.2000000000000002, -0....</td>\n",
       "    </tr>\n",
       "    <tr>\n",
       "      <th>7</th>\n",
       "      <td>Marc</td>\n",
       "      <td>8</td>\n",
       "      <td>-1.0</td>\n",
       "      <td>😵</td>\n",
       "      <td>20</td>\n",
       "      <td>1</td>\n",
       "      <td>[0.3999999999999999, 0.7999999999999998, 0.1, ...</td>\n",
       "    </tr>\n",
       "    <tr>\n",
       "      <th>8</th>\n",
       "      <td>Tom</td>\n",
       "      <td>9</td>\n",
       "      <td>-2.0</td>\n",
       "      <td>💀</td>\n",
       "      <td>19</td>\n",
       "      <td>0</td>\n",
       "      <td>[-0.6000000000000001, -1.2000000000000002, -0....</td>\n",
       "    </tr>\n",
       "    <tr>\n",
       "      <th>9</th>\n",
       "      <td>Rando Randal</td>\n",
       "      <td>10</td>\n",
       "      <td>0.0</td>\n",
       "      <td>🥱</td>\n",
       "      <td>10</td>\n",
       "      <td>3</td>\n",
       "      <td>[-0.6000000000000001, -1.2000000000000002, -0....</td>\n",
       "    </tr>\n",
       "  </tbody>\n",
       "</table>\n",
       "</div>"
      ],
      "text/plain": [
       "            name  position  rank_change rank_change_symbol  \\\n",
       "0          Jonny         1          0.0                  🥱   \n",
       "1  Peter Popular         2          0.0                  🥱   \n",
       "2            Jay         3         -1.0                  😵   \n",
       "3          Corfe         4          1.0                  👍   \n",
       "4          Larry         4          5.0                  🔥   \n",
       "5           Luke         6         -4.0                  💀   \n",
       "6             Ed         7         -1.0                  😵   \n",
       "7           Marc         8         -1.0                  😵   \n",
       "8            Tom         9         -2.0                  💀   \n",
       "9   Rando Randal        10          0.0                  🥱   \n",
       "\n",
       "   cumulative_total_points  points_change  \\\n",
       "0                       34              2   \n",
       "1                       31              6   \n",
       "2                       27              2   \n",
       "3                       26              3   \n",
       "4                       26              9   \n",
       "5                       25              0   \n",
       "6                       21              0   \n",
       "7                       20              1   \n",
       "8                       19              0   \n",
       "9                       10              3   \n",
       "\n",
       "                                          difference  \n",
       "0  [0.3999999999999999, 0.7999999999999998, 0.1, ...  \n",
       "1  [0.3999999999999999, 0.7999999999999998, 0.1, ...  \n",
       "2  [-0.6000000000000001, -1.2000000000000002, 0.1...  \n",
       "3  [0.3999999999999999, 0.7999999999999998, 0.1, ...  \n",
       "4  [0.3999999999999999, 0.7999999999999998, 0.1, ...  \n",
       "5  [0.3999999999999999, 0.7999999999999998, 2.1, ...  \n",
       "6  [-0.6000000000000001, -1.2000000000000002, -0....  \n",
       "7  [0.3999999999999999, 0.7999999999999998, 0.1, ...  \n",
       "8  [-0.6000000000000001, -1.2000000000000002, -0....  \n",
       "9  [-0.6000000000000001, -1.2000000000000002, -0....  "
      ]
     },
     "execution_count": 58,
     "metadata": {},
     "output_type": "execute_result"
    }
   ],
   "source": [
    "overall_standings_df = pd.read_csv('data/overall_standings.csv')\n",
    "overall_standings_df"
   ]
  },
  {
   "cell_type": "markdown",
   "id": "44c38c88",
   "metadata": {},
   "source": [
    "## Creating get_data.py functions"
   ]
  },
  {
   "cell_type": "code",
   "execution_count": 59,
   "id": "df4d3a10",
   "metadata": {},
   "outputs": [],
   "source": [
    "# import os\n",
    "# import pandas as pd\n",
    "\n",
    "# # This function will read in the CSV files and return the DataFrames.\n",
    "# def load_data(md_responses_dir, results_file_path):\n",
    "#     md_response_files = [os.path.join(md_responses_dir, f) for f in os.listdir(md_responses_dir) if f.startswith('md') and f.endswith('_responses.csv')]\n",
    "    \n",
    "#     md_responses_dfs = []\n",
    "#     for file_path in md_response_files:\n",
    "#         df = pd.read_csv(file_path)\n",
    "#         md_responses_dfs.append(df)\n",
    "    \n",
    "#     df_results = pd.read_csv(results_file_path)\n",
    "    \n",
    "#     return md_responses_dfs, df_results"
   ]
  },
  {
   "cell_type": "code",
   "execution_count": 60,
   "id": "9b319c39",
   "metadata": {},
   "outputs": [],
   "source": [
    "# # This function will take the loaded DataFrames and perform the necessary transformations.\n",
    "# def transform_response_data(df):\n",
    "#     df = df.rename(columns={'Timestamp': 'timestamp', 'Name': 'name', 'Which game would you like to give double points to?': 'bonus_match_code'})\n",
    "#     df = df.melt(id_vars=['timestamp', 'name', 'bonus_match_code'], var_name='match_code', value_name='predicted_score')\n",
    "#     return df\n",
    "\n",
    "# def transform_results_data(df):\n",
    "#     # Placeholder for actual transformation, if needed\n",
    "#     return df\n",
    "\n",
    "# def get_predicted_outcome(predicted_score):\n",
    "#     home_score, away_score = map(int, predicted_score.split('-'))\n",
    "#     if home_score > away_score:\n",
    "#         return 'Home'\n",
    "#     elif home_score < away_score:\n",
    "#         return 'Away'\n",
    "#     else:\n",
    "#         return 'Draw'\n",
    "\n",
    "# def get_actual_outcome(actual_score):\n",
    "#     home_score, away_score = map(int, actual_score.split('-'))\n",
    "#     if home_score > away_score:\n",
    "#         return 'Home'\n",
    "#     elif home_score < away_score:\n",
    "#         return 'Away'\n",
    "#     else:\n",
    "#         return 'Draw'\n",
    "\n",
    "# def calculate_points(predicted_score, actual_score, predicted_outcome, actual_outcome):\n",
    "#     home_pred, away_pred = map(int, predicted_score.split('-'))\n",
    "#     home_res, away_res = map(int, actual_score.split('-'))\n",
    "\n",
    "#     if predicted_score == actual_score:\n",
    "#         return 3\n",
    "#     elif predicted_outcome == actual_outcome:\n",
    "#         return 1\n",
    "#     else:\n",
    "#         return 0\n",
    "    \n",
    "# def transform_data(md_responses_dfs, df_results):\n",
    "#     transformed_dfs = []\n",
    "#     for df in md_responses_dfs:\n",
    "#         df = transform_response_data(df)\n",
    "#         transformed_dfs.append(df)\n",
    "\n",
    "#     df_predictions = pd.concat(transformed_dfs, axis=0)\n",
    "#     df_predictions.reset_index(drop=True, inplace=True)\n",
    "\n",
    "#     df_predictions['points_multiplier'] = df_predictions.apply(\n",
    "#         lambda row: 2 if row['bonus_match_code'] == row['match_code'] else 1, axis=1\n",
    "#     )\n",
    "\n",
    "#     df_predictions[['match_code', 'home', 'away']] = df_predictions['match_code'].str.extract(r'(M\\d{2}). (.+) v (.+)')\n",
    "#     df_predictions = df_predictions[['timestamp', 'name', 'match_code', 'home', 'away', 'predicted_score', 'points_multiplier']]\n",
    "\n",
    "#     df_results = transform_results_data(df_results)\n",
    "\n",
    "#     df_merged = pd.merge(df_predictions, df_results, on=['match_code', 'home', 'away'], how='inner')\n",
    "\n",
    "#     df_merged['predicted_outcome'] = df_merged['predicted_score'].apply(get_predicted_outcome)\n",
    "#     df_merged['actual_outcome'] = df_merged['actual_score'].apply(get_actual_outcome)\n",
    "#     df_merged['base_points'] = df_merged.apply(lambda row: calculate_points(row['predicted_score'], row['actual_score'], row['predicted_outcome'], row['actual_outcome']), axis=1)\n",
    "#     df_merged['total_points'] = df_merged['base_points'] * df_merged['points_multiplier']\n",
    "\n",
    "#     return df_merged\n"
   ]
  },
  {
   "cell_type": "code",
   "execution_count": 61,
   "id": "b7cfa6c2",
   "metadata": {},
   "outputs": [],
   "source": [
    "# # These functions are used for further processing the data for visualization\n",
    "# def calculate_vs_mean_match_code(df_merged):\n",
    "#     points_by_match_code = df_merged.groupby(['name', 'match_code']).agg({'base_points': 'sum', 'total_points': 'sum'}).reset_index()\n",
    "#     points_by_match_code['cumulative_total_points'] = points_by_match_code.groupby('name')['total_points'].cumsum()\n",
    "#     cumulative_avg_total_points = points_by_match_code.groupby('match_code')['cumulative_total_points'].mean().reset_index()\n",
    "#     cumulative_avg_total_points.rename(columns={'cumulative_total_points': 'cumulative_avg_total_points'}, inplace=True)\n",
    "#     vs_mean_match_code_df = points_by_match_code.merge(cumulative_avg_total_points, on='match_code')\n",
    "#     vs_mean_match_code_df['difference'] = vs_mean_match_code_df['cumulative_total_points'] - vs_mean_match_code_df['cumulative_avg_total_points']\n",
    "#     return vs_mean_match_code_df\n",
    "\n",
    "# def calculate_overall_standings(vs_mean_match_code_df):\n",
    "#     # Group by name to get overall standings\n",
    "#     overall_standings = vs_mean_match_code_df.groupby('name').agg({\n",
    "#         'cumulative_total_points': 'last',\n",
    "#         'difference': lambda x: x.tolist(),  # Convert difference values to list\n",
    "#     }).reset_index()\n",
    "\n",
    "#     # Sort the overall standings by 'cumulative_total_points' in descending order to determine position\n",
    "#     overall_standings = overall_standings.sort_values(by='cumulative_total_points', ascending=False).reset_index(drop=True)\n",
    "#     overall_standings['position'] = overall_standings.index + 1\n",
    "#     overall_standings['position'] = overall_standings['position'].astype(int)\n",
    "\n",
    "#     # Ensure match_code is treated as a numeric value for sorting\n",
    "#     vs_mean_match_code_df['match_code'] = vs_mean_match_code_df['match_code'].astype(str).str.extract(r'(\\d+)').astype(int)\n",
    "\n",
    "#     # Calculate ranks and changes\n",
    "#     vs_mean_match_code_df['rank'] = vs_mean_match_code_df.groupby('match_code')['cumulative_total_points'].rank(ascending=False, method='min')\n",
    "#     vs_mean_match_code_df['prev_rank'] = vs_mean_match_code_df.groupby('name')['rank'].shift(1).fillna(0)\n",
    "#     vs_mean_match_code_df['rank_change'] = vs_mean_match_code_df['prev_rank'] - vs_mean_match_code_df['rank']\n",
    "\n",
    "#     latest_matchday = vs_mean_match_code_df['match_code'].max()\n",
    "#     latest_rank_change = vs_mean_match_code_df[vs_mean_match_code_df['match_code'] == latest_matchday][['name', 'rank_change']]\n",
    "#     overall_standings = overall_standings.merge(latest_rank_change, on='name', how='left')\n",
    "\n",
    "#     latest_matchday_points = vs_mean_match_code_df[vs_mean_match_code_df['match_code'] == latest_matchday][['name', 'cumulative_total_points']]\n",
    "#     previous_matchday = latest_matchday - 1\n",
    "#     previous_matchday_points = vs_mean_match_code_df[vs_mean_match_code_df['match_code'] == previous_matchday][['name', 'cumulative_total_points']]\n",
    "#     previous_matchday_points.columns = ['name', 'prev_cumulative_total_points']\n",
    "\n",
    "#     points_change_df = latest_matchday_points.merge(previous_matchday_points, on='name', how='left')\n",
    "#     points_change_df['points_change'] = points_change_df['cumulative_total_points'] - points_change_df['prev_cumulative_total_points'].fillna(0)\n",
    "\n",
    "#     overall_standings = overall_standings.merge(points_change_df[['name', 'points_change']], on='name', how='left')\n",
    "\n",
    "#     # Define the symbols for rank change\n",
    "#     def rank_change_symbol(change):\n",
    "#         if change >= 2:\n",
    "#             return '🔥'\n",
    "#         elif change == 1:\n",
    "#             return '👍'\n",
    "#         elif change == -1:\n",
    "#             return '😵'\n",
    "#         elif change <= -2:\n",
    "#             return '💀'\n",
    "#         else:\n",
    "#             return '🥱'\n",
    "\n",
    "#     overall_standings['rank_change_symbol'] = overall_standings['rank_change'].apply(rank_change_symbol)\n",
    "#     overall_standings = overall_standings[['name', 'position', 'rank_change', 'rank_change_symbol', 'cumulative_total_points', 'points_change', 'difference']]\n",
    "\n",
    "#     return overall_standings"
   ]
  },
  {
   "cell_type": "code",
   "execution_count": 62,
   "id": "68f9dc04",
   "metadata": {},
   "outputs": [],
   "source": [
    "# # Example usage\n",
    "# md_responses_dfs, df_results = load_data(md_responses_dir='data', results_file_path='data/results.csv')\n",
    "# df_merged = transform_data(md_responses_dfs, df_results)\n",
    "# vs_mean_match_code_df = calculate_vs_mean_match_code(df_merged)\n",
    "# overall_standings = calculate_overall_standings(vs_mean_match_code_df)\n",
    "# print(overall_standings.head())"
   ]
  },
  {
   "cell_type": "code",
   "execution_count": 63,
   "id": "1b1e9c0f",
   "metadata": {},
   "outputs": [],
   "source": [
    "# # Example usage:\n",
    "# md_responses_dir = 'data'\n",
    "# results_file_path = 'data/results.csv'\n",
    "\n",
    "# # Load data\n",
    "# md_responses_dfs, df_results = load_data(md_responses_dir, results_file_path)\n",
    "\n",
    "# # Transform data\n",
    "# df_merged = transform_data(md_responses_dfs, df_results)\n",
    "\n",
    "# # Calculate vs_mean_match_code DataFrame\n",
    "# vs_mean_match_code_df = calculate_vs_mean_match_code(df_merged)\n",
    "\n",
    "# # Calculate overall standings\n",
    "# overall_standings = calculate_overall_standings(vs_mean_match_code_df)\n",
    "\n",
    "# # Display the overall standings\n",
    "# print(overall_standings.head())\n",
    "\n"
   ]
  },
  {
   "cell_type": "code",
   "execution_count": 64,
   "id": "db9090f3",
   "metadata": {},
   "outputs": [],
   "source": [
    "# def calculate_vs_mean_match_code(df_merged):\n",
    "#     # Group by name, match_code, and stage_detail and aggregate points\n",
    "#     points_by_match_code = df_merged.groupby(['name', 'match_code', 'stage_detail']).agg({'base_points': 'sum', 'total_points': 'sum'}).reset_index()\n",
    "\n",
    "#     # Calculate cumulative total points for each player\n",
    "#     points_by_match_code['cumulative_total_points'] = points_by_match_code.groupby('name')['total_points'].cumsum()\n",
    "\n",
    "#     # Calculate cumulative average total points for each matchday\n",
    "#     cumulative_avg_total_points = points_by_match_code.groupby('match_code')['cumulative_total_points'].mean().reset_index()\n",
    "#     cumulative_avg_total_points.rename(columns={'cumulative_total_points': 'cumulative_avg_total_points'}, inplace=True)\n",
    "\n",
    "#     # Merge cumulative average total points back to the original DataFrame\n",
    "#     vs_mean_match_code_df = points_by_match_code.merge(cumulative_avg_total_points, on='match_code')\n",
    "\n",
    "#     # Calculate the difference between each player's cumulative total points and the cumulative average\n",
    "#     vs_mean_match_code_df['difference'] = vs_mean_match_code_df['cumulative_total_points'] - vs_mean_match_code_df['cumulative_avg_total_points']\n",
    "\n",
    "#     return vs_mean_match_code_df\n",
    "\n",
    "# # Example usage:\n",
    "# vs_mean_match_code_df = calculate_vs_mean_match_code(df_merged)\n",
    "# vs_mean_match_code_df\n"
   ]
  }
 ],
 "metadata": {
  "kernelspec": {
   "display_name": "Python 3 (ipykernel)",
   "language": "python",
   "name": "python3"
  },
  "language_info": {
   "codemirror_mode": {
    "name": "ipython",
    "version": 3
   },
   "file_extension": ".py",
   "mimetype": "text/x-python",
   "name": "python",
   "nbconvert_exporter": "python",
   "pygments_lexer": "ipython3",
   "version": "3.12.3"
  }
 },
 "nbformat": 4,
 "nbformat_minor": 5
}
