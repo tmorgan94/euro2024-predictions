{
 "cells": [
  {
   "cell_type": "markdown",
   "id": "c5799131",
   "metadata": {},
   "source": [
    "## Import libraries"
   ]
  },
  {
   "cell_type": "code",
   "execution_count": 71,
   "id": "8c02e3a8-64d8-4841-b093-78c28acbfdc4",
   "metadata": {
    "tags": []
   },
   "outputs": [],
   "source": [
    "import pandas as pd\n",
    "import plotly.express as px\n",
    "import plotly.graph_objects as go\n",
    "import os\n"
   ]
  },
  {
   "cell_type": "markdown",
   "id": "b2c7b585",
   "metadata": {},
   "source": [
    "## Read Data"
   ]
  },
  {
   "cell_type": "code",
   "execution_count": 72,
   "id": "5729bfa7",
   "metadata": {},
   "outputs": [
    {
     "data": {
      "text/html": [
       "<div>\n",
       "<style scoped>\n",
       "    .dataframe tbody tr th:only-of-type {\n",
       "        vertical-align: middle;\n",
       "    }\n",
       "\n",
       "    .dataframe tbody tr th {\n",
       "        vertical-align: top;\n",
       "    }\n",
       "\n",
       "    .dataframe thead th {\n",
       "        text-align: right;\n",
       "    }\n",
       "</style>\n",
       "<table border=\"1\" class=\"dataframe\">\n",
       "  <thead>\n",
       "    <tr style=\"text-align: right;\">\n",
       "      <th></th>\n",
       "      <th>match_code</th>\n",
       "      <th>home</th>\n",
       "      <th>away</th>\n",
       "      <th>actual_score</th>\n",
       "      <th>matchday</th>\n",
       "      <th>stage</th>\n",
       "      <th>stage_detail</th>\n",
       "      <th>match_time</th>\n",
       "    </tr>\n",
       "  </thead>\n",
       "  <tbody>\n",
       "    <tr>\n",
       "      <th>0</th>\n",
       "      <td>M01</td>\n",
       "      <td>Germany</td>\n",
       "      <td>Scotland</td>\n",
       "      <td>5-1</td>\n",
       "      <td>1</td>\n",
       "      <td>Groups</td>\n",
       "      <td>01. Groups - Matchday 1</td>\n",
       "      <td>14/06/2024 20:00:00</td>\n",
       "    </tr>\n",
       "    <tr>\n",
       "      <th>1</th>\n",
       "      <td>M03</td>\n",
       "      <td>Spain</td>\n",
       "      <td>Croatia</td>\n",
       "      <td>3-0</td>\n",
       "      <td>1</td>\n",
       "      <td>Groups</td>\n",
       "      <td>01. Groups - Matchday 1</td>\n",
       "      <td>15/06/2024 17:00:00</td>\n",
       "    </tr>\n",
       "    <tr>\n",
       "      <th>2</th>\n",
       "      <td>M05</td>\n",
       "      <td>Serbia</td>\n",
       "      <td>England</td>\n",
       "      <td>0-1</td>\n",
       "      <td>1</td>\n",
       "      <td>Groups</td>\n",
       "      <td>01. Groups - Matchday 1</td>\n",
       "      <td>16/06/2024 20:00:00</td>\n",
       "    </tr>\n",
       "    <tr>\n",
       "      <th>3</th>\n",
       "      <td>M08</td>\n",
       "      <td>Austria</td>\n",
       "      <td>France</td>\n",
       "      <td>0-1</td>\n",
       "      <td>1</td>\n",
       "      <td>Groups</td>\n",
       "      <td>01. Groups - Matchday 1</td>\n",
       "      <td>17/06/2024 20:00:00</td>\n",
       "    </tr>\n",
       "    <tr>\n",
       "      <th>4</th>\n",
       "      <td>M12</td>\n",
       "      <td>Portugal</td>\n",
       "      <td>Czech Republic</td>\n",
       "      <td>2-1</td>\n",
       "      <td>1</td>\n",
       "      <td>Groups</td>\n",
       "      <td>01. Groups - Matchday 1</td>\n",
       "      <td>18/06/2024 20:00:00</td>\n",
       "    </tr>\n",
       "    <tr>\n",
       "      <th>5</th>\n",
       "      <td>M13</td>\n",
       "      <td>Scotland</td>\n",
       "      <td>Switzerland</td>\n",
       "      <td>1-1</td>\n",
       "      <td>2</td>\n",
       "      <td>Groups</td>\n",
       "      <td>02. Groups - Matchday 2</td>\n",
       "      <td>19/06/2024 20:00:00</td>\n",
       "    </tr>\n",
       "    <tr>\n",
       "      <th>6</th>\n",
       "      <td>M16</td>\n",
       "      <td>Spain</td>\n",
       "      <td>Italy</td>\n",
       "      <td>1-0</td>\n",
       "      <td>2</td>\n",
       "      <td>Groups</td>\n",
       "      <td>02. Groups - Matchday 2</td>\n",
       "      <td>20/06/2024 17:00:00</td>\n",
       "    </tr>\n",
       "    <tr>\n",
       "      <th>7</th>\n",
       "      <td>M17</td>\n",
       "      <td>Denmark</td>\n",
       "      <td>England</td>\n",
       "      <td>1-1</td>\n",
       "      <td>2</td>\n",
       "      <td>Groups</td>\n",
       "      <td>02. Groups - Matchday 2</td>\n",
       "      <td>20/06/2024 20:00:00</td>\n",
       "    </tr>\n",
       "  </tbody>\n",
       "</table>\n",
       "</div>"
      ],
      "text/plain": [
       "  match_code      home            away actual_score  matchday   stage  \\\n",
       "0        M01   Germany        Scotland          5-1         1  Groups   \n",
       "1        M03     Spain         Croatia          3-0         1  Groups   \n",
       "2        M05    Serbia         England          0-1         1  Groups   \n",
       "3        M08   Austria          France          0-1         1  Groups   \n",
       "4        M12  Portugal  Czech Republic          2-1         1  Groups   \n",
       "5        M13  Scotland     Switzerland          1-1         2  Groups   \n",
       "6        M16     Spain           Italy          1-0         2  Groups   \n",
       "7        M17   Denmark         England          1-1         2  Groups   \n",
       "\n",
       "              stage_detail           match_time  \n",
       "0  01. Groups - Matchday 1  14/06/2024 20:00:00  \n",
       "1  01. Groups - Matchday 1  15/06/2024 17:00:00  \n",
       "2  01. Groups - Matchday 1  16/06/2024 20:00:00  \n",
       "3  01. Groups - Matchday 1  17/06/2024 20:00:00  \n",
       "4  01. Groups - Matchday 1  18/06/2024 20:00:00  \n",
       "5  02. Groups - Matchday 2  19/06/2024 20:00:00  \n",
       "6  02. Groups - Matchday 2  20/06/2024 17:00:00  \n",
       "7  02. Groups - Matchday 2  20/06/2024 20:00:00  "
      ]
     },
     "execution_count": 72,
     "metadata": {},
     "output_type": "execute_result"
    }
   ],
   "source": [
    "df_results_raw = pd.read_csv('data/results.csv')\n",
    "# Drop rows where 'actual_score' is NaN, for cases when the game has not happened yet and no score is recorded\n",
    "df_results = df_results_raw.dropna(subset=['actual_score'])\n",
    "df_results"
   ]
  },
  {
   "cell_type": "code",
   "execution_count": 73,
   "id": "41a40969",
   "metadata": {},
   "outputs": [],
   "source": [
    "md1_responses = pd.read_csv('data/md1_responses.csv')\n",
    "md2_responses = pd.read_csv('data/md2_responses.csv')\n",
    "# md3_responses = pd.read_csv('data/md3_responses.csv')"
   ]
  },
  {
   "cell_type": "markdown",
   "id": "ef15d248",
   "metadata": {},
   "source": [
    "## Transform Data\n",
    "\n",
    "- wide to long format using melt\n",
    "- union the different matchday dataframes to form one\n",
    "- create new points multiplier column based on user selected bonus match\n",
    "- create new columns for home and away teams \n",
    "- inner join predictions and results dataframe together, on match_code "
   ]
  },
  {
   "cell_type": "code",
   "execution_count": 74,
   "id": "fe30375c-043f-4cfd-b0cb-5e1477b74ff7",
   "metadata": {
    "tags": []
   },
   "outputs": [
    {
     "data": {
      "text/html": [
       "<div>\n",
       "<style scoped>\n",
       "    .dataframe tbody tr th:only-of-type {\n",
       "        vertical-align: middle;\n",
       "    }\n",
       "\n",
       "    .dataframe tbody tr th {\n",
       "        vertical-align: top;\n",
       "    }\n",
       "\n",
       "    .dataframe thead th {\n",
       "        text-align: right;\n",
       "    }\n",
       "</style>\n",
       "<table border=\"1\" class=\"dataframe\">\n",
       "  <thead>\n",
       "    <tr style=\"text-align: right;\">\n",
       "      <th></th>\n",
       "      <th>timestamp</th>\n",
       "      <th>name</th>\n",
       "      <th>bonus_match_code</th>\n",
       "      <th>match_code</th>\n",
       "      <th>predicted_score</th>\n",
       "    </tr>\n",
       "  </thead>\n",
       "  <tbody>\n",
       "    <tr>\n",
       "      <th>0</th>\n",
       "      <td>07/06/2024 19:59:48</td>\n",
       "      <td>Larry</td>\n",
       "      <td>M01. Germany v Scotland</td>\n",
       "      <td>M01. Germany v Scotland</td>\n",
       "      <td>2-0</td>\n",
       "    </tr>\n",
       "    <tr>\n",
       "      <th>1</th>\n",
       "      <td>07/06/2024 20:04:57</td>\n",
       "      <td>Tom</td>\n",
       "      <td>M05. Serbia v England</td>\n",
       "      <td>M01. Germany v Scotland</td>\n",
       "      <td>2-0</td>\n",
       "    </tr>\n",
       "    <tr>\n",
       "      <th>2</th>\n",
       "      <td>08/06/2024 23:31:40</td>\n",
       "      <td>Ed</td>\n",
       "      <td>M05. Serbia v England</td>\n",
       "      <td>M01. Germany v Scotland</td>\n",
       "      <td>3-1</td>\n",
       "    </tr>\n",
       "    <tr>\n",
       "      <th>3</th>\n",
       "      <td>09/06/2024 10:35:29</td>\n",
       "      <td>Jonny</td>\n",
       "      <td>M01. Germany v Scotland</td>\n",
       "      <td>M01. Germany v Scotland</td>\n",
       "      <td>3-0</td>\n",
       "    </tr>\n",
       "    <tr>\n",
       "      <th>4</th>\n",
       "      <td>11/06/2024 11:43:49</td>\n",
       "      <td>Jay</td>\n",
       "      <td>M12. Portugal v Czech Republic</td>\n",
       "      <td>M01. Germany v Scotland</td>\n",
       "      <td>2-0</td>\n",
       "    </tr>\n",
       "  </tbody>\n",
       "</table>\n",
       "</div>"
      ],
      "text/plain": [
       "             timestamp   name                bonus_match_code  \\\n",
       "0  07/06/2024 19:59:48  Larry         M01. Germany v Scotland   \n",
       "1  07/06/2024 20:04:57    Tom           M05. Serbia v England   \n",
       "2  08/06/2024 23:31:40     Ed           M05. Serbia v England   \n",
       "3  09/06/2024 10:35:29  Jonny         M01. Germany v Scotland   \n",
       "4  11/06/2024 11:43:49    Jay  M12. Portugal v Czech Republic   \n",
       "\n",
       "                match_code predicted_score  \n",
       "0  M01. Germany v Scotland             2-0  \n",
       "1  M01. Germany v Scotland             2-0  \n",
       "2  M01. Germany v Scotland             3-1  \n",
       "3  M01. Germany v Scotland             3-0  \n",
       "4  M01. Germany v Scotland             2-0  "
      ]
     },
     "execution_count": 74,
     "metadata": {},
     "output_type": "execute_result"
    }
   ],
   "source": [
    "# rename columns\n",
    "md1_responses = md1_responses.rename(columns={'Timestamp': 'timestamp', 'Name': 'name', 'Which game would you like to give double points to?': 'bonus_match_code'})\n",
    "# transform dataframe from wide to long\n",
    "md1_responses = md1_responses.melt(id_vars=['timestamp', 'name', 'bonus_match_code'],\n",
    "                                     var_name='match_code', value_name='predicted_score')\n",
    "# preview\n",
    "md1_responses.head()"
   ]
  },
  {
   "cell_type": "code",
   "execution_count": 75,
   "id": "8d6f9746",
   "metadata": {},
   "outputs": [
    {
     "data": {
      "text/html": [
       "<div>\n",
       "<style scoped>\n",
       "    .dataframe tbody tr th:only-of-type {\n",
       "        vertical-align: middle;\n",
       "    }\n",
       "\n",
       "    .dataframe tbody tr th {\n",
       "        vertical-align: top;\n",
       "    }\n",
       "\n",
       "    .dataframe thead th {\n",
       "        text-align: right;\n",
       "    }\n",
       "</style>\n",
       "<table border=\"1\" class=\"dataframe\">\n",
       "  <thead>\n",
       "    <tr style=\"text-align: right;\">\n",
       "      <th></th>\n",
       "      <th>timestamp</th>\n",
       "      <th>name</th>\n",
       "      <th>bonus_match_code</th>\n",
       "      <th>match_code</th>\n",
       "      <th>predicted_score</th>\n",
       "    </tr>\n",
       "  </thead>\n",
       "  <tbody>\n",
       "    <tr>\n",
       "      <th>0</th>\n",
       "      <td>15/06/2024 19:43:14</td>\n",
       "      <td>Tom</td>\n",
       "      <td>M17. Denmark v England</td>\n",
       "      <td>M13. Scotland v Switzerland</td>\n",
       "      <td>1-3</td>\n",
       "    </tr>\n",
       "    <tr>\n",
       "      <th>1</th>\n",
       "      <td>15/06/2024 19:50:30</td>\n",
       "      <td>Jonny</td>\n",
       "      <td>M22. Belgium v Romania</td>\n",
       "      <td>M13. Scotland v Switzerland</td>\n",
       "      <td>1-3</td>\n",
       "    </tr>\n",
       "    <tr>\n",
       "      <th>2</th>\n",
       "      <td>17/06/2024 20:31:11</td>\n",
       "      <td>Larry</td>\n",
       "      <td>M20. Netherlands v France</td>\n",
       "      <td>M13. Scotland v Switzerland</td>\n",
       "      <td>0-3</td>\n",
       "    </tr>\n",
       "    <tr>\n",
       "      <th>3</th>\n",
       "      <td>18/06/2024 22:03:06</td>\n",
       "      <td>Jay</td>\n",
       "      <td>M13. Scotland v Switzerland</td>\n",
       "      <td>M13. Scotland v Switzerland</td>\n",
       "      <td>0-3</td>\n",
       "    </tr>\n",
       "    <tr>\n",
       "      <th>4</th>\n",
       "      <td>19/06/2024 05:08:55</td>\n",
       "      <td>Marc</td>\n",
       "      <td>M20. Netherlands v France</td>\n",
       "      <td>M13. Scotland v Switzerland</td>\n",
       "      <td>2-1</td>\n",
       "    </tr>\n",
       "  </tbody>\n",
       "</table>\n",
       "</div>"
      ],
      "text/plain": [
       "             timestamp   name             bonus_match_code  \\\n",
       "0  15/06/2024 19:43:14    Tom       M17. Denmark v England   \n",
       "1  15/06/2024 19:50:30  Jonny       M22. Belgium v Romania   \n",
       "2  17/06/2024 20:31:11  Larry    M20. Netherlands v France   \n",
       "3  18/06/2024 22:03:06    Jay  M13. Scotland v Switzerland   \n",
       "4  19/06/2024 05:08:55   Marc    M20. Netherlands v France   \n",
       "\n",
       "                    match_code predicted_score  \n",
       "0  M13. Scotland v Switzerland             1-3  \n",
       "1  M13. Scotland v Switzerland             1-3  \n",
       "2  M13. Scotland v Switzerland             0-3  \n",
       "3  M13. Scotland v Switzerland             0-3  \n",
       "4  M13. Scotland v Switzerland             2-1  "
      ]
     },
     "execution_count": 75,
     "metadata": {},
     "output_type": "execute_result"
    }
   ],
   "source": [
    "md2_responses = md2_responses.rename(columns={'Timestamp': 'timestamp', 'Name': 'name', 'Which game would you like to give double points to?': 'bonus_match_code'})\n",
    "# transform dataframe from wide to long\n",
    "md2_responses = md2_responses.melt(id_vars=['timestamp', 'name', 'bonus_match_code'],\n",
    "                                     var_name='match_code', value_name='predicted_score')\n",
    "# preview\n",
    "md2_responses.head()"
   ]
  },
  {
   "cell_type": "code",
   "execution_count": 76,
   "id": "d27ac039",
   "metadata": {},
   "outputs": [],
   "source": [
    "# md3_responses = md3_responses.rename(columns={'Timestamp': 'timestamp', 'Name': 'name', 'Which game would you like to give double points to?': 'bonus_match_code'})\n",
    "# # transform dataframe from wide to long\n",
    "# md3_responses = md3_responses.melt(id_vars=['timestamp', 'name', 'bonus_match_code''],\n",
    "#                                      var_name='match_code', value_name='predicted_score')\n",
    "# # preview\n",
    "# md3_responses.head()"
   ]
  },
  {
   "cell_type": "code",
   "execution_count": 77,
   "id": "38f90e0e",
   "metadata": {},
   "outputs": [
    {
     "data": {
      "text/html": [
       "<div>\n",
       "<style scoped>\n",
       "    .dataframe tbody tr th:only-of-type {\n",
       "        vertical-align: middle;\n",
       "    }\n",
       "\n",
       "    .dataframe tbody tr th {\n",
       "        vertical-align: top;\n",
       "    }\n",
       "\n",
       "    .dataframe thead th {\n",
       "        text-align: right;\n",
       "    }\n",
       "</style>\n",
       "<table border=\"1\" class=\"dataframe\">\n",
       "  <thead>\n",
       "    <tr style=\"text-align: right;\">\n",
       "      <th></th>\n",
       "      <th>timestamp</th>\n",
       "      <th>name</th>\n",
       "      <th>bonus_match_code</th>\n",
       "      <th>match_code</th>\n",
       "      <th>predicted_score</th>\n",
       "    </tr>\n",
       "  </thead>\n",
       "  <tbody>\n",
       "    <tr>\n",
       "      <th>0</th>\n",
       "      <td>07/06/2024 19:59:48</td>\n",
       "      <td>Larry</td>\n",
       "      <td>M01. Germany v Scotland</td>\n",
       "      <td>M01. Germany v Scotland</td>\n",
       "      <td>2-0</td>\n",
       "    </tr>\n",
       "    <tr>\n",
       "      <th>1</th>\n",
       "      <td>07/06/2024 20:04:57</td>\n",
       "      <td>Tom</td>\n",
       "      <td>M05. Serbia v England</td>\n",
       "      <td>M01. Germany v Scotland</td>\n",
       "      <td>2-0</td>\n",
       "    </tr>\n",
       "    <tr>\n",
       "      <th>2</th>\n",
       "      <td>08/06/2024 23:31:40</td>\n",
       "      <td>Ed</td>\n",
       "      <td>M05. Serbia v England</td>\n",
       "      <td>M01. Germany v Scotland</td>\n",
       "      <td>3-1</td>\n",
       "    </tr>\n",
       "    <tr>\n",
       "      <th>3</th>\n",
       "      <td>09/06/2024 10:35:29</td>\n",
       "      <td>Jonny</td>\n",
       "      <td>M01. Germany v Scotland</td>\n",
       "      <td>M01. Germany v Scotland</td>\n",
       "      <td>3-0</td>\n",
       "    </tr>\n",
       "    <tr>\n",
       "      <th>4</th>\n",
       "      <td>11/06/2024 11:43:49</td>\n",
       "      <td>Jay</td>\n",
       "      <td>M12. Portugal v Czech Republic</td>\n",
       "      <td>M01. Germany v Scotland</td>\n",
       "      <td>2-0</td>\n",
       "    </tr>\n",
       "    <tr>\n",
       "      <th>...</th>\n",
       "      <td>...</td>\n",
       "      <td>...</td>\n",
       "      <td>...</td>\n",
       "      <td>...</td>\n",
       "      <td>...</td>\n",
       "    </tr>\n",
       "    <tr>\n",
       "      <th>95</th>\n",
       "      <td>19/06/2024 10:33:25</td>\n",
       "      <td>Luke</td>\n",
       "      <td>M17. Denmark v England</td>\n",
       "      <td>M22. Belgium v Romania</td>\n",
       "      <td>2-0</td>\n",
       "    </tr>\n",
       "    <tr>\n",
       "      <th>96</th>\n",
       "      <td>19/06/2024 11:04:58</td>\n",
       "      <td>Ed</td>\n",
       "      <td>M17. Denmark v England</td>\n",
       "      <td>M22. Belgium v Romania</td>\n",
       "      <td>2-1</td>\n",
       "    </tr>\n",
       "    <tr>\n",
       "      <th>97</th>\n",
       "      <td>19/06/2024 12:58:03</td>\n",
       "      <td>Corfe</td>\n",
       "      <td>M17. Denmark v England</td>\n",
       "      <td>M22. Belgium v Romania</td>\n",
       "      <td>2-1</td>\n",
       "    </tr>\n",
       "    <tr>\n",
       "      <th>98</th>\n",
       "      <td>19/06/2024 20:40:28</td>\n",
       "      <td>Peter Popular</td>\n",
       "      <td>M22. Belgium v Romania</td>\n",
       "      <td>M22. Belgium v Romania</td>\n",
       "      <td>2-0</td>\n",
       "    </tr>\n",
       "    <tr>\n",
       "      <th>99</th>\n",
       "      <td>19/06/2024 20:45:30</td>\n",
       "      <td>Rando Randal</td>\n",
       "      <td>M13. Scotland v Switzerland</td>\n",
       "      <td>M22. Belgium v Romania</td>\n",
       "      <td>0-2</td>\n",
       "    </tr>\n",
       "  </tbody>\n",
       "</table>\n",
       "<p>100 rows × 5 columns</p>\n",
       "</div>"
      ],
      "text/plain": [
       "              timestamp           name                bonus_match_code  \\\n",
       "0   07/06/2024 19:59:48          Larry         M01. Germany v Scotland   \n",
       "1   07/06/2024 20:04:57            Tom           M05. Serbia v England   \n",
       "2   08/06/2024 23:31:40             Ed           M05. Serbia v England   \n",
       "3   09/06/2024 10:35:29          Jonny         M01. Germany v Scotland   \n",
       "4   11/06/2024 11:43:49            Jay  M12. Portugal v Czech Republic   \n",
       "..                  ...            ...                             ...   \n",
       "95  19/06/2024 10:33:25           Luke          M17. Denmark v England   \n",
       "96  19/06/2024 11:04:58             Ed          M17. Denmark v England   \n",
       "97  19/06/2024 12:58:03          Corfe          M17. Denmark v England   \n",
       "98  19/06/2024 20:40:28  Peter Popular          M22. Belgium v Romania   \n",
       "99  19/06/2024 20:45:30   Rando Randal     M13. Scotland v Switzerland   \n",
       "\n",
       "                 match_code predicted_score  \n",
       "0   M01. Germany v Scotland             2-0  \n",
       "1   M01. Germany v Scotland             2-0  \n",
       "2   M01. Germany v Scotland             3-1  \n",
       "3   M01. Germany v Scotland             3-0  \n",
       "4   M01. Germany v Scotland             2-0  \n",
       "..                      ...             ...  \n",
       "95   M22. Belgium v Romania             2-0  \n",
       "96   M22. Belgium v Romania             2-1  \n",
       "97   M22. Belgium v Romania             2-1  \n",
       "98   M22. Belgium v Romania             2-0  \n",
       "99   M22. Belgium v Romania             0-2  \n",
       "\n",
       "[100 rows x 5 columns]"
      ]
     },
     "execution_count": 77,
     "metadata": {},
     "output_type": "execute_result"
    }
   ],
   "source": [
    "# Concatenate the DataFrames (union)\n",
    "df_predictions = pd.concat([md1_responses, md2_responses], axis=0)\n",
    "# Reset the index for better readability\n",
    "df_predictions.reset_index(drop=True, inplace=True)\n",
    "# Display the concatenated DataFrame\n",
    "df_predictions"
   ]
  },
  {
   "cell_type": "code",
   "execution_count": 78,
   "id": "0af3fa94-3605-43f6-9ba3-c56815a5a27f",
   "metadata": {
    "tags": []
   },
   "outputs": [],
   "source": [
    "# Create a new points_multiplier column\n",
    "df_predictions['points_multiplier'] = df_predictions.apply(lambda row: 2 if row['bonus_match_code'] == row['match_code'] else 1, axis=1)"
   ]
  },
  {
   "cell_type": "code",
   "execution_count": 79,
   "id": "08a00f4d-9763-4eda-a4d1-690c91292181",
   "metadata": {
    "tags": []
   },
   "outputs": [],
   "source": [
    "# Extract MatchCode, Home, and Away using regular expressions\n",
    "df_predictions[['match_code', 'home', 'away']] = df_predictions['match_code'].str.extract(r'(M\\d{2}). (.+) v (.+)')\n",
    "df_predictions = df_predictions[['timestamp', 'name', 'match_code', 'home', 'away', 'predicted_score', 'points_multiplier']]\n"
   ]
  },
  {
   "cell_type": "code",
   "execution_count": 80,
   "id": "4cc39e34",
   "metadata": {},
   "outputs": [],
   "source": [
    "df_predictions_full = pd.merge(df_predictions, df_results_raw, on=['match_code', 'home', 'away'], how='left')\n",
    "df_predictions_full.to_csv('data/df_predictions_full.csv',index=False)"
   ]
  },
  {
   "cell_type": "code",
   "execution_count": 81,
   "id": "0de839d9-1060-4cc5-a3fc-1c2a77e8af76",
   "metadata": {
    "tags": []
   },
   "outputs": [],
   "source": [
    "# Merge DataFrames based on 'MatchCode', 'Home', and 'Away'\n",
    "df_merged = pd.merge(df_predictions, df_results, on=['match_code', 'home', 'away'], how='inner')"
   ]
  },
  {
   "cell_type": "code",
   "execution_count": 82,
   "id": "b5ec9349-920d-4246-b4ea-c9cf0720bb8b",
   "metadata": {
    "tags": []
   },
   "outputs": [
    {
     "data": {
      "text/html": [
       "<div>\n",
       "<style scoped>\n",
       "    .dataframe tbody tr th:only-of-type {\n",
       "        vertical-align: middle;\n",
       "    }\n",
       "\n",
       "    .dataframe tbody tr th {\n",
       "        vertical-align: top;\n",
       "    }\n",
       "\n",
       "    .dataframe thead th {\n",
       "        text-align: right;\n",
       "    }\n",
       "</style>\n",
       "<table border=\"1\" class=\"dataframe\">\n",
       "  <thead>\n",
       "    <tr style=\"text-align: right;\">\n",
       "      <th></th>\n",
       "      <th>timestamp</th>\n",
       "      <th>name</th>\n",
       "      <th>match_code</th>\n",
       "      <th>home</th>\n",
       "      <th>away</th>\n",
       "      <th>predicted_score</th>\n",
       "      <th>points_multiplier</th>\n",
       "      <th>actual_score</th>\n",
       "      <th>matchday</th>\n",
       "      <th>stage</th>\n",
       "      <th>stage_detail</th>\n",
       "      <th>match_time</th>\n",
       "    </tr>\n",
       "  </thead>\n",
       "  <tbody>\n",
       "    <tr>\n",
       "      <th>0</th>\n",
       "      <td>07/06/2024 19:59:48</td>\n",
       "      <td>Larry</td>\n",
       "      <td>M01</td>\n",
       "      <td>Germany</td>\n",
       "      <td>Scotland</td>\n",
       "      <td>2-0</td>\n",
       "      <td>2</td>\n",
       "      <td>5-1</td>\n",
       "      <td>1</td>\n",
       "      <td>Groups</td>\n",
       "      <td>01. Groups - Matchday 1</td>\n",
       "      <td>14/06/2024 20:00:00</td>\n",
       "    </tr>\n",
       "    <tr>\n",
       "      <th>1</th>\n",
       "      <td>07/06/2024 20:04:57</td>\n",
       "      <td>Tom</td>\n",
       "      <td>M01</td>\n",
       "      <td>Germany</td>\n",
       "      <td>Scotland</td>\n",
       "      <td>2-0</td>\n",
       "      <td>1</td>\n",
       "      <td>5-1</td>\n",
       "      <td>1</td>\n",
       "      <td>Groups</td>\n",
       "      <td>01. Groups - Matchday 1</td>\n",
       "      <td>14/06/2024 20:00:00</td>\n",
       "    </tr>\n",
       "    <tr>\n",
       "      <th>2</th>\n",
       "      <td>08/06/2024 23:31:40</td>\n",
       "      <td>Ed</td>\n",
       "      <td>M01</td>\n",
       "      <td>Germany</td>\n",
       "      <td>Scotland</td>\n",
       "      <td>3-1</td>\n",
       "      <td>1</td>\n",
       "      <td>5-1</td>\n",
       "      <td>1</td>\n",
       "      <td>Groups</td>\n",
       "      <td>01. Groups - Matchday 1</td>\n",
       "      <td>14/06/2024 20:00:00</td>\n",
       "    </tr>\n",
       "    <tr>\n",
       "      <th>3</th>\n",
       "      <td>09/06/2024 10:35:29</td>\n",
       "      <td>Jonny</td>\n",
       "      <td>M01</td>\n",
       "      <td>Germany</td>\n",
       "      <td>Scotland</td>\n",
       "      <td>3-0</td>\n",
       "      <td>2</td>\n",
       "      <td>5-1</td>\n",
       "      <td>1</td>\n",
       "      <td>Groups</td>\n",
       "      <td>01. Groups - Matchday 1</td>\n",
       "      <td>14/06/2024 20:00:00</td>\n",
       "    </tr>\n",
       "    <tr>\n",
       "      <th>4</th>\n",
       "      <td>11/06/2024 11:43:49</td>\n",
       "      <td>Jay</td>\n",
       "      <td>M01</td>\n",
       "      <td>Germany</td>\n",
       "      <td>Scotland</td>\n",
       "      <td>2-0</td>\n",
       "      <td>1</td>\n",
       "      <td>5-1</td>\n",
       "      <td>1</td>\n",
       "      <td>Groups</td>\n",
       "      <td>01. Groups - Matchday 1</td>\n",
       "      <td>14/06/2024 20:00:00</td>\n",
       "    </tr>\n",
       "  </tbody>\n",
       "</table>\n",
       "</div>"
      ],
      "text/plain": [
       "             timestamp   name match_code     home      away predicted_score  \\\n",
       "0  07/06/2024 19:59:48  Larry        M01  Germany  Scotland             2-0   \n",
       "1  07/06/2024 20:04:57    Tom        M01  Germany  Scotland             2-0   \n",
       "2  08/06/2024 23:31:40     Ed        M01  Germany  Scotland             3-1   \n",
       "3  09/06/2024 10:35:29  Jonny        M01  Germany  Scotland             3-0   \n",
       "4  11/06/2024 11:43:49    Jay        M01  Germany  Scotland             2-0   \n",
       "\n",
       "   points_multiplier actual_score  matchday   stage             stage_detail  \\\n",
       "0                  2          5-1         1  Groups  01. Groups - Matchday 1   \n",
       "1                  1          5-1         1  Groups  01. Groups - Matchday 1   \n",
       "2                  1          5-1         1  Groups  01. Groups - Matchday 1   \n",
       "3                  2          5-1         1  Groups  01. Groups - Matchday 1   \n",
       "4                  1          5-1         1  Groups  01. Groups - Matchday 1   \n",
       "\n",
       "            match_time  \n",
       "0  14/06/2024 20:00:00  \n",
       "1  14/06/2024 20:00:00  \n",
       "2  14/06/2024 20:00:00  \n",
       "3  14/06/2024 20:00:00  \n",
       "4  14/06/2024 20:00:00  "
      ]
     },
     "execution_count": 82,
     "metadata": {},
     "output_type": "execute_result"
    }
   ],
   "source": [
    "df_merged.head()"
   ]
  },
  {
   "cell_type": "markdown",
   "id": "c4005e42",
   "metadata": {},
   "source": [
    "## Functions to Calculate Points\n",
    "\n",
    "- `get_predicted_outcome` function: creates new column `predicted_outcome` which states if the user predicted a Home, Away or Draw result\n",
    "- `get_actual_outcome` function: creates new column `actual_outcome` which states if the actual result was Home, Away or Draw result\n",
    "- `calculate_points` function: creates new column `base_points` where:\n",
    "    + 1 point is awarded if `predicted_outcome` = `actual_outcome` \n",
    "    + 3 points is awarded if `predicted_score` = `actual_score`\n",
    "- `total_points` is then created which is `base_points` * `points_multiplier` to award double points for user selected bonus matches\n",
    "- `df_merged` contains one row per prediction with points"
   ]
  },
  {
   "cell_type": "code",
   "execution_count": 83,
   "id": "f8ef69a7-1de9-412a-8a89-e05ab34ebf93",
   "metadata": {
    "tags": []
   },
   "outputs": [],
   "source": [
    "# Create a function to determine predicted outcome\n",
    "def get_predicted_outcome(predicted_score):\n",
    "    home_score, away_score = map(int, predicted_score.split('-'))\n",
    "    if home_score > away_score:\n",
    "        return 'Home'\n",
    "    elif home_score < away_score:\n",
    "        return 'Away'\n",
    "    else:\n",
    "        return 'Draw'"
   ]
  },
  {
   "cell_type": "code",
   "execution_count": 84,
   "id": "13561b37-96b5-4927-9d49-ddf8e70802ef",
   "metadata": {
    "tags": []
   },
   "outputs": [],
   "source": [
    "# Apply the function to create the 'predicted_outcome' column\n",
    "df_merged['predicted_outcome'] = df_merged['predicted_score'].apply(get_predicted_outcome)"
   ]
  },
  {
   "cell_type": "code",
   "execution_count": 85,
   "id": "6ed57bc2-8b17-4679-ab17-983f9d95783a",
   "metadata": {
    "tags": []
   },
   "outputs": [],
   "source": [
    "# Create a function to determine predicted outcome\n",
    "def get_actual_outcome(actual_score):\n",
    "    home_score, away_score = map(int, actual_score.split('-'))\n",
    "    if home_score > away_score:\n",
    "        return 'Home'\n",
    "    elif home_score < away_score:\n",
    "        return 'Away'\n",
    "    else:\n",
    "        return 'Draw'"
   ]
  },
  {
   "cell_type": "code",
   "execution_count": 86,
   "id": "2d8fddb4-9c61-429b-b4c3-f7c46bc6a872",
   "metadata": {
    "tags": []
   },
   "outputs": [],
   "source": [
    "# Apply the function to create the 'predicted_outcome' column\n",
    "df_merged['actual_outcome'] = df_merged['actual_score'].apply(get_actual_outcome)"
   ]
  },
  {
   "cell_type": "code",
   "execution_count": 87,
   "id": "ff6c1c78-bbbc-4fe5-8e99-ded367f15e25",
   "metadata": {
    "tags": []
   },
   "outputs": [],
   "source": [
    "# Create a function to calculate points\n",
    "def calculate_points(predicted_score, actual_score, predicted_outcome, actual_outcome):\n",
    "    home_pred, away_pred = map(int, predicted_score.split('-'))\n",
    "    home_res, away_res = map(int, predicted_score.split('-'))\n",
    "\n",
    "    if predicted_score == actual_score:\n",
    "        return 3\n",
    "    elif predicted_outcome == actual_outcome:\n",
    "        return 1\n",
    "    else:\n",
    "        return 0"
   ]
  },
  {
   "cell_type": "code",
   "execution_count": 88,
   "id": "5448d8aa-b4ea-40b0-bb83-35670c595d88",
   "metadata": {
    "tags": []
   },
   "outputs": [],
   "source": [
    "# Apply the function to create the 'Points' column\n",
    "df_merged['base_points'] = df_merged.apply(lambda row: calculate_points(row['predicted_score'], row['actual_score'], row['predicted_outcome'], row['actual_outcome']), axis=1)\n",
    "df_merged['total_points'] = df_merged['base_points'] * df_merged['points_multiplier']\n",
    "\n",
    "df_merged.to_csv('data/df_merged.csv')"
   ]
  },
  {
   "cell_type": "code",
   "execution_count": 89,
   "id": "301597be",
   "metadata": {},
   "outputs": [
    {
     "data": {
      "text/html": [
       "<div>\n",
       "<style scoped>\n",
       "    .dataframe tbody tr th:only-of-type {\n",
       "        vertical-align: middle;\n",
       "    }\n",
       "\n",
       "    .dataframe tbody tr th {\n",
       "        vertical-align: top;\n",
       "    }\n",
       "\n",
       "    .dataframe thead th {\n",
       "        text-align: right;\n",
       "    }\n",
       "</style>\n",
       "<table border=\"1\" class=\"dataframe\">\n",
       "  <thead>\n",
       "    <tr style=\"text-align: right;\">\n",
       "      <th></th>\n",
       "      <th>timestamp</th>\n",
       "      <th>name</th>\n",
       "      <th>match_code</th>\n",
       "      <th>home</th>\n",
       "      <th>away</th>\n",
       "      <th>predicted_score</th>\n",
       "      <th>points_multiplier</th>\n",
       "      <th>actual_score</th>\n",
       "      <th>matchday</th>\n",
       "      <th>stage</th>\n",
       "      <th>stage_detail</th>\n",
       "      <th>match_time</th>\n",
       "      <th>predicted_outcome</th>\n",
       "      <th>actual_outcome</th>\n",
       "      <th>base_points</th>\n",
       "      <th>total_points</th>\n",
       "    </tr>\n",
       "  </thead>\n",
       "  <tbody>\n",
       "    <tr>\n",
       "      <th>0</th>\n",
       "      <td>07/06/2024 19:59:48</td>\n",
       "      <td>Larry</td>\n",
       "      <td>M01</td>\n",
       "      <td>Germany</td>\n",
       "      <td>Scotland</td>\n",
       "      <td>2-0</td>\n",
       "      <td>2</td>\n",
       "      <td>5-1</td>\n",
       "      <td>1</td>\n",
       "      <td>Groups</td>\n",
       "      <td>01. Groups - Matchday 1</td>\n",
       "      <td>14/06/2024 20:00:00</td>\n",
       "      <td>Home</td>\n",
       "      <td>Home</td>\n",
       "      <td>1</td>\n",
       "      <td>2</td>\n",
       "    </tr>\n",
       "    <tr>\n",
       "      <th>1</th>\n",
       "      <td>07/06/2024 20:04:57</td>\n",
       "      <td>Tom</td>\n",
       "      <td>M01</td>\n",
       "      <td>Germany</td>\n",
       "      <td>Scotland</td>\n",
       "      <td>2-0</td>\n",
       "      <td>1</td>\n",
       "      <td>5-1</td>\n",
       "      <td>1</td>\n",
       "      <td>Groups</td>\n",
       "      <td>01. Groups - Matchday 1</td>\n",
       "      <td>14/06/2024 20:00:00</td>\n",
       "      <td>Home</td>\n",
       "      <td>Home</td>\n",
       "      <td>1</td>\n",
       "      <td>1</td>\n",
       "    </tr>\n",
       "    <tr>\n",
       "      <th>2</th>\n",
       "      <td>08/06/2024 23:31:40</td>\n",
       "      <td>Ed</td>\n",
       "      <td>M01</td>\n",
       "      <td>Germany</td>\n",
       "      <td>Scotland</td>\n",
       "      <td>3-1</td>\n",
       "      <td>1</td>\n",
       "      <td>5-1</td>\n",
       "      <td>1</td>\n",
       "      <td>Groups</td>\n",
       "      <td>01. Groups - Matchday 1</td>\n",
       "      <td>14/06/2024 20:00:00</td>\n",
       "      <td>Home</td>\n",
       "      <td>Home</td>\n",
       "      <td>1</td>\n",
       "      <td>1</td>\n",
       "    </tr>\n",
       "    <tr>\n",
       "      <th>3</th>\n",
       "      <td>09/06/2024 10:35:29</td>\n",
       "      <td>Jonny</td>\n",
       "      <td>M01</td>\n",
       "      <td>Germany</td>\n",
       "      <td>Scotland</td>\n",
       "      <td>3-0</td>\n",
       "      <td>2</td>\n",
       "      <td>5-1</td>\n",
       "      <td>1</td>\n",
       "      <td>Groups</td>\n",
       "      <td>01. Groups - Matchday 1</td>\n",
       "      <td>14/06/2024 20:00:00</td>\n",
       "      <td>Home</td>\n",
       "      <td>Home</td>\n",
       "      <td>1</td>\n",
       "      <td>2</td>\n",
       "    </tr>\n",
       "    <tr>\n",
       "      <th>4</th>\n",
       "      <td>11/06/2024 11:43:49</td>\n",
       "      <td>Jay</td>\n",
       "      <td>M01</td>\n",
       "      <td>Germany</td>\n",
       "      <td>Scotland</td>\n",
       "      <td>2-0</td>\n",
       "      <td>1</td>\n",
       "      <td>5-1</td>\n",
       "      <td>1</td>\n",
       "      <td>Groups</td>\n",
       "      <td>01. Groups - Matchday 1</td>\n",
       "      <td>14/06/2024 20:00:00</td>\n",
       "      <td>Home</td>\n",
       "      <td>Home</td>\n",
       "      <td>1</td>\n",
       "      <td>1</td>\n",
       "    </tr>\n",
       "    <tr>\n",
       "      <th>...</th>\n",
       "      <td>...</td>\n",
       "      <td>...</td>\n",
       "      <td>...</td>\n",
       "      <td>...</td>\n",
       "      <td>...</td>\n",
       "      <td>...</td>\n",
       "      <td>...</td>\n",
       "      <td>...</td>\n",
       "      <td>...</td>\n",
       "      <td>...</td>\n",
       "      <td>...</td>\n",
       "      <td>...</td>\n",
       "      <td>...</td>\n",
       "      <td>...</td>\n",
       "      <td>...</td>\n",
       "      <td>...</td>\n",
       "    </tr>\n",
       "    <tr>\n",
       "      <th>75</th>\n",
       "      <td>19/06/2024 10:33:25</td>\n",
       "      <td>Luke</td>\n",
       "      <td>M17</td>\n",
       "      <td>Denmark</td>\n",
       "      <td>England</td>\n",
       "      <td>0-1</td>\n",
       "      <td>2</td>\n",
       "      <td>1-1</td>\n",
       "      <td>2</td>\n",
       "      <td>Groups</td>\n",
       "      <td>02. Groups - Matchday 2</td>\n",
       "      <td>20/06/2024 20:00:00</td>\n",
       "      <td>Away</td>\n",
       "      <td>Draw</td>\n",
       "      <td>0</td>\n",
       "      <td>0</td>\n",
       "    </tr>\n",
       "    <tr>\n",
       "      <th>76</th>\n",
       "      <td>19/06/2024 11:04:58</td>\n",
       "      <td>Ed</td>\n",
       "      <td>M17</td>\n",
       "      <td>Denmark</td>\n",
       "      <td>England</td>\n",
       "      <td>1-2</td>\n",
       "      <td>2</td>\n",
       "      <td>1-1</td>\n",
       "      <td>2</td>\n",
       "      <td>Groups</td>\n",
       "      <td>02. Groups - Matchday 2</td>\n",
       "      <td>20/06/2024 20:00:00</td>\n",
       "      <td>Away</td>\n",
       "      <td>Draw</td>\n",
       "      <td>0</td>\n",
       "      <td>0</td>\n",
       "    </tr>\n",
       "    <tr>\n",
       "      <th>77</th>\n",
       "      <td>19/06/2024 12:58:03</td>\n",
       "      <td>Corfe</td>\n",
       "      <td>M17</td>\n",
       "      <td>Denmark</td>\n",
       "      <td>England</td>\n",
       "      <td>0-2</td>\n",
       "      <td>2</td>\n",
       "      <td>1-1</td>\n",
       "      <td>2</td>\n",
       "      <td>Groups</td>\n",
       "      <td>02. Groups - Matchday 2</td>\n",
       "      <td>20/06/2024 20:00:00</td>\n",
       "      <td>Away</td>\n",
       "      <td>Draw</td>\n",
       "      <td>0</td>\n",
       "      <td>0</td>\n",
       "    </tr>\n",
       "    <tr>\n",
       "      <th>78</th>\n",
       "      <td>19/06/2024 20:40:28</td>\n",
       "      <td>Peter Popular</td>\n",
       "      <td>M17</td>\n",
       "      <td>Denmark</td>\n",
       "      <td>England</td>\n",
       "      <td>1-2</td>\n",
       "      <td>1</td>\n",
       "      <td>1-1</td>\n",
       "      <td>2</td>\n",
       "      <td>Groups</td>\n",
       "      <td>02. Groups - Matchday 2</td>\n",
       "      <td>20/06/2024 20:00:00</td>\n",
       "      <td>Away</td>\n",
       "      <td>Draw</td>\n",
       "      <td>0</td>\n",
       "      <td>0</td>\n",
       "    </tr>\n",
       "    <tr>\n",
       "      <th>79</th>\n",
       "      <td>19/06/2024 20:45:30</td>\n",
       "      <td>Rando Randal</td>\n",
       "      <td>M17</td>\n",
       "      <td>Denmark</td>\n",
       "      <td>England</td>\n",
       "      <td>2-5</td>\n",
       "      <td>1</td>\n",
       "      <td>1-1</td>\n",
       "      <td>2</td>\n",
       "      <td>Groups</td>\n",
       "      <td>02. Groups - Matchday 2</td>\n",
       "      <td>20/06/2024 20:00:00</td>\n",
       "      <td>Away</td>\n",
       "      <td>Draw</td>\n",
       "      <td>0</td>\n",
       "      <td>0</td>\n",
       "    </tr>\n",
       "  </tbody>\n",
       "</table>\n",
       "<p>80 rows × 16 columns</p>\n",
       "</div>"
      ],
      "text/plain": [
       "              timestamp           name match_code     home      away  \\\n",
       "0   07/06/2024 19:59:48          Larry        M01  Germany  Scotland   \n",
       "1   07/06/2024 20:04:57            Tom        M01  Germany  Scotland   \n",
       "2   08/06/2024 23:31:40             Ed        M01  Germany  Scotland   \n",
       "3   09/06/2024 10:35:29          Jonny        M01  Germany  Scotland   \n",
       "4   11/06/2024 11:43:49            Jay        M01  Germany  Scotland   \n",
       "..                  ...            ...        ...      ...       ...   \n",
       "75  19/06/2024 10:33:25           Luke        M17  Denmark   England   \n",
       "76  19/06/2024 11:04:58             Ed        M17  Denmark   England   \n",
       "77  19/06/2024 12:58:03          Corfe        M17  Denmark   England   \n",
       "78  19/06/2024 20:40:28  Peter Popular        M17  Denmark   England   \n",
       "79  19/06/2024 20:45:30   Rando Randal        M17  Denmark   England   \n",
       "\n",
       "   predicted_score  points_multiplier actual_score  matchday   stage  \\\n",
       "0              2-0                  2          5-1         1  Groups   \n",
       "1              2-0                  1          5-1         1  Groups   \n",
       "2              3-1                  1          5-1         1  Groups   \n",
       "3              3-0                  2          5-1         1  Groups   \n",
       "4              2-0                  1          5-1         1  Groups   \n",
       "..             ...                ...          ...       ...     ...   \n",
       "75             0-1                  2          1-1         2  Groups   \n",
       "76             1-2                  2          1-1         2  Groups   \n",
       "77             0-2                  2          1-1         2  Groups   \n",
       "78             1-2                  1          1-1         2  Groups   \n",
       "79             2-5                  1          1-1         2  Groups   \n",
       "\n",
       "               stage_detail           match_time predicted_outcome  \\\n",
       "0   01. Groups - Matchday 1  14/06/2024 20:00:00              Home   \n",
       "1   01. Groups - Matchday 1  14/06/2024 20:00:00              Home   \n",
       "2   01. Groups - Matchday 1  14/06/2024 20:00:00              Home   \n",
       "3   01. Groups - Matchday 1  14/06/2024 20:00:00              Home   \n",
       "4   01. Groups - Matchday 1  14/06/2024 20:00:00              Home   \n",
       "..                      ...                  ...               ...   \n",
       "75  02. Groups - Matchday 2  20/06/2024 20:00:00              Away   \n",
       "76  02. Groups - Matchday 2  20/06/2024 20:00:00              Away   \n",
       "77  02. Groups - Matchday 2  20/06/2024 20:00:00              Away   \n",
       "78  02. Groups - Matchday 2  20/06/2024 20:00:00              Away   \n",
       "79  02. Groups - Matchday 2  20/06/2024 20:00:00              Away   \n",
       "\n",
       "   actual_outcome  base_points  total_points  \n",
       "0            Home            1             2  \n",
       "1            Home            1             1  \n",
       "2            Home            1             1  \n",
       "3            Home            1             2  \n",
       "4            Home            1             1  \n",
       "..            ...          ...           ...  \n",
       "75           Draw            0             0  \n",
       "76           Draw            0             0  \n",
       "77           Draw            0             0  \n",
       "78           Draw            0             0  \n",
       "79           Draw            0             0  \n",
       "\n",
       "[80 rows x 16 columns]"
      ]
     },
     "execution_count": 89,
     "metadata": {},
     "output_type": "execute_result"
    }
   ],
   "source": [
    "df_merged"
   ]
  },
  {
   "cell_type": "markdown",
   "id": "99f9d49a",
   "metadata": {},
   "source": [
    "## Final Dataframes for Streamlit\n",
    "\n",
    "** written to_csv and used in current Streamlit app\n",
    "\n",
    "- ** `points_by_name`: base and total points per name - used in the bar chart\n",
    "- `points_by_name_stage`: base and total points per name by each stage - not yet used, but could be used for the bar chart where the user can filter on certain matchdays or stages\n",
    "- `mode_predicted_scores`: most popular score prediction by each user - not used\n",
    "- `mode_correct_predicted_scores`: most popular score predictions that are correct by each user - not used\n",
    "- ** `vs_mean_df`: by each matchday, takes the total points for a user each matchday and compares it vs the mean total points and takes the delta - used in a trended line chart\n",
    "- ** `vs_mean_match_code_df`: by each match_code (more granular), takes the total points for a user each match_code and compares it vs the mean total points and takes the delta - used in a trended line chart within the summary table near the top\n",
    "- ** `overall_standings_df`: overall points for each user, change in rank, trended line chart data - used as the summary table near the top"
   ]
  },
  {
   "cell_type": "code",
   "execution_count": 90,
   "id": "5c19d8cc-8c05-45ed-9c93-aef5194825a8",
   "metadata": {
    "tags": []
   },
   "outputs": [],
   "source": [
    "# Group the DataFrame by 'name' and sum the 'Points' for each group\n",
    "points_by_name = df_merged.groupby('name').agg({'base_points': 'sum', 'total_points': 'sum'}).reset_index()\n",
    "points_by_name = points_by_name.sort_values(by='total_points', ascending=False)"
   ]
  },
  {
   "cell_type": "code",
   "execution_count": 91,
   "id": "8553edad-0505-4a10-a320-22e7efd96542",
   "metadata": {
    "tags": []
   },
   "outputs": [
    {
     "name": "stdout",
     "output_type": "stream",
     "text": [
      "            name  base_points  total_points\n",
      "2            Jay            8             9\n",
      "3          Jonny            8             9\n",
      "4          Larry            8             9\n",
      "5           Luke            7             8\n",
      "7  Peter Popular            6             7\n",
      "0          Corfe            5             6\n",
      "6           Marc            5             6\n",
      "9            Tom            5             6\n",
      "1             Ed            4             5\n",
      "8   Rando Randal            3             4\n"
     ]
    }
   ],
   "source": [
    "print(points_by_name)"
   ]
  },
  {
   "cell_type": "code",
   "execution_count": 92,
   "id": "775fa9fe",
   "metadata": {},
   "outputs": [
    {
     "data": {
      "text/html": [
       "<div>\n",
       "<style scoped>\n",
       "    .dataframe tbody tr th:only-of-type {\n",
       "        vertical-align: middle;\n",
       "    }\n",
       "\n",
       "    .dataframe tbody tr th {\n",
       "        vertical-align: top;\n",
       "    }\n",
       "\n",
       "    .dataframe thead th {\n",
       "        text-align: right;\n",
       "    }\n",
       "</style>\n",
       "<table border=\"1\" class=\"dataframe\">\n",
       "  <thead>\n",
       "    <tr style=\"text-align: right;\">\n",
       "      <th></th>\n",
       "      <th>name</th>\n",
       "      <th>matchday</th>\n",
       "      <th>stage_detail</th>\n",
       "      <th>base_points</th>\n",
       "      <th>total_points</th>\n",
       "    </tr>\n",
       "  </thead>\n",
       "  <tbody>\n",
       "    <tr>\n",
       "      <th>0</th>\n",
       "      <td>Corfe</td>\n",
       "      <td>1</td>\n",
       "      <td>01. Groups - Matchday 1</td>\n",
       "      <td>5</td>\n",
       "      <td>6</td>\n",
       "    </tr>\n",
       "    <tr>\n",
       "      <th>1</th>\n",
       "      <td>Corfe</td>\n",
       "      <td>2</td>\n",
       "      <td>02. Groups - Matchday 2</td>\n",
       "      <td>0</td>\n",
       "      <td>0</td>\n",
       "    </tr>\n",
       "    <tr>\n",
       "      <th>2</th>\n",
       "      <td>Ed</td>\n",
       "      <td>1</td>\n",
       "      <td>01. Groups - Matchday 1</td>\n",
       "      <td>4</td>\n",
       "      <td>5</td>\n",
       "    </tr>\n",
       "    <tr>\n",
       "      <th>3</th>\n",
       "      <td>Ed</td>\n",
       "      <td>2</td>\n",
       "      <td>02. Groups - Matchday 2</td>\n",
       "      <td>0</td>\n",
       "      <td>0</td>\n",
       "    </tr>\n",
       "    <tr>\n",
       "      <th>4</th>\n",
       "      <td>Jay</td>\n",
       "      <td>1</td>\n",
       "      <td>01. Groups - Matchday 1</td>\n",
       "      <td>6</td>\n",
       "      <td>7</td>\n",
       "    </tr>\n",
       "    <tr>\n",
       "      <th>5</th>\n",
       "      <td>Jay</td>\n",
       "      <td>2</td>\n",
       "      <td>02. Groups - Matchday 2</td>\n",
       "      <td>2</td>\n",
       "      <td>2</td>\n",
       "    </tr>\n",
       "    <tr>\n",
       "      <th>6</th>\n",
       "      <td>Jonny</td>\n",
       "      <td>1</td>\n",
       "      <td>01. Groups - Matchday 1</td>\n",
       "      <td>7</td>\n",
       "      <td>8</td>\n",
       "    </tr>\n",
       "    <tr>\n",
       "      <th>7</th>\n",
       "      <td>Jonny</td>\n",
       "      <td>2</td>\n",
       "      <td>02. Groups - Matchday 2</td>\n",
       "      <td>1</td>\n",
       "      <td>1</td>\n",
       "    </tr>\n",
       "    <tr>\n",
       "      <th>8</th>\n",
       "      <td>Larry</td>\n",
       "      <td>1</td>\n",
       "      <td>01. Groups - Matchday 1</td>\n",
       "      <td>7</td>\n",
       "      <td>8</td>\n",
       "    </tr>\n",
       "    <tr>\n",
       "      <th>9</th>\n",
       "      <td>Larry</td>\n",
       "      <td>2</td>\n",
       "      <td>02. Groups - Matchday 2</td>\n",
       "      <td>1</td>\n",
       "      <td>1</td>\n",
       "    </tr>\n",
       "    <tr>\n",
       "      <th>10</th>\n",
       "      <td>Luke</td>\n",
       "      <td>1</td>\n",
       "      <td>01. Groups - Matchday 1</td>\n",
       "      <td>7</td>\n",
       "      <td>8</td>\n",
       "    </tr>\n",
       "    <tr>\n",
       "      <th>11</th>\n",
       "      <td>Luke</td>\n",
       "      <td>2</td>\n",
       "      <td>02. Groups - Matchday 2</td>\n",
       "      <td>0</td>\n",
       "      <td>0</td>\n",
       "    </tr>\n",
       "    <tr>\n",
       "      <th>12</th>\n",
       "      <td>Marc</td>\n",
       "      <td>1</td>\n",
       "      <td>01. Groups - Matchday 1</td>\n",
       "      <td>4</td>\n",
       "      <td>5</td>\n",
       "    </tr>\n",
       "    <tr>\n",
       "      <th>13</th>\n",
       "      <td>Marc</td>\n",
       "      <td>2</td>\n",
       "      <td>02. Groups - Matchday 2</td>\n",
       "      <td>1</td>\n",
       "      <td>1</td>\n",
       "    </tr>\n",
       "    <tr>\n",
       "      <th>14</th>\n",
       "      <td>Peter Popular</td>\n",
       "      <td>1</td>\n",
       "      <td>01. Groups - Matchday 1</td>\n",
       "      <td>5</td>\n",
       "      <td>6</td>\n",
       "    </tr>\n",
       "    <tr>\n",
       "      <th>15</th>\n",
       "      <td>Peter Popular</td>\n",
       "      <td>2</td>\n",
       "      <td>02. Groups - Matchday 2</td>\n",
       "      <td>1</td>\n",
       "      <td>1</td>\n",
       "    </tr>\n",
       "    <tr>\n",
       "      <th>16</th>\n",
       "      <td>Rando Randal</td>\n",
       "      <td>1</td>\n",
       "      <td>01. Groups - Matchday 1</td>\n",
       "      <td>3</td>\n",
       "      <td>4</td>\n",
       "    </tr>\n",
       "    <tr>\n",
       "      <th>17</th>\n",
       "      <td>Rando Randal</td>\n",
       "      <td>2</td>\n",
       "      <td>02. Groups - Matchday 2</td>\n",
       "      <td>0</td>\n",
       "      <td>0</td>\n",
       "    </tr>\n",
       "    <tr>\n",
       "      <th>18</th>\n",
       "      <td>Tom</td>\n",
       "      <td>1</td>\n",
       "      <td>01. Groups - Matchday 1</td>\n",
       "      <td>4</td>\n",
       "      <td>5</td>\n",
       "    </tr>\n",
       "    <tr>\n",
       "      <th>19</th>\n",
       "      <td>Tom</td>\n",
       "      <td>2</td>\n",
       "      <td>02. Groups - Matchday 2</td>\n",
       "      <td>1</td>\n",
       "      <td>1</td>\n",
       "    </tr>\n",
       "  </tbody>\n",
       "</table>\n",
       "</div>"
      ],
      "text/plain": [
       "             name  matchday             stage_detail  base_points  \\\n",
       "0           Corfe         1  01. Groups - Matchday 1            5   \n",
       "1           Corfe         2  02. Groups - Matchday 2            0   \n",
       "2              Ed         1  01. Groups - Matchday 1            4   \n",
       "3              Ed         2  02. Groups - Matchday 2            0   \n",
       "4             Jay         1  01. Groups - Matchday 1            6   \n",
       "5             Jay         2  02. Groups - Matchday 2            2   \n",
       "6           Jonny         1  01. Groups - Matchday 1            7   \n",
       "7           Jonny         2  02. Groups - Matchday 2            1   \n",
       "8           Larry         1  01. Groups - Matchday 1            7   \n",
       "9           Larry         2  02. Groups - Matchday 2            1   \n",
       "10           Luke         1  01. Groups - Matchday 1            7   \n",
       "11           Luke         2  02. Groups - Matchday 2            0   \n",
       "12           Marc         1  01. Groups - Matchday 1            4   \n",
       "13           Marc         2  02. Groups - Matchday 2            1   \n",
       "14  Peter Popular         1  01. Groups - Matchday 1            5   \n",
       "15  Peter Popular         2  02. Groups - Matchday 2            1   \n",
       "16   Rando Randal         1  01. Groups - Matchday 1            3   \n",
       "17   Rando Randal         2  02. Groups - Matchday 2            0   \n",
       "18            Tom         1  01. Groups - Matchday 1            4   \n",
       "19            Tom         2  02. Groups - Matchday 2            1   \n",
       "\n",
       "    total_points  \n",
       "0              6  \n",
       "1              0  \n",
       "2              5  \n",
       "3              0  \n",
       "4              7  \n",
       "5              2  \n",
       "6              8  \n",
       "7              1  \n",
       "8              8  \n",
       "9              1  \n",
       "10             8  \n",
       "11             0  \n",
       "12             5  \n",
       "13             1  \n",
       "14             6  \n",
       "15             1  \n",
       "16             4  \n",
       "17             0  \n",
       "18             5  \n",
       "19             1  "
      ]
     },
     "execution_count": 92,
     "metadata": {},
     "output_type": "execute_result"
    }
   ],
   "source": [
    "points_by_name_stage = df_merged.groupby(['name', 'matchday', 'stage_detail']).agg({'base_points': 'sum', 'total_points': 'sum'}).reset_index()\n",
    "points_by_name_stage"
   ]
  },
  {
   "cell_type": "code",
   "execution_count": 93,
   "id": "18d44396",
   "metadata": {},
   "outputs": [],
   "source": [
    "points_by_name_stage.to_csv('data/points_by_name_stage.csv')\n",
    "points_by_name.to_csv('data/points_by_name.csv')"
   ]
  },
  {
   "cell_type": "code",
   "execution_count": 94,
   "id": "7cb7bf82-f86e-49eb-882f-0131cc6431ac",
   "metadata": {
    "tags": []
   },
   "outputs": [
    {
     "data": {
      "application/vnd.plotly.v1+json": {
       "config": {
        "plotlyServerURL": "https://plot.ly"
       },
       "data": [
        {
         "alignmentgroup": "True",
         "hovertemplate": "Name=%{x}<br>total_points=%{y}<extra></extra>",
         "legendgroup": "Jay",
         "marker": {
          "color": "#ffd700",
          "pattern": {
           "shape": ""
          }
         },
         "name": "Jay",
         "offsetgroup": "Jay",
         "orientation": "v",
         "showlegend": true,
         "textposition": "auto",
         "type": "bar",
         "x": [
          "Jay"
         ],
         "xaxis": "x",
         "y": [
          9
         ],
         "yaxis": "y"
        },
        {
         "alignmentgroup": "True",
         "hovertemplate": "Name=%{x}<br>total_points=%{y}<extra></extra>",
         "legendgroup": "Jonny",
         "marker": {
          "color": "#C0C0C0",
          "pattern": {
           "shape": ""
          }
         },
         "name": "Jonny",
         "offsetgroup": "Jonny",
         "orientation": "v",
         "showlegend": true,
         "textposition": "auto",
         "type": "bar",
         "x": [
          "Jonny"
         ],
         "xaxis": "x",
         "y": [
          9
         ],
         "yaxis": "y"
        },
        {
         "alignmentgroup": "True",
         "hovertemplate": "Name=%{x}<br>total_points=%{y}<extra></extra>",
         "legendgroup": "Larry",
         "marker": {
          "color": "#B87333",
          "pattern": {
           "shape": ""
          }
         },
         "name": "Larry",
         "offsetgroup": "Larry",
         "orientation": "v",
         "showlegend": true,
         "textposition": "auto",
         "type": "bar",
         "x": [
          "Larry"
         ],
         "xaxis": "x",
         "y": [
          9
         ],
         "yaxis": "y"
        },
        {
         "alignmentgroup": "True",
         "hovertemplate": "Name=%{x}<br>total_points=%{y}<extra></extra>",
         "legendgroup": "Luke",
         "marker": {
          "color": "#8850be",
          "pattern": {
           "shape": ""
          }
         },
         "name": "Luke",
         "offsetgroup": "Luke",
         "orientation": "v",
         "showlegend": true,
         "textposition": "auto",
         "type": "bar",
         "x": [
          "Luke"
         ],
         "xaxis": "x",
         "y": [
          8
         ],
         "yaxis": "y"
        },
        {
         "alignmentgroup": "True",
         "hovertemplate": "Name=%{x}<br>total_points=%{y}<extra></extra>",
         "legendgroup": "Peter Popular",
         "marker": {
          "color": "#8850be",
          "pattern": {
           "shape": ""
          }
         },
         "name": "Peter Popular",
         "offsetgroup": "Peter Popular",
         "orientation": "v",
         "showlegend": true,
         "textposition": "auto",
         "type": "bar",
         "x": [
          "Peter Popular"
         ],
         "xaxis": "x",
         "y": [
          7
         ],
         "yaxis": "y"
        },
        {
         "alignmentgroup": "True",
         "hovertemplate": "Name=%{x}<br>total_points=%{y}<extra></extra>",
         "legendgroup": "Corfe",
         "marker": {
          "color": "#8850be",
          "pattern": {
           "shape": ""
          }
         },
         "name": "Corfe",
         "offsetgroup": "Corfe",
         "orientation": "v",
         "showlegend": true,
         "textposition": "auto",
         "type": "bar",
         "x": [
          "Corfe"
         ],
         "xaxis": "x",
         "y": [
          6
         ],
         "yaxis": "y"
        },
        {
         "alignmentgroup": "True",
         "hovertemplate": "Name=%{x}<br>total_points=%{y}<extra></extra>",
         "legendgroup": "Marc",
         "marker": {
          "color": "#8850be",
          "pattern": {
           "shape": ""
          }
         },
         "name": "Marc",
         "offsetgroup": "Marc",
         "orientation": "v",
         "showlegend": true,
         "textposition": "auto",
         "type": "bar",
         "x": [
          "Marc"
         ],
         "xaxis": "x",
         "y": [
          6
         ],
         "yaxis": "y"
        },
        {
         "alignmentgroup": "True",
         "hovertemplate": "Name=%{x}<br>total_points=%{y}<extra></extra>",
         "legendgroup": "Tom",
         "marker": {
          "color": "#8850be",
          "pattern": {
           "shape": ""
          }
         },
         "name": "Tom",
         "offsetgroup": "Tom",
         "orientation": "v",
         "showlegend": true,
         "textposition": "auto",
         "type": "bar",
         "x": [
          "Tom"
         ],
         "xaxis": "x",
         "y": [
          6
         ],
         "yaxis": "y"
        },
        {
         "alignmentgroup": "True",
         "hovertemplate": "Name=%{x}<br>total_points=%{y}<extra></extra>",
         "legendgroup": "Ed",
         "marker": {
          "color": "#8850be",
          "pattern": {
           "shape": ""
          }
         },
         "name": "Ed",
         "offsetgroup": "Ed",
         "orientation": "v",
         "showlegend": true,
         "textposition": "auto",
         "type": "bar",
         "x": [
          "Ed"
         ],
         "xaxis": "x",
         "y": [
          5
         ],
         "yaxis": "y"
        },
        {
         "alignmentgroup": "True",
         "hovertemplate": "Name=%{x}<br>total_points=%{y}<extra></extra>",
         "legendgroup": "Rando Randal",
         "marker": {
          "color": "#8850be",
          "pattern": {
           "shape": ""
          }
         },
         "name": "Rando Randal",
         "offsetgroup": "Rando Randal",
         "orientation": "v",
         "showlegend": true,
         "textposition": "auto",
         "type": "bar",
         "x": [
          "Rando Randal"
         ],
         "xaxis": "x",
         "y": [
          4
         ],
         "yaxis": "y"
        }
       ],
       "layout": {
        "barmode": "relative",
        "font": {
         "family": "Arial",
         "size": 12
        },
        "legend": {
         "font": {
          "family": "Arial",
          "size": 10
         },
         "title": {
          "text": "Legend"
         },
         "tracegroupgap": 0,
         "traceorder": "reversed"
        },
        "paper_bgcolor": "rgba(0,0,0,0)",
        "plot_bgcolor": "rgba(0,0,0,0)",
        "showlegend": false,
        "template": {
         "data": {
          "bar": [
           {
            "error_x": {
             "color": "#2a3f5f"
            },
            "error_y": {
             "color": "#2a3f5f"
            },
            "marker": {
             "line": {
              "color": "#E5ECF6",
              "width": 0.5
             },
             "pattern": {
              "fillmode": "overlay",
              "size": 10,
              "solidity": 0.2
             }
            },
            "type": "bar"
           }
          ],
          "barpolar": [
           {
            "marker": {
             "line": {
              "color": "#E5ECF6",
              "width": 0.5
             },
             "pattern": {
              "fillmode": "overlay",
              "size": 10,
              "solidity": 0.2
             }
            },
            "type": "barpolar"
           }
          ],
          "carpet": [
           {
            "aaxis": {
             "endlinecolor": "#2a3f5f",
             "gridcolor": "white",
             "linecolor": "white",
             "minorgridcolor": "white",
             "startlinecolor": "#2a3f5f"
            },
            "baxis": {
             "endlinecolor": "#2a3f5f",
             "gridcolor": "white",
             "linecolor": "white",
             "minorgridcolor": "white",
             "startlinecolor": "#2a3f5f"
            },
            "type": "carpet"
           }
          ],
          "choropleth": [
           {
            "colorbar": {
             "outlinewidth": 0,
             "ticks": ""
            },
            "type": "choropleth"
           }
          ],
          "contour": [
           {
            "colorbar": {
             "outlinewidth": 0,
             "ticks": ""
            },
            "colorscale": [
             [
              0,
              "#0d0887"
             ],
             [
              0.1111111111111111,
              "#46039f"
             ],
             [
              0.2222222222222222,
              "#7201a8"
             ],
             [
              0.3333333333333333,
              "#9c179e"
             ],
             [
              0.4444444444444444,
              "#bd3786"
             ],
             [
              0.5555555555555556,
              "#d8576b"
             ],
             [
              0.6666666666666666,
              "#ed7953"
             ],
             [
              0.7777777777777778,
              "#fb9f3a"
             ],
             [
              0.8888888888888888,
              "#fdca26"
             ],
             [
              1,
              "#f0f921"
             ]
            ],
            "type": "contour"
           }
          ],
          "contourcarpet": [
           {
            "colorbar": {
             "outlinewidth": 0,
             "ticks": ""
            },
            "type": "contourcarpet"
           }
          ],
          "heatmap": [
           {
            "colorbar": {
             "outlinewidth": 0,
             "ticks": ""
            },
            "colorscale": [
             [
              0,
              "#0d0887"
             ],
             [
              0.1111111111111111,
              "#46039f"
             ],
             [
              0.2222222222222222,
              "#7201a8"
             ],
             [
              0.3333333333333333,
              "#9c179e"
             ],
             [
              0.4444444444444444,
              "#bd3786"
             ],
             [
              0.5555555555555556,
              "#d8576b"
             ],
             [
              0.6666666666666666,
              "#ed7953"
             ],
             [
              0.7777777777777778,
              "#fb9f3a"
             ],
             [
              0.8888888888888888,
              "#fdca26"
             ],
             [
              1,
              "#f0f921"
             ]
            ],
            "type": "heatmap"
           }
          ],
          "heatmapgl": [
           {
            "colorbar": {
             "outlinewidth": 0,
             "ticks": ""
            },
            "colorscale": [
             [
              0,
              "#0d0887"
             ],
             [
              0.1111111111111111,
              "#46039f"
             ],
             [
              0.2222222222222222,
              "#7201a8"
             ],
             [
              0.3333333333333333,
              "#9c179e"
             ],
             [
              0.4444444444444444,
              "#bd3786"
             ],
             [
              0.5555555555555556,
              "#d8576b"
             ],
             [
              0.6666666666666666,
              "#ed7953"
             ],
             [
              0.7777777777777778,
              "#fb9f3a"
             ],
             [
              0.8888888888888888,
              "#fdca26"
             ],
             [
              1,
              "#f0f921"
             ]
            ],
            "type": "heatmapgl"
           }
          ],
          "histogram": [
           {
            "marker": {
             "pattern": {
              "fillmode": "overlay",
              "size": 10,
              "solidity": 0.2
             }
            },
            "type": "histogram"
           }
          ],
          "histogram2d": [
           {
            "colorbar": {
             "outlinewidth": 0,
             "ticks": ""
            },
            "colorscale": [
             [
              0,
              "#0d0887"
             ],
             [
              0.1111111111111111,
              "#46039f"
             ],
             [
              0.2222222222222222,
              "#7201a8"
             ],
             [
              0.3333333333333333,
              "#9c179e"
             ],
             [
              0.4444444444444444,
              "#bd3786"
             ],
             [
              0.5555555555555556,
              "#d8576b"
             ],
             [
              0.6666666666666666,
              "#ed7953"
             ],
             [
              0.7777777777777778,
              "#fb9f3a"
             ],
             [
              0.8888888888888888,
              "#fdca26"
             ],
             [
              1,
              "#f0f921"
             ]
            ],
            "type": "histogram2d"
           }
          ],
          "histogram2dcontour": [
           {
            "colorbar": {
             "outlinewidth": 0,
             "ticks": ""
            },
            "colorscale": [
             [
              0,
              "#0d0887"
             ],
             [
              0.1111111111111111,
              "#46039f"
             ],
             [
              0.2222222222222222,
              "#7201a8"
             ],
             [
              0.3333333333333333,
              "#9c179e"
             ],
             [
              0.4444444444444444,
              "#bd3786"
             ],
             [
              0.5555555555555556,
              "#d8576b"
             ],
             [
              0.6666666666666666,
              "#ed7953"
             ],
             [
              0.7777777777777778,
              "#fb9f3a"
             ],
             [
              0.8888888888888888,
              "#fdca26"
             ],
             [
              1,
              "#f0f921"
             ]
            ],
            "type": "histogram2dcontour"
           }
          ],
          "mesh3d": [
           {
            "colorbar": {
             "outlinewidth": 0,
             "ticks": ""
            },
            "type": "mesh3d"
           }
          ],
          "parcoords": [
           {
            "line": {
             "colorbar": {
              "outlinewidth": 0,
              "ticks": ""
             }
            },
            "type": "parcoords"
           }
          ],
          "pie": [
           {
            "automargin": true,
            "type": "pie"
           }
          ],
          "scatter": [
           {
            "fillpattern": {
             "fillmode": "overlay",
             "size": 10,
             "solidity": 0.2
            },
            "type": "scatter"
           }
          ],
          "scatter3d": [
           {
            "line": {
             "colorbar": {
              "outlinewidth": 0,
              "ticks": ""
             }
            },
            "marker": {
             "colorbar": {
              "outlinewidth": 0,
              "ticks": ""
             }
            },
            "type": "scatter3d"
           }
          ],
          "scattercarpet": [
           {
            "marker": {
             "colorbar": {
              "outlinewidth": 0,
              "ticks": ""
             }
            },
            "type": "scattercarpet"
           }
          ],
          "scattergeo": [
           {
            "marker": {
             "colorbar": {
              "outlinewidth": 0,
              "ticks": ""
             }
            },
            "type": "scattergeo"
           }
          ],
          "scattergl": [
           {
            "marker": {
             "colorbar": {
              "outlinewidth": 0,
              "ticks": ""
             }
            },
            "type": "scattergl"
           }
          ],
          "scattermapbox": [
           {
            "marker": {
             "colorbar": {
              "outlinewidth": 0,
              "ticks": ""
             }
            },
            "type": "scattermapbox"
           }
          ],
          "scatterpolar": [
           {
            "marker": {
             "colorbar": {
              "outlinewidth": 0,
              "ticks": ""
             }
            },
            "type": "scatterpolar"
           }
          ],
          "scatterpolargl": [
           {
            "marker": {
             "colorbar": {
              "outlinewidth": 0,
              "ticks": ""
             }
            },
            "type": "scatterpolargl"
           }
          ],
          "scatterternary": [
           {
            "marker": {
             "colorbar": {
              "outlinewidth": 0,
              "ticks": ""
             }
            },
            "type": "scatterternary"
           }
          ],
          "surface": [
           {
            "colorbar": {
             "outlinewidth": 0,
             "ticks": ""
            },
            "colorscale": [
             [
              0,
              "#0d0887"
             ],
             [
              0.1111111111111111,
              "#46039f"
             ],
             [
              0.2222222222222222,
              "#7201a8"
             ],
             [
              0.3333333333333333,
              "#9c179e"
             ],
             [
              0.4444444444444444,
              "#bd3786"
             ],
             [
              0.5555555555555556,
              "#d8576b"
             ],
             [
              0.6666666666666666,
              "#ed7953"
             ],
             [
              0.7777777777777778,
              "#fb9f3a"
             ],
             [
              0.8888888888888888,
              "#fdca26"
             ],
             [
              1,
              "#f0f921"
             ]
            ],
            "type": "surface"
           }
          ],
          "table": [
           {
            "cells": {
             "fill": {
              "color": "#EBF0F8"
             },
             "line": {
              "color": "white"
             }
            },
            "header": {
             "fill": {
              "color": "#C8D4E3"
             },
             "line": {
              "color": "white"
             }
            },
            "type": "table"
           }
          ]
         },
         "layout": {
          "annotationdefaults": {
           "arrowcolor": "#2a3f5f",
           "arrowhead": 0,
           "arrowwidth": 1
          },
          "autotypenumbers": "strict",
          "coloraxis": {
           "colorbar": {
            "outlinewidth": 0,
            "ticks": ""
           }
          },
          "colorscale": {
           "diverging": [
            [
             0,
             "#8e0152"
            ],
            [
             0.1,
             "#c51b7d"
            ],
            [
             0.2,
             "#de77ae"
            ],
            [
             0.3,
             "#f1b6da"
            ],
            [
             0.4,
             "#fde0ef"
            ],
            [
             0.5,
             "#f7f7f7"
            ],
            [
             0.6,
             "#e6f5d0"
            ],
            [
             0.7,
             "#b8e186"
            ],
            [
             0.8,
             "#7fbc41"
            ],
            [
             0.9,
             "#4d9221"
            ],
            [
             1,
             "#276419"
            ]
           ],
           "sequential": [
            [
             0,
             "#0d0887"
            ],
            [
             0.1111111111111111,
             "#46039f"
            ],
            [
             0.2222222222222222,
             "#7201a8"
            ],
            [
             0.3333333333333333,
             "#9c179e"
            ],
            [
             0.4444444444444444,
             "#bd3786"
            ],
            [
             0.5555555555555556,
             "#d8576b"
            ],
            [
             0.6666666666666666,
             "#ed7953"
            ],
            [
             0.7777777777777778,
             "#fb9f3a"
            ],
            [
             0.8888888888888888,
             "#fdca26"
            ],
            [
             1,
             "#f0f921"
            ]
           ],
           "sequentialminus": [
            [
             0,
             "#0d0887"
            ],
            [
             0.1111111111111111,
             "#46039f"
            ],
            [
             0.2222222222222222,
             "#7201a8"
            ],
            [
             0.3333333333333333,
             "#9c179e"
            ],
            [
             0.4444444444444444,
             "#bd3786"
            ],
            [
             0.5555555555555556,
             "#d8576b"
            ],
            [
             0.6666666666666666,
             "#ed7953"
            ],
            [
             0.7777777777777778,
             "#fb9f3a"
            ],
            [
             0.8888888888888888,
             "#fdca26"
            ],
            [
             1,
             "#f0f921"
            ]
           ]
          },
          "colorway": [
           "#636efa",
           "#EF553B",
           "#00cc96",
           "#ab63fa",
           "#FFA15A",
           "#19d3f3",
           "#FF6692",
           "#B6E880",
           "#FF97FF",
           "#FECB52"
          ],
          "font": {
           "color": "#2a3f5f"
          },
          "geo": {
           "bgcolor": "white",
           "lakecolor": "white",
           "landcolor": "#E5ECF6",
           "showlakes": true,
           "showland": true,
           "subunitcolor": "white"
          },
          "hoverlabel": {
           "align": "left"
          },
          "hovermode": "closest",
          "mapbox": {
           "style": "light"
          },
          "paper_bgcolor": "white",
          "plot_bgcolor": "#E5ECF6",
          "polar": {
           "angularaxis": {
            "gridcolor": "white",
            "linecolor": "white",
            "ticks": ""
           },
           "bgcolor": "#E5ECF6",
           "radialaxis": {
            "gridcolor": "white",
            "linecolor": "white",
            "ticks": ""
           }
          },
          "scene": {
           "xaxis": {
            "backgroundcolor": "#E5ECF6",
            "gridcolor": "white",
            "gridwidth": 2,
            "linecolor": "white",
            "showbackground": true,
            "ticks": "",
            "zerolinecolor": "white"
           },
           "yaxis": {
            "backgroundcolor": "#E5ECF6",
            "gridcolor": "white",
            "gridwidth": 2,
            "linecolor": "white",
            "showbackground": true,
            "ticks": "",
            "zerolinecolor": "white"
           },
           "zaxis": {
            "backgroundcolor": "#E5ECF6",
            "gridcolor": "white",
            "gridwidth": 2,
            "linecolor": "white",
            "showbackground": true,
            "ticks": "",
            "zerolinecolor": "white"
           }
          },
          "shapedefaults": {
           "line": {
            "color": "#2a3f5f"
           }
          },
          "ternary": {
           "aaxis": {
            "gridcolor": "white",
            "linecolor": "white",
            "ticks": ""
           },
           "baxis": {
            "gridcolor": "white",
            "linecolor": "white",
            "ticks": ""
           },
           "bgcolor": "#E5ECF6",
           "caxis": {
            "gridcolor": "white",
            "linecolor": "white",
            "ticks": ""
           }
          },
          "title": {
           "x": 0.05
          },
          "xaxis": {
           "automargin": true,
           "gridcolor": "white",
           "linecolor": "white",
           "ticks": "",
           "title": {
            "standoff": 15
           },
           "zerolinecolor": "white",
           "zerolinewidth": 2
          },
          "yaxis": {
           "automargin": true,
           "gridcolor": "white",
           "linecolor": "white",
           "ticks": "",
           "title": {
            "standoff": 15
           },
           "zerolinecolor": "white",
           "zerolinewidth": 2
          }
         }
        },
        "title": {
         "font": {
          "family": "Arial",
          "size": 16
         },
         "text": "Euro 2024 Total Points by Name"
        },
        "xaxis": {
         "anchor": "y",
         "categoryarray": [
          "Jay",
          "Jonny",
          "Larry",
          "Luke",
          "Peter Popular",
          "Corfe",
          "Marc",
          "Tom",
          "Ed",
          "Rando Randal"
         ],
         "categoryorder": "array",
         "domain": [
          0,
          1
         ],
         "title": {
          "text": "Player Names"
         }
        },
        "yaxis": {
         "anchor": "x",
         "domain": [
          0,
          1
         ],
         "title": {
          "text": "Total Points"
         }
        }
       }
      }
     },
     "metadata": {},
     "output_type": "display_data"
    }
   ],
   "source": [
    "# Create the bar chart\n",
    "fig = px.bar(points_by_name, x='name', y='total_points', color='name',\n",
    "             labels={'name': 'Name', 'Points': 'Total Points'},\n",
    "             title='Euro 2024 Total Points by Name',  # Updated title\n",
    "             color_discrete_sequence=['#ffd700', '#C0C0C0', '#B87333', # gold, silver, bronze for 1st, 2nd, 3rd\n",
    "                                      '#8850be', '#8850be', '#8850be', '#8850be', '#8850be', '#8850be', '#8850be', '#8850be', '#8850be', '#8850be'])  # purple for all others\n",
    "\n",
    "# Customize the layout\n",
    "fig.update_layout(\n",
    "    xaxis_title='Player Names',\n",
    "    yaxis_title='Total Points',\n",
    "    font=dict(family='Arial', size=12),\n",
    "    title_font=dict(family='Arial', size=16),\n",
    "    paper_bgcolor='rgba(0,0,0,0)',\n",
    "    plot_bgcolor='rgba(0,0,0,0)',\n",
    "    showlegend=False,  # Hide the legend\n",
    "    legend_title_text='Legend',\n",
    "    legend_font=dict(family='Arial', size=10),\n",
    "    legend_traceorder='reversed'\n",
    ")\n",
    "\n",
    "# Show the plot\n",
    "fig.show()"
   ]
  },
  {
   "cell_type": "code",
   "execution_count": 95,
   "id": "258e1de5-2217-4d69-bf97-8a2c1c0ac01c",
   "metadata": {},
   "outputs": [
    {
     "data": {
      "text/html": [
       "<div>\n",
       "<style scoped>\n",
       "    .dataframe tbody tr th:only-of-type {\n",
       "        vertical-align: middle;\n",
       "    }\n",
       "\n",
       "    .dataframe tbody tr th {\n",
       "        vertical-align: top;\n",
       "    }\n",
       "\n",
       "    .dataframe thead th {\n",
       "        text-align: right;\n",
       "    }\n",
       "</style>\n",
       "<table border=\"1\" class=\"dataframe\">\n",
       "  <thead>\n",
       "    <tr style=\"text-align: right;\">\n",
       "      <th></th>\n",
       "      <th>name</th>\n",
       "      <th>predicted_score</th>\n",
       "    </tr>\n",
       "  </thead>\n",
       "  <tbody>\n",
       "    <tr>\n",
       "      <th>0</th>\n",
       "      <td>Corfe</td>\n",
       "      <td>0-2</td>\n",
       "    </tr>\n",
       "    <tr>\n",
       "      <th>1</th>\n",
       "      <td>Ed</td>\n",
       "      <td>1-2</td>\n",
       "    </tr>\n",
       "    <tr>\n",
       "      <th>2</th>\n",
       "      <td>Jay</td>\n",
       "      <td>2-0</td>\n",
       "    </tr>\n",
       "    <tr>\n",
       "      <th>3</th>\n",
       "      <td>Jonny</td>\n",
       "      <td>2-1</td>\n",
       "    </tr>\n",
       "    <tr>\n",
       "      <th>4</th>\n",
       "      <td>Larry</td>\n",
       "      <td>0-2</td>\n",
       "    </tr>\n",
       "    <tr>\n",
       "      <th>5</th>\n",
       "      <td>Luke</td>\n",
       "      <td>0-1</td>\n",
       "    </tr>\n",
       "    <tr>\n",
       "      <th>6</th>\n",
       "      <td>Marc</td>\n",
       "      <td>2-0</td>\n",
       "    </tr>\n",
       "    <tr>\n",
       "      <th>7</th>\n",
       "      <td>Peter Popular</td>\n",
       "      <td>0-3</td>\n",
       "    </tr>\n",
       "    <tr>\n",
       "      <th>8</th>\n",
       "      <td>Rando Randal</td>\n",
       "      <td>1-0</td>\n",
       "    </tr>\n",
       "    <tr>\n",
       "      <th>9</th>\n",
       "      <td>Tom</td>\n",
       "      <td>0-0</td>\n",
       "    </tr>\n",
       "  </tbody>\n",
       "</table>\n",
       "</div>"
      ],
      "text/plain": [
       "            name predicted_score\n",
       "0          Corfe             0-2\n",
       "1             Ed             1-2\n",
       "2            Jay             2-0\n",
       "3          Jonny             2-1\n",
       "4          Larry             0-2\n",
       "5           Luke             0-1\n",
       "6           Marc             2-0\n",
       "7  Peter Popular             0-3\n",
       "8   Rando Randal             1-0\n",
       "9            Tom             0-0"
      ]
     },
     "execution_count": 95,
     "metadata": {},
     "output_type": "execute_result"
    }
   ],
   "source": [
    "# most predicted score\n",
    "mode_predicted_scores = df_merged.groupby('name')['predicted_score'].agg(lambda x: x.mode().iloc[0]).reset_index()\n",
    "mode_predicted_scores"
   ]
  },
  {
   "cell_type": "code",
   "execution_count": 96,
   "id": "b4ecaa59-ef4d-4430-a06e-39c0b5893c08",
   "metadata": {
    "tags": []
   },
   "outputs": [
    {
     "data": {
      "text/html": [
       "<div>\n",
       "<style scoped>\n",
       "    .dataframe tbody tr th:only-of-type {\n",
       "        vertical-align: middle;\n",
       "    }\n",
       "\n",
       "    .dataframe tbody tr th {\n",
       "        vertical-align: top;\n",
       "    }\n",
       "\n",
       "    .dataframe thead th {\n",
       "        text-align: right;\n",
       "    }\n",
       "</style>\n",
       "<table border=\"1\" class=\"dataframe\">\n",
       "  <thead>\n",
       "    <tr style=\"text-align: right;\">\n",
       "      <th></th>\n",
       "      <th>name</th>\n",
       "      <th>predicted_score</th>\n",
       "    </tr>\n",
       "  </thead>\n",
       "  <tbody>\n",
       "    <tr>\n",
       "      <th>0</th>\n",
       "      <td>Corfe</td>\n",
       "      <td>0-2</td>\n",
       "    </tr>\n",
       "    <tr>\n",
       "      <th>1</th>\n",
       "      <td>Ed</td>\n",
       "      <td>1-2</td>\n",
       "    </tr>\n",
       "    <tr>\n",
       "      <th>2</th>\n",
       "      <td>Jay</td>\n",
       "      <td>2-0</td>\n",
       "    </tr>\n",
       "    <tr>\n",
       "      <th>3</th>\n",
       "      <td>Jonny</td>\n",
       "      <td>2-1</td>\n",
       "    </tr>\n",
       "    <tr>\n",
       "      <th>4</th>\n",
       "      <td>Larry</td>\n",
       "      <td>2-0</td>\n",
       "    </tr>\n",
       "    <tr>\n",
       "      <th>5</th>\n",
       "      <td>Luke</td>\n",
       "      <td>1-0</td>\n",
       "    </tr>\n",
       "    <tr>\n",
       "      <th>6</th>\n",
       "      <td>Marc</td>\n",
       "      <td>2-0</td>\n",
       "    </tr>\n",
       "    <tr>\n",
       "      <th>7</th>\n",
       "      <td>Peter Popular</td>\n",
       "      <td>0-3</td>\n",
       "    </tr>\n",
       "    <tr>\n",
       "      <th>8</th>\n",
       "      <td>Rando Randal</td>\n",
       "      <td>1-0</td>\n",
       "    </tr>\n",
       "    <tr>\n",
       "      <th>9</th>\n",
       "      <td>Tom</td>\n",
       "      <td>0-2</td>\n",
       "    </tr>\n",
       "  </tbody>\n",
       "</table>\n",
       "</div>"
      ],
      "text/plain": [
       "            name predicted_score\n",
       "0          Corfe             0-2\n",
       "1             Ed             1-2\n",
       "2            Jay             2-0\n",
       "3          Jonny             2-1\n",
       "4          Larry             2-0\n",
       "5           Luke             1-0\n",
       "6           Marc             2-0\n",
       "7  Peter Popular             0-3\n",
       "8   Rando Randal             1-0\n",
       "9            Tom             0-2"
      ]
     },
     "execution_count": 96,
     "metadata": {},
     "output_type": "execute_result"
    }
   ],
   "source": [
    "# most predicted, successful score\n",
    "correct_predictions_df = df_merged[df_merged['predicted_outcome'] == df_merged['actual_outcome']]\n",
    "mode_correct_predicted_scores = correct_predictions_df.groupby('name')['predicted_score'].agg(lambda x: x.mode().iloc[0]).reset_index()\n",
    "mode_correct_predicted_scores"
   ]
  },
  {
   "cell_type": "code",
   "execution_count": 97,
   "id": "85a6550e-dfe3-42f8-8cad-f8c4385cbb91",
   "metadata": {
    "tags": []
   },
   "outputs": [
    {
     "data": {
      "application/vnd.plotly.v1+json": {
       "config": {
        "plotlyServerURL": "https://plot.ly"
       },
       "data": [
        {
         "hovertemplate": "<b>%{text}</b><br>Match: %{x}<br>Cumulative Points: %{y}<extra></extra>",
         "mode": "lines+markers",
         "name": "Corfe",
         "text": [
          "Player: Corfe<br> vs <br>Matchday Points: 0<br>Predicted Score: <br>Actual Score: ",
          "Player: Corfe<br>Germany vs Scotland<br>Matchday Points: 2<br>Predicted Score: 2-0<br>Actual Score: 5-1",
          "Player: Corfe<br>Spain vs Croatia<br>Matchday Points: 1<br>Predicted Score: 2-1<br>Actual Score: 3-0",
          "Player: Corfe<br>Serbia vs England<br>Matchday Points: 1<br>Predicted Score: 0-2<br>Actual Score: 0-1",
          "Player: Corfe<br>Austria vs France<br>Matchday Points: 1<br>Predicted Score: 1-3<br>Actual Score: 0-1",
          "Player: Corfe<br>Portugal vs Czech Republic<br>Matchday Points: 1<br>Predicted Score: 3-0<br>Actual Score: 2-1",
          "Player: Corfe<br>Scotland vs Switzerland<br>Matchday Points: 0<br>Predicted Score: 0-1<br>Actual Score: 1-1",
          "Player: Corfe<br>Spain vs Italy<br>Matchday Points: 0<br>Predicted Score: 1-1<br>Actual Score: 1-0",
          "Player: Corfe<br>Denmark vs England<br>Matchday Points: 0<br>Predicted Score: 0-2<br>Actual Score: 1-1"
         ],
         "type": "scatter",
         "x": [
          "M00",
          "M01",
          "M03",
          "M05",
          "M08",
          "M12",
          "M13",
          "M16",
          "M17"
         ],
         "y": [
          0,
          2,
          3,
          4,
          5,
          6,
          6,
          6,
          6
         ]
        },
        {
         "hovertemplate": "<b>%{text}</b><br>Match: %{x}<br>Cumulative Points: %{y}<extra></extra>",
         "mode": "lines+markers",
         "name": "Ed",
         "text": [
          "Player: Ed<br> vs <br>Matchday Points: 0<br>Predicted Score: <br>Actual Score: ",
          "Player: Ed<br>Germany vs Scotland<br>Matchday Points: 1<br>Predicted Score: 3-1<br>Actual Score: 5-1",
          "Player: Ed<br>Spain vs Croatia<br>Matchday Points: 0<br>Predicted Score: 1-1<br>Actual Score: 3-0",
          "Player: Ed<br>Serbia vs England<br>Matchday Points: 2<br>Predicted Score: 1-2<br>Actual Score: 0-1",
          "Player: Ed<br>Austria vs France<br>Matchday Points: 1<br>Predicted Score: 1-4<br>Actual Score: 0-1",
          "Player: Ed<br>Portugal vs Czech Republic<br>Matchday Points: 1<br>Predicted Score: 2-0<br>Actual Score: 2-1",
          "Player: Ed<br>Scotland vs Switzerland<br>Matchday Points: 0<br>Predicted Score: 1-2<br>Actual Score: 1-1",
          "Player: Ed<br>Spain vs Italy<br>Matchday Points: 0<br>Predicted Score: 1-1<br>Actual Score: 1-0",
          "Player: Ed<br>Denmark vs England<br>Matchday Points: 0<br>Predicted Score: 1-2<br>Actual Score: 1-1"
         ],
         "type": "scatter",
         "x": [
          "M00",
          "M01",
          "M03",
          "M05",
          "M08",
          "M12",
          "M13",
          "M16",
          "M17"
         ],
         "y": [
          0,
          1,
          1,
          3,
          4,
          5,
          5,
          5,
          5
         ]
        },
        {
         "hovertemplate": "<b>%{text}</b><br>Match: %{x}<br>Cumulative Points: %{y}<extra></extra>",
         "mode": "lines+markers",
         "name": "Jay",
         "text": [
          "Player: Jay<br> vs <br>Matchday Points: 0<br>Predicted Score: <br>Actual Score: ",
          "Player: Jay<br>Germany vs Scotland<br>Matchday Points: 1<br>Predicted Score: 2-0<br>Actual Score: 5-1",
          "Player: Jay<br>Spain vs Croatia<br>Matchday Points: 0<br>Predicted Score: 1-1<br>Actual Score: 3-0",
          "Player: Jay<br>Serbia vs England<br>Matchday Points: 3<br>Predicted Score: 0-1<br>Actual Score: 0-1",
          "Player: Jay<br>Austria vs France<br>Matchday Points: 1<br>Predicted Score: 1-3<br>Actual Score: 0-1",
          "Player: Jay<br>Portugal vs Czech Republic<br>Matchday Points: 2<br>Predicted Score: 2-0<br>Actual Score: 2-1",
          "Player: Jay<br>Scotland vs Switzerland<br>Matchday Points: 0<br>Predicted Score: 0-3<br>Actual Score: 1-1",
          "Player: Jay<br>Spain vs Italy<br>Matchday Points: 1<br>Predicted Score: 2-1<br>Actual Score: 1-0",
          "Player: Jay<br>Denmark vs England<br>Matchday Points: 1<br>Predicted Score: 0-0<br>Actual Score: 1-1"
         ],
         "type": "scatter",
         "x": [
          "M00",
          "M01",
          "M03",
          "M05",
          "M08",
          "M12",
          "M13",
          "M16",
          "M17"
         ],
         "y": [
          0,
          1,
          1,
          4,
          5,
          7,
          7,
          8,
          9
         ]
        },
        {
         "hovertemplate": "<b>%{text}</b><br>Match: %{x}<br>Cumulative Points: %{y}<extra></extra>",
         "mode": "lines+markers",
         "name": "Jonny",
         "text": [
          "Player: Jonny<br> vs <br>Matchday Points: 0<br>Predicted Score: <br>Actual Score: ",
          "Player: Jonny<br>Germany vs Scotland<br>Matchday Points: 2<br>Predicted Score: 3-0<br>Actual Score: 5-1",
          "Player: Jonny<br>Spain vs Croatia<br>Matchday Points: 1<br>Predicted Score: 2-1<br>Actual Score: 3-0",
          "Player: Jonny<br>Serbia vs England<br>Matchday Points: 1<br>Predicted Score: 0-2<br>Actual Score: 0-1",
          "Player: Jonny<br>Austria vs France<br>Matchday Points: 1<br>Predicted Score: 0-3<br>Actual Score: 0-1",
          "Player: Jonny<br>Portugal vs Czech Republic<br>Matchday Points: 3<br>Predicted Score: 2-1<br>Actual Score: 2-1",
          "Player: Jonny<br>Scotland vs Switzerland<br>Matchday Points: 0<br>Predicted Score: 1-3<br>Actual Score: 1-1",
          "Player: Jonny<br>Spain vs Italy<br>Matchday Points: 1<br>Predicted Score: 2-1<br>Actual Score: 1-0",
          "Player: Jonny<br>Denmark vs England<br>Matchday Points: 0<br>Predicted Score: 1-3<br>Actual Score: 1-1"
         ],
         "type": "scatter",
         "x": [
          "M00",
          "M01",
          "M03",
          "M05",
          "M08",
          "M12",
          "M13",
          "M16",
          "M17"
         ],
         "y": [
          0,
          2,
          3,
          4,
          5,
          8,
          8,
          9,
          9
         ]
        },
        {
         "hovertemplate": "<b>%{text}</b><br>Match: %{x}<br>Cumulative Points: %{y}<extra></extra>",
         "mode": "lines+markers",
         "name": "Larry",
         "text": [
          "Player: Larry<br> vs <br>Matchday Points: 0<br>Predicted Score: <br>Actual Score: ",
          "Player: Larry<br>Germany vs Scotland<br>Matchday Points: 2<br>Predicted Score: 2-0<br>Actual Score: 5-1",
          "Player: Larry<br>Spain vs Croatia<br>Matchday Points: 1<br>Predicted Score: 2-0<br>Actual Score: 3-0",
          "Player: Larry<br>Serbia vs England<br>Matchday Points: 1<br>Predicted Score: 0-2<br>Actual Score: 0-1",
          "Player: Larry<br>Austria vs France<br>Matchday Points: 1<br>Predicted Score: 0-2<br>Actual Score: 0-1",
          "Player: Larry<br>Portugal vs Czech Republic<br>Matchday Points: 3<br>Predicted Score: 2-1<br>Actual Score: 2-1",
          "Player: Larry<br>Scotland vs Switzerland<br>Matchday Points: 0<br>Predicted Score: 0-3<br>Actual Score: 1-1",
          "Player: Larry<br>Spain vs Italy<br>Matchday Points: 1<br>Predicted Score: 2-0<br>Actual Score: 1-0",
          "Player: Larry<br>Denmark vs England<br>Matchday Points: 0<br>Predicted Score: 0-2<br>Actual Score: 1-1"
         ],
         "type": "scatter",
         "x": [
          "M00",
          "M01",
          "M03",
          "M05",
          "M08",
          "M12",
          "M13",
          "M16",
          "M17"
         ],
         "y": [
          0,
          2,
          3,
          4,
          5,
          8,
          8,
          9,
          9
         ]
        },
        {
         "hovertemplate": "<b>%{text}</b><br>Match: %{x}<br>Cumulative Points: %{y}<extra></extra>",
         "mode": "lines+markers",
         "name": "Luke",
         "text": [
          "Player: Luke<br> vs <br>Matchday Points: 0<br>Predicted Score: <br>Actual Score: ",
          "Player: Luke<br>Germany vs Scotland<br>Matchday Points: 2<br>Predicted Score: 2-0<br>Actual Score: 5-1",
          "Player: Luke<br>Spain vs Croatia<br>Matchday Points: 1<br>Predicted Score: 1-0<br>Actual Score: 3-0",
          "Player: Luke<br>Serbia vs England<br>Matchday Points: 3<br>Predicted Score: 0-1<br>Actual Score: 0-1",
          "Player: Luke<br>Austria vs France<br>Matchday Points: 1<br>Predicted Score: 0-2<br>Actual Score: 0-1",
          "Player: Luke<br>Portugal vs Czech Republic<br>Matchday Points: 1<br>Predicted Score: 1-0<br>Actual Score: 2-1",
          "Player: Luke<br>Scotland vs Switzerland<br>Matchday Points: 0<br>Predicted Score: 0-1<br>Actual Score: 1-1",
          "Player: Luke<br>Spain vs Italy<br>Matchday Points: 0<br>Predicted Score: 1-1<br>Actual Score: 1-0",
          "Player: Luke<br>Denmark vs England<br>Matchday Points: 0<br>Predicted Score: 0-1<br>Actual Score: 1-1"
         ],
         "type": "scatter",
         "x": [
          "M00",
          "M01",
          "M03",
          "M05",
          "M08",
          "M12",
          "M13",
          "M16",
          "M17"
         ],
         "y": [
          0,
          2,
          3,
          6,
          7,
          8,
          8,
          8,
          8
         ]
        },
        {
         "hovertemplate": "<b>%{text}</b><br>Match: %{x}<br>Cumulative Points: %{y}<extra></extra>",
         "mode": "lines+markers",
         "name": "Marc",
         "text": [
          "Player: Marc<br> vs <br>Matchday Points: 0<br>Predicted Score: <br>Actual Score: ",
          "Player: Marc<br>Germany vs Scotland<br>Matchday Points: 2<br>Predicted Score: 3-1<br>Actual Score: 5-1",
          "Player: Marc<br>Spain vs Croatia<br>Matchday Points: 1<br>Predicted Score: 2-0<br>Actual Score: 3-0",
          "Player: Marc<br>Serbia vs England<br>Matchday Points: 1<br>Predicted Score: 1-4<br>Actual Score: 0-1",
          "Player: Marc<br>Austria vs France<br>Matchday Points: 1<br>Predicted Score: 0-3<br>Actual Score: 0-1",
          "Player: Marc<br>Portugal vs Czech Republic<br>Matchday Points: 0<br>Predicted Score: 1-1<br>Actual Score: 2-1",
          "Player: Marc<br>Scotland vs Switzerland<br>Matchday Points: 0<br>Predicted Score: 2-1<br>Actual Score: 1-1",
          "Player: Marc<br>Spain vs Italy<br>Matchday Points: 1<br>Predicted Score: 2-0<br>Actual Score: 1-0",
          "Player: Marc<br>Denmark vs England<br>Matchday Points: 0<br>Predicted Score: 1-3<br>Actual Score: 1-1"
         ],
         "type": "scatter",
         "x": [
          "M00",
          "M01",
          "M03",
          "M05",
          "M08",
          "M12",
          "M13",
          "M16",
          "M17"
         ],
         "y": [
          0,
          2,
          3,
          4,
          5,
          5,
          5,
          6,
          6
         ]
        },
        {
         "hovertemplate": "<b>%{text}</b><br>Match: %{x}<br>Cumulative Points: %{y}<extra></extra>",
         "mode": "lines+markers",
         "name": "Peter Popular",
         "text": [
          "Player: Peter Popular<br> vs <br>Matchday Points: 0<br>Predicted Score: <br>Actual Score: ",
          "Player: Peter Popular<br>Germany vs Scotland<br>Matchday Points: 2<br>Predicted Score: 2-0<br>Actual Score: 5-1",
          "Player: Peter Popular<br>Spain vs Croatia<br>Matchday Points: 1<br>Predicted Score: 2-1<br>Actual Score: 3-0",
          "Player: Peter Popular<br>Serbia vs England<br>Matchday Points: 1<br>Predicted Score: 0-3<br>Actual Score: 0-1",
          "Player: Peter Popular<br>Austria vs France<br>Matchday Points: 1<br>Predicted Score: 0-3<br>Actual Score: 0-1",
          "Player: Peter Popular<br>Portugal vs Czech Republic<br>Matchday Points: 1<br>Predicted Score: 2-0<br>Actual Score: 2-1",
          "Player: Peter Popular<br>Scotland vs Switzerland<br>Matchday Points: 0<br>Predicted Score: 1-2<br>Actual Score: 1-1",
          "Player: Peter Popular<br>Spain vs Italy<br>Matchday Points: 1<br>Predicted Score: 2-1<br>Actual Score: 1-0",
          "Player: Peter Popular<br>Denmark vs England<br>Matchday Points: 0<br>Predicted Score: 1-2<br>Actual Score: 1-1"
         ],
         "type": "scatter",
         "x": [
          "M00",
          "M01",
          "M03",
          "M05",
          "M08",
          "M12",
          "M13",
          "M16",
          "M17"
         ],
         "y": [
          0,
          2,
          3,
          4,
          5,
          6,
          6,
          7,
          7
         ]
        },
        {
         "hovertemplate": "<b>%{text}</b><br>Match: %{x}<br>Cumulative Points: %{y}<extra></extra>",
         "mode": "lines+markers",
         "name": "Rando Randal",
         "text": [
          "Player: Rando Randal<br> vs <br>Matchday Points: 0<br>Predicted Score: <br>Actual Score: ",
          "Player: Rando Randal<br>Germany vs Scotland<br>Matchday Points: 1<br>Predicted Score: 1-0<br>Actual Score: 5-1",
          "Player: Rando Randal<br>Spain vs Croatia<br>Matchday Points: 0<br>Predicted Score: 1-1<br>Actual Score: 3-0",
          "Player: Rando Randal<br>Serbia vs England<br>Matchday Points: 2<br>Predicted Score: 2-4<br>Actual Score: 0-1",
          "Player: Rando Randal<br>Austria vs France<br>Matchday Points: 0<br>Predicted Score: 3-2<br>Actual Score: 0-1",
          "Player: Rando Randal<br>Portugal vs Czech Republic<br>Matchday Points: 1<br>Predicted Score: 5-3<br>Actual Score: 2-1",
          "Player: Rando Randal<br>Scotland vs Switzerland<br>Matchday Points: 0<br>Predicted Score: 4-1<br>Actual Score: 1-1",
          "Player: Rando Randal<br>Spain vs Italy<br>Matchday Points: 0<br>Predicted Score: 3-5<br>Actual Score: 1-0",
          "Player: Rando Randal<br>Denmark vs England<br>Matchday Points: 0<br>Predicted Score: 2-5<br>Actual Score: 1-1"
         ],
         "type": "scatter",
         "x": [
          "M00",
          "M01",
          "M03",
          "M05",
          "M08",
          "M12",
          "M13",
          "M16",
          "M17"
         ],
         "y": [
          0,
          1,
          1,
          3,
          3,
          4,
          4,
          4,
          4
         ]
        },
        {
         "hovertemplate": "<b>%{text}</b><br>Match: %{x}<br>Cumulative Points: %{y}<extra></extra>",
         "mode": "lines+markers",
         "name": "Tom",
         "text": [
          "Player: Tom<br> vs <br>Matchday Points: 0<br>Predicted Score: <br>Actual Score: ",
          "Player: Tom<br>Germany vs Scotland<br>Matchday Points: 1<br>Predicted Score: 2-0<br>Actual Score: 5-1",
          "Player: Tom<br>Spain vs Croatia<br>Matchday Points: 0<br>Predicted Score: 0-0<br>Actual Score: 3-0",
          "Player: Tom<br>Serbia vs England<br>Matchday Points: 2<br>Predicted Score: 0-2<br>Actual Score: 0-1",
          "Player: Tom<br>Austria vs France<br>Matchday Points: 1<br>Predicted Score: 1-2<br>Actual Score: 0-1",
          "Player: Tom<br>Portugal vs Czech Republic<br>Matchday Points: 1<br>Predicted Score: 3-1<br>Actual Score: 2-1",
          "Player: Tom<br>Scotland vs Switzerland<br>Matchday Points: 0<br>Predicted Score: 1-3<br>Actual Score: 1-1",
          "Player: Tom<br>Spain vs Italy<br>Matchday Points: 1<br>Predicted Score: 2-1<br>Actual Score: 1-0",
          "Player: Tom<br>Denmark vs England<br>Matchday Points: 0<br>Predicted Score: 0-1<br>Actual Score: 1-1"
         ],
         "type": "scatter",
         "x": [
          "M00",
          "M01",
          "M03",
          "M05",
          "M08",
          "M12",
          "M13",
          "M16",
          "M17"
         ],
         "y": [
          0,
          1,
          1,
          3,
          4,
          5,
          5,
          6,
          6
         ]
        }
       ],
       "layout": {
        "legend": {
         "orientation": "h"
        },
        "template": {
         "data": {
          "bar": [
           {
            "error_x": {
             "color": "#2a3f5f"
            },
            "error_y": {
             "color": "#2a3f5f"
            },
            "marker": {
             "line": {
              "color": "#E5ECF6",
              "width": 0.5
             },
             "pattern": {
              "fillmode": "overlay",
              "size": 10,
              "solidity": 0.2
             }
            },
            "type": "bar"
           }
          ],
          "barpolar": [
           {
            "marker": {
             "line": {
              "color": "#E5ECF6",
              "width": 0.5
             },
             "pattern": {
              "fillmode": "overlay",
              "size": 10,
              "solidity": 0.2
             }
            },
            "type": "barpolar"
           }
          ],
          "carpet": [
           {
            "aaxis": {
             "endlinecolor": "#2a3f5f",
             "gridcolor": "white",
             "linecolor": "white",
             "minorgridcolor": "white",
             "startlinecolor": "#2a3f5f"
            },
            "baxis": {
             "endlinecolor": "#2a3f5f",
             "gridcolor": "white",
             "linecolor": "white",
             "minorgridcolor": "white",
             "startlinecolor": "#2a3f5f"
            },
            "type": "carpet"
           }
          ],
          "choropleth": [
           {
            "colorbar": {
             "outlinewidth": 0,
             "ticks": ""
            },
            "type": "choropleth"
           }
          ],
          "contour": [
           {
            "colorbar": {
             "outlinewidth": 0,
             "ticks": ""
            },
            "colorscale": [
             [
              0,
              "#0d0887"
             ],
             [
              0.1111111111111111,
              "#46039f"
             ],
             [
              0.2222222222222222,
              "#7201a8"
             ],
             [
              0.3333333333333333,
              "#9c179e"
             ],
             [
              0.4444444444444444,
              "#bd3786"
             ],
             [
              0.5555555555555556,
              "#d8576b"
             ],
             [
              0.6666666666666666,
              "#ed7953"
             ],
             [
              0.7777777777777778,
              "#fb9f3a"
             ],
             [
              0.8888888888888888,
              "#fdca26"
             ],
             [
              1,
              "#f0f921"
             ]
            ],
            "type": "contour"
           }
          ],
          "contourcarpet": [
           {
            "colorbar": {
             "outlinewidth": 0,
             "ticks": ""
            },
            "type": "contourcarpet"
           }
          ],
          "heatmap": [
           {
            "colorbar": {
             "outlinewidth": 0,
             "ticks": ""
            },
            "colorscale": [
             [
              0,
              "#0d0887"
             ],
             [
              0.1111111111111111,
              "#46039f"
             ],
             [
              0.2222222222222222,
              "#7201a8"
             ],
             [
              0.3333333333333333,
              "#9c179e"
             ],
             [
              0.4444444444444444,
              "#bd3786"
             ],
             [
              0.5555555555555556,
              "#d8576b"
             ],
             [
              0.6666666666666666,
              "#ed7953"
             ],
             [
              0.7777777777777778,
              "#fb9f3a"
             ],
             [
              0.8888888888888888,
              "#fdca26"
             ],
             [
              1,
              "#f0f921"
             ]
            ],
            "type": "heatmap"
           }
          ],
          "heatmapgl": [
           {
            "colorbar": {
             "outlinewidth": 0,
             "ticks": ""
            },
            "colorscale": [
             [
              0,
              "#0d0887"
             ],
             [
              0.1111111111111111,
              "#46039f"
             ],
             [
              0.2222222222222222,
              "#7201a8"
             ],
             [
              0.3333333333333333,
              "#9c179e"
             ],
             [
              0.4444444444444444,
              "#bd3786"
             ],
             [
              0.5555555555555556,
              "#d8576b"
             ],
             [
              0.6666666666666666,
              "#ed7953"
             ],
             [
              0.7777777777777778,
              "#fb9f3a"
             ],
             [
              0.8888888888888888,
              "#fdca26"
             ],
             [
              1,
              "#f0f921"
             ]
            ],
            "type": "heatmapgl"
           }
          ],
          "histogram": [
           {
            "marker": {
             "pattern": {
              "fillmode": "overlay",
              "size": 10,
              "solidity": 0.2
             }
            },
            "type": "histogram"
           }
          ],
          "histogram2d": [
           {
            "colorbar": {
             "outlinewidth": 0,
             "ticks": ""
            },
            "colorscale": [
             [
              0,
              "#0d0887"
             ],
             [
              0.1111111111111111,
              "#46039f"
             ],
             [
              0.2222222222222222,
              "#7201a8"
             ],
             [
              0.3333333333333333,
              "#9c179e"
             ],
             [
              0.4444444444444444,
              "#bd3786"
             ],
             [
              0.5555555555555556,
              "#d8576b"
             ],
             [
              0.6666666666666666,
              "#ed7953"
             ],
             [
              0.7777777777777778,
              "#fb9f3a"
             ],
             [
              0.8888888888888888,
              "#fdca26"
             ],
             [
              1,
              "#f0f921"
             ]
            ],
            "type": "histogram2d"
           }
          ],
          "histogram2dcontour": [
           {
            "colorbar": {
             "outlinewidth": 0,
             "ticks": ""
            },
            "colorscale": [
             [
              0,
              "#0d0887"
             ],
             [
              0.1111111111111111,
              "#46039f"
             ],
             [
              0.2222222222222222,
              "#7201a8"
             ],
             [
              0.3333333333333333,
              "#9c179e"
             ],
             [
              0.4444444444444444,
              "#bd3786"
             ],
             [
              0.5555555555555556,
              "#d8576b"
             ],
             [
              0.6666666666666666,
              "#ed7953"
             ],
             [
              0.7777777777777778,
              "#fb9f3a"
             ],
             [
              0.8888888888888888,
              "#fdca26"
             ],
             [
              1,
              "#f0f921"
             ]
            ],
            "type": "histogram2dcontour"
           }
          ],
          "mesh3d": [
           {
            "colorbar": {
             "outlinewidth": 0,
             "ticks": ""
            },
            "type": "mesh3d"
           }
          ],
          "parcoords": [
           {
            "line": {
             "colorbar": {
              "outlinewidth": 0,
              "ticks": ""
             }
            },
            "type": "parcoords"
           }
          ],
          "pie": [
           {
            "automargin": true,
            "type": "pie"
           }
          ],
          "scatter": [
           {
            "fillpattern": {
             "fillmode": "overlay",
             "size": 10,
             "solidity": 0.2
            },
            "type": "scatter"
           }
          ],
          "scatter3d": [
           {
            "line": {
             "colorbar": {
              "outlinewidth": 0,
              "ticks": ""
             }
            },
            "marker": {
             "colorbar": {
              "outlinewidth": 0,
              "ticks": ""
             }
            },
            "type": "scatter3d"
           }
          ],
          "scattercarpet": [
           {
            "marker": {
             "colorbar": {
              "outlinewidth": 0,
              "ticks": ""
             }
            },
            "type": "scattercarpet"
           }
          ],
          "scattergeo": [
           {
            "marker": {
             "colorbar": {
              "outlinewidth": 0,
              "ticks": ""
             }
            },
            "type": "scattergeo"
           }
          ],
          "scattergl": [
           {
            "marker": {
             "colorbar": {
              "outlinewidth": 0,
              "ticks": ""
             }
            },
            "type": "scattergl"
           }
          ],
          "scattermapbox": [
           {
            "marker": {
             "colorbar": {
              "outlinewidth": 0,
              "ticks": ""
             }
            },
            "type": "scattermapbox"
           }
          ],
          "scatterpolar": [
           {
            "marker": {
             "colorbar": {
              "outlinewidth": 0,
              "ticks": ""
             }
            },
            "type": "scatterpolar"
           }
          ],
          "scatterpolargl": [
           {
            "marker": {
             "colorbar": {
              "outlinewidth": 0,
              "ticks": ""
             }
            },
            "type": "scatterpolargl"
           }
          ],
          "scatterternary": [
           {
            "marker": {
             "colorbar": {
              "outlinewidth": 0,
              "ticks": ""
             }
            },
            "type": "scatterternary"
           }
          ],
          "surface": [
           {
            "colorbar": {
             "outlinewidth": 0,
             "ticks": ""
            },
            "colorscale": [
             [
              0,
              "#0d0887"
             ],
             [
              0.1111111111111111,
              "#46039f"
             ],
             [
              0.2222222222222222,
              "#7201a8"
             ],
             [
              0.3333333333333333,
              "#9c179e"
             ],
             [
              0.4444444444444444,
              "#bd3786"
             ],
             [
              0.5555555555555556,
              "#d8576b"
             ],
             [
              0.6666666666666666,
              "#ed7953"
             ],
             [
              0.7777777777777778,
              "#fb9f3a"
             ],
             [
              0.8888888888888888,
              "#fdca26"
             ],
             [
              1,
              "#f0f921"
             ]
            ],
            "type": "surface"
           }
          ],
          "table": [
           {
            "cells": {
             "fill": {
              "color": "#EBF0F8"
             },
             "line": {
              "color": "white"
             }
            },
            "header": {
             "fill": {
              "color": "#C8D4E3"
             },
             "line": {
              "color": "white"
             }
            },
            "type": "table"
           }
          ]
         },
         "layout": {
          "annotationdefaults": {
           "arrowcolor": "#2a3f5f",
           "arrowhead": 0,
           "arrowwidth": 1
          },
          "autotypenumbers": "strict",
          "coloraxis": {
           "colorbar": {
            "outlinewidth": 0,
            "ticks": ""
           }
          },
          "colorscale": {
           "diverging": [
            [
             0,
             "#8e0152"
            ],
            [
             0.1,
             "#c51b7d"
            ],
            [
             0.2,
             "#de77ae"
            ],
            [
             0.3,
             "#f1b6da"
            ],
            [
             0.4,
             "#fde0ef"
            ],
            [
             0.5,
             "#f7f7f7"
            ],
            [
             0.6,
             "#e6f5d0"
            ],
            [
             0.7,
             "#b8e186"
            ],
            [
             0.8,
             "#7fbc41"
            ],
            [
             0.9,
             "#4d9221"
            ],
            [
             1,
             "#276419"
            ]
           ],
           "sequential": [
            [
             0,
             "#0d0887"
            ],
            [
             0.1111111111111111,
             "#46039f"
            ],
            [
             0.2222222222222222,
             "#7201a8"
            ],
            [
             0.3333333333333333,
             "#9c179e"
            ],
            [
             0.4444444444444444,
             "#bd3786"
            ],
            [
             0.5555555555555556,
             "#d8576b"
            ],
            [
             0.6666666666666666,
             "#ed7953"
            ],
            [
             0.7777777777777778,
             "#fb9f3a"
            ],
            [
             0.8888888888888888,
             "#fdca26"
            ],
            [
             1,
             "#f0f921"
            ]
           ],
           "sequentialminus": [
            [
             0,
             "#0d0887"
            ],
            [
             0.1111111111111111,
             "#46039f"
            ],
            [
             0.2222222222222222,
             "#7201a8"
            ],
            [
             0.3333333333333333,
             "#9c179e"
            ],
            [
             0.4444444444444444,
             "#bd3786"
            ],
            [
             0.5555555555555556,
             "#d8576b"
            ],
            [
             0.6666666666666666,
             "#ed7953"
            ],
            [
             0.7777777777777778,
             "#fb9f3a"
            ],
            [
             0.8888888888888888,
             "#fdca26"
            ],
            [
             1,
             "#f0f921"
            ]
           ]
          },
          "colorway": [
           "#636efa",
           "#EF553B",
           "#00cc96",
           "#ab63fa",
           "#FFA15A",
           "#19d3f3",
           "#FF6692",
           "#B6E880",
           "#FF97FF",
           "#FECB52"
          ],
          "font": {
           "color": "#2a3f5f"
          },
          "geo": {
           "bgcolor": "white",
           "lakecolor": "white",
           "landcolor": "#E5ECF6",
           "showlakes": true,
           "showland": true,
           "subunitcolor": "white"
          },
          "hoverlabel": {
           "align": "left"
          },
          "hovermode": "closest",
          "mapbox": {
           "style": "light"
          },
          "paper_bgcolor": "white",
          "plot_bgcolor": "#E5ECF6",
          "polar": {
           "angularaxis": {
            "gridcolor": "white",
            "linecolor": "white",
            "ticks": ""
           },
           "bgcolor": "#E5ECF6",
           "radialaxis": {
            "gridcolor": "white",
            "linecolor": "white",
            "ticks": ""
           }
          },
          "scene": {
           "xaxis": {
            "backgroundcolor": "#E5ECF6",
            "gridcolor": "white",
            "gridwidth": 2,
            "linecolor": "white",
            "showbackground": true,
            "ticks": "",
            "zerolinecolor": "white"
           },
           "yaxis": {
            "backgroundcolor": "#E5ECF6",
            "gridcolor": "white",
            "gridwidth": 2,
            "linecolor": "white",
            "showbackground": true,
            "ticks": "",
            "zerolinecolor": "white"
           },
           "zaxis": {
            "backgroundcolor": "#E5ECF6",
            "gridcolor": "white",
            "gridwidth": 2,
            "linecolor": "white",
            "showbackground": true,
            "ticks": "",
            "zerolinecolor": "white"
           }
          },
          "shapedefaults": {
           "line": {
            "color": "#2a3f5f"
           }
          },
          "ternary": {
           "aaxis": {
            "gridcolor": "white",
            "linecolor": "white",
            "ticks": ""
           },
           "baxis": {
            "gridcolor": "white",
            "linecolor": "white",
            "ticks": ""
           },
           "bgcolor": "#E5ECF6",
           "caxis": {
            "gridcolor": "white",
            "linecolor": "white",
            "ticks": ""
           }
          },
          "title": {
           "x": 0.05
          },
          "xaxis": {
           "automargin": true,
           "gridcolor": "white",
           "linecolor": "white",
           "ticks": "",
           "title": {
            "standoff": 15
           },
           "zerolinecolor": "white",
           "zerolinewidth": 2
          },
          "yaxis": {
           "automargin": true,
           "gridcolor": "white",
           "linecolor": "white",
           "ticks": "",
           "title": {
            "standoff": 15
           },
           "zerolinecolor": "white",
           "zerolinewidth": 2
          }
         }
        },
        "title": {
         "text": "Cumulative Total Points Over Time"
        },
        "xaxis": {
         "title": {
          "text": " "
         }
        },
        "yaxis": {
         "title": {
          "text": "Cumulative Total Points"
         }
        }
       }
      }
     },
     "metadata": {},
     "output_type": "display_data"
    }
   ],
   "source": [
    "# Create a new dataframe containing necessary columns\n",
    "plot_df = df_merged[['timestamp', 'name', 'match_code', 'home', 'away', 'predicted_score', 'actual_score', 'total_points']].copy()\n",
    "\n",
    "# Get unique match codes from the DataFrame\n",
    "match_codes_unique = df_merged['match_code'].unique()\n",
    "\n",
    "# Sort the match codes\n",
    "match_code_order = sorted(match_codes_unique, key=lambda x: int(x[1:]))\n",
    "\n",
    "# Convert match_code to categorical and set the order\n",
    "plot_df['match_code'] = pd.Categorical(plot_df['match_code'], categories=match_code_order, ordered=True)\n",
    "\n",
    "# Sort the dataframe based on match_code order\n",
    "plot_df = plot_df.sort_values(by='match_code')\n",
    "\n",
    "# Calculate the cumulative sum of total_points\n",
    "plot_df['cumulative_total_points'] = plot_df.groupby('name')['total_points'].cumsum()\n",
    "\n",
    "# Assuming plot_df is your dataframe\n",
    "\n",
    "# Add initial data points for each player\n",
    "initial_points = plot_df[['name']].drop_duplicates()\n",
    "initial_points['match_code'] = 'M00'\n",
    "initial_points['cumulative_total_points'] = 0\n",
    "initial_points['home'] = ''\n",
    "initial_points['away'] = ''\n",
    "initial_points['total_points'] = 0\n",
    "initial_points['predicted_score'] = ''\n",
    "initial_points['actual_score'] = ''\n",
    "\n",
    "# Concatenate the initial points with the original dataframe\n",
    "plot_df = pd.concat([initial_points, plot_df], ignore_index=True).sort_values(by=['name', 'match_code'])\n",
    "\n",
    "# Create traces for each name\n",
    "traces = []\n",
    "for name, group in plot_df.groupby('name'):\n",
    "    trace = go.Scatter(\n",
    "        x=group['match_code'], \n",
    "        y=group['cumulative_total_points'], \n",
    "        mode='lines+markers', \n",
    "        name=name,\n",
    "        text=group.apply(lambda row: f\"Player: {row['name']}<br>{row['home']} vs {row['away']}<br>Matchday Points: {row['total_points']}<br>Predicted Score: {row['predicted_score']}<br>Actual Score: {row['actual_score']}\", axis=1),\n",
    "        hovertemplate='<b>%{text}</b><br>Match: %{x}<br>Cumulative Points: %{y}<extra></extra>'\n",
    "    )\n",
    "    traces.append(trace)\n",
    "\n",
    "# Create the layout\n",
    "layout = go.Layout(\n",
    "    title='Cumulative Total Points Over Time',\n",
    "    xaxis=dict(title=' '),\n",
    "    yaxis=dict(title='Cumulative Total Points'),\n",
    "    legend=dict(orientation='h')\n",
    ")\n",
    "\n",
    "# Create the figure\n",
    "fig = go.Figure(data=traces, layout=layout)\n",
    "\n",
    "# Show the plot\n",
    "fig.show()"
   ]
  },
  {
   "cell_type": "code",
   "execution_count": 98,
   "id": "a81284eb",
   "metadata": {},
   "outputs": [],
   "source": [
    "# Calculate the cumulative total points for each player\n",
    "points_by_name_stage['cumulative_total_points'] = points_by_name_stage.groupby('name')['total_points'].cumsum()\n",
    "\n",
    "# Calculate the cumulative average total points for each matchday\n",
    "cumulative_avg_total_points = points_by_name_stage.groupby('matchday')['cumulative_total_points'].mean().reset_index()\n",
    "cumulative_avg_total_points.rename(columns={'cumulative_total_points': 'cumulative_avg_total_points'}, inplace=True)\n",
    "\n",
    "# Merge the cumulative average total points back to the original DataFrame\n",
    "vs_mean_df = points_by_name_stage.merge(cumulative_avg_total_points, on='matchday')\n",
    "\n",
    "# Calculate the difference between each player's cumulative total points and the cumulative average\n",
    "vs_mean_df['difference'] = vs_mean_df['cumulative_total_points'] - vs_mean_df['cumulative_avg_total_points']\n",
    "\n",
    "# Display the resulting DataFrame\n",
    "vs_mean_df[['name', 'matchday', 'cumulative_total_points', 'cumulative_avg_total_points', 'difference']]\n",
    "\n",
    "# write to csv\n",
    "vs_mean_df.to_csv('data/vs_mean_df.csv')\n",
    "\n"
   ]
  },
  {
   "cell_type": "code",
   "execution_count": 99,
   "id": "3f853a37",
   "metadata": {},
   "outputs": [
    {
     "data": {
      "text/html": [
       "<div>\n",
       "<style scoped>\n",
       "    .dataframe tbody tr th:only-of-type {\n",
       "        vertical-align: middle;\n",
       "    }\n",
       "\n",
       "    .dataframe tbody tr th {\n",
       "        vertical-align: top;\n",
       "    }\n",
       "\n",
       "    .dataframe thead th {\n",
       "        text-align: right;\n",
       "    }\n",
       "</style>\n",
       "<table border=\"1\" class=\"dataframe\">\n",
       "  <thead>\n",
       "    <tr style=\"text-align: right;\">\n",
       "      <th></th>\n",
       "      <th>name</th>\n",
       "      <th>matchday</th>\n",
       "      <th>stage_detail</th>\n",
       "      <th>base_points</th>\n",
       "      <th>total_points</th>\n",
       "      <th>cumulative_total_points</th>\n",
       "      <th>cumulative_avg_total_points</th>\n",
       "      <th>difference</th>\n",
       "    </tr>\n",
       "  </thead>\n",
       "  <tbody>\n",
       "    <tr>\n",
       "      <th>0</th>\n",
       "      <td>Corfe</td>\n",
       "      <td>1</td>\n",
       "      <td>01. Groups - Matchday 1</td>\n",
       "      <td>5</td>\n",
       "      <td>6</td>\n",
       "      <td>6</td>\n",
       "      <td>6.2</td>\n",
       "      <td>-0.2</td>\n",
       "    </tr>\n",
       "    <tr>\n",
       "      <th>1</th>\n",
       "      <td>Corfe</td>\n",
       "      <td>2</td>\n",
       "      <td>02. Groups - Matchday 2</td>\n",
       "      <td>0</td>\n",
       "      <td>0</td>\n",
       "      <td>6</td>\n",
       "      <td>6.9</td>\n",
       "      <td>-0.9</td>\n",
       "    </tr>\n",
       "    <tr>\n",
       "      <th>2</th>\n",
       "      <td>Ed</td>\n",
       "      <td>1</td>\n",
       "      <td>01. Groups - Matchday 1</td>\n",
       "      <td>4</td>\n",
       "      <td>5</td>\n",
       "      <td>5</td>\n",
       "      <td>6.2</td>\n",
       "      <td>-1.2</td>\n",
       "    </tr>\n",
       "    <tr>\n",
       "      <th>3</th>\n",
       "      <td>Ed</td>\n",
       "      <td>2</td>\n",
       "      <td>02. Groups - Matchday 2</td>\n",
       "      <td>0</td>\n",
       "      <td>0</td>\n",
       "      <td>5</td>\n",
       "      <td>6.9</td>\n",
       "      <td>-1.9</td>\n",
       "    </tr>\n",
       "    <tr>\n",
       "      <th>4</th>\n",
       "      <td>Jay</td>\n",
       "      <td>1</td>\n",
       "      <td>01. Groups - Matchday 1</td>\n",
       "      <td>6</td>\n",
       "      <td>7</td>\n",
       "      <td>7</td>\n",
       "      <td>6.2</td>\n",
       "      <td>0.8</td>\n",
       "    </tr>\n",
       "    <tr>\n",
       "      <th>5</th>\n",
       "      <td>Jay</td>\n",
       "      <td>2</td>\n",
       "      <td>02. Groups - Matchday 2</td>\n",
       "      <td>2</td>\n",
       "      <td>2</td>\n",
       "      <td>9</td>\n",
       "      <td>6.9</td>\n",
       "      <td>2.1</td>\n",
       "    </tr>\n",
       "    <tr>\n",
       "      <th>6</th>\n",
       "      <td>Jonny</td>\n",
       "      <td>1</td>\n",
       "      <td>01. Groups - Matchday 1</td>\n",
       "      <td>7</td>\n",
       "      <td>8</td>\n",
       "      <td>8</td>\n",
       "      <td>6.2</td>\n",
       "      <td>1.8</td>\n",
       "    </tr>\n",
       "    <tr>\n",
       "      <th>7</th>\n",
       "      <td>Jonny</td>\n",
       "      <td>2</td>\n",
       "      <td>02. Groups - Matchday 2</td>\n",
       "      <td>1</td>\n",
       "      <td>1</td>\n",
       "      <td>9</td>\n",
       "      <td>6.9</td>\n",
       "      <td>2.1</td>\n",
       "    </tr>\n",
       "    <tr>\n",
       "      <th>8</th>\n",
       "      <td>Larry</td>\n",
       "      <td>1</td>\n",
       "      <td>01. Groups - Matchday 1</td>\n",
       "      <td>7</td>\n",
       "      <td>8</td>\n",
       "      <td>8</td>\n",
       "      <td>6.2</td>\n",
       "      <td>1.8</td>\n",
       "    </tr>\n",
       "    <tr>\n",
       "      <th>9</th>\n",
       "      <td>Larry</td>\n",
       "      <td>2</td>\n",
       "      <td>02. Groups - Matchday 2</td>\n",
       "      <td>1</td>\n",
       "      <td>1</td>\n",
       "      <td>9</td>\n",
       "      <td>6.9</td>\n",
       "      <td>2.1</td>\n",
       "    </tr>\n",
       "    <tr>\n",
       "      <th>10</th>\n",
       "      <td>Luke</td>\n",
       "      <td>1</td>\n",
       "      <td>01. Groups - Matchday 1</td>\n",
       "      <td>7</td>\n",
       "      <td>8</td>\n",
       "      <td>8</td>\n",
       "      <td>6.2</td>\n",
       "      <td>1.8</td>\n",
       "    </tr>\n",
       "    <tr>\n",
       "      <th>11</th>\n",
       "      <td>Luke</td>\n",
       "      <td>2</td>\n",
       "      <td>02. Groups - Matchday 2</td>\n",
       "      <td>0</td>\n",
       "      <td>0</td>\n",
       "      <td>8</td>\n",
       "      <td>6.9</td>\n",
       "      <td>1.1</td>\n",
       "    </tr>\n",
       "    <tr>\n",
       "      <th>12</th>\n",
       "      <td>Marc</td>\n",
       "      <td>1</td>\n",
       "      <td>01. Groups - Matchday 1</td>\n",
       "      <td>4</td>\n",
       "      <td>5</td>\n",
       "      <td>5</td>\n",
       "      <td>6.2</td>\n",
       "      <td>-1.2</td>\n",
       "    </tr>\n",
       "    <tr>\n",
       "      <th>13</th>\n",
       "      <td>Marc</td>\n",
       "      <td>2</td>\n",
       "      <td>02. Groups - Matchday 2</td>\n",
       "      <td>1</td>\n",
       "      <td>1</td>\n",
       "      <td>6</td>\n",
       "      <td>6.9</td>\n",
       "      <td>-0.9</td>\n",
       "    </tr>\n",
       "    <tr>\n",
       "      <th>14</th>\n",
       "      <td>Peter Popular</td>\n",
       "      <td>1</td>\n",
       "      <td>01. Groups - Matchday 1</td>\n",
       "      <td>5</td>\n",
       "      <td>6</td>\n",
       "      <td>6</td>\n",
       "      <td>6.2</td>\n",
       "      <td>-0.2</td>\n",
       "    </tr>\n",
       "    <tr>\n",
       "      <th>15</th>\n",
       "      <td>Peter Popular</td>\n",
       "      <td>2</td>\n",
       "      <td>02. Groups - Matchday 2</td>\n",
       "      <td>1</td>\n",
       "      <td>1</td>\n",
       "      <td>7</td>\n",
       "      <td>6.9</td>\n",
       "      <td>0.1</td>\n",
       "    </tr>\n",
       "    <tr>\n",
       "      <th>16</th>\n",
       "      <td>Rando Randal</td>\n",
       "      <td>1</td>\n",
       "      <td>01. Groups - Matchday 1</td>\n",
       "      <td>3</td>\n",
       "      <td>4</td>\n",
       "      <td>4</td>\n",
       "      <td>6.2</td>\n",
       "      <td>-2.2</td>\n",
       "    </tr>\n",
       "    <tr>\n",
       "      <th>17</th>\n",
       "      <td>Rando Randal</td>\n",
       "      <td>2</td>\n",
       "      <td>02. Groups - Matchday 2</td>\n",
       "      <td>0</td>\n",
       "      <td>0</td>\n",
       "      <td>4</td>\n",
       "      <td>6.9</td>\n",
       "      <td>-2.9</td>\n",
       "    </tr>\n",
       "    <tr>\n",
       "      <th>18</th>\n",
       "      <td>Tom</td>\n",
       "      <td>1</td>\n",
       "      <td>01. Groups - Matchday 1</td>\n",
       "      <td>4</td>\n",
       "      <td>5</td>\n",
       "      <td>5</td>\n",
       "      <td>6.2</td>\n",
       "      <td>-1.2</td>\n",
       "    </tr>\n",
       "    <tr>\n",
       "      <th>19</th>\n",
       "      <td>Tom</td>\n",
       "      <td>2</td>\n",
       "      <td>02. Groups - Matchday 2</td>\n",
       "      <td>1</td>\n",
       "      <td>1</td>\n",
       "      <td>6</td>\n",
       "      <td>6.9</td>\n",
       "      <td>-0.9</td>\n",
       "    </tr>\n",
       "  </tbody>\n",
       "</table>\n",
       "</div>"
      ],
      "text/plain": [
       "             name  matchday             stage_detail  base_points  \\\n",
       "0           Corfe         1  01. Groups - Matchday 1            5   \n",
       "1           Corfe         2  02. Groups - Matchday 2            0   \n",
       "2              Ed         1  01. Groups - Matchday 1            4   \n",
       "3              Ed         2  02. Groups - Matchday 2            0   \n",
       "4             Jay         1  01. Groups - Matchday 1            6   \n",
       "5             Jay         2  02. Groups - Matchday 2            2   \n",
       "6           Jonny         1  01. Groups - Matchday 1            7   \n",
       "7           Jonny         2  02. Groups - Matchday 2            1   \n",
       "8           Larry         1  01. Groups - Matchday 1            7   \n",
       "9           Larry         2  02. Groups - Matchday 2            1   \n",
       "10           Luke         1  01. Groups - Matchday 1            7   \n",
       "11           Luke         2  02. Groups - Matchday 2            0   \n",
       "12           Marc         1  01. Groups - Matchday 1            4   \n",
       "13           Marc         2  02. Groups - Matchday 2            1   \n",
       "14  Peter Popular         1  01. Groups - Matchday 1            5   \n",
       "15  Peter Popular         2  02. Groups - Matchday 2            1   \n",
       "16   Rando Randal         1  01. Groups - Matchday 1            3   \n",
       "17   Rando Randal         2  02. Groups - Matchday 2            0   \n",
       "18            Tom         1  01. Groups - Matchday 1            4   \n",
       "19            Tom         2  02. Groups - Matchday 2            1   \n",
       "\n",
       "    total_points  cumulative_total_points  cumulative_avg_total_points  \\\n",
       "0              6                        6                          6.2   \n",
       "1              0                        6                          6.9   \n",
       "2              5                        5                          6.2   \n",
       "3              0                        5                          6.9   \n",
       "4              7                        7                          6.2   \n",
       "5              2                        9                          6.9   \n",
       "6              8                        8                          6.2   \n",
       "7              1                        9                          6.9   \n",
       "8              8                        8                          6.2   \n",
       "9              1                        9                          6.9   \n",
       "10             8                        8                          6.2   \n",
       "11             0                        8                          6.9   \n",
       "12             5                        5                          6.2   \n",
       "13             1                        6                          6.9   \n",
       "14             6                        6                          6.2   \n",
       "15             1                        7                          6.9   \n",
       "16             4                        4                          6.2   \n",
       "17             0                        4                          6.9   \n",
       "18             5                        5                          6.2   \n",
       "19             1                        6                          6.9   \n",
       "\n",
       "    difference  \n",
       "0         -0.2  \n",
       "1         -0.9  \n",
       "2         -1.2  \n",
       "3         -1.9  \n",
       "4          0.8  \n",
       "5          2.1  \n",
       "6          1.8  \n",
       "7          2.1  \n",
       "8          1.8  \n",
       "9          2.1  \n",
       "10         1.8  \n",
       "11         1.1  \n",
       "12        -1.2  \n",
       "13        -0.9  \n",
       "14        -0.2  \n",
       "15         0.1  \n",
       "16        -2.2  \n",
       "17        -2.9  \n",
       "18        -1.2  \n",
       "19        -0.9  "
      ]
     },
     "execution_count": 99,
     "metadata": {},
     "output_type": "execute_result"
    }
   ],
   "source": [
    "vs_mean_df"
   ]
  },
  {
   "cell_type": "code",
   "execution_count": 100,
   "id": "c010ce21",
   "metadata": {},
   "outputs": [
    {
     "data": {
      "application/vnd.plotly.v1+json": {
       "config": {
        "plotlyServerURL": "https://plot.ly"
       },
       "data": [
        {
         "hovertemplate": "name=Corfe<br>Matchday=%{x}<br>Difference vs Mean=%{y}<extra></extra>",
         "legendgroup": "Corfe",
         "line": {
          "color": "#636efa",
          "dash": "solid"
         },
         "marker": {
          "symbol": "circle"
         },
         "mode": "lines",
         "name": "Corfe",
         "orientation": "v",
         "showlegend": true,
         "type": "scatter",
         "x": [
          1,
          2
         ],
         "xaxis": "x",
         "y": [
          -0.20000000000000018,
          -0.9000000000000004
         ],
         "yaxis": "y"
        },
        {
         "hovertemplate": "name=Ed<br>Matchday=%{x}<br>Difference vs Mean=%{y}<extra></extra>",
         "legendgroup": "Ed",
         "line": {
          "color": "#EF553B",
          "dash": "solid"
         },
         "marker": {
          "symbol": "circle"
         },
         "mode": "lines",
         "name": "Ed",
         "orientation": "v",
         "showlegend": true,
         "type": "scatter",
         "x": [
          1,
          2
         ],
         "xaxis": "x",
         "y": [
          -1.2000000000000002,
          -1.9000000000000004
         ],
         "yaxis": "y"
        },
        {
         "hovertemplate": "name=Jay<br>Matchday=%{x}<br>Difference vs Mean=%{y}<extra></extra>",
         "legendgroup": "Jay",
         "line": {
          "color": "#00cc96",
          "dash": "solid"
         },
         "marker": {
          "symbol": "circle"
         },
         "mode": "lines",
         "name": "Jay",
         "orientation": "v",
         "showlegend": true,
         "type": "scatter",
         "x": [
          1,
          2
         ],
         "xaxis": "x",
         "y": [
          0.7999999999999998,
          2.0999999999999996
         ],
         "yaxis": "y"
        },
        {
         "hovertemplate": "name=Jonny<br>Matchday=%{x}<br>Difference vs Mean=%{y}<extra></extra>",
         "legendgroup": "Jonny",
         "line": {
          "color": "#ab63fa",
          "dash": "solid"
         },
         "marker": {
          "symbol": "circle"
         },
         "mode": "lines",
         "name": "Jonny",
         "orientation": "v",
         "showlegend": true,
         "type": "scatter",
         "x": [
          1,
          2
         ],
         "xaxis": "x",
         "y": [
          1.7999999999999998,
          2.0999999999999996
         ],
         "yaxis": "y"
        },
        {
         "hovertemplate": "name=Larry<br>Matchday=%{x}<br>Difference vs Mean=%{y}<extra></extra>",
         "legendgroup": "Larry",
         "line": {
          "color": "#FFA15A",
          "dash": "solid"
         },
         "marker": {
          "symbol": "circle"
         },
         "mode": "lines",
         "name": "Larry",
         "orientation": "v",
         "showlegend": true,
         "type": "scatter",
         "x": [
          1,
          2
         ],
         "xaxis": "x",
         "y": [
          1.7999999999999998,
          2.0999999999999996
         ],
         "yaxis": "y"
        },
        {
         "hovertemplate": "name=Luke<br>Matchday=%{x}<br>Difference vs Mean=%{y}<extra></extra>",
         "legendgroup": "Luke",
         "line": {
          "color": "#19d3f3",
          "dash": "solid"
         },
         "marker": {
          "symbol": "circle"
         },
         "mode": "lines",
         "name": "Luke",
         "orientation": "v",
         "showlegend": true,
         "type": "scatter",
         "x": [
          1,
          2
         ],
         "xaxis": "x",
         "y": [
          1.7999999999999998,
          1.0999999999999996
         ],
         "yaxis": "y"
        },
        {
         "hovertemplate": "name=Marc<br>Matchday=%{x}<br>Difference vs Mean=%{y}<extra></extra>",
         "legendgroup": "Marc",
         "line": {
          "color": "#FF6692",
          "dash": "solid"
         },
         "marker": {
          "symbol": "circle"
         },
         "mode": "lines",
         "name": "Marc",
         "orientation": "v",
         "showlegend": true,
         "type": "scatter",
         "x": [
          1,
          2
         ],
         "xaxis": "x",
         "y": [
          -1.2000000000000002,
          -0.9000000000000004
         ],
         "yaxis": "y"
        },
        {
         "hovertemplate": "name=Peter Popular<br>Matchday=%{x}<br>Difference vs Mean=%{y}<extra></extra>",
         "legendgroup": "Peter Popular",
         "line": {
          "color": "#B6E880",
          "dash": "solid"
         },
         "marker": {
          "symbol": "circle"
         },
         "mode": "lines",
         "name": "Peter Popular",
         "orientation": "v",
         "showlegend": true,
         "type": "scatter",
         "x": [
          1,
          2
         ],
         "xaxis": "x",
         "y": [
          -0.20000000000000018,
          0.09999999999999964
         ],
         "yaxis": "y"
        },
        {
         "hovertemplate": "name=Rando Randal<br>Matchday=%{x}<br>Difference vs Mean=%{y}<extra></extra>",
         "legendgroup": "Rando Randal",
         "line": {
          "color": "#FF97FF",
          "dash": "solid"
         },
         "marker": {
          "symbol": "circle"
         },
         "mode": "lines",
         "name": "Rando Randal",
         "orientation": "v",
         "showlegend": true,
         "type": "scatter",
         "x": [
          1,
          2
         ],
         "xaxis": "x",
         "y": [
          -2.2,
          -2.9000000000000004
         ],
         "yaxis": "y"
        },
        {
         "hovertemplate": "name=Tom<br>Matchday=%{x}<br>Difference vs Mean=%{y}<extra></extra>",
         "legendgroup": "Tom",
         "line": {
          "color": "#FECB52",
          "dash": "solid"
         },
         "marker": {
          "symbol": "circle"
         },
         "mode": "lines",
         "name": "Tom",
         "orientation": "v",
         "showlegend": true,
         "type": "scatter",
         "x": [
          1,
          2
         ],
         "xaxis": "x",
         "y": [
          -1.2000000000000002,
          -0.9000000000000004
         ],
         "yaxis": "y"
        }
       ],
       "layout": {
        "font": {
         "family": "Arial",
         "size": 12
        },
        "legend": {
         "title": {
          "text": "name"
         },
         "tracegroupgap": 0
        },
        "paper_bgcolor": "rgba(0,0,0,0)",
        "plot_bgcolor": "rgba(0,0,0,0)",
        "template": {
         "data": {
          "bar": [
           {
            "error_x": {
             "color": "#2a3f5f"
            },
            "error_y": {
             "color": "#2a3f5f"
            },
            "marker": {
             "line": {
              "color": "#E5ECF6",
              "width": 0.5
             },
             "pattern": {
              "fillmode": "overlay",
              "size": 10,
              "solidity": 0.2
             }
            },
            "type": "bar"
           }
          ],
          "barpolar": [
           {
            "marker": {
             "line": {
              "color": "#E5ECF6",
              "width": 0.5
             },
             "pattern": {
              "fillmode": "overlay",
              "size": 10,
              "solidity": 0.2
             }
            },
            "type": "barpolar"
           }
          ],
          "carpet": [
           {
            "aaxis": {
             "endlinecolor": "#2a3f5f",
             "gridcolor": "white",
             "linecolor": "white",
             "minorgridcolor": "white",
             "startlinecolor": "#2a3f5f"
            },
            "baxis": {
             "endlinecolor": "#2a3f5f",
             "gridcolor": "white",
             "linecolor": "white",
             "minorgridcolor": "white",
             "startlinecolor": "#2a3f5f"
            },
            "type": "carpet"
           }
          ],
          "choropleth": [
           {
            "colorbar": {
             "outlinewidth": 0,
             "ticks": ""
            },
            "type": "choropleth"
           }
          ],
          "contour": [
           {
            "colorbar": {
             "outlinewidth": 0,
             "ticks": ""
            },
            "colorscale": [
             [
              0,
              "#0d0887"
             ],
             [
              0.1111111111111111,
              "#46039f"
             ],
             [
              0.2222222222222222,
              "#7201a8"
             ],
             [
              0.3333333333333333,
              "#9c179e"
             ],
             [
              0.4444444444444444,
              "#bd3786"
             ],
             [
              0.5555555555555556,
              "#d8576b"
             ],
             [
              0.6666666666666666,
              "#ed7953"
             ],
             [
              0.7777777777777778,
              "#fb9f3a"
             ],
             [
              0.8888888888888888,
              "#fdca26"
             ],
             [
              1,
              "#f0f921"
             ]
            ],
            "type": "contour"
           }
          ],
          "contourcarpet": [
           {
            "colorbar": {
             "outlinewidth": 0,
             "ticks": ""
            },
            "type": "contourcarpet"
           }
          ],
          "heatmap": [
           {
            "colorbar": {
             "outlinewidth": 0,
             "ticks": ""
            },
            "colorscale": [
             [
              0,
              "#0d0887"
             ],
             [
              0.1111111111111111,
              "#46039f"
             ],
             [
              0.2222222222222222,
              "#7201a8"
             ],
             [
              0.3333333333333333,
              "#9c179e"
             ],
             [
              0.4444444444444444,
              "#bd3786"
             ],
             [
              0.5555555555555556,
              "#d8576b"
             ],
             [
              0.6666666666666666,
              "#ed7953"
             ],
             [
              0.7777777777777778,
              "#fb9f3a"
             ],
             [
              0.8888888888888888,
              "#fdca26"
             ],
             [
              1,
              "#f0f921"
             ]
            ],
            "type": "heatmap"
           }
          ],
          "heatmapgl": [
           {
            "colorbar": {
             "outlinewidth": 0,
             "ticks": ""
            },
            "colorscale": [
             [
              0,
              "#0d0887"
             ],
             [
              0.1111111111111111,
              "#46039f"
             ],
             [
              0.2222222222222222,
              "#7201a8"
             ],
             [
              0.3333333333333333,
              "#9c179e"
             ],
             [
              0.4444444444444444,
              "#bd3786"
             ],
             [
              0.5555555555555556,
              "#d8576b"
             ],
             [
              0.6666666666666666,
              "#ed7953"
             ],
             [
              0.7777777777777778,
              "#fb9f3a"
             ],
             [
              0.8888888888888888,
              "#fdca26"
             ],
             [
              1,
              "#f0f921"
             ]
            ],
            "type": "heatmapgl"
           }
          ],
          "histogram": [
           {
            "marker": {
             "pattern": {
              "fillmode": "overlay",
              "size": 10,
              "solidity": 0.2
             }
            },
            "type": "histogram"
           }
          ],
          "histogram2d": [
           {
            "colorbar": {
             "outlinewidth": 0,
             "ticks": ""
            },
            "colorscale": [
             [
              0,
              "#0d0887"
             ],
             [
              0.1111111111111111,
              "#46039f"
             ],
             [
              0.2222222222222222,
              "#7201a8"
             ],
             [
              0.3333333333333333,
              "#9c179e"
             ],
             [
              0.4444444444444444,
              "#bd3786"
             ],
             [
              0.5555555555555556,
              "#d8576b"
             ],
             [
              0.6666666666666666,
              "#ed7953"
             ],
             [
              0.7777777777777778,
              "#fb9f3a"
             ],
             [
              0.8888888888888888,
              "#fdca26"
             ],
             [
              1,
              "#f0f921"
             ]
            ],
            "type": "histogram2d"
           }
          ],
          "histogram2dcontour": [
           {
            "colorbar": {
             "outlinewidth": 0,
             "ticks": ""
            },
            "colorscale": [
             [
              0,
              "#0d0887"
             ],
             [
              0.1111111111111111,
              "#46039f"
             ],
             [
              0.2222222222222222,
              "#7201a8"
             ],
             [
              0.3333333333333333,
              "#9c179e"
             ],
             [
              0.4444444444444444,
              "#bd3786"
             ],
             [
              0.5555555555555556,
              "#d8576b"
             ],
             [
              0.6666666666666666,
              "#ed7953"
             ],
             [
              0.7777777777777778,
              "#fb9f3a"
             ],
             [
              0.8888888888888888,
              "#fdca26"
             ],
             [
              1,
              "#f0f921"
             ]
            ],
            "type": "histogram2dcontour"
           }
          ],
          "mesh3d": [
           {
            "colorbar": {
             "outlinewidth": 0,
             "ticks": ""
            },
            "type": "mesh3d"
           }
          ],
          "parcoords": [
           {
            "line": {
             "colorbar": {
              "outlinewidth": 0,
              "ticks": ""
             }
            },
            "type": "parcoords"
           }
          ],
          "pie": [
           {
            "automargin": true,
            "type": "pie"
           }
          ],
          "scatter": [
           {
            "fillpattern": {
             "fillmode": "overlay",
             "size": 10,
             "solidity": 0.2
            },
            "type": "scatter"
           }
          ],
          "scatter3d": [
           {
            "line": {
             "colorbar": {
              "outlinewidth": 0,
              "ticks": ""
             }
            },
            "marker": {
             "colorbar": {
              "outlinewidth": 0,
              "ticks": ""
             }
            },
            "type": "scatter3d"
           }
          ],
          "scattercarpet": [
           {
            "marker": {
             "colorbar": {
              "outlinewidth": 0,
              "ticks": ""
             }
            },
            "type": "scattercarpet"
           }
          ],
          "scattergeo": [
           {
            "marker": {
             "colorbar": {
              "outlinewidth": 0,
              "ticks": ""
             }
            },
            "type": "scattergeo"
           }
          ],
          "scattergl": [
           {
            "marker": {
             "colorbar": {
              "outlinewidth": 0,
              "ticks": ""
             }
            },
            "type": "scattergl"
           }
          ],
          "scattermapbox": [
           {
            "marker": {
             "colorbar": {
              "outlinewidth": 0,
              "ticks": ""
             }
            },
            "type": "scattermapbox"
           }
          ],
          "scatterpolar": [
           {
            "marker": {
             "colorbar": {
              "outlinewidth": 0,
              "ticks": ""
             }
            },
            "type": "scatterpolar"
           }
          ],
          "scatterpolargl": [
           {
            "marker": {
             "colorbar": {
              "outlinewidth": 0,
              "ticks": ""
             }
            },
            "type": "scatterpolargl"
           }
          ],
          "scatterternary": [
           {
            "marker": {
             "colorbar": {
              "outlinewidth": 0,
              "ticks": ""
             }
            },
            "type": "scatterternary"
           }
          ],
          "surface": [
           {
            "colorbar": {
             "outlinewidth": 0,
             "ticks": ""
            },
            "colorscale": [
             [
              0,
              "#0d0887"
             ],
             [
              0.1111111111111111,
              "#46039f"
             ],
             [
              0.2222222222222222,
              "#7201a8"
             ],
             [
              0.3333333333333333,
              "#9c179e"
             ],
             [
              0.4444444444444444,
              "#bd3786"
             ],
             [
              0.5555555555555556,
              "#d8576b"
             ],
             [
              0.6666666666666666,
              "#ed7953"
             ],
             [
              0.7777777777777778,
              "#fb9f3a"
             ],
             [
              0.8888888888888888,
              "#fdca26"
             ],
             [
              1,
              "#f0f921"
             ]
            ],
            "type": "surface"
           }
          ],
          "table": [
           {
            "cells": {
             "fill": {
              "color": "#EBF0F8"
             },
             "line": {
              "color": "white"
             }
            },
            "header": {
             "fill": {
              "color": "#C8D4E3"
             },
             "line": {
              "color": "white"
             }
            },
            "type": "table"
           }
          ]
         },
         "layout": {
          "annotationdefaults": {
           "arrowcolor": "#2a3f5f",
           "arrowhead": 0,
           "arrowwidth": 1
          },
          "autotypenumbers": "strict",
          "coloraxis": {
           "colorbar": {
            "outlinewidth": 0,
            "ticks": ""
           }
          },
          "colorscale": {
           "diverging": [
            [
             0,
             "#8e0152"
            ],
            [
             0.1,
             "#c51b7d"
            ],
            [
             0.2,
             "#de77ae"
            ],
            [
             0.3,
             "#f1b6da"
            ],
            [
             0.4,
             "#fde0ef"
            ],
            [
             0.5,
             "#f7f7f7"
            ],
            [
             0.6,
             "#e6f5d0"
            ],
            [
             0.7,
             "#b8e186"
            ],
            [
             0.8,
             "#7fbc41"
            ],
            [
             0.9,
             "#4d9221"
            ],
            [
             1,
             "#276419"
            ]
           ],
           "sequential": [
            [
             0,
             "#0d0887"
            ],
            [
             0.1111111111111111,
             "#46039f"
            ],
            [
             0.2222222222222222,
             "#7201a8"
            ],
            [
             0.3333333333333333,
             "#9c179e"
            ],
            [
             0.4444444444444444,
             "#bd3786"
            ],
            [
             0.5555555555555556,
             "#d8576b"
            ],
            [
             0.6666666666666666,
             "#ed7953"
            ],
            [
             0.7777777777777778,
             "#fb9f3a"
            ],
            [
             0.8888888888888888,
             "#fdca26"
            ],
            [
             1,
             "#f0f921"
            ]
           ],
           "sequentialminus": [
            [
             0,
             "#0d0887"
            ],
            [
             0.1111111111111111,
             "#46039f"
            ],
            [
             0.2222222222222222,
             "#7201a8"
            ],
            [
             0.3333333333333333,
             "#9c179e"
            ],
            [
             0.4444444444444444,
             "#bd3786"
            ],
            [
             0.5555555555555556,
             "#d8576b"
            ],
            [
             0.6666666666666666,
             "#ed7953"
            ],
            [
             0.7777777777777778,
             "#fb9f3a"
            ],
            [
             0.8888888888888888,
             "#fdca26"
            ],
            [
             1,
             "#f0f921"
            ]
           ]
          },
          "colorway": [
           "#636efa",
           "#EF553B",
           "#00cc96",
           "#ab63fa",
           "#FFA15A",
           "#19d3f3",
           "#FF6692",
           "#B6E880",
           "#FF97FF",
           "#FECB52"
          ],
          "font": {
           "color": "#2a3f5f"
          },
          "geo": {
           "bgcolor": "white",
           "lakecolor": "white",
           "landcolor": "#E5ECF6",
           "showlakes": true,
           "showland": true,
           "subunitcolor": "white"
          },
          "hoverlabel": {
           "align": "left"
          },
          "hovermode": "closest",
          "mapbox": {
           "style": "light"
          },
          "paper_bgcolor": "white",
          "plot_bgcolor": "#E5ECF6",
          "polar": {
           "angularaxis": {
            "gridcolor": "white",
            "linecolor": "white",
            "ticks": ""
           },
           "bgcolor": "#E5ECF6",
           "radialaxis": {
            "gridcolor": "white",
            "linecolor": "white",
            "ticks": ""
           }
          },
          "scene": {
           "xaxis": {
            "backgroundcolor": "#E5ECF6",
            "gridcolor": "white",
            "gridwidth": 2,
            "linecolor": "white",
            "showbackground": true,
            "ticks": "",
            "zerolinecolor": "white"
           },
           "yaxis": {
            "backgroundcolor": "#E5ECF6",
            "gridcolor": "white",
            "gridwidth": 2,
            "linecolor": "white",
            "showbackground": true,
            "ticks": "",
            "zerolinecolor": "white"
           },
           "zaxis": {
            "backgroundcolor": "#E5ECF6",
            "gridcolor": "white",
            "gridwidth": 2,
            "linecolor": "white",
            "showbackground": true,
            "ticks": "",
            "zerolinecolor": "white"
           }
          },
          "shapedefaults": {
           "line": {
            "color": "#2a3f5f"
           }
          },
          "ternary": {
           "aaxis": {
            "gridcolor": "white",
            "linecolor": "white",
            "ticks": ""
           },
           "baxis": {
            "gridcolor": "white",
            "linecolor": "white",
            "ticks": ""
           },
           "bgcolor": "#E5ECF6",
           "caxis": {
            "gridcolor": "white",
            "linecolor": "white",
            "ticks": ""
           }
          },
          "title": {
           "x": 0.05
          },
          "xaxis": {
           "automargin": true,
           "gridcolor": "white",
           "linecolor": "white",
           "ticks": "",
           "title": {
            "standoff": 15
           },
           "zerolinecolor": "white",
           "zerolinewidth": 2
          },
          "yaxis": {
           "automargin": true,
           "gridcolor": "white",
           "linecolor": "white",
           "ticks": "",
           "title": {
            "standoff": 15
           },
           "zerolinecolor": "white",
           "zerolinewidth": 2
          }
         }
        },
        "title": {
         "font": {
          "family": "Arial",
          "size": 16
         },
         "text": "Difference vs Mean Over Time"
        },
        "xaxis": {
         "anchor": "y",
         "domain": [
          0,
          1
         ],
         "title": {
          "text": "Matchday"
         }
        },
        "yaxis": {
         "anchor": "x",
         "domain": [
          0,
          1
         ],
         "title": {
          "text": "Difference vs Mean"
         }
        }
       }
      }
     },
     "metadata": {},
     "output_type": "display_data"
    }
   ],
   "source": [
    "# Plot the difference vs mean over time using Plotly\n",
    "fig = px.line(vs_mean_df, x='matchday', y='difference', color='name', \n",
    "              labels={'matchday': 'Matchday', 'difference': 'Difference vs Mean'},\n",
    "              title='Difference vs Mean Over Time')  # purple for all others)\n",
    "\n",
    "# Customize the layout to match the theme of the earlier bar plot\n",
    "fig.update_layout(\n",
    "    font=dict(family='Arial', size=12),\n",
    "    title_font=dict(family='Arial', size=16),\n",
    "    paper_bgcolor='rgba(0,0,0,0)',\n",
    "    plot_bgcolor='rgba(0,0,0,0)',\n",
    "    xaxis_title='Matchday',\n",
    "    yaxis_title='Difference vs Mean'\n",
    ")\n",
    "\n",
    "fig.show()"
   ]
  },
  {
   "cell_type": "code",
   "execution_count": 101,
   "id": "3db15226",
   "metadata": {},
   "outputs": [],
   "source": [
    "points_by_match_code = df_merged.groupby(['name', 'match_code', 'stage_detail']).agg({'base_points': 'sum', 'total_points': 'sum'}).reset_index()\n",
    "\n",
    "# Calculate the cumulative total points for each player\n",
    "points_by_match_code['cumulative_total_points'] = points_by_match_code.groupby('name')['total_points'].cumsum()\n",
    "\n",
    "# Calculate the cumulative average total points for each matchday\n",
    "cumulative_avg_total_points = points_by_match_code.groupby('match_code')['cumulative_total_points'].mean().reset_index()\n",
    "cumulative_avg_total_points.rename(columns={'cumulative_total_points': 'cumulative_avg_total_points'}, inplace=True)\n",
    "\n",
    "# Merge the cumulative average total points back to the original DataFrame\n",
    "vs_mean_match_code_df = points_by_match_code.merge(cumulative_avg_total_points, on='match_code')\n",
    "\n",
    "# Calculate the difference between each player's cumulative total points and the cumulative average\n",
    "vs_mean_match_code_df['difference'] = vs_mean_match_code_df['cumulative_total_points'] - vs_mean_match_code_df['cumulative_avg_total_points']\n",
    "\n",
    "# Display the resulting DataFrame\n",
    "vs_mean_match_code_df[['name', 'match_code', 'cumulative_total_points', 'cumulative_avg_total_points', 'difference']]\n",
    "\n",
    "# write to csv\n",
    "vs_mean_match_code_df.to_csv('data/vs_mean_match_code_df.csv')"
   ]
  },
  {
   "cell_type": "code",
   "execution_count": 102,
   "id": "5c14838b",
   "metadata": {},
   "outputs": [
    {
     "data": {
      "text/html": [
       "<div>\n",
       "<style scoped>\n",
       "    .dataframe tbody tr th:only-of-type {\n",
       "        vertical-align: middle;\n",
       "    }\n",
       "\n",
       "    .dataframe tbody tr th {\n",
       "        vertical-align: top;\n",
       "    }\n",
       "\n",
       "    .dataframe thead th {\n",
       "        text-align: right;\n",
       "    }\n",
       "</style>\n",
       "<table border=\"1\" class=\"dataframe\">\n",
       "  <thead>\n",
       "    <tr style=\"text-align: right;\">\n",
       "      <th></th>\n",
       "      <th>Unnamed: 0</th>\n",
       "      <th>name</th>\n",
       "      <th>match_code</th>\n",
       "      <th>stage_detail</th>\n",
       "      <th>base_points</th>\n",
       "      <th>total_points</th>\n",
       "      <th>cumulative_total_points</th>\n",
       "      <th>cumulative_avg_total_points</th>\n",
       "      <th>difference</th>\n",
       "    </tr>\n",
       "  </thead>\n",
       "  <tbody>\n",
       "    <tr>\n",
       "      <th>0</th>\n",
       "      <td>0</td>\n",
       "      <td>Corfe</td>\n",
       "      <td>M01</td>\n",
       "      <td>01. Groups - Matchday 1</td>\n",
       "      <td>1</td>\n",
       "      <td>2</td>\n",
       "      <td>2</td>\n",
       "      <td>1.6</td>\n",
       "      <td>0.4</td>\n",
       "    </tr>\n",
       "    <tr>\n",
       "      <th>1</th>\n",
       "      <td>1</td>\n",
       "      <td>Corfe</td>\n",
       "      <td>M03</td>\n",
       "      <td>01. Groups - Matchday 1</td>\n",
       "      <td>1</td>\n",
       "      <td>1</td>\n",
       "      <td>3</td>\n",
       "      <td>2.2</td>\n",
       "      <td>0.8</td>\n",
       "    </tr>\n",
       "    <tr>\n",
       "      <th>2</th>\n",
       "      <td>2</td>\n",
       "      <td>Corfe</td>\n",
       "      <td>M05</td>\n",
       "      <td>01. Groups - Matchday 1</td>\n",
       "      <td>1</td>\n",
       "      <td>1</td>\n",
       "      <td>4</td>\n",
       "      <td>3.9</td>\n",
       "      <td>0.1</td>\n",
       "    </tr>\n",
       "    <tr>\n",
       "      <th>3</th>\n",
       "      <td>3</td>\n",
       "      <td>Corfe</td>\n",
       "      <td>M08</td>\n",
       "      <td>01. Groups - Matchday 1</td>\n",
       "      <td>1</td>\n",
       "      <td>1</td>\n",
       "      <td>5</td>\n",
       "      <td>4.8</td>\n",
       "      <td>0.2</td>\n",
       "    </tr>\n",
       "    <tr>\n",
       "      <th>4</th>\n",
       "      <td>4</td>\n",
       "      <td>Corfe</td>\n",
       "      <td>M12</td>\n",
       "      <td>01. Groups - Matchday 1</td>\n",
       "      <td>1</td>\n",
       "      <td>1</td>\n",
       "      <td>6</td>\n",
       "      <td>6.2</td>\n",
       "      <td>-0.2</td>\n",
       "    </tr>\n",
       "    <tr>\n",
       "      <th>...</th>\n",
       "      <td>...</td>\n",
       "      <td>...</td>\n",
       "      <td>...</td>\n",
       "      <td>...</td>\n",
       "      <td>...</td>\n",
       "      <td>...</td>\n",
       "      <td>...</td>\n",
       "      <td>...</td>\n",
       "      <td>...</td>\n",
       "    </tr>\n",
       "    <tr>\n",
       "      <th>75</th>\n",
       "      <td>75</td>\n",
       "      <td>Tom</td>\n",
       "      <td>M08</td>\n",
       "      <td>01. Groups - Matchday 1</td>\n",
       "      <td>1</td>\n",
       "      <td>1</td>\n",
       "      <td>4</td>\n",
       "      <td>4.8</td>\n",
       "      <td>-0.8</td>\n",
       "    </tr>\n",
       "    <tr>\n",
       "      <th>76</th>\n",
       "      <td>76</td>\n",
       "      <td>Tom</td>\n",
       "      <td>M12</td>\n",
       "      <td>01. Groups - Matchday 1</td>\n",
       "      <td>1</td>\n",
       "      <td>1</td>\n",
       "      <td>5</td>\n",
       "      <td>6.2</td>\n",
       "      <td>-1.2</td>\n",
       "    </tr>\n",
       "    <tr>\n",
       "      <th>77</th>\n",
       "      <td>77</td>\n",
       "      <td>Tom</td>\n",
       "      <td>M13</td>\n",
       "      <td>02. Groups - Matchday 2</td>\n",
       "      <td>0</td>\n",
       "      <td>0</td>\n",
       "      <td>5</td>\n",
       "      <td>6.2</td>\n",
       "      <td>-1.2</td>\n",
       "    </tr>\n",
       "    <tr>\n",
       "      <th>78</th>\n",
       "      <td>78</td>\n",
       "      <td>Tom</td>\n",
       "      <td>M16</td>\n",
       "      <td>02. Groups - Matchday 2</td>\n",
       "      <td>1</td>\n",
       "      <td>1</td>\n",
       "      <td>6</td>\n",
       "      <td>6.8</td>\n",
       "      <td>-0.8</td>\n",
       "    </tr>\n",
       "    <tr>\n",
       "      <th>79</th>\n",
       "      <td>79</td>\n",
       "      <td>Tom</td>\n",
       "      <td>M17</td>\n",
       "      <td>02. Groups - Matchday 2</td>\n",
       "      <td>0</td>\n",
       "      <td>0</td>\n",
       "      <td>6</td>\n",
       "      <td>6.9</td>\n",
       "      <td>-0.9</td>\n",
       "    </tr>\n",
       "  </tbody>\n",
       "</table>\n",
       "<p>80 rows × 9 columns</p>\n",
       "</div>"
      ],
      "text/plain": [
       "    Unnamed: 0   name match_code             stage_detail  base_points  \\\n",
       "0            0  Corfe        M01  01. Groups - Matchday 1            1   \n",
       "1            1  Corfe        M03  01. Groups - Matchday 1            1   \n",
       "2            2  Corfe        M05  01. Groups - Matchday 1            1   \n",
       "3            3  Corfe        M08  01. Groups - Matchday 1            1   \n",
       "4            4  Corfe        M12  01. Groups - Matchday 1            1   \n",
       "..         ...    ...        ...                      ...          ...   \n",
       "75          75    Tom        M08  01. Groups - Matchday 1            1   \n",
       "76          76    Tom        M12  01. Groups - Matchday 1            1   \n",
       "77          77    Tom        M13  02. Groups - Matchday 2            0   \n",
       "78          78    Tom        M16  02. Groups - Matchday 2            1   \n",
       "79          79    Tom        M17  02. Groups - Matchday 2            0   \n",
       "\n",
       "    total_points  cumulative_total_points  cumulative_avg_total_points  \\\n",
       "0              2                        2                          1.6   \n",
       "1              1                        3                          2.2   \n",
       "2              1                        4                          3.9   \n",
       "3              1                        5                          4.8   \n",
       "4              1                        6                          6.2   \n",
       "..           ...                      ...                          ...   \n",
       "75             1                        4                          4.8   \n",
       "76             1                        5                          6.2   \n",
       "77             0                        5                          6.2   \n",
       "78             1                        6                          6.8   \n",
       "79             0                        6                          6.9   \n",
       "\n",
       "    difference  \n",
       "0          0.4  \n",
       "1          0.8  \n",
       "2          0.1  \n",
       "3          0.2  \n",
       "4         -0.2  \n",
       "..         ...  \n",
       "75        -0.8  \n",
       "76        -1.2  \n",
       "77        -1.2  \n",
       "78        -0.8  \n",
       "79        -0.9  \n",
       "\n",
       "[80 rows x 9 columns]"
      ]
     },
     "execution_count": 102,
     "metadata": {},
     "output_type": "execute_result"
    }
   ],
   "source": [
    "vs_mean_match_code_df = pd.read_csv('data/vs_mean_match_code_df.csv')\n",
    "vs_mean_match_code_df"
   ]
  },
  {
   "cell_type": "code",
   "execution_count": 103,
   "id": "a4768d98",
   "metadata": {},
   "outputs": [
    {
     "data": {
      "application/vnd.plotly.v1+json": {
       "config": {
        "plotlyServerURL": "https://plot.ly"
       },
       "data": [
        {
         "hovertemplate": "name=Corfe<br>Matchday=%{x}<br>Difference vs Mean=%{y}<extra></extra>",
         "legendgroup": "Corfe",
         "line": {
          "color": "#636efa",
          "dash": "solid"
         },
         "marker": {
          "symbol": "circle"
         },
         "mode": "lines",
         "name": "Corfe",
         "orientation": "v",
         "showlegend": true,
         "type": "scatter",
         "x": [
          "M01",
          "M03",
          "M05",
          "M08",
          "M12",
          "M13",
          "M16",
          "M17"
         ],
         "xaxis": "x",
         "y": [
          0.3999999999999999,
          0.7999999999999998,
          0.1,
          0.2000000000000001,
          -0.2000000000000001,
          -0.2000000000000001,
          -0.7999999999999998,
          -0.9000000000000004
         ],
         "yaxis": "y"
        },
        {
         "hovertemplate": "name=Ed<br>Matchday=%{x}<br>Difference vs Mean=%{y}<extra></extra>",
         "legendgroup": "Ed",
         "line": {
          "color": "#EF553B",
          "dash": "solid"
         },
         "marker": {
          "symbol": "circle"
         },
         "mode": "lines",
         "name": "Ed",
         "orientation": "v",
         "showlegend": true,
         "type": "scatter",
         "x": [
          "M01",
          "M03",
          "M05",
          "M08",
          "M12",
          "M13",
          "M16",
          "M17"
         ],
         "xaxis": "x",
         "y": [
          -0.6000000000000001,
          -1.2000000000000002,
          -0.8999999999999999,
          -0.7999999999999998,
          -1.2000000000000002,
          -1.2000000000000002,
          -1.7999999999999998,
          -1.9000000000000004
         ],
         "yaxis": "y"
        },
        {
         "hovertemplate": "name=Jay<br>Matchday=%{x}<br>Difference vs Mean=%{y}<extra></extra>",
         "legendgroup": "Jay",
         "line": {
          "color": "#00cc96",
          "dash": "solid"
         },
         "marker": {
          "symbol": "circle"
         },
         "mode": "lines",
         "name": "Jay",
         "orientation": "v",
         "showlegend": true,
         "type": "scatter",
         "x": [
          "M01",
          "M03",
          "M05",
          "M08",
          "M12",
          "M13",
          "M16",
          "M17"
         ],
         "xaxis": "x",
         "y": [
          -0.6000000000000001,
          -1.2000000000000002,
          0.1,
          0.2000000000000001,
          0.7999999999999998,
          0.7999999999999998,
          1.2000000000000002,
          2.1
         ],
         "yaxis": "y"
        },
        {
         "hovertemplate": "name=Jonny<br>Matchday=%{x}<br>Difference vs Mean=%{y}<extra></extra>",
         "legendgroup": "Jonny",
         "line": {
          "color": "#ab63fa",
          "dash": "solid"
         },
         "marker": {
          "symbol": "circle"
         },
         "mode": "lines",
         "name": "Jonny",
         "orientation": "v",
         "showlegend": true,
         "type": "scatter",
         "x": [
          "M01",
          "M03",
          "M05",
          "M08",
          "M12",
          "M13",
          "M16",
          "M17"
         ],
         "xaxis": "x",
         "y": [
          0.3999999999999999,
          0.7999999999999998,
          0.1,
          0.2000000000000001,
          1.7999999999999998,
          1.7999999999999998,
          2.2,
          2.1
         ],
         "yaxis": "y"
        },
        {
         "hovertemplate": "name=Larry<br>Matchday=%{x}<br>Difference vs Mean=%{y}<extra></extra>",
         "legendgroup": "Larry",
         "line": {
          "color": "#FFA15A",
          "dash": "solid"
         },
         "marker": {
          "symbol": "circle"
         },
         "mode": "lines",
         "name": "Larry",
         "orientation": "v",
         "showlegend": true,
         "type": "scatter",
         "x": [
          "M01",
          "M03",
          "M05",
          "M08",
          "M12",
          "M13",
          "M16",
          "M17"
         ],
         "xaxis": "x",
         "y": [
          0.3999999999999999,
          0.7999999999999998,
          0.1,
          0.2000000000000001,
          1.7999999999999998,
          1.7999999999999998,
          2.2,
          2.1
         ],
         "yaxis": "y"
        },
        {
         "hovertemplate": "name=Luke<br>Matchday=%{x}<br>Difference vs Mean=%{y}<extra></extra>",
         "legendgroup": "Luke",
         "line": {
          "color": "#19d3f3",
          "dash": "solid"
         },
         "marker": {
          "symbol": "circle"
         },
         "mode": "lines",
         "name": "Luke",
         "orientation": "v",
         "showlegend": true,
         "type": "scatter",
         "x": [
          "M01",
          "M03",
          "M05",
          "M08",
          "M12",
          "M13",
          "M16",
          "M17"
         ],
         "xaxis": "x",
         "y": [
          0.3999999999999999,
          0.7999999999999998,
          2.1,
          2.2,
          1.7999999999999998,
          1.7999999999999998,
          1.2000000000000002,
          1.0999999999999996
         ],
         "yaxis": "y"
        },
        {
         "hovertemplate": "name=Marc<br>Matchday=%{x}<br>Difference vs Mean=%{y}<extra></extra>",
         "legendgroup": "Marc",
         "line": {
          "color": "#FF6692",
          "dash": "solid"
         },
         "marker": {
          "symbol": "circle"
         },
         "mode": "lines",
         "name": "Marc",
         "orientation": "v",
         "showlegend": true,
         "type": "scatter",
         "x": [
          "M01",
          "M03",
          "M05",
          "M08",
          "M12",
          "M13",
          "M16",
          "M17"
         ],
         "xaxis": "x",
         "y": [
          0.3999999999999999,
          0.7999999999999998,
          0.1,
          0.2000000000000001,
          -1.2000000000000002,
          -1.2000000000000002,
          -0.7999999999999998,
          -0.9000000000000004
         ],
         "yaxis": "y"
        },
        {
         "hovertemplate": "name=Peter Popular<br>Matchday=%{x}<br>Difference vs Mean=%{y}<extra></extra>",
         "legendgroup": "Peter Popular",
         "line": {
          "color": "#B6E880",
          "dash": "solid"
         },
         "marker": {
          "symbol": "circle"
         },
         "mode": "lines",
         "name": "Peter Popular",
         "orientation": "v",
         "showlegend": true,
         "type": "scatter",
         "x": [
          "M01",
          "M03",
          "M05",
          "M08",
          "M12",
          "M13",
          "M16",
          "M17"
         ],
         "xaxis": "x",
         "y": [
          0.3999999999999999,
          0.7999999999999998,
          0.1,
          0.2000000000000001,
          -0.2000000000000001,
          -0.2000000000000001,
          0.2000000000000001,
          0.0999999999999996
         ],
         "yaxis": "y"
        },
        {
         "hovertemplate": "name=Rando Randal<br>Matchday=%{x}<br>Difference vs Mean=%{y}<extra></extra>",
         "legendgroup": "Rando Randal",
         "line": {
          "color": "#FF97FF",
          "dash": "solid"
         },
         "marker": {
          "symbol": "circle"
         },
         "mode": "lines",
         "name": "Rando Randal",
         "orientation": "v",
         "showlegend": true,
         "type": "scatter",
         "x": [
          "M01",
          "M03",
          "M05",
          "M08",
          "M12",
          "M13",
          "M16",
          "M17"
         ],
         "xaxis": "x",
         "y": [
          -0.6000000000000001,
          -1.2000000000000002,
          -0.8999999999999999,
          -1.7999999999999998,
          -2.2,
          -2.2,
          -2.8,
          -2.9000000000000004
         ],
         "yaxis": "y"
        },
        {
         "hovertemplate": "name=Tom<br>Matchday=%{x}<br>Difference vs Mean=%{y}<extra></extra>",
         "legendgroup": "Tom",
         "line": {
          "color": "#FECB52",
          "dash": "solid"
         },
         "marker": {
          "symbol": "circle"
         },
         "mode": "lines",
         "name": "Tom",
         "orientation": "v",
         "showlegend": true,
         "type": "scatter",
         "x": [
          "M01",
          "M03",
          "M05",
          "M08",
          "M12",
          "M13",
          "M16",
          "M17"
         ],
         "xaxis": "x",
         "y": [
          -0.6000000000000001,
          -1.2000000000000002,
          -0.8999999999999999,
          -0.7999999999999998,
          -1.2000000000000002,
          -1.2000000000000002,
          -0.7999999999999998,
          -0.9000000000000004
         ],
         "yaxis": "y"
        }
       ],
       "layout": {
        "font": {
         "family": "Arial",
         "size": 12
        },
        "legend": {
         "title": {
          "text": "name"
         },
         "tracegroupgap": 0
        },
        "paper_bgcolor": "rgba(0,0,0,0)",
        "plot_bgcolor": "rgba(0,0,0,0)",
        "template": {
         "data": {
          "bar": [
           {
            "error_x": {
             "color": "#2a3f5f"
            },
            "error_y": {
             "color": "#2a3f5f"
            },
            "marker": {
             "line": {
              "color": "#E5ECF6",
              "width": 0.5
             },
             "pattern": {
              "fillmode": "overlay",
              "size": 10,
              "solidity": 0.2
             }
            },
            "type": "bar"
           }
          ],
          "barpolar": [
           {
            "marker": {
             "line": {
              "color": "#E5ECF6",
              "width": 0.5
             },
             "pattern": {
              "fillmode": "overlay",
              "size": 10,
              "solidity": 0.2
             }
            },
            "type": "barpolar"
           }
          ],
          "carpet": [
           {
            "aaxis": {
             "endlinecolor": "#2a3f5f",
             "gridcolor": "white",
             "linecolor": "white",
             "minorgridcolor": "white",
             "startlinecolor": "#2a3f5f"
            },
            "baxis": {
             "endlinecolor": "#2a3f5f",
             "gridcolor": "white",
             "linecolor": "white",
             "minorgridcolor": "white",
             "startlinecolor": "#2a3f5f"
            },
            "type": "carpet"
           }
          ],
          "choropleth": [
           {
            "colorbar": {
             "outlinewidth": 0,
             "ticks": ""
            },
            "type": "choropleth"
           }
          ],
          "contour": [
           {
            "colorbar": {
             "outlinewidth": 0,
             "ticks": ""
            },
            "colorscale": [
             [
              0,
              "#0d0887"
             ],
             [
              0.1111111111111111,
              "#46039f"
             ],
             [
              0.2222222222222222,
              "#7201a8"
             ],
             [
              0.3333333333333333,
              "#9c179e"
             ],
             [
              0.4444444444444444,
              "#bd3786"
             ],
             [
              0.5555555555555556,
              "#d8576b"
             ],
             [
              0.6666666666666666,
              "#ed7953"
             ],
             [
              0.7777777777777778,
              "#fb9f3a"
             ],
             [
              0.8888888888888888,
              "#fdca26"
             ],
             [
              1,
              "#f0f921"
             ]
            ],
            "type": "contour"
           }
          ],
          "contourcarpet": [
           {
            "colorbar": {
             "outlinewidth": 0,
             "ticks": ""
            },
            "type": "contourcarpet"
           }
          ],
          "heatmap": [
           {
            "colorbar": {
             "outlinewidth": 0,
             "ticks": ""
            },
            "colorscale": [
             [
              0,
              "#0d0887"
             ],
             [
              0.1111111111111111,
              "#46039f"
             ],
             [
              0.2222222222222222,
              "#7201a8"
             ],
             [
              0.3333333333333333,
              "#9c179e"
             ],
             [
              0.4444444444444444,
              "#bd3786"
             ],
             [
              0.5555555555555556,
              "#d8576b"
             ],
             [
              0.6666666666666666,
              "#ed7953"
             ],
             [
              0.7777777777777778,
              "#fb9f3a"
             ],
             [
              0.8888888888888888,
              "#fdca26"
             ],
             [
              1,
              "#f0f921"
             ]
            ],
            "type": "heatmap"
           }
          ],
          "heatmapgl": [
           {
            "colorbar": {
             "outlinewidth": 0,
             "ticks": ""
            },
            "colorscale": [
             [
              0,
              "#0d0887"
             ],
             [
              0.1111111111111111,
              "#46039f"
             ],
             [
              0.2222222222222222,
              "#7201a8"
             ],
             [
              0.3333333333333333,
              "#9c179e"
             ],
             [
              0.4444444444444444,
              "#bd3786"
             ],
             [
              0.5555555555555556,
              "#d8576b"
             ],
             [
              0.6666666666666666,
              "#ed7953"
             ],
             [
              0.7777777777777778,
              "#fb9f3a"
             ],
             [
              0.8888888888888888,
              "#fdca26"
             ],
             [
              1,
              "#f0f921"
             ]
            ],
            "type": "heatmapgl"
           }
          ],
          "histogram": [
           {
            "marker": {
             "pattern": {
              "fillmode": "overlay",
              "size": 10,
              "solidity": 0.2
             }
            },
            "type": "histogram"
           }
          ],
          "histogram2d": [
           {
            "colorbar": {
             "outlinewidth": 0,
             "ticks": ""
            },
            "colorscale": [
             [
              0,
              "#0d0887"
             ],
             [
              0.1111111111111111,
              "#46039f"
             ],
             [
              0.2222222222222222,
              "#7201a8"
             ],
             [
              0.3333333333333333,
              "#9c179e"
             ],
             [
              0.4444444444444444,
              "#bd3786"
             ],
             [
              0.5555555555555556,
              "#d8576b"
             ],
             [
              0.6666666666666666,
              "#ed7953"
             ],
             [
              0.7777777777777778,
              "#fb9f3a"
             ],
             [
              0.8888888888888888,
              "#fdca26"
             ],
             [
              1,
              "#f0f921"
             ]
            ],
            "type": "histogram2d"
           }
          ],
          "histogram2dcontour": [
           {
            "colorbar": {
             "outlinewidth": 0,
             "ticks": ""
            },
            "colorscale": [
             [
              0,
              "#0d0887"
             ],
             [
              0.1111111111111111,
              "#46039f"
             ],
             [
              0.2222222222222222,
              "#7201a8"
             ],
             [
              0.3333333333333333,
              "#9c179e"
             ],
             [
              0.4444444444444444,
              "#bd3786"
             ],
             [
              0.5555555555555556,
              "#d8576b"
             ],
             [
              0.6666666666666666,
              "#ed7953"
             ],
             [
              0.7777777777777778,
              "#fb9f3a"
             ],
             [
              0.8888888888888888,
              "#fdca26"
             ],
             [
              1,
              "#f0f921"
             ]
            ],
            "type": "histogram2dcontour"
           }
          ],
          "mesh3d": [
           {
            "colorbar": {
             "outlinewidth": 0,
             "ticks": ""
            },
            "type": "mesh3d"
           }
          ],
          "parcoords": [
           {
            "line": {
             "colorbar": {
              "outlinewidth": 0,
              "ticks": ""
             }
            },
            "type": "parcoords"
           }
          ],
          "pie": [
           {
            "automargin": true,
            "type": "pie"
           }
          ],
          "scatter": [
           {
            "fillpattern": {
             "fillmode": "overlay",
             "size": 10,
             "solidity": 0.2
            },
            "type": "scatter"
           }
          ],
          "scatter3d": [
           {
            "line": {
             "colorbar": {
              "outlinewidth": 0,
              "ticks": ""
             }
            },
            "marker": {
             "colorbar": {
              "outlinewidth": 0,
              "ticks": ""
             }
            },
            "type": "scatter3d"
           }
          ],
          "scattercarpet": [
           {
            "marker": {
             "colorbar": {
              "outlinewidth": 0,
              "ticks": ""
             }
            },
            "type": "scattercarpet"
           }
          ],
          "scattergeo": [
           {
            "marker": {
             "colorbar": {
              "outlinewidth": 0,
              "ticks": ""
             }
            },
            "type": "scattergeo"
           }
          ],
          "scattergl": [
           {
            "marker": {
             "colorbar": {
              "outlinewidth": 0,
              "ticks": ""
             }
            },
            "type": "scattergl"
           }
          ],
          "scattermapbox": [
           {
            "marker": {
             "colorbar": {
              "outlinewidth": 0,
              "ticks": ""
             }
            },
            "type": "scattermapbox"
           }
          ],
          "scatterpolar": [
           {
            "marker": {
             "colorbar": {
              "outlinewidth": 0,
              "ticks": ""
             }
            },
            "type": "scatterpolar"
           }
          ],
          "scatterpolargl": [
           {
            "marker": {
             "colorbar": {
              "outlinewidth": 0,
              "ticks": ""
             }
            },
            "type": "scatterpolargl"
           }
          ],
          "scatterternary": [
           {
            "marker": {
             "colorbar": {
              "outlinewidth": 0,
              "ticks": ""
             }
            },
            "type": "scatterternary"
           }
          ],
          "surface": [
           {
            "colorbar": {
             "outlinewidth": 0,
             "ticks": ""
            },
            "colorscale": [
             [
              0,
              "#0d0887"
             ],
             [
              0.1111111111111111,
              "#46039f"
             ],
             [
              0.2222222222222222,
              "#7201a8"
             ],
             [
              0.3333333333333333,
              "#9c179e"
             ],
             [
              0.4444444444444444,
              "#bd3786"
             ],
             [
              0.5555555555555556,
              "#d8576b"
             ],
             [
              0.6666666666666666,
              "#ed7953"
             ],
             [
              0.7777777777777778,
              "#fb9f3a"
             ],
             [
              0.8888888888888888,
              "#fdca26"
             ],
             [
              1,
              "#f0f921"
             ]
            ],
            "type": "surface"
           }
          ],
          "table": [
           {
            "cells": {
             "fill": {
              "color": "#EBF0F8"
             },
             "line": {
              "color": "white"
             }
            },
            "header": {
             "fill": {
              "color": "#C8D4E3"
             },
             "line": {
              "color": "white"
             }
            },
            "type": "table"
           }
          ]
         },
         "layout": {
          "annotationdefaults": {
           "arrowcolor": "#2a3f5f",
           "arrowhead": 0,
           "arrowwidth": 1
          },
          "autotypenumbers": "strict",
          "coloraxis": {
           "colorbar": {
            "outlinewidth": 0,
            "ticks": ""
           }
          },
          "colorscale": {
           "diverging": [
            [
             0,
             "#8e0152"
            ],
            [
             0.1,
             "#c51b7d"
            ],
            [
             0.2,
             "#de77ae"
            ],
            [
             0.3,
             "#f1b6da"
            ],
            [
             0.4,
             "#fde0ef"
            ],
            [
             0.5,
             "#f7f7f7"
            ],
            [
             0.6,
             "#e6f5d0"
            ],
            [
             0.7,
             "#b8e186"
            ],
            [
             0.8,
             "#7fbc41"
            ],
            [
             0.9,
             "#4d9221"
            ],
            [
             1,
             "#276419"
            ]
           ],
           "sequential": [
            [
             0,
             "#0d0887"
            ],
            [
             0.1111111111111111,
             "#46039f"
            ],
            [
             0.2222222222222222,
             "#7201a8"
            ],
            [
             0.3333333333333333,
             "#9c179e"
            ],
            [
             0.4444444444444444,
             "#bd3786"
            ],
            [
             0.5555555555555556,
             "#d8576b"
            ],
            [
             0.6666666666666666,
             "#ed7953"
            ],
            [
             0.7777777777777778,
             "#fb9f3a"
            ],
            [
             0.8888888888888888,
             "#fdca26"
            ],
            [
             1,
             "#f0f921"
            ]
           ],
           "sequentialminus": [
            [
             0,
             "#0d0887"
            ],
            [
             0.1111111111111111,
             "#46039f"
            ],
            [
             0.2222222222222222,
             "#7201a8"
            ],
            [
             0.3333333333333333,
             "#9c179e"
            ],
            [
             0.4444444444444444,
             "#bd3786"
            ],
            [
             0.5555555555555556,
             "#d8576b"
            ],
            [
             0.6666666666666666,
             "#ed7953"
            ],
            [
             0.7777777777777778,
             "#fb9f3a"
            ],
            [
             0.8888888888888888,
             "#fdca26"
            ],
            [
             1,
             "#f0f921"
            ]
           ]
          },
          "colorway": [
           "#636efa",
           "#EF553B",
           "#00cc96",
           "#ab63fa",
           "#FFA15A",
           "#19d3f3",
           "#FF6692",
           "#B6E880",
           "#FF97FF",
           "#FECB52"
          ],
          "font": {
           "color": "#2a3f5f"
          },
          "geo": {
           "bgcolor": "white",
           "lakecolor": "white",
           "landcolor": "#E5ECF6",
           "showlakes": true,
           "showland": true,
           "subunitcolor": "white"
          },
          "hoverlabel": {
           "align": "left"
          },
          "hovermode": "closest",
          "mapbox": {
           "style": "light"
          },
          "paper_bgcolor": "white",
          "plot_bgcolor": "#E5ECF6",
          "polar": {
           "angularaxis": {
            "gridcolor": "white",
            "linecolor": "white",
            "ticks": ""
           },
           "bgcolor": "#E5ECF6",
           "radialaxis": {
            "gridcolor": "white",
            "linecolor": "white",
            "ticks": ""
           }
          },
          "scene": {
           "xaxis": {
            "backgroundcolor": "#E5ECF6",
            "gridcolor": "white",
            "gridwidth": 2,
            "linecolor": "white",
            "showbackground": true,
            "ticks": "",
            "zerolinecolor": "white"
           },
           "yaxis": {
            "backgroundcolor": "#E5ECF6",
            "gridcolor": "white",
            "gridwidth": 2,
            "linecolor": "white",
            "showbackground": true,
            "ticks": "",
            "zerolinecolor": "white"
           },
           "zaxis": {
            "backgroundcolor": "#E5ECF6",
            "gridcolor": "white",
            "gridwidth": 2,
            "linecolor": "white",
            "showbackground": true,
            "ticks": "",
            "zerolinecolor": "white"
           }
          },
          "shapedefaults": {
           "line": {
            "color": "#2a3f5f"
           }
          },
          "ternary": {
           "aaxis": {
            "gridcolor": "white",
            "linecolor": "white",
            "ticks": ""
           },
           "baxis": {
            "gridcolor": "white",
            "linecolor": "white",
            "ticks": ""
           },
           "bgcolor": "#E5ECF6",
           "caxis": {
            "gridcolor": "white",
            "linecolor": "white",
            "ticks": ""
           }
          },
          "title": {
           "x": 0.05
          },
          "xaxis": {
           "automargin": true,
           "gridcolor": "white",
           "linecolor": "white",
           "ticks": "",
           "title": {
            "standoff": 15
           },
           "zerolinecolor": "white",
           "zerolinewidth": 2
          },
          "yaxis": {
           "automargin": true,
           "gridcolor": "white",
           "linecolor": "white",
           "ticks": "",
           "title": {
            "standoff": 15
           },
           "zerolinecolor": "white",
           "zerolinewidth": 2
          }
         }
        },
        "title": {
         "font": {
          "family": "Arial",
          "size": 16
         },
         "text": "Difference vs Mean Over Time"
        },
        "xaxis": {
         "anchor": "y",
         "domain": [
          0,
          1
         ],
         "title": {
          "text": "Match"
         }
        },
        "yaxis": {
         "anchor": "x",
         "domain": [
          0,
          1
         ],
         "title": {
          "text": "Difference vs Mean"
         }
        }
       }
      }
     },
     "metadata": {},
     "output_type": "display_data"
    }
   ],
   "source": [
    "# Plot the difference vs mean over time using Plotly\n",
    "fig = px.line(vs_mean_match_code_df, x='match_code', y='difference', color='name', \n",
    "              labels={'match_code': 'Matchday', 'difference': 'Difference vs Mean'},\n",
    "              title='Difference vs Mean Over Time')  \n",
    "\n",
    "# Customize the layout to match the theme of the earlier bar plot\n",
    "fig.update_layout(\n",
    "    font=dict(family='Arial', size=12),\n",
    "    title_font=dict(family='Arial', size=16),\n",
    "    paper_bgcolor='rgba(0,0,0,0)',\n",
    "    plot_bgcolor='rgba(0,0,0,0)',\n",
    "    xaxis_title='Match',\n",
    "    yaxis_title='Difference vs Mean'\n",
    ")\n",
    "\n",
    "fig.show()"
   ]
  },
  {
   "cell_type": "code",
   "execution_count": 104,
   "id": "b8efb766",
   "metadata": {},
   "outputs": [],
   "source": [
    "# Group by name to get overall standings\n",
    "overall_standings = vs_mean_match_code_df.groupby('name').agg({\n",
    "    'cumulative_total_points': 'last',\n",
    "    'difference': lambda x: x.tolist(),  # Convert difference values to list\n",
    "}).reset_index()\n",
    "\n",
    "# Sort the overall standings by 'cumulative_total_points' in descending order to determine position\n",
    "overall_standings = overall_standings.sort_values(by='cumulative_total_points', ascending=False).reset_index(drop=True)\n",
    "\n",
    "# Calculate standard competition rank (1, 2, 2, 4, etc.)\n",
    "overall_standings['position'] = overall_standings['cumulative_total_points'].rank(method='min', ascending=False).astype(int)\n",
    "\n",
    "# Group by name to get cumulative total points and previous total points\n",
    "points_by_name_stage['prev_total_points'] = points_by_name_stage.groupby('name')['total_points'].shift(1).fillna(0)\n",
    "points_by_name_stage['cumulative_total_points'] = points_by_name_stage.groupby('name')['total_points'].cumsum()\n",
    "\n",
    "# Calculate ranks for each matchday\n",
    "points_by_name_stage['rank'] = points_by_name_stage.groupby('matchday')['cumulative_total_points'].rank(ascending=False, method='min')\n",
    "\n",
    "# Shift rank to get previous matchday rank\n",
    "points_by_name_stage['prev_rank'] = points_by_name_stage.groupby('name')['rank'].shift(1).fillna(0)\n",
    "\n",
    "# Calculate rank change\n",
    "points_by_name_stage['rank_change'] = points_by_name_stage['prev_rank'] - points_by_name_stage['rank']\n",
    "\n",
    "# Get the latest matchday rank change for each player\n",
    "latest_matchday = points_by_name_stage['matchday'].max()\n",
    "latest_rank_change = points_by_name_stage[points_by_name_stage['matchday'] == latest_matchday][['name', 'rank_change']]\n",
    "\n",
    "# Merge the rank change with overall standings\n",
    "overall_standings = overall_standings.merge(latest_rank_change, on='name', how='left')\n",
    "\n",
    "# Calculate the points change from the previous matchday for each player\n",
    "latest_matchday_points = points_by_name_stage[points_by_name_stage['matchday'] == latest_matchday][['name', 'cumulative_total_points']]\n",
    "previous_matchday = latest_matchday - 1\n",
    "previous_matchday_points = points_by_name_stage[points_by_name_stage['matchday'] == previous_matchday][['name', 'cumulative_total_points']]\n",
    "previous_matchday_points.columns = ['name', 'prev_cumulative_total_points']\n",
    "\n",
    "points_change_df = latest_matchday_points.merge(previous_matchday_points, on='name', how='left')\n",
    "points_change_df['points_change'] = points_change_df['cumulative_total_points'] - points_change_df['prev_cumulative_total_points'].fillna(0)\n",
    "\n",
    "# Merge the points change with overall standings\n",
    "overall_standings = overall_standings.merge(points_change_df[['name', 'points_change']], on='name', how='left')\n",
    "\n",
    "# Define the symbols for rank change\n",
    "def rank_change_symbol(change):\n",
    "    if change >= 2:\n",
    "        return '🔥'  # Player moved up in rank by 2 or more\n",
    "    elif change == 1:\n",
    "        return '👍'  # Player moved up in rank by 1\n",
    "    elif change == -1:\n",
    "        return '😵'  # Player moved down in rank by 1\n",
    "    elif change <= -2:\n",
    "        return '💀'  # Player moved down in rank by 2 or more\n",
    "    else:\n",
    "        return '🥱'  # No change in rank\n",
    "\n",
    "# Apply rank change symbols and convert to string\n",
    "overall_standings['rank_change_symbol'] = overall_standings['rank_change'].apply(rank_change_symbol)\n",
    "\n",
    "# Reorder the columns\n",
    "overall_standings = overall_standings[['name', 'position', 'rank_change', 'rank_change_symbol', 'cumulative_total_points', 'points_change', 'difference']]\n",
    "\n",
    "overall_standings.to_csv('data/overall_standings.csv', index=False)"
   ]
  },
  {
   "cell_type": "code",
   "execution_count": 105,
   "id": "954c4ee5",
   "metadata": {},
   "outputs": [
    {
     "data": {
      "text/html": [
       "<div>\n",
       "<style scoped>\n",
       "    .dataframe tbody tr th:only-of-type {\n",
       "        vertical-align: middle;\n",
       "    }\n",
       "\n",
       "    .dataframe tbody tr th {\n",
       "        vertical-align: top;\n",
       "    }\n",
       "\n",
       "    .dataframe thead th {\n",
       "        text-align: right;\n",
       "    }\n",
       "</style>\n",
       "<table border=\"1\" class=\"dataframe\">\n",
       "  <thead>\n",
       "    <tr style=\"text-align: right;\">\n",
       "      <th></th>\n",
       "      <th>name</th>\n",
       "      <th>position</th>\n",
       "      <th>rank_change</th>\n",
       "      <th>rank_change_symbol</th>\n",
       "      <th>cumulative_total_points</th>\n",
       "      <th>points_change</th>\n",
       "      <th>difference</th>\n",
       "    </tr>\n",
       "  </thead>\n",
       "  <tbody>\n",
       "    <tr>\n",
       "      <th>0</th>\n",
       "      <td>Jay</td>\n",
       "      <td>1</td>\n",
       "      <td>3.0</td>\n",
       "      <td>🔥</td>\n",
       "      <td>9</td>\n",
       "      <td>2</td>\n",
       "      <td>[-0.6000000000000001, -1.2000000000000002, 0.1...</td>\n",
       "    </tr>\n",
       "    <tr>\n",
       "      <th>1</th>\n",
       "      <td>Jonny</td>\n",
       "      <td>1</td>\n",
       "      <td>0.0</td>\n",
       "      <td>🥱</td>\n",
       "      <td>9</td>\n",
       "      <td>1</td>\n",
       "      <td>[0.3999999999999999, 0.7999999999999998, 0.1, ...</td>\n",
       "    </tr>\n",
       "    <tr>\n",
       "      <th>2</th>\n",
       "      <td>Larry</td>\n",
       "      <td>1</td>\n",
       "      <td>0.0</td>\n",
       "      <td>🥱</td>\n",
       "      <td>9</td>\n",
       "      <td>1</td>\n",
       "      <td>[0.3999999999999999, 0.7999999999999998, 0.1, ...</td>\n",
       "    </tr>\n",
       "    <tr>\n",
       "      <th>3</th>\n",
       "      <td>Luke</td>\n",
       "      <td>4</td>\n",
       "      <td>-3.0</td>\n",
       "      <td>💀</td>\n",
       "      <td>8</td>\n",
       "      <td>0</td>\n",
       "      <td>[0.3999999999999999, 0.7999999999999998, 2.1, ...</td>\n",
       "    </tr>\n",
       "    <tr>\n",
       "      <th>4</th>\n",
       "      <td>Peter Popular</td>\n",
       "      <td>5</td>\n",
       "      <td>0.0</td>\n",
       "      <td>🥱</td>\n",
       "      <td>7</td>\n",
       "      <td>1</td>\n",
       "      <td>[0.3999999999999999, 0.7999999999999998, 0.1, ...</td>\n",
       "    </tr>\n",
       "    <tr>\n",
       "      <th>5</th>\n",
       "      <td>Corfe</td>\n",
       "      <td>6</td>\n",
       "      <td>-1.0</td>\n",
       "      <td>😵</td>\n",
       "      <td>6</td>\n",
       "      <td>0</td>\n",
       "      <td>[0.3999999999999999, 0.7999999999999998, 0.1, ...</td>\n",
       "    </tr>\n",
       "    <tr>\n",
       "      <th>6</th>\n",
       "      <td>Marc</td>\n",
       "      <td>6</td>\n",
       "      <td>1.0</td>\n",
       "      <td>👍</td>\n",
       "      <td>6</td>\n",
       "      <td>1</td>\n",
       "      <td>[0.3999999999999999, 0.7999999999999998, 0.1, ...</td>\n",
       "    </tr>\n",
       "    <tr>\n",
       "      <th>7</th>\n",
       "      <td>Tom</td>\n",
       "      <td>6</td>\n",
       "      <td>1.0</td>\n",
       "      <td>👍</td>\n",
       "      <td>6</td>\n",
       "      <td>1</td>\n",
       "      <td>[-0.6000000000000001, -1.2000000000000002, -0....</td>\n",
       "    </tr>\n",
       "    <tr>\n",
       "      <th>8</th>\n",
       "      <td>Ed</td>\n",
       "      <td>9</td>\n",
       "      <td>-2.0</td>\n",
       "      <td>💀</td>\n",
       "      <td>5</td>\n",
       "      <td>0</td>\n",
       "      <td>[-0.6000000000000001, -1.2000000000000002, -0....</td>\n",
       "    </tr>\n",
       "    <tr>\n",
       "      <th>9</th>\n",
       "      <td>Rando Randal</td>\n",
       "      <td>10</td>\n",
       "      <td>0.0</td>\n",
       "      <td>🥱</td>\n",
       "      <td>4</td>\n",
       "      <td>0</td>\n",
       "      <td>[-0.6000000000000001, -1.2000000000000002, -0....</td>\n",
       "    </tr>\n",
       "  </tbody>\n",
       "</table>\n",
       "</div>"
      ],
      "text/plain": [
       "            name  position  rank_change rank_change_symbol  \\\n",
       "0            Jay         1          3.0                  🔥   \n",
       "1          Jonny         1          0.0                  🥱   \n",
       "2          Larry         1          0.0                  🥱   \n",
       "3           Luke         4         -3.0                  💀   \n",
       "4  Peter Popular         5          0.0                  🥱   \n",
       "5          Corfe         6         -1.0                  😵   \n",
       "6           Marc         6          1.0                  👍   \n",
       "7            Tom         6          1.0                  👍   \n",
       "8             Ed         9         -2.0                  💀   \n",
       "9   Rando Randal        10          0.0                  🥱   \n",
       "\n",
       "   cumulative_total_points  points_change  \\\n",
       "0                        9              2   \n",
       "1                        9              1   \n",
       "2                        9              1   \n",
       "3                        8              0   \n",
       "4                        7              1   \n",
       "5                        6              0   \n",
       "6                        6              1   \n",
       "7                        6              1   \n",
       "8                        5              0   \n",
       "9                        4              0   \n",
       "\n",
       "                                          difference  \n",
       "0  [-0.6000000000000001, -1.2000000000000002, 0.1...  \n",
       "1  [0.3999999999999999, 0.7999999999999998, 0.1, ...  \n",
       "2  [0.3999999999999999, 0.7999999999999998, 0.1, ...  \n",
       "3  [0.3999999999999999, 0.7999999999999998, 2.1, ...  \n",
       "4  [0.3999999999999999, 0.7999999999999998, 0.1, ...  \n",
       "5  [0.3999999999999999, 0.7999999999999998, 0.1, ...  \n",
       "6  [0.3999999999999999, 0.7999999999999998, 0.1, ...  \n",
       "7  [-0.6000000000000001, -1.2000000000000002, -0....  \n",
       "8  [-0.6000000000000001, -1.2000000000000002, -0....  \n",
       "9  [-0.6000000000000001, -1.2000000000000002, -0....  "
      ]
     },
     "execution_count": 105,
     "metadata": {},
     "output_type": "execute_result"
    }
   ],
   "source": [
    "overall_standings_df = pd.read_csv('data/overall_standings.csv')\n",
    "overall_standings_df"
   ]
  },
  {
   "cell_type": "markdown",
   "id": "44c38c88",
   "metadata": {},
   "source": [
    "## Creating get_data.py functions"
   ]
  },
  {
   "cell_type": "code",
   "execution_count": 106,
   "id": "df4d3a10",
   "metadata": {},
   "outputs": [],
   "source": [
    "# import os\n",
    "# import pandas as pd\n",
    "\n",
    "# # This function will read in the CSV files and return the DataFrames.\n",
    "# def load_data(md_responses_dir, results_file_path):\n",
    "#     md_response_files = [os.path.join(md_responses_dir, f) for f in os.listdir(md_responses_dir) if f.startswith('md') and f.endswith('_responses.csv')]\n",
    "    \n",
    "#     md_responses_dfs = []\n",
    "#     for file_path in md_response_files:\n",
    "#         df = pd.read_csv(file_path)\n",
    "#         md_responses_dfs.append(df)\n",
    "    \n",
    "#     df_results = pd.read_csv(results_file_path)\n",
    "    \n",
    "#     return md_responses_dfs, df_results"
   ]
  },
  {
   "cell_type": "code",
   "execution_count": 107,
   "id": "9b319c39",
   "metadata": {},
   "outputs": [],
   "source": [
    "# # This function will take the loaded DataFrames and perform the necessary transformations.\n",
    "# def transform_response_data(df):\n",
    "#     df = df.rename(columns={'Timestamp': 'timestamp', 'Name': 'name', 'Which game would you like to give double points to?': 'bonus_match_code'})\n",
    "#     df = df.melt(id_vars=['timestamp', 'name', 'bonus_match_code'], var_name='match_code', value_name='predicted_score')\n",
    "#     return df\n",
    "\n",
    "# def transform_results_data(df):\n",
    "#     # Placeholder for actual transformation, if needed\n",
    "#     return df\n",
    "\n",
    "# def get_predicted_outcome(predicted_score):\n",
    "#     home_score, away_score = map(int, predicted_score.split('-'))\n",
    "#     if home_score > away_score:\n",
    "#         return 'Home'\n",
    "#     elif home_score < away_score:\n",
    "#         return 'Away'\n",
    "#     else:\n",
    "#         return 'Draw'\n",
    "\n",
    "# def get_actual_outcome(actual_score):\n",
    "#     home_score, away_score = map(int, actual_score.split('-'))\n",
    "#     if home_score > away_score:\n",
    "#         return 'Home'\n",
    "#     elif home_score < away_score:\n",
    "#         return 'Away'\n",
    "#     else:\n",
    "#         return 'Draw'\n",
    "\n",
    "# def calculate_points(predicted_score, actual_score, predicted_outcome, actual_outcome):\n",
    "#     home_pred, away_pred = map(int, predicted_score.split('-'))\n",
    "#     home_res, away_res = map(int, actual_score.split('-'))\n",
    "\n",
    "#     if predicted_score == actual_score:\n",
    "#         return 3\n",
    "#     elif predicted_outcome == actual_outcome:\n",
    "#         return 1\n",
    "#     else:\n",
    "#         return 0\n",
    "    \n",
    "# def transform_data(md_responses_dfs, df_results):\n",
    "#     transformed_dfs = []\n",
    "#     for df in md_responses_dfs:\n",
    "#         df = transform_response_data(df)\n",
    "#         transformed_dfs.append(df)\n",
    "\n",
    "#     df_predictions = pd.concat(transformed_dfs, axis=0)\n",
    "#     df_predictions.reset_index(drop=True, inplace=True)\n",
    "\n",
    "#     df_predictions['points_multiplier'] = df_predictions.apply(\n",
    "#         lambda row: 2 if row['bonus_match_code'] == row['match_code'] else 1, axis=1\n",
    "#     )\n",
    "\n",
    "#     df_predictions[['match_code', 'home', 'away']] = df_predictions['match_code'].str.extract(r'(M\\d{2}). (.+) v (.+)')\n",
    "#     df_predictions = df_predictions[['timestamp', 'name', 'match_code', 'home', 'away', 'predicted_score', 'points_multiplier']]\n",
    "\n",
    "#     df_results = transform_results_data(df_results)\n",
    "\n",
    "#     df_merged = pd.merge(df_predictions, df_results, on=['match_code', 'home', 'away'], how='inner')\n",
    "\n",
    "#     df_merged['predicted_outcome'] = df_merged['predicted_score'].apply(get_predicted_outcome)\n",
    "#     df_merged['actual_outcome'] = df_merged['actual_score'].apply(get_actual_outcome)\n",
    "#     df_merged['base_points'] = df_merged.apply(lambda row: calculate_points(row['predicted_score'], row['actual_score'], row['predicted_outcome'], row['actual_outcome']), axis=1)\n",
    "#     df_merged['total_points'] = df_merged['base_points'] * df_merged['points_multiplier']\n",
    "\n",
    "#     return df_merged\n"
   ]
  },
  {
   "cell_type": "code",
   "execution_count": 108,
   "id": "b7cfa6c2",
   "metadata": {},
   "outputs": [],
   "source": [
    "# # These functions are used for further processing the data for visualization\n",
    "# def calculate_vs_mean_match_code(df_merged):\n",
    "#     points_by_match_code = df_merged.groupby(['name', 'match_code']).agg({'base_points': 'sum', 'total_points': 'sum'}).reset_index()\n",
    "#     points_by_match_code['cumulative_total_points'] = points_by_match_code.groupby('name')['total_points'].cumsum()\n",
    "#     cumulative_avg_total_points = points_by_match_code.groupby('match_code')['cumulative_total_points'].mean().reset_index()\n",
    "#     cumulative_avg_total_points.rename(columns={'cumulative_total_points': 'cumulative_avg_total_points'}, inplace=True)\n",
    "#     vs_mean_match_code_df = points_by_match_code.merge(cumulative_avg_total_points, on='match_code')\n",
    "#     vs_mean_match_code_df['difference'] = vs_mean_match_code_df['cumulative_total_points'] - vs_mean_match_code_df['cumulative_avg_total_points']\n",
    "#     return vs_mean_match_code_df\n",
    "\n",
    "# def calculate_overall_standings(vs_mean_match_code_df):\n",
    "#     # Group by name to get overall standings\n",
    "#     overall_standings = vs_mean_match_code_df.groupby('name').agg({\n",
    "#         'cumulative_total_points': 'last',\n",
    "#         'difference': lambda x: x.tolist(),  # Convert difference values to list\n",
    "#     }).reset_index()\n",
    "\n",
    "#     # Sort the overall standings by 'cumulative_total_points' in descending order to determine position\n",
    "#     overall_standings = overall_standings.sort_values(by='cumulative_total_points', ascending=False).reset_index(drop=True)\n",
    "#     overall_standings['position'] = overall_standings.index + 1\n",
    "#     overall_standings['position'] = overall_standings['position'].astype(int)\n",
    "\n",
    "#     # Ensure match_code is treated as a numeric value for sorting\n",
    "#     vs_mean_match_code_df['match_code'] = vs_mean_match_code_df['match_code'].astype(str).str.extract(r'(\\d+)').astype(int)\n",
    "\n",
    "#     # Calculate ranks and changes\n",
    "#     vs_mean_match_code_df['rank'] = vs_mean_match_code_df.groupby('match_code')['cumulative_total_points'].rank(ascending=False, method='min')\n",
    "#     vs_mean_match_code_df['prev_rank'] = vs_mean_match_code_df.groupby('name')['rank'].shift(1).fillna(0)\n",
    "#     vs_mean_match_code_df['rank_change'] = vs_mean_match_code_df['prev_rank'] - vs_mean_match_code_df['rank']\n",
    "\n",
    "#     latest_matchday = vs_mean_match_code_df['match_code'].max()\n",
    "#     latest_rank_change = vs_mean_match_code_df[vs_mean_match_code_df['match_code'] == latest_matchday][['name', 'rank_change']]\n",
    "#     overall_standings = overall_standings.merge(latest_rank_change, on='name', how='left')\n",
    "\n",
    "#     latest_matchday_points = vs_mean_match_code_df[vs_mean_match_code_df['match_code'] == latest_matchday][['name', 'cumulative_total_points']]\n",
    "#     previous_matchday = latest_matchday - 1\n",
    "#     previous_matchday_points = vs_mean_match_code_df[vs_mean_match_code_df['match_code'] == previous_matchday][['name', 'cumulative_total_points']]\n",
    "#     previous_matchday_points.columns = ['name', 'prev_cumulative_total_points']\n",
    "\n",
    "#     points_change_df = latest_matchday_points.merge(previous_matchday_points, on='name', how='left')\n",
    "#     points_change_df['points_change'] = points_change_df['cumulative_total_points'] - points_change_df['prev_cumulative_total_points'].fillna(0)\n",
    "\n",
    "#     overall_standings = overall_standings.merge(points_change_df[['name', 'points_change']], on='name', how='left')\n",
    "\n",
    "#     # Define the symbols for rank change\n",
    "#     def rank_change_symbol(change):\n",
    "#         if change >= 2:\n",
    "#             return '🔥'\n",
    "#         elif change == 1:\n",
    "#             return '👍'\n",
    "#         elif change == -1:\n",
    "#             return '😵'\n",
    "#         elif change <= -2:\n",
    "#             return '💀'\n",
    "#         else:\n",
    "#             return '🥱'\n",
    "\n",
    "#     overall_standings['rank_change_symbol'] = overall_standings['rank_change'].apply(rank_change_symbol)\n",
    "#     overall_standings = overall_standings[['name', 'position', 'rank_change', 'rank_change_symbol', 'cumulative_total_points', 'points_change', 'difference']]\n",
    "\n",
    "#     return overall_standings"
   ]
  },
  {
   "cell_type": "code",
   "execution_count": 109,
   "id": "68f9dc04",
   "metadata": {},
   "outputs": [],
   "source": [
    "# # Example usage\n",
    "# md_responses_dfs, df_results = load_data(md_responses_dir='data', results_file_path='data/results.csv')\n",
    "# df_merged = transform_data(md_responses_dfs, df_results)\n",
    "# vs_mean_match_code_df = calculate_vs_mean_match_code(df_merged)\n",
    "# overall_standings = calculate_overall_standings(vs_mean_match_code_df)\n",
    "# print(overall_standings.head())"
   ]
  },
  {
   "cell_type": "code",
   "execution_count": 110,
   "id": "1b1e9c0f",
   "metadata": {},
   "outputs": [],
   "source": [
    "# # Example usage:\n",
    "# md_responses_dir = 'data'\n",
    "# results_file_path = 'data/results.csv'\n",
    "\n",
    "# # Load data\n",
    "# md_responses_dfs, df_results = load_data(md_responses_dir, results_file_path)\n",
    "\n",
    "# # Transform data\n",
    "# df_merged = transform_data(md_responses_dfs, df_results)\n",
    "\n",
    "# # Calculate vs_mean_match_code DataFrame\n",
    "# vs_mean_match_code_df = calculate_vs_mean_match_code(df_merged)\n",
    "\n",
    "# # Calculate overall standings\n",
    "# overall_standings = calculate_overall_standings(vs_mean_match_code_df)\n",
    "\n",
    "# # Display the overall standings\n",
    "# print(overall_standings.head())\n",
    "\n"
   ]
  },
  {
   "cell_type": "code",
   "execution_count": 111,
   "id": "db9090f3",
   "metadata": {},
   "outputs": [],
   "source": [
    "# def calculate_vs_mean_match_code(df_merged):\n",
    "#     # Group by name, match_code, and stage_detail and aggregate points\n",
    "#     points_by_match_code = df_merged.groupby(['name', 'match_code', 'stage_detail']).agg({'base_points': 'sum', 'total_points': 'sum'}).reset_index()\n",
    "\n",
    "#     # Calculate cumulative total points for each player\n",
    "#     points_by_match_code['cumulative_total_points'] = points_by_match_code.groupby('name')['total_points'].cumsum()\n",
    "\n",
    "#     # Calculate cumulative average total points for each matchday\n",
    "#     cumulative_avg_total_points = points_by_match_code.groupby('match_code')['cumulative_total_points'].mean().reset_index()\n",
    "#     cumulative_avg_total_points.rename(columns={'cumulative_total_points': 'cumulative_avg_total_points'}, inplace=True)\n",
    "\n",
    "#     # Merge cumulative average total points back to the original DataFrame\n",
    "#     vs_mean_match_code_df = points_by_match_code.merge(cumulative_avg_total_points, on='match_code')\n",
    "\n",
    "#     # Calculate the difference between each player's cumulative total points and the cumulative average\n",
    "#     vs_mean_match_code_df['difference'] = vs_mean_match_code_df['cumulative_total_points'] - vs_mean_match_code_df['cumulative_avg_total_points']\n",
    "\n",
    "#     return vs_mean_match_code_df\n",
    "\n",
    "# # Example usage:\n",
    "# vs_mean_match_code_df = calculate_vs_mean_match_code(df_merged)\n",
    "# vs_mean_match_code_df\n"
   ]
  }
 ],
 "metadata": {
  "kernelspec": {
   "display_name": "Python 3 (ipykernel)",
   "language": "python",
   "name": "python3"
  },
  "language_info": {
   "codemirror_mode": {
    "name": "ipython",
    "version": 3
   },
   "file_extension": ".py",
   "mimetype": "text/x-python",
   "name": "python",
   "nbconvert_exporter": "python",
   "pygments_lexer": "ipython3",
   "version": "3.12.3"
  }
 },
 "nbformat": 4,
 "nbformat_minor": 5
}
